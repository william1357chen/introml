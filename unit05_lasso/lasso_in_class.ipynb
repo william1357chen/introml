{
 "cells": [
  {
   "cell_type": "markdown",
   "source": [
    "# LASSO Regression In-Class Exercise\n",
    "\n",
    "In this exercise, we will see how to use LASSO for pitch detection and noise removal in audio.\n",
    "\n",
    "We load the following packages."
   ],
   "metadata": {}
  },
  {
   "cell_type": "code",
   "execution_count": 1,
   "source": [
    "import numpy as np\n",
    "import matplotlib.pyplot as plt\n",
    "import pickle"
   ],
   "outputs": [],
   "metadata": {}
  },
  {
   "cell_type": "markdown",
   "source": [
    "## Load the Data\n",
    "\n",
    "The data is taken from a sample of about 20 ms of audio from a viola.  I have already pre-processed the data.  You can load it with the following command.  The value `t` is the time (in seconds) and `y` is the sample of audio (this is a mono recording).  Noise has been artificially added to the sample."
   ],
   "metadata": {}
  },
  {
   "cell_type": "code",
   "execution_count": 2,
   "source": [
    "fn_src = 'https://raw.githubusercontent.com/sdrangan/introml/master/unit05_lasso/viola_sample.p'\n",
    "fn_dst = 'viola_sample.p'\n",
    "\n",
    "import os\n",
    "from six.moves import urllib\n",
    "\n",
    "if os.path.isfile(fn_dst):\n",
    "    print('File %s is already downloaded' % fn_dst)\n",
    "else:        \n",
    "    urllib.request.urlretrieve(fn_src, fn_dst)\n",
    "    print('File %s downloaded' % fn_dst)\n",
    "\n",
    "with open(fn_dst,'rb') as fp:\n",
    "    t,y = pickle.load(fp)"
   ],
   "outputs": [
    {
     "output_type": "stream",
     "name": "stdout",
     "text": [
      "File viola_sample.p is already downloaded\n"
     ]
    }
   ],
   "metadata": {}
  },
  {
   "cell_type": "markdown",
   "source": [
    "Plot the data `y` vs. `t`.  "
   ],
   "metadata": {}
  },
  {
   "cell_type": "code",
   "execution_count": 4,
   "source": [
    "# TODO\n",
    "plt.plot(t, y, 'o')\n",
    "plt.grid(True)\n",
    "plt.show()\n"
   ],
   "outputs": [
    {
     "output_type": "display_data",
     "data": {
      "image/png": "[encoded data removed]",
      "text/plain": [
       "<Figure size 432x288 with 1 Axes>"
      ]
     },
     "metadata": {
      "needs_background": "light"
     }
    }
   ],
   "metadata": {
    "scrolled": false
   }
  },
  {
   "cell_type": "markdown",
   "source": [
    "## Creating Features for a Sinusoidal Model\n",
    "\n",
    "We will try to fit a model of the form:\n",
    "\n",
    "    y[i] = \\sum_j a[j]*sin(2*pi*freq[j]*t[i]) + b[j]*cos(2*pi*freq[j]*t[i])\n",
    "\n",
    "That is, `y[i]` is a sum of sinusoids.  This is a common model for audio signals since an instrument, such as a viola, produces discrete tones.  \n",
    "\n",
    "This model is non-linear in the frequency parameters.  So, instead of trying to find the frequencies, we will fix a large number of frequencies and then require that the coefficients `a[j]` and `b[j]` are mostly sparse.  \n",
    "\n",
    "We will use the following vector of frequencies.  This vector includes frequencies on the muscial scale as well as frequencies between the musical notes."
   ],
   "metadata": {}
  },
  {
   "cell_type": "code",
   "execution_count": 5,
   "source": [
    "freq = 55*2**(np.arange(5*96)/96)"
   ],
   "outputs": [],
   "metadata": {}
  },
  {
   "cell_type": "markdown",
   "source": [
    "To fit the sinusoidal model, we will write a function to map the values `t` to \n",
    "the `sin` and `cos` features.  Finish the function `transform` that creates matrices:\n",
    "\n",
    "    Xcos[i,j] = np.cos(2*np.pi*t[i]*freq[j])\n",
    "    Xsin[i,j] = np.sin(2*np.pi*t[i]*freq[j])\n",
    "    X = np.hstack((Xcos,Xsin))\n",
    "    \n",
    "So, if `freq` is length `d`, there will `2*d` features.  You can try to create the matrices using python broadcasting if you want to avoid a for loop.    "
   ],
   "metadata": {}
  },
  {
   "cell_type": "code",
   "execution_count": 6,
   "source": [
    "def transform(t,freq):\n",
    "    # TODO\n",
    "    Xcos = np.cos(2 * np.pi* t[:, None] * freq[None,:])\n",
    "    Xsin = np.sin(2 * np.pi* t[:, None] * freq[None,:])\n",
    "    \n",
    "    X = np.hstack((Xcos,Xsin))    \n",
    "    return X"
   ],
   "outputs": [],
   "metadata": {}
  },
  {
   "cell_type": "markdown",
   "source": [
    "Split the data `t` and `y` into training and test.  Use approximately 50% for each set."
   ],
   "metadata": {}
  },
  {
   "cell_type": "code",
   "execution_count": 8,
   "source": [
    "from sklearn.model_selection import train_test_split\n",
    "\n",
    "# TODO\n",
    "ttr, tts, ytr, yts = train_test_split(t, y, test_size=0.3)"
   ],
   "outputs": [],
   "metadata": {}
  },
  {
   "cell_type": "markdown",
   "source": [
    "Transform the `ttr`, `tts` into `Xtr` and `Xts`."
   ],
   "metadata": {}
  },
  {
   "cell_type": "code",
   "execution_count": 10,
   "source": [
    "# TODO\n",
    "Xtr, Xts = transform(ttr, freq), transform(tts, freq)"
   ],
   "outputs": [],
   "metadata": {}
  },
  {
   "cell_type": "markdown",
   "source": [
    "## Use LASSO to Find the Frequencies\n",
    "\n",
    "We can now use LASSO regression to find the model\n",
    "* Use LASSO regression with `alpha=500` to fit the model.  \n",
    "* Find the R^2-score on the test data.\n",
    "* Plot the predicted value of `y` for `t in [0,0.02]`."
   ],
   "metadata": {}
  },
  {
   "cell_type": "code",
   "execution_count": 16,
   "source": [
    "from sklearn.linear_model import Lasso\n",
    "\n",
    "# TODO\n",
    "regr = Lasso(Xtr, ytr)\n",
    "regr.fit(Xtr, ytr)"
   ],
   "outputs": [
    {
     "output_type": "stream",
     "name": "stderr",
     "text": [
      "/opt/anaconda3/lib/python3.8/site-packages/sklearn/utils/validation.py:67: FutureWarning: Pass fit_intercept=[-16342.04650194  12544.317376    11735.30755591 -19505.84142452\n",
      "  11181.31544997 -14960.24401834  11807.73513048   7022.85124005\n",
      " -15346.14062476   2511.58760678 -11849.39001999  11074.7810351\n",
      "  11281.47619918  12329.08420778  10390.57588713   -404.56480764\n",
      "   7775.60237839 -15973.95935072   2931.03464717   5916.64260758\n",
      " -13632.09314505    428.47513367   5936.12501868   -840.97272489\n",
      " -15833.83584172   9944.83818754   -537.44590076  -1565.0234492\n",
      " -16889.65030047   -718.47043566  -1909.06374291  -5747.09202802\n",
      "  -2005.5363136  -14735.22500942   1213.55006213   9459.21312894\n",
      "   8222.94919195  -4123.01453031 -20290.62246161 -20592.36888045\n",
      "   4715.17991304   8401.50080942   6277.87978053   1235.6594425\n",
      "  -5742.46584638   5966.29537804  -6294.14886774  11237.26848515\n",
      "   4175.92428289   4818.74268894   7799.97244309  -6997.47219364\n",
      "   7668.00144765   -285.54707463   1180.35576694   -521.87008986\n",
      "   7663.72484748  -2340.36006568  -4112.27667084   4994.03621226\n",
      "  -8221.78174831  -5510.68955     -5271.39801207   9273.50680147\n",
      "  -7660.29062055   1086.63381661   4788.75717709   5065.69633599\n",
      "  10829.10460314 -16993.83548616  12320.34586112 -16103.01355104\n",
      "  -3406.29547293   9277.44464316  -2891.02114518  10016.25134563\n",
      "  -3830.94860191   9060.68266328 -16346.94779655   2592.12915355\n",
      "   6922.96601557 -10639.62675784  10463.23022338   2463.84568362\n",
      "  10892.94023754 -20735.50200819   9280.54194141 -16996.76055119\n",
      "  12504.33854498  -4447.40307479   5428.25917773   2782.92997629\n",
      "    555.92918395   6454.10755926 -17399.7202951  -21025.03843776\n",
      "   8054.35315971  -5902.80884018  10295.69619853  13949.14846651\n",
      "  13988.49455842  -3654.71232468 -13470.79225518 -11192.14598423\n",
      "   2281.57513053  -3304.95260454   9004.65959703 -11991.07559915\n",
      "  11510.0231234  -21353.86579577  -6721.96484098  14788.49865149\n",
      "   8289.870182     6479.4066071  -19890.54633106  -9827.46194764\n",
      "   7615.44527217 -16610.4353936    4066.69560926 -12546.12424931\n",
      "  -1178.06274467  11793.94420636  12508.46896211  10971.15206907\n",
      "   -455.81738923   3030.75036831  -3955.7640601   12381.3654645\n",
      " -14549.33452741   3904.08332033   3672.58029195   6491.05914629\n",
      "  -3944.97959209  10013.03631544  -4165.43393736  15995.93388517\n",
      " -19088.58686446  10721.95476594   5054.85456903   1413.50146154\n",
      "  14244.51100017  10284.53202383   3985.25638218  -1426.16239721\n",
      "  12838.31203488   -683.95700495  11207.30792435  -4682.04931075\n",
      "   5325.89219425   9864.76714957   9934.7305045    5346.14331198\n",
      "   7446.71257643   8008.9032465    7778.12963289   7050.38494978\n",
      " -17631.4783083   14329.32699187 -20125.25495276   1927.64613594\n",
      "  -3641.61854167  10910.00777472  -6116.43720595   4475.64715758\n",
      "  -1213.99057024 -13394.65253065 -15090.86431498   5945.87508751\n",
      "  14178.16264134 -20495.55684714 -17400.38858682  15943.30453593\n",
      "   7030.75372838   5193.8694381   13849.4281046  -21544.56189247\n",
      " -14140.54031462 -17112.43736109  -2399.9439496  -17687.50510003\n",
      "    582.12377549 -10076.25194807  -8243.19393564  10134.92392138\n",
      "  -5319.70036969   8688.85556953  12992.90961451  10519.30084038\n",
      " -17089.0581558   12061.59778179   3065.42365752   -461.15912063\n",
      " -16533.71353567   8014.04052077   2941.0330204  -13809.75999574\n",
      "  -3283.37933475   1050.33543584  11321.68948817  10511.21952492\n",
      "   2498.36366715 -21231.99784252  -2941.77367208   3866.75992771\n",
      "    837.88154994   7516.56535712  -4219.89358267  -2659.11847151\n",
      "  -3034.78962656  -2925.30078528    126.97639454   8620.8956883\n",
      "   1565.57647935  11512.43284718    696.5595586   -5574.51287501\n",
      "  13464.60075161  12487.01175621  -1497.12523846 -17028.6583826\n",
      " -15987.16717108 -15724.64044862 -16238.62495376  16266.44234504\n",
      "  11264.37010284  11236.8532488    8244.00911459  -1714.91175397\n",
      "  -4153.1032872   -2459.71753824   5786.48843635  -1908.25456898\n",
      " -20122.66372157   9877.7731883  -17399.36000232 -16663.30795408\n",
      "  -6209.15580621 -15954.03158568   -781.13699558  11635.51429578\n",
      "  11543.81411464 -16540.15421183  12586.16097856  -3920.36663941\n",
      "   9508.82190457  -3456.14134922   5280.05661921 -13359.44793595\n",
      "  -1948.67161906    583.05324488 -17923.44812321 -15989.0187172\n",
      "  -3020.87302555 -12871.2981203    7006.94015617  11574.58344025\n",
      "    -68.87384235  -1487.75029822   9460.82030565   9709.3453412\n",
      "   2170.45482337  -8571.0138555    2298.60053891  10902.21543602\n",
      "  12819.42851215  10662.30784112 -15580.25483463    596.71288703\n",
      "   9965.79969143  -6336.66961126   -296.38445888  10712.63172923\n",
      "  -9609.44937328   -403.23577288  -1280.33483416   8553.37351637\n",
      "  10612.06151856  -1433.1360953   -4590.58638011   1531.70394629\n",
      " -20063.78629735 -20192.83874468  -9404.49346016  -4966.79950761\n",
      " -10571.11841619 -17865.8128956    7893.76827713  12284.76370045\n",
      " -13420.03928818  -1609.08424563 -15392.74351947  11755.48347505\n",
      "  -4394.37597658   7787.86957442 -19762.94017739    368.87147315\n",
      "   9334.94272595   6955.09875473   3586.77563952   5450.31474463\n",
      "  -5676.4669769   -9003.55696642 -15144.03324545   6548.78028452\n",
      "  -4566.79576885  -3309.0892522  -15405.05148855    805.63885091\n",
      "   4770.60066018   3411.17863209   8765.20895562   4709.71981909\n",
      "  11087.14952438  14092.3053939   10981.13499638   2339.58273359\n",
      "   3830.44790005 -13388.86130264  10265.94674293   4242.13467364\n",
      "  -6255.55365749 -19991.1926995   -1773.56708225 -18310.90108659\n",
      "   8341.62844816 -15938.35349584 -18619.63956767   4470.32482566\n",
      "  -2541.60989483   9992.18229215  -1393.57780281  11300.24595363\n",
      "   4653.53321823  -1591.87270822   9164.52759556   2618.10566751\n",
      "  -2564.90287133   4198.42807878 -18537.19734405  12935.03682625\n",
      " -19222.14830652   1348.73730457 -22381.67605889   3629.31684894\n",
      "   2433.28049967  11182.77046401   9182.3100974  -20244.79817878\n",
      "   -856.3711519   11292.62534079 -12671.38660739 -11306.75596658\n",
      " -15794.86799013   9053.70432269   3305.77195927   6227.562123\n",
      " -16716.77245053  10351.96108181   6886.48192769  -5797.55333424\n",
      "  -6925.01473072  12095.72344501   5674.89171687  -6184.2325961\n",
      "  -9553.9748351   -2756.75447168 -14984.56351435   8492.63768005\n",
      "   2431.67498859   5738.87152713  -2061.09160222  -3920.87436034\n",
      "  16142.55088047  -1978.45600748  12615.43804085 -13125.72541901\n",
      " -14481.9674129    4208.36957936  -1900.73203453  10442.79789976\n",
      "   2820.67126334   2998.58881828  -2193.66474479   4346.01408066\n",
      "   -233.78684776  10131.19797906  -3042.82522495  -4742.38903431\n",
      "   8677.04187751   9205.49319056   8748.83371149  10576.22714746\n",
      "  -4585.19654322     78.66358428   4895.87744403 -18882.42602153\n",
      "   1692.51859962  14197.37896972   3590.2229392    2370.89986037\n",
      "   2394.51930327  12458.6677549   -3471.75644831  14217.65170893\n",
      " -12755.85189534   9720.7435655   10480.65938057  -5906.65479428\n",
      "   9156.31440123    735.07842353  -3857.29767673   7136.83707241\n",
      "   9066.17793296  12038.64576215   6906.73848862  10497.70166642\n",
      "  -7157.687798     -409.69886421  12127.90964125  10614.38692452\n",
      "   7650.29667459  15074.01104921  -5379.44415818   7295.33608747\n",
      " -15007.4218211  -20400.70803955   2595.12448976  -1288.58222606\n",
      "  -4638.37546813  14993.45673974   7169.93095431  -8021.59937467\n",
      "  -4225.49305892    -43.82150396 -11718.25698434 -13123.45177323\n",
      "  10523.1102228   17148.01798343   9195.30279858   8808.77896363\n",
      " -17474.69627725  -4546.11482645 -16399.93878495   4462.83039328\n",
      "   7179.98674069  -3041.11092611 -20381.53070506 -19142.34991671\n",
      "  12773.02571781  14648.14884059 -15208.2926707     786.27990708\n",
      " -12201.72065285 -17863.20398438  -1444.24113841    968.08895202\n",
      "  -2526.67577075  -7068.38028113  14425.88352487  11263.47334463\n",
      "   2234.35508629  -8461.4694468   15908.33574284 -16103.90467934\n",
      " -17930.7982794    6999.0734623     567.00824072 -15028.23680738\n",
      "   -706.81156708  10772.59455807   3749.42449213   5533.61125125\n",
      " -16838.48613376 -19124.44921967  -4991.6778161   -3412.08805276\n",
      "  14456.91629377  -5588.44529288   2705.48730245   5545.18600556\n",
      "  -4617.23075461   5978.42335598  -1435.15179397   5039.06975979\n",
      "   6264.09060621   6813.64008839 -15411.17171317   4861.17839464\n",
      "  -1573.97553162   6063.13499718   4548.6427484   11783.99498362\n",
      "  13406.6762844    1032.31897302  10899.59992055   6441.07883074\n",
      "   1181.8761796     171.2148357   -3457.16643808  11626.72809532\n",
      " -12311.49189272 -17798.79257037   8044.06671529   1157.59790841\n",
      "  12392.43032517  -4377.68775537  -3459.55724135 -18833.64717732\n",
      "  10185.5378279    2357.67505609 -19676.3507022   14622.0904084\n",
      "  -7902.36478391  13517.90851274 -11066.93641209    375.69668231\n",
      "   8270.51522756    519.78150439  -2582.78199377  -3102.18910866\n",
      "   7305.79626275   1879.04090879 -15048.46226212   4406.99246511\n",
      "  -5628.87642982 -20033.20807467   1653.63946885  16040.18544725\n",
      "   -460.95178084  11771.98207311 -10212.17993054 -12038.54814485\n",
      " -21771.53168829  -9280.24942994   1473.16747238  13444.25198437\n",
      "  13344.82312856 -10071.74413446  13238.39763643  12745.16576252\n",
      "  -1052.78763576   3279.35258994  -1790.62846325 -13710.67506941\n",
      " -17712.18212283   -413.02366336 -20258.66925443 -16160.96723886\n",
      "  13185.82294957  -6356.28664072 -18311.1150931     744.57147644\n",
      "   6102.30239887   5686.6968691   10501.01166361   2115.56318008\n",
      "  -5183.02559454  -3397.45794236   8654.31247731 -17903.2764657 ] as keyword args. From version 0.25 passing these as positional arguments will result in an error\n",
      "  warnings.warn(\"Pass {} as keyword args. From version 0.25 \"\n"
     ]
    },
    {
     "output_type": "error",
     "ename": "ValueError",
     "evalue": "The truth value of an array with more than one element is ambiguous. Use a.any() or a.all()",
     "traceback": [
      "\u001b[0;31m---------------------------------------------------------------------------\u001b[0m",
      "\u001b[0;31mValueError\u001b[0m                                Traceback (most recent call last)",
      "\u001b[0;32m<ipython-input-16-0674c29a925c>\u001b[0m in \u001b[0;36m<module>\u001b[0;34m\u001b[0m\n\u001b[1;32m      3\u001b[0m \u001b[0;31m# TODO\u001b[0m\u001b[0;34m\u001b[0m\u001b[0;34m\u001b[0m\u001b[0;34m\u001b[0m\u001b[0m\n\u001b[1;32m      4\u001b[0m \u001b[0mregr\u001b[0m \u001b[0;34m=\u001b[0m \u001b[0mLasso\u001b[0m\u001b[0;34m(\u001b[0m\u001b[0mXtr\u001b[0m\u001b[0;34m,\u001b[0m \u001b[0mytr\u001b[0m\u001b[0;34m)\u001b[0m\u001b[0;34m\u001b[0m\u001b[0;34m\u001b[0m\u001b[0m\n\u001b[0;32m----> 5\u001b[0;31m \u001b[0mregr\u001b[0m\u001b[0;34m.\u001b[0m\u001b[0mfit\u001b[0m\u001b[0;34m(\u001b[0m\u001b[0mXtr\u001b[0m\u001b[0;34m,\u001b[0m \u001b[0mytr\u001b[0m\u001b[0;34m)\u001b[0m\u001b[0;34m\u001b[0m\u001b[0;34m\u001b[0m\u001b[0m\n\u001b[0m",
      "\u001b[0;32m/opt/anaconda3/lib/python3.8/site-packages/sklearn/linear_model/_coordinate_descent.py\u001b[0m in \u001b[0;36mfit\u001b[0;34m(self, X, y, sample_weight, check_input)\u001b[0m\n\u001b[1;32m    742\u001b[0m         \"\"\"\n\u001b[1;32m    743\u001b[0m \u001b[0;34m\u001b[0m\u001b[0m\n\u001b[0;32m--> 744\u001b[0;31m         \u001b[0;32mif\u001b[0m \u001b[0mself\u001b[0m\u001b[0;34m.\u001b[0m\u001b[0malpha\u001b[0m \u001b[0;34m==\u001b[0m \u001b[0;36m0\u001b[0m\u001b[0;34m:\u001b[0m\u001b[0;34m\u001b[0m\u001b[0;34m\u001b[0m\u001b[0m\n\u001b[0m\u001b[1;32m    745\u001b[0m             warnings.warn(\"With alpha=0, this algorithm does not converge \"\n\u001b[1;32m    746\u001b[0m                           \u001b[0;34m\"well. You are advised to use the LinearRegression \"\u001b[0m\u001b[0;34m\u001b[0m\u001b[0;34m\u001b[0m\u001b[0m\n",
      "\u001b[0;31mValueError\u001b[0m: The truth value of an array with more than one element is ambiguous. Use a.any() or a.all()"
     ]
    }
   ],
   "metadata": {}
  },
  {
   "cell_type": "markdown",
   "source": [
    "Recall that you can find the coefficient in the model via `w = regr.coef_`.  If `freq` has `d` terms, then `w` will have `2*d` terms.\n",
    "* Split the coefficients `w` into `a` and `b`, the terms for the `cos` and `sin` features.\n",
    "* Plot `a` and `b` using `plt.stem`.\n",
    "* Which frequencies is dominant in this track?\n"
   ],
   "metadata": {}
  },
  {
   "cell_type": "code",
   "execution_count": 15,
   "source": [
    "# TODO\n",
    "w = regr.coef_\n",
    "a = w[:]\n",
    "b = w[d:]"
   ],
   "outputs": [
    {
     "output_type": "error",
     "ename": "AttributeError",
     "evalue": "'Lasso' object has no attribute 'coef_'",
     "traceback": [
      "\u001b[0;31m---------------------------------------------------------------------------\u001b[0m",
      "\u001b[0;31mAttributeError\u001b[0m                            Traceback (most recent call last)",
      "\u001b[0;32m<ipython-input-15-4cbef90cd438>\u001b[0m in \u001b[0;36m<module>\u001b[0;34m\u001b[0m\n\u001b[1;32m      1\u001b[0m \u001b[0;31m# TODO\u001b[0m\u001b[0;34m\u001b[0m\u001b[0;34m\u001b[0m\u001b[0;34m\u001b[0m\u001b[0m\n\u001b[0;32m----> 2\u001b[0;31m \u001b[0mw\u001b[0m \u001b[0;34m=\u001b[0m \u001b[0mregr\u001b[0m\u001b[0;34m.\u001b[0m\u001b[0mcoef_\u001b[0m\u001b[0;34m\u001b[0m\u001b[0;34m\u001b[0m\u001b[0m\n\u001b[0m\u001b[1;32m      3\u001b[0m \u001b[0ma\u001b[0m \u001b[0;34m=\u001b[0m \u001b[0mw\u001b[0m\u001b[0;34m[\u001b[0m\u001b[0;34m:\u001b[0m\u001b[0md\u001b[0m\u001b[0;34m]\u001b[0m\u001b[0;34m\u001b[0m\u001b[0;34m\u001b[0m\u001b[0m\n\u001b[1;32m      4\u001b[0m \u001b[0mb\u001b[0m \u001b[0;34m=\u001b[0m \u001b[0mw\u001b[0m\u001b[0;34m[\u001b[0m\u001b[0md\u001b[0m\u001b[0;34m:\u001b[0m\u001b[0;34m]\u001b[0m\u001b[0;34m\u001b[0m\u001b[0;34m\u001b[0m\u001b[0m\n",
      "\u001b[0;31mAttributeError\u001b[0m: 'Lasso' object has no attribute 'coef_'"
     ]
    }
   ],
   "metadata": {}
  },
  {
   "cell_type": "markdown",
   "source": [
    "Still have time...\n",
    "* Find the optimal `alpha` using cross-validation"
   ],
   "metadata": {}
  },
  {
   "cell_type": "code",
   "execution_count": null,
   "source": [],
   "outputs": [],
   "metadata": {}
  }
 ],
 "metadata": {
  "kernelspec": {
   "name": "python3",
   "display_name": "Python 3.8.5 64-bit ('base': conda)"
  },
  "language_info": {
   "codemirror_mode": {
    "name": "ipython",
    "version": 3
   },
   "file_extension": ".py",
   "mimetype": "text/x-python",
   "name": "python",
   "nbconvert_exporter": "python",
   "pygments_lexer": "ipython3",
   "version": "3.8.5"
  },
  "interpreter": {
   "hash": "dca0ade3e726a953b501b15e8e990130d2b7799f14cfd9f4271676035ebe5511"
  }
 },
 "nbformat": 4,
 "nbformat_minor": 2
}