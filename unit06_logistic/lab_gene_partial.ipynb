{
 "cells": [
  {
   "cell_type": "markdown",
   "source": [
    "# Lab:  Logistic Regression for Gene Expression Data\n",
    "\n",
    "In this lab, we use logistic regression to predict biological characteristics (\"phenotypes\") from gene expression data.  In addition to the concepts in [breast cancer demo](./breast_cancer.ipynb), you will learn to:\n",
    "* Handle missing data\n",
    "* Perform multi-class logistic classification\n",
    "* Create a confusion matrix\n",
    "* Use L1-regularization for improved estimation in the case of sparse weights (Grad students only)\n",
    "\n",
    "## Background\n",
    "\n",
    "Genes are the basic unit in the DNA and encode blueprints for proteins.  When proteins are synthesized from a gene, the gene is said to \"express\".  Micro-arrays are devices that measure the expression levels of large numbers of genes in parallel.  By finding correlations between expression levels and phenotypes, scientists can identify possible genetic markers for biological characteristics.\n",
    "\n",
    "The data in this lab comes from:\n",
    "\n",
    "https://archive.ics.uci.edu/ml/datasets/Mice+Protein+Expression\n",
    "\n",
    "In this data, mice were characterized by three properties:\n",
    "* Whether they had down's syndrome (trisomy) or not\n",
    "* Whether they were stimulated to learn or not\n",
    "* Whether they had a drug memantine or a saline control solution.\n",
    "\n",
    "With these three choices, there are 8 possible classes for each mouse.  For each mouse, the expression levels were measured across 77 genes.  We will see if the characteristics can be predicted from the gene expression levels.  This classification could reveal which genes are potentially involved in Down's syndrome and if drugs and learning have any noticeable effects.\n"
   ],
   "metadata": {}
  },
  {
   "cell_type": "markdown",
   "source": [
    "## Load the Data\n",
    "\n",
    "We begin by loading the standard modules."
   ],
   "metadata": {}
  },
  {
   "cell_type": "code",
   "execution_count": 143,
   "source": [
    "import pandas as pd\r\n",
    "import numpy as np\r\n",
    "import matplotlib\r\n",
    "import matplotlib.pyplot as plt\r\n",
    "%matplotlib inline\r\n",
    "from sklearn import linear_model, preprocessing"
   ],
   "outputs": [],
   "metadata": {}
  },
  {
   "cell_type": "markdown",
   "source": [
    "Use the `pd.read_excel` command to read the data from \r\n",
    "\r\n",
    "https://archive.ics.uci.edu/ml/machine-learning-databases/00342/Data_Cortex_Nuclear.xls\r\n",
    "\r\n",
    "into a dataframe `df`.  Use the `index_col` option to specify that column 0 is the index.  Use the `df.head()` to print the first few rows."
   ],
   "metadata": {}
  },
  {
   "cell_type": "code",
   "execution_count": 144,
   "source": [
    "# TODO\r\n",
    "df = pd.read_excel(\"https://archive.ics.uci.edu/ml/machine-learning-databases/00342/Data_Cortex_Nuclear.xls\", index_col=0)\r\n",
    "df.head(5)"
   ],
   "outputs": [
    {
     "output_type": "execute_result",
     "data": {
      "text/plain": [
       "         DYRK1A_N   ITSN1_N    BDNF_N     NR1_N    NR2A_N    pAKT_N   pBRAF_N  \\\n",
       "MouseID                                                                         \n",
       "309_1    0.503644  0.747193  0.430175  2.816329  5.990152  0.218830  0.177565   \n",
       "309_2    0.514617  0.689064  0.411770  2.789514  5.685038  0.211636  0.172817   \n",
       "309_3    0.509183  0.730247  0.418309  2.687201  5.622059  0.209011  0.175722   \n",
       "309_4    0.442107  0.617076  0.358626  2.466947  4.979503  0.222886  0.176463   \n",
       "309_5    0.434940  0.617430  0.358802  2.365785  4.718679  0.213106  0.173627   \n",
       "\n",
       "         pCAMKII_N   pCREB_N    pELK_N  ...   pCFOS_N     SYP_N  H3AcK18_N  \\\n",
       "MouseID                                 ...                                  \n",
       "309_1     2.373744  0.232224  1.750936  ...  0.108336  0.427099   0.114783   \n",
       "309_2     2.292150  0.226972  1.596377  ...  0.104315  0.441581   0.111974   \n",
       "309_3     2.283337  0.230247  1.561316  ...  0.106219  0.435777   0.111883   \n",
       "309_4     2.152301  0.207004  1.595086  ...  0.111262  0.391691   0.130405   \n",
       "309_5     2.134014  0.192158  1.504230  ...  0.110694  0.434154   0.118481   \n",
       "\n",
       "           EGR1_N  H3MeK4_N    CaNA_N  Genotype  Treatment  Behavior   class  \n",
       "MouseID                                                                       \n",
       "309_1    0.131790  0.128186  1.675652   Control  Memantine       C/S  c-CS-m  \n",
       "309_2    0.135103  0.131119  1.743610   Control  Memantine       C/S  c-CS-m  \n",
       "309_3    0.133362  0.127431  1.926427   Control  Memantine       C/S  c-CS-m  \n",
       "309_4    0.147444  0.146901  1.700563   Control  Memantine       C/S  c-CS-m  \n",
       "309_5    0.140314  0.148380  1.839730   Control  Memantine       C/S  c-CS-m  \n",
       "\n",
       "[5 rows x 81 columns]"
      ],
      "text/html": [
       "<div>\n",
       "<style scoped>\n",
       "    .dataframe tbody tr th:only-of-type {\n",
       "        vertical-align: middle;\n",
       "    }\n",
       "\n",
       "    .dataframe tbody tr th {\n",
       "        vertical-align: top;\n",
       "    }\n",
       "\n",
       "    .dataframe thead th {\n",
       "        text-align: right;\n",
       "    }\n",
       "</style>\n",
       "<table border=\"1\" class=\"dataframe\">\n",
       "  <thead>\n",
       "    <tr style=\"text-align: right;\">\n",
       "      <th></th>\n",
       "      <th>DYRK1A_N</th>\n",
       "      <th>ITSN1_N</th>\n",
       "      <th>BDNF_N</th>\n",
       "      <th>NR1_N</th>\n",
       "      <th>NR2A_N</th>\n",
       "      <th>pAKT_N</th>\n",
       "      <th>pBRAF_N</th>\n",
       "      <th>pCAMKII_N</th>\n",
       "      <th>pCREB_N</th>\n",
       "      <th>pELK_N</th>\n",
       "      <th>...</th>\n",
       "      <th>pCFOS_N</th>\n",
       "      <th>SYP_N</th>\n",
       "      <th>H3AcK18_N</th>\n",
       "      <th>EGR1_N</th>\n",
       "      <th>H3MeK4_N</th>\n",
       "      <th>CaNA_N</th>\n",
       "      <th>Genotype</th>\n",
       "      <th>Treatment</th>\n",
       "      <th>Behavior</th>\n",
       "      <th>class</th>\n",
       "    </tr>\n",
       "    <tr>\n",
       "      <th>MouseID</th>\n",
       "      <th></th>\n",
       "      <th></th>\n",
       "      <th></th>\n",
       "      <th></th>\n",
       "      <th></th>\n",
       "      <th></th>\n",
       "      <th></th>\n",
       "      <th></th>\n",
       "      <th></th>\n",
       "      <th></th>\n",
       "      <th></th>\n",
       "      <th></th>\n",
       "      <th></th>\n",
       "      <th></th>\n",
       "      <th></th>\n",
       "      <th></th>\n",
       "      <th></th>\n",
       "      <th></th>\n",
       "      <th></th>\n",
       "      <th></th>\n",
       "      <th></th>\n",
       "    </tr>\n",
       "  </thead>\n",
       "  <tbody>\n",
       "    <tr>\n",
       "      <th>309_1</th>\n",
       "      <td>0.503644</td>\n",
       "      <td>0.747193</td>\n",
       "      <td>0.430175</td>\n",
       "      <td>2.816329</td>\n",
       "      <td>5.990152</td>\n",
       "      <td>0.218830</td>\n",
       "      <td>0.177565</td>\n",
       "      <td>2.373744</td>\n",
       "      <td>0.232224</td>\n",
       "      <td>1.750936</td>\n",
       "      <td>...</td>\n",
       "      <td>0.108336</td>\n",
       "      <td>0.427099</td>\n",
       "      <td>0.114783</td>\n",
       "      <td>0.131790</td>\n",
       "      <td>0.128186</td>\n",
       "      <td>1.675652</td>\n",
       "      <td>Control</td>\n",
       "      <td>Memantine</td>\n",
       "      <td>C/S</td>\n",
       "      <td>c-CS-m</td>\n",
       "    </tr>\n",
       "    <tr>\n",
       "      <th>309_2</th>\n",
       "      <td>0.514617</td>\n",
       "      <td>0.689064</td>\n",
       "      <td>0.411770</td>\n",
       "      <td>2.789514</td>\n",
       "      <td>5.685038</td>\n",
       "      <td>0.211636</td>\n",
       "      <td>0.172817</td>\n",
       "      <td>2.292150</td>\n",
       "      <td>0.226972</td>\n",
       "      <td>1.596377</td>\n",
       "      <td>...</td>\n",
       "      <td>0.104315</td>\n",
       "      <td>0.441581</td>\n",
       "      <td>0.111974</td>\n",
       "      <td>0.135103</td>\n",
       "      <td>0.131119</td>\n",
       "      <td>1.743610</td>\n",
       "      <td>Control</td>\n",
       "      <td>Memantine</td>\n",
       "      <td>C/S</td>\n",
       "      <td>c-CS-m</td>\n",
       "    </tr>\n",
       "    <tr>\n",
       "      <th>309_3</th>\n",
       "      <td>0.509183</td>\n",
       "      <td>0.730247</td>\n",
       "      <td>0.418309</td>\n",
       "      <td>2.687201</td>\n",
       "      <td>5.622059</td>\n",
       "      <td>0.209011</td>\n",
       "      <td>0.175722</td>\n",
       "      <td>2.283337</td>\n",
       "      <td>0.230247</td>\n",
       "      <td>1.561316</td>\n",
       "      <td>...</td>\n",
       "      <td>0.106219</td>\n",
       "      <td>0.435777</td>\n",
       "      <td>0.111883</td>\n",
       "      <td>0.133362</td>\n",
       "      <td>0.127431</td>\n",
       "      <td>1.926427</td>\n",
       "      <td>Control</td>\n",
       "      <td>Memantine</td>\n",
       "      <td>C/S</td>\n",
       "      <td>c-CS-m</td>\n",
       "    </tr>\n",
       "    <tr>\n",
       "      <th>309_4</th>\n",
       "      <td>0.442107</td>\n",
       "      <td>0.617076</td>\n",
       "      <td>0.358626</td>\n",
       "      <td>2.466947</td>\n",
       "      <td>4.979503</td>\n",
       "      <td>0.222886</td>\n",
       "      <td>0.176463</td>\n",
       "      <td>2.152301</td>\n",
       "      <td>0.207004</td>\n",
       "      <td>1.595086</td>\n",
       "      <td>...</td>\n",
       "      <td>0.111262</td>\n",
       "      <td>0.391691</td>\n",
       "      <td>0.130405</td>\n",
       "      <td>0.147444</td>\n",
       "      <td>0.146901</td>\n",
       "      <td>1.700563</td>\n",
       "      <td>Control</td>\n",
       "      <td>Memantine</td>\n",
       "      <td>C/S</td>\n",
       "      <td>c-CS-m</td>\n",
       "    </tr>\n",
       "    <tr>\n",
       "      <th>309_5</th>\n",
       "      <td>0.434940</td>\n",
       "      <td>0.617430</td>\n",
       "      <td>0.358802</td>\n",
       "      <td>2.365785</td>\n",
       "      <td>4.718679</td>\n",
       "      <td>0.213106</td>\n",
       "      <td>0.173627</td>\n",
       "      <td>2.134014</td>\n",
       "      <td>0.192158</td>\n",
       "      <td>1.504230</td>\n",
       "      <td>...</td>\n",
       "      <td>0.110694</td>\n",
       "      <td>0.434154</td>\n",
       "      <td>0.118481</td>\n",
       "      <td>0.140314</td>\n",
       "      <td>0.148380</td>\n",
       "      <td>1.839730</td>\n",
       "      <td>Control</td>\n",
       "      <td>Memantine</td>\n",
       "      <td>C/S</td>\n",
       "      <td>c-CS-m</td>\n",
       "    </tr>\n",
       "  </tbody>\n",
       "</table>\n",
       "<p>5 rows × 81 columns</p>\n",
       "</div>"
      ]
     },
     "metadata": {},
     "execution_count": 144
    }
   ],
   "metadata": {}
  },
  {
   "cell_type": "code",
   "execution_count": 145,
   "source": [
    "df.columns"
   ],
   "outputs": [
    {
     "output_type": "execute_result",
     "data": {
      "text/plain": [
       "Index(['DYRK1A_N', 'ITSN1_N', 'BDNF_N', 'NR1_N', 'NR2A_N', 'pAKT_N', 'pBRAF_N',\n",
       "       'pCAMKII_N', 'pCREB_N', 'pELK_N', 'pERK_N', 'pJNK_N', 'PKCA_N',\n",
       "       'pMEK_N', 'pNR1_N', 'pNR2A_N', 'pNR2B_N', 'pPKCAB_N', 'pRSK_N', 'AKT_N',\n",
       "       'BRAF_N', 'CAMKII_N', 'CREB_N', 'ELK_N', 'ERK_N', 'GSK3B_N', 'JNK_N',\n",
       "       'MEK_N', 'TRKA_N', 'RSK_N', 'APP_N', 'Bcatenin_N', 'SOD1_N', 'MTOR_N',\n",
       "       'P38_N', 'pMTOR_N', 'DSCR1_N', 'AMPKA_N', 'NR2B_N', 'pNUMB_N',\n",
       "       'RAPTOR_N', 'TIAM1_N', 'pP70S6_N', 'NUMB_N', 'P70S6_N', 'pGSK3B_N',\n",
       "       'pPKCG_N', 'CDK5_N', 'S6_N', 'ADARB1_N', 'AcetylH3K9_N', 'RRP1_N',\n",
       "       'BAX_N', 'ARC_N', 'ERBB4_N', 'nNOS_N', 'Tau_N', 'GFAP_N', 'GluR3_N',\n",
       "       'GluR4_N', 'IL1B_N', 'P3525_N', 'pCASP9_N', 'PSD95_N', 'SNCA_N',\n",
       "       'Ubiquitin_N', 'pGSK3B_Tyr216_N', 'SHH_N', 'BAD_N', 'BCL2_N', 'pS6_N',\n",
       "       'pCFOS_N', 'SYP_N', 'H3AcK18_N', 'EGR1_N', 'H3MeK4_N', 'CaNA_N',\n",
       "       'Genotype', 'Treatment', 'Behavior', 'class'],\n",
       "      dtype='object')"
      ]
     },
     "metadata": {},
     "execution_count": 145
    }
   ],
   "metadata": {}
  },
  {
   "cell_type": "code",
   "execution_count": 146,
   "source": [
    "df['DYRK1A_N'].isnull().sum()"
   ],
   "outputs": [
    {
     "output_type": "execute_result",
     "data": {
      "text/plain": [
       "3"
      ]
     },
     "metadata": {},
     "execution_count": 146
    }
   ],
   "metadata": {}
  },
  {
   "cell_type": "markdown",
   "source": [
    "This data has missing values.  The site:\r\n",
    "\r\n",
    "[http://pandas.pydata.org/pandas-docs/stable/missing_data.html](http://pandas.pydata.org/pandas-docs/stable/missing_data.html)\r\n",
    "\r\n",
    "has an excellent summary of methods to deal with missing values.  Following the techniques there, create a new data frame `df1` where the missing values in each column are filled with the mean values from the non-missing values."
   ],
   "metadata": {}
  },
  {
   "cell_type": "code",
   "execution_count": 147,
   "source": [
    "# TODO\r\n",
    "df1 = df.fillna(df.mean())"
   ],
   "outputs": [],
   "metadata": {}
  },
  {
   "cell_type": "code",
   "execution_count": 148,
   "source": [
    "df1.isnull().sum()\r\n"
   ],
   "outputs": [
    {
     "output_type": "execute_result",
     "data": {
      "text/plain": [
       "DYRK1A_N     0\n",
       "ITSN1_N      0\n",
       "BDNF_N       0\n",
       "NR1_N        0\n",
       "NR2A_N       0\n",
       "            ..\n",
       "CaNA_N       0\n",
       "Genotype     0\n",
       "Treatment    0\n",
       "Behavior     0\n",
       "class        0\n",
       "Length: 81, dtype: int64"
      ]
     },
     "metadata": {},
     "execution_count": 148
    }
   ],
   "metadata": {}
  },
  {
   "cell_type": "markdown",
   "source": [
    "## Binary Classification for Down's Syndrome\n",
    "\n",
    "We will first predict the binary class label in `df1['Genotype']` which indicates if the mouse has Down's syndrome or not.  Get the string values in `df1['Genotype'].values` and convert this to a numeric vector `y` with 0 or 1.  You may wish to use the `np.unique` command with the `return_inverse=True` option."
   ],
   "metadata": {}
  },
  {
   "cell_type": "code",
   "execution_count": 149,
   "source": [
    "# TODO\r\n",
    "y = np.unique(df1['Genotype'].values, return_inverse=True)[1]\r\n",
    "y[:5]"
   ],
   "outputs": [
    {
     "output_type": "execute_result",
     "data": {
      "text/plain": [
       "array([0, 0, 0, 0, 0], dtype=int64)"
      ]
     },
     "metadata": {},
     "execution_count": 149
    }
   ],
   "metadata": {}
  },
  {
   "cell_type": "markdown",
   "source": [
    "As predictors, get all but the last four columns of the dataframes.  Store the data matrix into `X` and the names of the columns in `xnames`."
   ],
   "metadata": {}
  },
  {
   "cell_type": "code",
   "execution_count": 150,
   "source": [
    "# TODO\r\n",
    "xnames = df.columns[:-4]\r\n",
    "print(xnames[-1])\r\n",
    "X = np.array(df1[xnames])"
   ],
   "outputs": [
    {
     "output_type": "stream",
     "name": "stdout",
     "text": [
      "CaNA_N\n"
     ]
    }
   ],
   "metadata": {}
  },
  {
   "cell_type": "markdown",
   "source": [
    "Split the data into training and test with 30% allocated for test.  You can use the train"
   ],
   "metadata": {}
  },
  {
   "cell_type": "code",
   "execution_count": 151,
   "source": [
    "from sklearn.model_selection import train_test_split\r\n",
    "\r\n",
    "# TODO:\r\n",
    "Xtr, Xts, ytr, yts = train_test_split(X, y, test_size=0.3)"
   ],
   "outputs": [],
   "metadata": {}
  },
  {
   "cell_type": "markdown",
   "source": [
    "Scale the data with the `StandardScaler`.  Store the scaled values in `Xtr1` and `Xts1`. "
   ],
   "metadata": {}
  },
  {
   "cell_type": "code",
   "execution_count": 152,
   "source": [
    "from sklearn.preprocessing import StandardScaler\r\n",
    "\r\n",
    "# TODO\r\n",
    "scal = StandardScaler()\r\n",
    "Xtr1 = scal.fit_transform(Xtr)\r\n",
    "Xts1 = scal.transform(Xts)"
   ],
   "outputs": [],
   "metadata": {}
  },
  {
   "cell_type": "markdown",
   "source": [
    "Create a `LogisticRegression` object `logreg` and `fit` on the scaled training data.  Set the regularization level to `C=1e5` and use the optimizer `solver=liblinear`. "
   ],
   "metadata": {}
  },
  {
   "cell_type": "code",
   "execution_count": 153,
   "source": [
    "# TODO\r\n",
    "from sklearn.linear_model import LogisticRegression\r\n",
    "logreg = LogisticRegression(C=1e5, solver=\"liblinear\")\r\n",
    "logreg.fit(Xtr1, ytr)"
   ],
   "outputs": [
    {
     "output_type": "execute_result",
     "data": {
      "text/plain": [
       "LogisticRegression(C=100000.0, solver='liblinear')"
      ]
     },
     "metadata": {},
     "execution_count": 153
    }
   ],
   "metadata": {}
  },
  {
   "cell_type": "markdown",
   "source": [
    "Measure the accuracy of the classifer on test data.  You should get around 94%.  "
   ],
   "metadata": {}
  },
  {
   "cell_type": "code",
   "execution_count": 154,
   "source": [
    "# TODO\r\n",
    "yhat = logreg.predict(Xts1)\r\n",
    "acc = np.mean(yhat == yts)\r\n",
    "print(\"Accuracy on test data = %f\" % acc)"
   ],
   "outputs": [
    {
     "output_type": "stream",
     "name": "stdout",
     "text": [
      "Accuracy on test data = 0.947531\n"
     ]
    }
   ],
   "metadata": {}
  },
  {
   "cell_type": "code",
   "execution_count": 155,
   "source": [
    "logreg.coef_"
   ],
   "outputs": [
    {
     "output_type": "execute_result",
     "data": {
      "text/plain": [
       "array([[  7.67081464,  70.74914487,   7.48949563, -12.20918952,\n",
       "         -6.20089377,   8.96711643,   6.58886199,  -6.68983344,\n",
       "         13.94986169, -20.33859891, -11.83584636,   4.87153521,\n",
       "         18.96906276,  -4.40547992,  -9.61267074,   4.67569385,\n",
       "          0.70593859,  -8.74076874, -21.37366346,  10.90073616,\n",
       "        -50.8327258 , -12.5029303 , -12.30029007, -28.15771941,\n",
       "        -34.17529723,  21.3598664 ,   0.52822685,   5.31644693,\n",
       "         20.01494716,  -4.90112855,  18.82510442,   1.01616504,\n",
       "         12.68076544, -13.48336261,   3.97595731,   3.08860367,\n",
       "         12.36140383, -23.4779422 ,  -8.5182005 ,  -6.4474897 ,\n",
       "         -8.3359309 ,  28.02624188,   6.80942112,   5.48803576,\n",
       "          7.57215212,  10.2431908 ,  -9.08166616,  -2.47765309,\n",
       "         -1.23368946,   5.04476682,   5.30706283,   6.39492746,\n",
       "        -11.04877368,  -4.62167003,  16.57998206,   2.61587273,\n",
       "          6.68616344,  -2.88672978,  -6.9725103 ,   1.50520824,\n",
       "         -7.75798419,   4.91992804,  -8.2733428 ,   5.35689213,\n",
       "         -0.91712099,  10.96785923,  -3.40543615, -16.0176542 ,\n",
       "          6.01205024,   6.87322056,  -4.62167003,  -1.59866419,\n",
       "        -16.59291727,  -4.84215904,   3.14972965, -10.0383901 ,\n",
       "         12.84555108]])"
      ]
     },
     "metadata": {},
     "execution_count": 155
    }
   ],
   "metadata": {}
  },
  {
   "cell_type": "markdown",
   "source": [
    "## Interpreting the weight vector"
   ],
   "metadata": {}
  },
  {
   "cell_type": "markdown",
   "source": [
    "Create a stem plot of the coefficients, `W` in the logistic regression model.  Jse the `plt.stem()` function with the `use_line_collection=True` option.  You can get the coefficients from `logreg.coef_`, but you will need to reshape this to a 1D array.  "
   ],
   "metadata": {}
  },
  {
   "cell_type": "code",
   "execution_count": 156,
   "source": [
    "# TODO\r\n",
    "W = logreg.coef_[0]\r\n",
    "plt.stem(W, use_line_collection=True)\r\n",
    "plt.show()"
   ],
   "outputs": [
    {
     "output_type": "display_data",
     "data": {
      "text/plain": [
       "<Figure size 432x288 with 1 Axes>"
      ],
      "image/svg+xml": "<?xml version=\"1.0\" encoding=\"utf-8\" standalone=\"no\"?>\r\n<!DOCTYPE svg PUBLIC \"-//W3C//DTD SVG 1.1//EN\"\r\n  \"http://www.w3.org/Graphics/SVG/1.1/DTD/svg11.dtd\">\r\n<!-- Created with matplotlib (https://matplotlib.org/) -->\r\n<svg height=\"248.518125pt\" version=\"1.1\" viewBox=\"0 0 377.304687 248.518125\" width=\"377.304687pt\" xmlns=\"http://www.w3.org/2000/svg\" xmlns:xlink=\"http://www.w3.org/1999/xlink\">\r\n <metadata>\r\n  <rdf:RDF xmlns:cc=\"http://creativecommons.org/ns#\" xmlns:dc=\"http://purl.org/dc/elements/1.1/\" xmlns:rdf=\"http://www.w3.org/1999/02/22-rdf-syntax-ns#\">\r\n   <cc:Work>\r\n    <dc:type rdf:resource=\"http://purl.org/dc/dcmitype/StillImage\"/>\r\n    <dc:date>2021-10-24T19:50:53.208927</dc:date>\r\n    <dc:format>image/svg+xml</dc:format>\r\n    <dc:creator>\r\n     <cc:Agent>\r\n      <dc:title>Matplotlib v3.3.4, https://matplotlib.org/</dc:title>\r\n     </cc:Agent>\r\n    </dc:creator>\r\n   </cc:Work>\r\n  </rdf:RDF>\r\n </metadata>\r\n <defs>\r\n  <style type=\"text/css\">*{stroke-linecap:butt;stroke-linejoin:round;}</style>\r\n </defs>\r\n <g id=\"figure_1\">\r\n  <g id=\"patch_1\">\r\n   <path d=\"M 0 248.518125 \r\nL 377.304687 248.518125 \r\nL 377.304687 0 \r\nL 0 0 \r\nz\r\n\" style=\"fill:none;\"/>\r\n  </g>\r\n  <g id=\"axes_1\">\r\n   <g id=\"patch_2\">\r\n    <path d=\"M 35.304688 224.64 \r\nL 370.104688 224.64 \r\nL 370.104688 7.2 \r\nL 35.304688 7.2 \r\nz\r\n\" style=\"fill:#ffffff;\"/>\r\n   </g>\r\n   <g id=\"matplotlib.axis_1\">\r\n    <g id=\"xtick_1\">\r\n     <g id=\"line2d_1\">\r\n      <defs>\r\n       <path d=\"M 0 0 \r\nL 0 3.5 \r\n\" id=\"mfc06baffea\" style=\"stroke:#000000;stroke-width:0.8;\"/>\r\n      </defs>\r\n      <g>\r\n       <use style=\"stroke:#000000;stroke-width:0.8;\" x=\"50.522869\" xlink:href=\"#mfc06baffea\" y=\"224.64\"/>\r\n      </g>\r\n     </g>\r\n     <g id=\"text_1\">\r\n      <!-- 0 -->\r\n      <g transform=\"translate(47.341619 239.238437)scale(0.1 -0.1)\">\r\n       <defs>\r\n        <path d=\"M 31.78125 66.40625 \r\nQ 24.171875 66.40625 20.328125 58.90625 \r\nQ 16.5 51.421875 16.5 36.375 \r\nQ 16.5 21.390625 20.328125 13.890625 \r\nQ 24.171875 6.390625 31.78125 6.390625 \r\nQ 39.453125 6.390625 43.28125 13.890625 \r\nQ 47.125 21.390625 47.125 36.375 \r\nQ 47.125 51.421875 43.28125 58.90625 \r\nQ 39.453125 66.40625 31.78125 66.40625 \r\nz\r\nM 31.78125 74.21875 \r\nQ 44.046875 74.21875 50.515625 64.515625 \r\nQ 56.984375 54.828125 56.984375 36.375 \r\nQ 56.984375 17.96875 50.515625 8.265625 \r\nQ 44.046875 -1.421875 31.78125 -1.421875 \r\nQ 19.53125 -1.421875 13.0625 8.265625 \r\nQ 6.59375 17.96875 6.59375 36.375 \r\nQ 6.59375 54.828125 13.0625 64.515625 \r\nQ 19.53125 74.21875 31.78125 74.21875 \r\nz\r\n\" id=\"DejaVuSans-48\"/>\r\n       </defs>\r\n       <use xlink:href=\"#DejaVuSans-48\"/>\r\n      </g>\r\n     </g>\r\n    </g>\r\n    <g id=\"xtick_2\">\r\n     <g id=\"line2d_2\">\r\n      <g>\r\n       <use style=\"stroke:#000000;stroke-width:0.8;\" x=\"90.570716\" xlink:href=\"#mfc06baffea\" y=\"224.64\"/>\r\n      </g>\r\n     </g>\r\n     <g id=\"text_2\">\r\n      <!-- 10 -->\r\n      <g transform=\"translate(84.208216 239.238437)scale(0.1 -0.1)\">\r\n       <defs>\r\n        <path d=\"M 12.40625 8.296875 \r\nL 28.515625 8.296875 \r\nL 28.515625 63.921875 \r\nL 10.984375 60.40625 \r\nL 10.984375 69.390625 \r\nL 28.421875 72.90625 \r\nL 38.28125 72.90625 \r\nL 38.28125 8.296875 \r\nL 54.390625 8.296875 \r\nL 54.390625 0 \r\nL 12.40625 0 \r\nz\r\n\" id=\"DejaVuSans-49\"/>\r\n       </defs>\r\n       <use xlink:href=\"#DejaVuSans-49\"/>\r\n       <use x=\"63.623047\" xlink:href=\"#DejaVuSans-48\"/>\r\n      </g>\r\n     </g>\r\n    </g>\r\n    <g id=\"xtick_3\">\r\n     <g id=\"line2d_3\">\r\n      <g>\r\n       <use style=\"stroke:#000000;stroke-width:0.8;\" x=\"130.618563\" xlink:href=\"#mfc06baffea\" y=\"224.64\"/>\r\n      </g>\r\n     </g>\r\n     <g id=\"text_3\">\r\n      <!-- 20 -->\r\n      <g transform=\"translate(124.256063 239.238437)scale(0.1 -0.1)\">\r\n       <defs>\r\n        <path d=\"M 19.1875 8.296875 \r\nL 53.609375 8.296875 \r\nL 53.609375 0 \r\nL 7.328125 0 \r\nL 7.328125 8.296875 \r\nQ 12.9375 14.109375 22.625 23.890625 \r\nQ 32.328125 33.6875 34.8125 36.53125 \r\nQ 39.546875 41.84375 41.421875 45.53125 \r\nQ 43.3125 49.21875 43.3125 52.78125 \r\nQ 43.3125 58.59375 39.234375 62.25 \r\nQ 35.15625 65.921875 28.609375 65.921875 \r\nQ 23.96875 65.921875 18.8125 64.3125 \r\nQ 13.671875 62.703125 7.8125 59.421875 \r\nL 7.8125 69.390625 \r\nQ 13.765625 71.78125 18.9375 73 \r\nQ 24.125 74.21875 28.421875 74.21875 \r\nQ 39.75 74.21875 46.484375 68.546875 \r\nQ 53.21875 62.890625 53.21875 53.421875 \r\nQ 53.21875 48.921875 51.53125 44.890625 \r\nQ 49.859375 40.875 45.40625 35.40625 \r\nQ 44.1875 33.984375 37.640625 27.21875 \r\nQ 31.109375 20.453125 19.1875 8.296875 \r\nz\r\n\" id=\"DejaVuSans-50\"/>\r\n       </defs>\r\n       <use xlink:href=\"#DejaVuSans-50\"/>\r\n       <use x=\"63.623047\" xlink:href=\"#DejaVuSans-48\"/>\r\n      </g>\r\n     </g>\r\n    </g>\r\n    <g id=\"xtick_4\">\r\n     <g id=\"line2d_4\">\r\n      <g>\r\n       <use style=\"stroke:#000000;stroke-width:0.8;\" x=\"170.66641\" xlink:href=\"#mfc06baffea\" y=\"224.64\"/>\r\n      </g>\r\n     </g>\r\n     <g id=\"text_4\">\r\n      <!-- 30 -->\r\n      <g transform=\"translate(164.30391 239.238437)scale(0.1 -0.1)\">\r\n       <defs>\r\n        <path d=\"M 40.578125 39.3125 \r\nQ 47.65625 37.796875 51.625 33 \r\nQ 55.609375 28.21875 55.609375 21.1875 \r\nQ 55.609375 10.40625 48.1875 4.484375 \r\nQ 40.765625 -1.421875 27.09375 -1.421875 \r\nQ 22.515625 -1.421875 17.65625 -0.515625 \r\nQ 12.796875 0.390625 7.625 2.203125 \r\nL 7.625 11.71875 \r\nQ 11.71875 9.328125 16.59375 8.109375 \r\nQ 21.484375 6.890625 26.8125 6.890625 \r\nQ 36.078125 6.890625 40.9375 10.546875 \r\nQ 45.796875 14.203125 45.796875 21.1875 \r\nQ 45.796875 27.640625 41.28125 31.265625 \r\nQ 36.765625 34.90625 28.71875 34.90625 \r\nL 20.21875 34.90625 \r\nL 20.21875 43.015625 \r\nL 29.109375 43.015625 \r\nQ 36.375 43.015625 40.234375 45.921875 \r\nQ 44.09375 48.828125 44.09375 54.296875 \r\nQ 44.09375 59.90625 40.109375 62.90625 \r\nQ 36.140625 65.921875 28.71875 65.921875 \r\nQ 24.65625 65.921875 20.015625 65.03125 \r\nQ 15.375 64.15625 9.8125 62.3125 \r\nL 9.8125 71.09375 \r\nQ 15.4375 72.65625 20.34375 73.4375 \r\nQ 25.25 74.21875 29.59375 74.21875 \r\nQ 40.828125 74.21875 47.359375 69.109375 \r\nQ 53.90625 64.015625 53.90625 55.328125 \r\nQ 53.90625 49.265625 50.4375 45.09375 \r\nQ 46.96875 40.921875 40.578125 39.3125 \r\nz\r\n\" id=\"DejaVuSans-51\"/>\r\n       </defs>\r\n       <use xlink:href=\"#DejaVuSans-51\"/>\r\n       <use x=\"63.623047\" xlink:href=\"#DejaVuSans-48\"/>\r\n      </g>\r\n     </g>\r\n    </g>\r\n    <g id=\"xtick_5\">\r\n     <g id=\"line2d_5\">\r\n      <g>\r\n       <use style=\"stroke:#000000;stroke-width:0.8;\" x=\"210.714257\" xlink:href=\"#mfc06baffea\" y=\"224.64\"/>\r\n      </g>\r\n     </g>\r\n     <g id=\"text_5\">\r\n      <!-- 40 -->\r\n      <g transform=\"translate(204.351757 239.238437)scale(0.1 -0.1)\">\r\n       <defs>\r\n        <path d=\"M 37.796875 64.3125 \r\nL 12.890625 25.390625 \r\nL 37.796875 25.390625 \r\nz\r\nM 35.203125 72.90625 \r\nL 47.609375 72.90625 \r\nL 47.609375 25.390625 \r\nL 58.015625 25.390625 \r\nL 58.015625 17.1875 \r\nL 47.609375 17.1875 \r\nL 47.609375 0 \r\nL 37.796875 0 \r\nL 37.796875 17.1875 \r\nL 4.890625 17.1875 \r\nL 4.890625 26.703125 \r\nz\r\n\" id=\"DejaVuSans-52\"/>\r\n       </defs>\r\n       <use xlink:href=\"#DejaVuSans-52\"/>\r\n       <use x=\"63.623047\" xlink:href=\"#DejaVuSans-48\"/>\r\n      </g>\r\n     </g>\r\n    </g>\r\n    <g id=\"xtick_6\">\r\n     <g id=\"line2d_6\">\r\n      <g>\r\n       <use style=\"stroke:#000000;stroke-width:0.8;\" x=\"250.762104\" xlink:href=\"#mfc06baffea\" y=\"224.64\"/>\r\n      </g>\r\n     </g>\r\n     <g id=\"text_6\">\r\n      <!-- 50 -->\r\n      <g transform=\"translate(244.399604 239.238437)scale(0.1 -0.1)\">\r\n       <defs>\r\n        <path d=\"M 10.796875 72.90625 \r\nL 49.515625 72.90625 \r\nL 49.515625 64.59375 \r\nL 19.828125 64.59375 \r\nL 19.828125 46.734375 \r\nQ 21.96875 47.46875 24.109375 47.828125 \r\nQ 26.265625 48.1875 28.421875 48.1875 \r\nQ 40.625 48.1875 47.75 41.5 \r\nQ 54.890625 34.8125 54.890625 23.390625 \r\nQ 54.890625 11.625 47.5625 5.09375 \r\nQ 40.234375 -1.421875 26.90625 -1.421875 \r\nQ 22.3125 -1.421875 17.546875 -0.640625 \r\nQ 12.796875 0.140625 7.71875 1.703125 \r\nL 7.71875 11.625 \r\nQ 12.109375 9.234375 16.796875 8.0625 \r\nQ 21.484375 6.890625 26.703125 6.890625 \r\nQ 35.15625 6.890625 40.078125 11.328125 \r\nQ 45.015625 15.765625 45.015625 23.390625 \r\nQ 45.015625 31 40.078125 35.4375 \r\nQ 35.15625 39.890625 26.703125 39.890625 \r\nQ 22.75 39.890625 18.8125 39.015625 \r\nQ 14.890625 38.140625 10.796875 36.28125 \r\nz\r\n\" id=\"DejaVuSans-53\"/>\r\n       </defs>\r\n       <use xlink:href=\"#DejaVuSans-53\"/>\r\n       <use x=\"63.623047\" xlink:href=\"#DejaVuSans-48\"/>\r\n      </g>\r\n     </g>\r\n    </g>\r\n    <g id=\"xtick_7\">\r\n     <g id=\"line2d_7\">\r\n      <g>\r\n       <use style=\"stroke:#000000;stroke-width:0.8;\" x=\"290.809951\" xlink:href=\"#mfc06baffea\" y=\"224.64\"/>\r\n      </g>\r\n     </g>\r\n     <g id=\"text_7\">\r\n      <!-- 60 -->\r\n      <g transform=\"translate(284.447451 239.238437)scale(0.1 -0.1)\">\r\n       <defs>\r\n        <path d=\"M 33.015625 40.375 \r\nQ 26.375 40.375 22.484375 35.828125 \r\nQ 18.609375 31.296875 18.609375 23.390625 \r\nQ 18.609375 15.53125 22.484375 10.953125 \r\nQ 26.375 6.390625 33.015625 6.390625 \r\nQ 39.65625 6.390625 43.53125 10.953125 \r\nQ 47.40625 15.53125 47.40625 23.390625 \r\nQ 47.40625 31.296875 43.53125 35.828125 \r\nQ 39.65625 40.375 33.015625 40.375 \r\nz\r\nM 52.59375 71.296875 \r\nL 52.59375 62.3125 \r\nQ 48.875 64.0625 45.09375 64.984375 \r\nQ 41.3125 65.921875 37.59375 65.921875 \r\nQ 27.828125 65.921875 22.671875 59.328125 \r\nQ 17.53125 52.734375 16.796875 39.40625 \r\nQ 19.671875 43.65625 24.015625 45.921875 \r\nQ 28.375 48.1875 33.59375 48.1875 \r\nQ 44.578125 48.1875 50.953125 41.515625 \r\nQ 57.328125 34.859375 57.328125 23.390625 \r\nQ 57.328125 12.15625 50.6875 5.359375 \r\nQ 44.046875 -1.421875 33.015625 -1.421875 \r\nQ 20.359375 -1.421875 13.671875 8.265625 \r\nQ 6.984375 17.96875 6.984375 36.375 \r\nQ 6.984375 53.65625 15.1875 63.9375 \r\nQ 23.390625 74.21875 37.203125 74.21875 \r\nQ 40.921875 74.21875 44.703125 73.484375 \r\nQ 48.484375 72.75 52.59375 71.296875 \r\nz\r\n\" id=\"DejaVuSans-54\"/>\r\n       </defs>\r\n       <use xlink:href=\"#DejaVuSans-54\"/>\r\n       <use x=\"63.623047\" xlink:href=\"#DejaVuSans-48\"/>\r\n      </g>\r\n     </g>\r\n    </g>\r\n    <g id=\"xtick_8\">\r\n     <g id=\"line2d_8\">\r\n      <g>\r\n       <use style=\"stroke:#000000;stroke-width:0.8;\" x=\"330.857798\" xlink:href=\"#mfc06baffea\" y=\"224.64\"/>\r\n      </g>\r\n     </g>\r\n     <g id=\"text_8\">\r\n      <!-- 70 -->\r\n      <g transform=\"translate(324.495298 239.238437)scale(0.1 -0.1)\">\r\n       <defs>\r\n        <path d=\"M 8.203125 72.90625 \r\nL 55.078125 72.90625 \r\nL 55.078125 68.703125 \r\nL 28.609375 0 \r\nL 18.3125 0 \r\nL 43.21875 64.59375 \r\nL 8.203125 64.59375 \r\nz\r\n\" id=\"DejaVuSans-55\"/>\r\n       </defs>\r\n       <use xlink:href=\"#DejaVuSans-55\"/>\r\n       <use x=\"63.623047\" xlink:href=\"#DejaVuSans-48\"/>\r\n      </g>\r\n     </g>\r\n    </g>\r\n   </g>\r\n   <g id=\"matplotlib.axis_2\">\r\n    <g id=\"ytick_1\">\r\n     <g id=\"line2d_9\">\r\n      <defs>\r\n       <path d=\"M 0 0 \r\nL -3.5 0 \r\n\" id=\"mac95ae1106\" style=\"stroke:#000000;stroke-width:0.8;\"/>\r\n      </defs>\r\n      <g>\r\n       <use style=\"stroke:#000000;stroke-width:0.8;\" x=\"35.304688\" xlink:href=\"#mac95ae1106\" y=\"197.144079\"/>\r\n      </g>\r\n     </g>\r\n     <g id=\"text_9\">\r\n      <!-- −40 -->\r\n      <g transform=\"translate(7.2 200.943298)scale(0.1 -0.1)\">\r\n       <defs>\r\n        <path d=\"M 10.59375 35.5 \r\nL 73.1875 35.5 \r\nL 73.1875 27.203125 \r\nL 10.59375 27.203125 \r\nz\r\n\" id=\"DejaVuSans-8722\"/>\r\n       </defs>\r\n       <use xlink:href=\"#DejaVuSans-8722\"/>\r\n       <use x=\"83.789062\" xlink:href=\"#DejaVuSans-52\"/>\r\n       <use x=\"147.412109\" xlink:href=\"#DejaVuSans-48\"/>\r\n      </g>\r\n     </g>\r\n    </g>\r\n    <g id=\"ytick_2\">\r\n     <g id=\"line2d_10\">\r\n      <g>\r\n       <use style=\"stroke:#000000;stroke-width:0.8;\" x=\"35.304688\" xlink:href=\"#mac95ae1106\" y=\"164.62727\"/>\r\n      </g>\r\n     </g>\r\n     <g id=\"text_10\">\r\n      <!-- −20 -->\r\n      <g transform=\"translate(7.2 168.426489)scale(0.1 -0.1)\">\r\n       <use xlink:href=\"#DejaVuSans-8722\"/>\r\n       <use x=\"83.789062\" xlink:href=\"#DejaVuSans-50\"/>\r\n       <use x=\"147.412109\" xlink:href=\"#DejaVuSans-48\"/>\r\n      </g>\r\n     </g>\r\n    </g>\r\n    <g id=\"ytick_3\">\r\n     <g id=\"line2d_11\">\r\n      <g>\r\n       <use style=\"stroke:#000000;stroke-width:0.8;\" x=\"35.304688\" xlink:href=\"#mac95ae1106\" y=\"132.11046\"/>\r\n      </g>\r\n     </g>\r\n     <g id=\"text_11\">\r\n      <!-- 0 -->\r\n      <g transform=\"translate(21.942188 135.909679)scale(0.1 -0.1)\">\r\n       <use xlink:href=\"#DejaVuSans-48\"/>\r\n      </g>\r\n     </g>\r\n    </g>\r\n    <g id=\"ytick_4\">\r\n     <g id=\"line2d_12\">\r\n      <g>\r\n       <use style=\"stroke:#000000;stroke-width:0.8;\" x=\"35.304688\" xlink:href=\"#mac95ae1106\" y=\"99.593651\"/>\r\n      </g>\r\n     </g>\r\n     <g id=\"text_12\">\r\n      <!-- 20 -->\r\n      <g transform=\"translate(15.579688 103.392869)scale(0.1 -0.1)\">\r\n       <use xlink:href=\"#DejaVuSans-50\"/>\r\n       <use x=\"63.623047\" xlink:href=\"#DejaVuSans-48\"/>\r\n      </g>\r\n     </g>\r\n    </g>\r\n    <g id=\"ytick_5\">\r\n     <g id=\"line2d_13\">\r\n      <g>\r\n       <use style=\"stroke:#000000;stroke-width:0.8;\" x=\"35.304688\" xlink:href=\"#mac95ae1106\" y=\"67.076841\"/>\r\n      </g>\r\n     </g>\r\n     <g id=\"text_13\">\r\n      <!-- 40 -->\r\n      <g transform=\"translate(15.579688 70.87606)scale(0.1 -0.1)\">\r\n       <use xlink:href=\"#DejaVuSans-52\"/>\r\n       <use x=\"63.623047\" xlink:href=\"#DejaVuSans-48\"/>\r\n      </g>\r\n     </g>\r\n    </g>\r\n    <g id=\"ytick_6\">\r\n     <g id=\"line2d_14\">\r\n      <g>\r\n       <use style=\"stroke:#000000;stroke-width:0.8;\" x=\"35.304688\" xlink:href=\"#mac95ae1106\" y=\"34.560031\"/>\r\n      </g>\r\n     </g>\r\n     <g id=\"text_14\">\r\n      <!-- 60 -->\r\n      <g transform=\"translate(15.579688 38.35925)scale(0.1 -0.1)\">\r\n       <use xlink:href=\"#DejaVuSans-54\"/>\r\n       <use x=\"63.623047\" xlink:href=\"#DejaVuSans-48\"/>\r\n      </g>\r\n     </g>\r\n    </g>\r\n   </g>\r\n   <g id=\"LineCollection_1\">\r\n    <path clip-path=\"url(#p3642c8163b)\" d=\"M 50.522869 132.11046 \r\nL 50.522869 119.638939 \r\n\" style=\"fill:none;stroke:#1f77b4;stroke-width:1.5;\"/>\r\n    <path clip-path=\"url(#p3642c8163b)\" d=\"M 54.527654 132.11046 \r\nL 54.527654 17.083636 \r\n\" style=\"fill:none;stroke:#1f77b4;stroke-width:1.5;\"/>\r\n    <path clip-path=\"url(#p3642c8163b)\" d=\"M 58.532439 132.11046 \r\nL 58.532439 119.933735 \r\n\" style=\"fill:none;stroke:#1f77b4;stroke-width:1.5;\"/>\r\n    <path clip-path=\"url(#p3642c8163b)\" d=\"M 62.537223 132.11046 \r\nL 62.537223 151.960655 \r\n\" style=\"fill:none;stroke:#1f77b4;stroke-width:1.5;\"/>\r\n    <path clip-path=\"url(#p3642c8163b)\" d=\"M 66.542008 132.11046 \r\nL 66.542008 142.192124 \r\n\" style=\"fill:none;stroke:#1f77b4;stroke-width:1.5;\"/>\r\n    <path clip-path=\"url(#p3642c8163b)\" d=\"M 70.546793 132.11046 \r\nL 70.546793 117.531359 \r\n\" style=\"fill:none;stroke:#1f77b4;stroke-width:1.5;\"/>\r\n    <path clip-path=\"url(#p3642c8163b)\" d=\"M 74.551577 132.11046 \r\nL 74.551577 121.398022 \r\n\" style=\"fill:none;stroke:#1f77b4;stroke-width:1.5;\"/>\r\n    <path clip-path=\"url(#p3642c8163b)\" d=\"M 78.556362 132.11046 \r\nL 78.556362 142.987062 \r\n\" style=\"fill:none;stroke:#1f77b4;stroke-width:1.5;\"/>\r\n    <path clip-path=\"url(#p3642c8163b)\" d=\"M 82.561147 132.11046 \r\nL 82.561147 109.43021 \r\n\" style=\"fill:none;stroke:#1f77b4;stroke-width:1.5;\"/>\r\n    <path clip-path=\"url(#p3642c8163b)\" d=\"M 86.565932 132.11046 \r\nL 86.565932 165.177778 \r\n\" style=\"fill:none;stroke:#1f77b4;stroke-width:1.5;\"/>\r\n    <path clip-path=\"url(#p3642c8163b)\" d=\"M 90.570716 132.11046 \r\nL 90.570716 151.353658 \r\n\" style=\"fill:none;stroke:#1f77b4;stroke-width:1.5;\"/>\r\n    <path clip-path=\"url(#p3642c8163b)\" d=\"M 94.575501 132.11046 \r\nL 94.575501 124.190121 \r\n\" style=\"fill:none;stroke:#1f77b4;stroke-width:1.5;\"/>\r\n    <path clip-path=\"url(#p3642c8163b)\" d=\"M 98.580286 132.11046 \r\nL 98.580286 101.26979 \r\n\" style=\"fill:none;stroke:#1f77b4;stroke-width:1.5;\"/>\r\n    <path clip-path=\"url(#p3642c8163b)\" d=\"M 102.58507 132.11046 \r\nL 102.58507 139.273068 \r\n\" style=\"fill:none;stroke:#1f77b4;stroke-width:1.5;\"/>\r\n    <path clip-path=\"url(#p3642c8163b)\" d=\"M 106.589855 132.11046 \r\nL 106.589855 147.739129 \r\n\" style=\"fill:none;stroke:#1f77b4;stroke-width:1.5;\"/>\r\n    <path clip-path=\"url(#p3642c8163b)\" d=\"M 110.59464 132.11046 \r\nL 110.59464 124.508528 \r\n\" style=\"fill:none;stroke:#1f77b4;stroke-width:1.5;\"/>\r\n    <path clip-path=\"url(#p3642c8163b)\" d=\"M 114.599424 132.11046 \r\nL 114.599424 130.962717 \r\n\" style=\"fill:none;stroke:#1f77b4;stroke-width:1.5;\"/>\r\n    <path clip-path=\"url(#p3642c8163b)\" d=\"M 118.604209 132.11046 \r\nL 118.604209 146.321556 \r\n\" style=\"fill:none;stroke:#1f77b4;stroke-width:1.5;\"/>\r\n    <path clip-path=\"url(#p3642c8163b)\" d=\"M 122.608994 132.11046 \r\nL 122.608994 166.860628 \r\n\" style=\"fill:none;stroke:#1f77b4;stroke-width:1.5;\"/>\r\n    <path clip-path=\"url(#p3642c8163b)\" d=\"M 126.613778 132.11046 \r\nL 126.613778 114.387602 \r\n\" style=\"fill:none;stroke:#1f77b4;stroke-width:1.5;\"/>\r\n    <path clip-path=\"url(#p3642c8163b)\" d=\"M 130.618563 132.11046 \r\nL 130.618563 214.756364 \r\n\" style=\"fill:none;stroke:#1f77b4;stroke-width:1.5;\"/>\r\n    <path clip-path=\"url(#p3642c8163b)\" d=\"M 134.623348 132.11046 \r\nL 134.623348 152.43823 \r\n\" style=\"fill:none;stroke:#1f77b4;stroke-width:1.5;\"/>\r\n    <path clip-path=\"url(#p3642c8163b)\" d=\"M 138.628132 132.11046 \r\nL 138.628132 152.10877 \r\n\" style=\"fill:none;stroke:#1f77b4;stroke-width:1.5;\"/>\r\n    <path clip-path=\"url(#p3642c8163b)\" d=\"M 142.632917 132.11046 \r\nL 142.632917 177.89042 \r\n\" style=\"fill:none;stroke:#1f77b4;stroke-width:1.5;\"/>\r\n    <path clip-path=\"url(#p3642c8163b)\" d=\"M 146.637702 132.11046 \r\nL 146.637702 187.674042 \r\n\" style=\"fill:none;stroke:#1f77b4;stroke-width:1.5;\"/>\r\n    <path clip-path=\"url(#p3642c8163b)\" d=\"M 150.642487 132.11046 \r\nL 150.642487 97.382725 \r\n\" style=\"fill:none;stroke:#1f77b4;stroke-width:1.5;\"/>\r\n    <path clip-path=\"url(#p3642c8163b)\" d=\"M 154.647271 132.11046 \r\nL 154.647271 131.251648 \r\n\" style=\"fill:none;stroke:#1f77b4;stroke-width:1.5;\"/>\r\n    <path clip-path=\"url(#p3642c8163b)\" d=\"M 158.652056 132.11046 \r\nL 158.652056 123.466766 \r\n\" style=\"fill:none;stroke:#1f77b4;stroke-width:1.5;\"/>\r\n    <path clip-path=\"url(#p3642c8163b)\" d=\"M 162.656841 132.11046 \r\nL 162.656841 99.569349 \r\n\" style=\"fill:none;stroke:#1f77b4;stroke-width:1.5;\"/>\r\n    <path clip-path=\"url(#p3642c8163b)\" d=\"M 166.661625 132.11046 \r\nL 166.661625 140.078913 \r\n\" style=\"fill:none;stroke:#1f77b4;stroke-width:1.5;\"/>\r\n    <path clip-path=\"url(#p3642c8163b)\" d=\"M 170.66641 132.11046 \r\nL 170.66641 101.503843 \r\n\" style=\"fill:none;stroke:#1f77b4;stroke-width:1.5;\"/>\r\n    <path clip-path=\"url(#p3642c8163b)\" d=\"M 174.671195 132.11046 \r\nL 174.671195 130.458338 \r\n\" style=\"fill:none;stroke:#1f77b4;stroke-width:1.5;\"/>\r\n    <path clip-path=\"url(#p3642c8163b)\" d=\"M 178.675979 132.11046 \r\nL 178.675979 111.493558 \r\n\" style=\"fill:none;stroke:#1f77b4;stroke-width:1.5;\"/>\r\n    <path clip-path=\"url(#p3642c8163b)\" d=\"M 182.680764 132.11046 \r\nL 182.680764 154.032257 \r\n\" style=\"fill:none;stroke:#1f77b4;stroke-width:1.5;\"/>\r\n    <path clip-path=\"url(#p3642c8163b)\" d=\"M 186.685549 132.11046 \r\nL 186.685549 125.646188 \r\n\" style=\"fill:none;stroke:#1f77b4;stroke-width:1.5;\"/>\r\n    <path clip-path=\"url(#p3642c8163b)\" d=\"M 190.690333 132.11046 \r\nL 190.690333 127.088883 \r\n\" style=\"fill:none;stroke:#1f77b4;stroke-width:1.5;\"/>\r\n    <path clip-path=\"url(#p3642c8163b)\" d=\"M 194.695118 132.11046 \r\nL 194.695118 112.012789 \r\n\" style=\"fill:none;stroke:#1f77b4;stroke-width:1.5;\"/>\r\n    <path clip-path=\"url(#p3642c8163b)\" d=\"M 198.699903 132.11046 \r\nL 198.699903 170.281849 \r\n\" style=\"fill:none;stroke:#1f77b4;stroke-width:1.5;\"/>\r\n    <path clip-path=\"url(#p3642c8163b)\" d=\"M 202.704688 132.11046 \r\nL 202.704688 145.959695 \r\n\" style=\"fill:none;stroke:#1f77b4;stroke-width:1.5;\"/>\r\n    <path clip-path=\"url(#p3642c8163b)\" d=\"M 206.709472 132.11046 \r\nL 206.709472 142.59305 \r\n\" style=\"fill:none;stroke:#1f77b4;stroke-width:1.5;\"/>\r\n    <path clip-path=\"url(#p3642c8163b)\" d=\"M 210.714257 132.11046 \r\nL 210.714257 145.663354 \r\n\" style=\"fill:none;stroke:#1f77b4;stroke-width:1.5;\"/>\r\n    <path clip-path=\"url(#p3642c8163b)\" d=\"M 214.719042 132.11046 \r\nL 214.719042 86.544262 \r\n\" style=\"fill:none;stroke:#1f77b4;stroke-width:1.5;\"/>\r\n    <path clip-path=\"url(#p3642c8163b)\" d=\"M 218.723826 132.11046 \r\nL 218.723826 121.039428 \r\n\" style=\"fill:none;stroke:#1f77b4;stroke-width:1.5;\"/>\r\n    <path clip-path=\"url(#p3642c8163b)\" d=\"M 222.728611 132.11046 \r\nL 222.728611 123.187789 \r\n\" style=\"fill:none;stroke:#1f77b4;stroke-width:1.5;\"/>\r\n    <path clip-path=\"url(#p3642c8163b)\" d=\"M 226.733396 132.11046 \r\nL 226.733396 119.799349 \r\n\" style=\"fill:none;stroke:#1f77b4;stroke-width:1.5;\"/>\r\n    <path clip-path=\"url(#p3642c8163b)\" d=\"M 230.73818 132.11046 \r\nL 230.73818 115.456666 \r\n\" style=\"fill:none;stroke:#1f77b4;stroke-width:1.5;\"/>\r\n    <path clip-path=\"url(#p3642c8163b)\" d=\"M 234.742965 132.11046 \r\nL 234.742965 146.875801 \r\n\" style=\"fill:none;stroke:#1f77b4;stroke-width:1.5;\"/>\r\n    <path clip-path=\"url(#p3642c8163b)\" d=\"M 238.74775 132.11046 \r\nL 238.74775 136.138729 \r\n\" style=\"fill:none;stroke:#1f77b4;stroke-width:1.5;\"/>\r\n    <path clip-path=\"url(#p3642c8163b)\" d=\"M 242.752534 132.11046 \r\nL 242.752534 134.116242 \r\n\" style=\"fill:none;stroke:#1f77b4;stroke-width:1.5;\"/>\r\n    <path clip-path=\"url(#p3642c8163b)\" d=\"M 246.757319 132.11046 \r\nL 246.757319 123.908474 \r\n\" style=\"fill:none;stroke:#1f77b4;stroke-width:1.5;\"/>\r\n    <path clip-path=\"url(#p3642c8163b)\" d=\"M 250.762104 132.11046 \r\nL 250.762104 123.482023 \r\n\" style=\"fill:none;stroke:#1f77b4;stroke-width:1.5;\"/>\r\n    <path clip-path=\"url(#p3642c8163b)\" d=\"M 254.766888 132.11046 \r\nL 254.766888 121.713328 \r\n\" style=\"fill:none;stroke:#1f77b4;stroke-width:1.5;\"/>\r\n    <path clip-path=\"url(#p3642c8163b)\" d=\"M 258.771673 132.11046 \r\nL 258.771673 150.074004 \r\n\" style=\"fill:none;stroke:#1f77b4;stroke-width:1.5;\"/>\r\n    <path clip-path=\"url(#p3642c8163b)\" d=\"M 262.776458 132.11046 \r\nL 262.776458 139.624558 \r\n\" style=\"fill:none;stroke:#1f77b4;stroke-width:1.5;\"/>\r\n    <path clip-path=\"url(#p3642c8163b)\" d=\"M 266.781243 132.11046 \r\nL 266.781243 105.154054 \r\n\" style=\"fill:none;stroke:#1f77b4;stroke-width:1.5;\"/>\r\n    <path clip-path=\"url(#p3642c8163b)\" d=\"M 270.786027 132.11046 \r\nL 270.786027 127.857468 \r\n\" style=\"fill:none;stroke:#1f77b4;stroke-width:1.5;\"/>\r\n    <path clip-path=\"url(#p3642c8163b)\" d=\"M 274.790812 132.11046 \r\nL 274.790812 121.239825 \r\n\" style=\"fill:none;stroke:#1f77b4;stroke-width:1.5;\"/>\r\n    <path clip-path=\"url(#p3642c8163b)\" d=\"M 278.795597 132.11046 \r\nL 278.795597 136.803822 \r\n\" style=\"fill:none;stroke:#1f77b4;stroke-width:1.5;\"/>\r\n    <path clip-path=\"url(#p3642c8163b)\" d=\"M 282.800381 132.11046 \r\nL 282.800381 143.44665 \r\n\" style=\"fill:none;stroke:#1f77b4;stroke-width:1.5;\"/>\r\n    <path clip-path=\"url(#p3642c8163b)\" d=\"M 286.805166 132.11046 \r\nL 286.805166 129.663232 \r\n\" style=\"fill:none;stroke:#1f77b4;stroke-width:1.5;\"/>\r\n    <path clip-path=\"url(#p3642c8163b)\" d=\"M 290.809951 132.11046 \r\nL 290.809951 144.723705 \r\n\" style=\"fill:none;stroke:#1f77b4;stroke-width:1.5;\"/>\r\n    <path clip-path=\"url(#p3642c8163b)\" d=\"M 294.814735 132.11046 \r\nL 294.814735 124.111442 \r\n\" style=\"fill:none;stroke:#1f77b4;stroke-width:1.5;\"/>\r\n    <path clip-path=\"url(#p3642c8163b)\" d=\"M 298.81952 132.11046 \r\nL 298.81952 145.561596 \r\n\" style=\"fill:none;stroke:#1f77b4;stroke-width:1.5;\"/>\r\n    <path clip-path=\"url(#p3642c8163b)\" d=\"M 302.824305 132.11046 \r\nL 302.824305 123.401008 \r\n\" style=\"fill:none;stroke:#1f77b4;stroke-width:1.5;\"/>\r\n    <path clip-path=\"url(#p3642c8163b)\" d=\"M 306.829089 132.11046 \r\nL 306.829089 133.601553 \r\n\" style=\"fill:none;stroke:#1f77b4;stroke-width:1.5;\"/>\r\n    <path clip-path=\"url(#p3642c8163b)\" d=\"M 310.833874 132.11046 \r\nL 310.833874 114.278471 \r\n\" style=\"fill:none;stroke:#1f77b4;stroke-width:1.5;\"/>\r\n    <path clip-path=\"url(#p3642c8163b)\" d=\"M 314.838659 132.11046 \r\nL 314.838659 137.647156 \r\n\" style=\"fill:none;stroke:#1f77b4;stroke-width:1.5;\"/>\r\n    <path clip-path=\"url(#p3642c8163b)\" d=\"M 318.843443 132.11046 \r\nL 318.843443 158.152611 \r\n\" style=\"fill:none;stroke:#1f77b4;stroke-width:1.5;\"/>\r\n    <path clip-path=\"url(#p3642c8163b)\" d=\"M 322.848228 132.11046 \r\nL 322.848228 122.335826 \r\n\" style=\"fill:none;stroke:#1f77b4;stroke-width:1.5;\"/>\r\n    <path clip-path=\"url(#p3642c8163b)\" d=\"M 326.853013 132.11046 \r\nL 326.853013 120.9357 \r\n\" style=\"fill:none;stroke:#1f77b4;stroke-width:1.5;\"/>\r\n    <path clip-path=\"url(#p3642c8163b)\" d=\"M 330.857798 132.11046 \r\nL 330.857798 139.624558 \r\n\" style=\"fill:none;stroke:#1f77b4;stroke-width:1.5;\"/>\r\n    <path clip-path=\"url(#p3642c8163b)\" d=\"M 334.862582 132.11046 \r\nL 334.862582 134.709633 \r\n\" style=\"fill:none;stroke:#1f77b4;stroke-width:1.5;\"/>\r\n    <path clip-path=\"url(#p3642c8163b)\" d=\"M 338.867367 132.11046 \r\nL 338.867367 159.087897 \r\n\" style=\"fill:none;stroke:#1f77b4;stroke-width:1.5;\"/>\r\n    <path clip-path=\"url(#p3642c8163b)\" d=\"M 342.872152 132.11046 \r\nL 342.872152 139.983038 \r\n\" style=\"fill:none;stroke:#1f77b4;stroke-width:1.5;\"/>\r\n    <path clip-path=\"url(#p3642c8163b)\" d=\"M 346.876936 132.11046 \r\nL 346.876936 126.989502 \r\n\" style=\"fill:none;stroke:#1f77b4;stroke-width:1.5;\"/>\r\n    <path clip-path=\"url(#p3642c8163b)\" d=\"M 350.881721 132.11046 \r\nL 350.881721 148.431281 \r\n\" style=\"fill:none;stroke:#1f77b4;stroke-width:1.5;\"/>\r\n    <path clip-path=\"url(#p3642c8163b)\" d=\"M 354.886506 132.11046 \r\nL 354.886506 111.225643 \r\n\" style=\"fill:none;stroke:#1f77b4;stroke-width:1.5;\"/>\r\n   </g>\r\n   <g id=\"line2d_15\">\r\n    <defs>\r\n     <path d=\"M 0 3 \r\nC 0.795609 3 1.55874 2.683901 2.12132 2.12132 \r\nC 2.683901 1.55874 3 0.795609 3 0 \r\nC 3 -0.795609 2.683901 -1.55874 2.12132 -2.12132 \r\nC 1.55874 -2.683901 0.795609 -3 0 -3 \r\nC -0.795609 -3 -1.55874 -2.683901 -2.12132 -2.12132 \r\nC -2.683901 -1.55874 -3 -0.795609 -3 0 \r\nC -3 0.795609 -2.683901 1.55874 -2.12132 2.12132 \r\nC -1.55874 2.683901 -0.795609 3 0 3 \r\nz\r\n\" id=\"m17b0a426a5\" style=\"stroke:#1f77b4;\"/>\r\n    </defs>\r\n    <g clip-path=\"url(#p3642c8163b)\">\r\n     <use style=\"fill:#1f77b4;stroke:#1f77b4;\" x=\"50.522869\" xlink:href=\"#m17b0a426a5\" y=\"119.638939\"/>\r\n     <use style=\"fill:#1f77b4;stroke:#1f77b4;\" x=\"54.527654\" xlink:href=\"#m17b0a426a5\" y=\"17.083636\"/>\r\n     <use style=\"fill:#1f77b4;stroke:#1f77b4;\" x=\"58.532439\" xlink:href=\"#m17b0a426a5\" y=\"119.933735\"/>\r\n     <use style=\"fill:#1f77b4;stroke:#1f77b4;\" x=\"62.537223\" xlink:href=\"#m17b0a426a5\" y=\"151.960655\"/>\r\n     <use style=\"fill:#1f77b4;stroke:#1f77b4;\" x=\"66.542008\" xlink:href=\"#m17b0a426a5\" y=\"142.192124\"/>\r\n     <use style=\"fill:#1f77b4;stroke:#1f77b4;\" x=\"70.546793\" xlink:href=\"#m17b0a426a5\" y=\"117.531359\"/>\r\n     <use style=\"fill:#1f77b4;stroke:#1f77b4;\" x=\"74.551577\" xlink:href=\"#m17b0a426a5\" y=\"121.398022\"/>\r\n     <use style=\"fill:#1f77b4;stroke:#1f77b4;\" x=\"78.556362\" xlink:href=\"#m17b0a426a5\" y=\"142.987062\"/>\r\n     <use style=\"fill:#1f77b4;stroke:#1f77b4;\" x=\"82.561147\" xlink:href=\"#m17b0a426a5\" y=\"109.43021\"/>\r\n     <use style=\"fill:#1f77b4;stroke:#1f77b4;\" x=\"86.565932\" xlink:href=\"#m17b0a426a5\" y=\"165.177778\"/>\r\n     <use style=\"fill:#1f77b4;stroke:#1f77b4;\" x=\"90.570716\" xlink:href=\"#m17b0a426a5\" y=\"151.353658\"/>\r\n     <use style=\"fill:#1f77b4;stroke:#1f77b4;\" x=\"94.575501\" xlink:href=\"#m17b0a426a5\" y=\"124.190121\"/>\r\n     <use style=\"fill:#1f77b4;stroke:#1f77b4;\" x=\"98.580286\" xlink:href=\"#m17b0a426a5\" y=\"101.26979\"/>\r\n     <use style=\"fill:#1f77b4;stroke:#1f77b4;\" x=\"102.58507\" xlink:href=\"#m17b0a426a5\" y=\"139.273068\"/>\r\n     <use style=\"fill:#1f77b4;stroke:#1f77b4;\" x=\"106.589855\" xlink:href=\"#m17b0a426a5\" y=\"147.739129\"/>\r\n     <use style=\"fill:#1f77b4;stroke:#1f77b4;\" x=\"110.59464\" xlink:href=\"#m17b0a426a5\" y=\"124.508528\"/>\r\n     <use style=\"fill:#1f77b4;stroke:#1f77b4;\" x=\"114.599424\" xlink:href=\"#m17b0a426a5\" y=\"130.962717\"/>\r\n     <use style=\"fill:#1f77b4;stroke:#1f77b4;\" x=\"118.604209\" xlink:href=\"#m17b0a426a5\" y=\"146.321556\"/>\r\n     <use style=\"fill:#1f77b4;stroke:#1f77b4;\" x=\"122.608994\" xlink:href=\"#m17b0a426a5\" y=\"166.860628\"/>\r\n     <use style=\"fill:#1f77b4;stroke:#1f77b4;\" x=\"126.613778\" xlink:href=\"#m17b0a426a5\" y=\"114.387602\"/>\r\n     <use style=\"fill:#1f77b4;stroke:#1f77b4;\" x=\"130.618563\" xlink:href=\"#m17b0a426a5\" y=\"214.756364\"/>\r\n     <use style=\"fill:#1f77b4;stroke:#1f77b4;\" x=\"134.623348\" xlink:href=\"#m17b0a426a5\" y=\"152.43823\"/>\r\n     <use style=\"fill:#1f77b4;stroke:#1f77b4;\" x=\"138.628132\" xlink:href=\"#m17b0a426a5\" y=\"152.10877\"/>\r\n     <use style=\"fill:#1f77b4;stroke:#1f77b4;\" x=\"142.632917\" xlink:href=\"#m17b0a426a5\" y=\"177.89042\"/>\r\n     <use style=\"fill:#1f77b4;stroke:#1f77b4;\" x=\"146.637702\" xlink:href=\"#m17b0a426a5\" y=\"187.674042\"/>\r\n     <use style=\"fill:#1f77b4;stroke:#1f77b4;\" x=\"150.642487\" xlink:href=\"#m17b0a426a5\" y=\"97.382725\"/>\r\n     <use style=\"fill:#1f77b4;stroke:#1f77b4;\" x=\"154.647271\" xlink:href=\"#m17b0a426a5\" y=\"131.251648\"/>\r\n     <use style=\"fill:#1f77b4;stroke:#1f77b4;\" x=\"158.652056\" xlink:href=\"#m17b0a426a5\" y=\"123.466766\"/>\r\n     <use style=\"fill:#1f77b4;stroke:#1f77b4;\" x=\"162.656841\" xlink:href=\"#m17b0a426a5\" y=\"99.569349\"/>\r\n     <use style=\"fill:#1f77b4;stroke:#1f77b4;\" x=\"166.661625\" xlink:href=\"#m17b0a426a5\" y=\"140.078913\"/>\r\n     <use style=\"fill:#1f77b4;stroke:#1f77b4;\" x=\"170.66641\" xlink:href=\"#m17b0a426a5\" y=\"101.503843\"/>\r\n     <use style=\"fill:#1f77b4;stroke:#1f77b4;\" x=\"174.671195\" xlink:href=\"#m17b0a426a5\" y=\"130.458338\"/>\r\n     <use style=\"fill:#1f77b4;stroke:#1f77b4;\" x=\"178.675979\" xlink:href=\"#m17b0a426a5\" y=\"111.493558\"/>\r\n     <use style=\"fill:#1f77b4;stroke:#1f77b4;\" x=\"182.680764\" xlink:href=\"#m17b0a426a5\" y=\"154.032257\"/>\r\n     <use style=\"fill:#1f77b4;stroke:#1f77b4;\" x=\"186.685549\" xlink:href=\"#m17b0a426a5\" y=\"125.646188\"/>\r\n     <use style=\"fill:#1f77b4;stroke:#1f77b4;\" x=\"190.690333\" xlink:href=\"#m17b0a426a5\" y=\"127.088883\"/>\r\n     <use style=\"fill:#1f77b4;stroke:#1f77b4;\" x=\"194.695118\" xlink:href=\"#m17b0a426a5\" y=\"112.012789\"/>\r\n     <use style=\"fill:#1f77b4;stroke:#1f77b4;\" x=\"198.699903\" xlink:href=\"#m17b0a426a5\" y=\"170.281849\"/>\r\n     <use style=\"fill:#1f77b4;stroke:#1f77b4;\" x=\"202.704688\" xlink:href=\"#m17b0a426a5\" y=\"145.959695\"/>\r\n     <use style=\"fill:#1f77b4;stroke:#1f77b4;\" x=\"206.709472\" xlink:href=\"#m17b0a426a5\" y=\"142.59305\"/>\r\n     <use style=\"fill:#1f77b4;stroke:#1f77b4;\" x=\"210.714257\" xlink:href=\"#m17b0a426a5\" y=\"145.663354\"/>\r\n     <use style=\"fill:#1f77b4;stroke:#1f77b4;\" x=\"214.719042\" xlink:href=\"#m17b0a426a5\" y=\"86.544262\"/>\r\n     <use style=\"fill:#1f77b4;stroke:#1f77b4;\" x=\"218.723826\" xlink:href=\"#m17b0a426a5\" y=\"121.039428\"/>\r\n     <use style=\"fill:#1f77b4;stroke:#1f77b4;\" x=\"222.728611\" xlink:href=\"#m17b0a426a5\" y=\"123.187789\"/>\r\n     <use style=\"fill:#1f77b4;stroke:#1f77b4;\" x=\"226.733396\" xlink:href=\"#m17b0a426a5\" y=\"119.799349\"/>\r\n     <use style=\"fill:#1f77b4;stroke:#1f77b4;\" x=\"230.73818\" xlink:href=\"#m17b0a426a5\" y=\"115.456666\"/>\r\n     <use style=\"fill:#1f77b4;stroke:#1f77b4;\" x=\"234.742965\" xlink:href=\"#m17b0a426a5\" y=\"146.875801\"/>\r\n     <use style=\"fill:#1f77b4;stroke:#1f77b4;\" x=\"238.74775\" xlink:href=\"#m17b0a426a5\" y=\"136.138729\"/>\r\n     <use style=\"fill:#1f77b4;stroke:#1f77b4;\" x=\"242.752534\" xlink:href=\"#m17b0a426a5\" y=\"134.116242\"/>\r\n     <use style=\"fill:#1f77b4;stroke:#1f77b4;\" x=\"246.757319\" xlink:href=\"#m17b0a426a5\" y=\"123.908474\"/>\r\n     <use style=\"fill:#1f77b4;stroke:#1f77b4;\" x=\"250.762104\" xlink:href=\"#m17b0a426a5\" y=\"123.482023\"/>\r\n     <use style=\"fill:#1f77b4;stroke:#1f77b4;\" x=\"254.766888\" xlink:href=\"#m17b0a426a5\" y=\"121.713328\"/>\r\n     <use style=\"fill:#1f77b4;stroke:#1f77b4;\" x=\"258.771673\" xlink:href=\"#m17b0a426a5\" y=\"150.074004\"/>\r\n     <use style=\"fill:#1f77b4;stroke:#1f77b4;\" x=\"262.776458\" xlink:href=\"#m17b0a426a5\" y=\"139.624558\"/>\r\n     <use style=\"fill:#1f77b4;stroke:#1f77b4;\" x=\"266.781243\" xlink:href=\"#m17b0a426a5\" y=\"105.154054\"/>\r\n     <use style=\"fill:#1f77b4;stroke:#1f77b4;\" x=\"270.786027\" xlink:href=\"#m17b0a426a5\" y=\"127.857468\"/>\r\n     <use style=\"fill:#1f77b4;stroke:#1f77b4;\" x=\"274.790812\" xlink:href=\"#m17b0a426a5\" y=\"121.239825\"/>\r\n     <use style=\"fill:#1f77b4;stroke:#1f77b4;\" x=\"278.795597\" xlink:href=\"#m17b0a426a5\" y=\"136.803822\"/>\r\n     <use style=\"fill:#1f77b4;stroke:#1f77b4;\" x=\"282.800381\" xlink:href=\"#m17b0a426a5\" y=\"143.44665\"/>\r\n     <use style=\"fill:#1f77b4;stroke:#1f77b4;\" x=\"286.805166\" xlink:href=\"#m17b0a426a5\" y=\"129.663232\"/>\r\n     <use style=\"fill:#1f77b4;stroke:#1f77b4;\" x=\"290.809951\" xlink:href=\"#m17b0a426a5\" y=\"144.723705\"/>\r\n     <use style=\"fill:#1f77b4;stroke:#1f77b4;\" x=\"294.814735\" xlink:href=\"#m17b0a426a5\" y=\"124.111442\"/>\r\n     <use style=\"fill:#1f77b4;stroke:#1f77b4;\" x=\"298.81952\" xlink:href=\"#m17b0a426a5\" y=\"145.561596\"/>\r\n     <use style=\"fill:#1f77b4;stroke:#1f77b4;\" x=\"302.824305\" xlink:href=\"#m17b0a426a5\" y=\"123.401008\"/>\r\n     <use style=\"fill:#1f77b4;stroke:#1f77b4;\" x=\"306.829089\" xlink:href=\"#m17b0a426a5\" y=\"133.601553\"/>\r\n     <use style=\"fill:#1f77b4;stroke:#1f77b4;\" x=\"310.833874\" xlink:href=\"#m17b0a426a5\" y=\"114.278471\"/>\r\n     <use style=\"fill:#1f77b4;stroke:#1f77b4;\" x=\"314.838659\" xlink:href=\"#m17b0a426a5\" y=\"137.647156\"/>\r\n     <use style=\"fill:#1f77b4;stroke:#1f77b4;\" x=\"318.843443\" xlink:href=\"#m17b0a426a5\" y=\"158.152611\"/>\r\n     <use style=\"fill:#1f77b4;stroke:#1f77b4;\" x=\"322.848228\" xlink:href=\"#m17b0a426a5\" y=\"122.335826\"/>\r\n     <use style=\"fill:#1f77b4;stroke:#1f77b4;\" x=\"326.853013\" xlink:href=\"#m17b0a426a5\" y=\"120.9357\"/>\r\n     <use style=\"fill:#1f77b4;stroke:#1f77b4;\" x=\"330.857798\" xlink:href=\"#m17b0a426a5\" y=\"139.624558\"/>\r\n     <use style=\"fill:#1f77b4;stroke:#1f77b4;\" x=\"334.862582\" xlink:href=\"#m17b0a426a5\" y=\"134.709633\"/>\r\n     <use style=\"fill:#1f77b4;stroke:#1f77b4;\" x=\"338.867367\" xlink:href=\"#m17b0a426a5\" y=\"159.087897\"/>\r\n     <use style=\"fill:#1f77b4;stroke:#1f77b4;\" x=\"342.872152\" xlink:href=\"#m17b0a426a5\" y=\"139.983038\"/>\r\n     <use style=\"fill:#1f77b4;stroke:#1f77b4;\" x=\"346.876936\" xlink:href=\"#m17b0a426a5\" y=\"126.989502\"/>\r\n     <use style=\"fill:#1f77b4;stroke:#1f77b4;\" x=\"350.881721\" xlink:href=\"#m17b0a426a5\" y=\"148.431281\"/>\r\n     <use style=\"fill:#1f77b4;stroke:#1f77b4;\" x=\"354.886506\" xlink:href=\"#m17b0a426a5\" y=\"111.225643\"/>\r\n    </g>\r\n   </g>\r\n   <g id=\"line2d_16\">\r\n    <path clip-path=\"url(#p3642c8163b)\" d=\"M 50.522869 132.11046 \r\nL 354.886506 132.11046 \r\n\" style=\"fill:none;stroke:#d62728;stroke-linecap:square;stroke-width:1.5;\"/>\r\n   </g>\r\n   <g id=\"patch_3\">\r\n    <path d=\"M 35.304688 224.64 \r\nL 35.304688 7.2 \r\n\" style=\"fill:none;stroke:#000000;stroke-linecap:square;stroke-linejoin:miter;stroke-width:0.8;\"/>\r\n   </g>\r\n   <g id=\"patch_4\">\r\n    <path d=\"M 370.104688 224.64 \r\nL 370.104688 7.2 \r\n\" style=\"fill:none;stroke:#000000;stroke-linecap:square;stroke-linejoin:miter;stroke-width:0.8;\"/>\r\n   </g>\r\n   <g id=\"patch_5\">\r\n    <path d=\"M 35.304688 224.64 \r\nL 370.104688 224.64 \r\n\" style=\"fill:none;stroke:#000000;stroke-linecap:square;stroke-linejoin:miter;stroke-width:0.8;\"/>\r\n   </g>\r\n   <g id=\"patch_6\">\r\n    <path d=\"M 35.304688 7.2 \r\nL 370.104688 7.2 \r\n\" style=\"fill:none;stroke:#000000;stroke-linecap:square;stroke-linejoin:miter;stroke-width:0.8;\"/>\r\n   </g>\r\n  </g>\r\n </g>\r\n <defs>\r\n  <clipPath id=\"p3642c8163b\">\r\n   <rect height=\"217.44\" width=\"334.8\" x=\"35.304688\" y=\"7.2\"/>\r\n  </clipPath>\r\n </defs>\r\n</svg>\r\n",
      "image/png": "[encoded data removed]"
     },
     "metadata": {
      "needs_background": "light"
     }
    }
   ],
   "metadata": {}
  },
  {
   "cell_type": "markdown",
   "source": [
    "You should see that `W[i]` is very large for a few components `i`.  These are the genes that are likely to be most involved in Down's Syndrome.   Below we will use L1 regression to enforce sparsity.  Find the names of the genes for two components `i` where the magnitude of `W[i]` is largest.  "
   ],
   "metadata": {}
  },
  {
   "cell_type": "code",
   "execution_count": 157,
   "source": [
    "# TODO\r\n",
    "W1 = np.abs(W)\r\n",
    "imax = np.argmax(W1)\r\n",
    "print(\"Gene with largest weight \", xnames[imax])\r\n",
    "W1[imax] = 0\r\n",
    "ismax = np.argmax(W1)\r\n",
    "print(\"Gene with second largest weight \", xnames[ismax])"
   ],
   "outputs": [
    {
     "output_type": "stream",
     "name": "stdout",
     "text": [
      "Gene with largest weight  ITSN1_N\n",
      "Gene with second largest weight  BRAF_N\n"
     ]
    }
   ],
   "metadata": {}
  },
  {
   "cell_type": "markdown",
   "source": [
    "## Cross Validation\n",
    "\n",
    "To obtain a slightly more accurate result, now perform 10-fold cross validation and measure the average precision, recall and f1-score.  Note, that in performing the cross-validation, you will want to randomly permute the test and training sets using the `shuffle` option.  In this data set, all the samples from each class are bunched together, so shuffling is essential.  Print the mean precision, recall and f1-score and error rate across all the folds."
   ],
   "metadata": {}
  },
  {
   "cell_type": "code",
   "execution_count": 158,
   "source": [
    "from sklearn.model_selection import KFold\r\n",
    "from sklearn.metrics import precision_recall_fscore_support\r\n",
    "nfold = 10\r\n",
    "kf = KFold(n_splits=nfold,shuffle=True)\r\n",
    "acc = np.zeros(nfold)\r\n",
    "prec = np.zeros(nfold)\r\n",
    "rec = np.zeros(nfold)\r\n",
    "f1 = np.zeros(nfold)\r\n",
    "\r\n",
    "for i, I in enumerate(kf.split(X)):\r\n",
    "    \r\n",
    "    # Get training and test data\r\n",
    "    train, test = I\r\n",
    "    Xtr = X[train,:]\r\n",
    "    ytr = y[train]\r\n",
    "    Xts = X[test,:]\r\n",
    "    yts = y[test]\r\n",
    "    \r\n",
    "    # Scale the data\r\n",
    "    scal = StandardScaler()\r\n",
    "    Xtr1 = scal.fit_transform(Xtr)\r\n",
    "    Xts1 = scal.transform(Xts)    \r\n",
    "    \r\n",
    "    # Fit a model    \r\n",
    "    logreg.fit(Xtr1, ytr)\r\n",
    "    \r\n",
    "    # Predict on test samples and measure accuracy\r\n",
    "    yhat = logreg.predict(Xts1)\r\n",
    "    acc[i] = np.mean(yhat == yts)\r\n",
    "    \r\n",
    "    # Measure other performance metrics\r\n",
    "    prec[i],rec[i],f1[i],_  = precision_recall_fscore_support(yts,yhat,average='binary') \r\n",
    "    \r\n",
    "\r\n",
    "# Take average values of the metrics\r\n",
    "precm = np.mean(prec)\r\n",
    "recm = np.mean(rec)\r\n",
    "f1m = np.mean(f1)\r\n",
    "accm= np.mean(acc)\r\n",
    "\r\n",
    "# Compute the standard errors\r\n",
    "prec_se = np.std(prec)/np.sqrt(nfold-1)\r\n",
    "rec_se = np.std(rec)/np.sqrt(nfold-1)\r\n",
    "f1_se = np.std(f1)/np.sqrt(nfold-1)\r\n",
    "acc_se = np.std(acc)/np.sqrt(nfold-1)\r\n",
    "\r\n",
    "print('Precision = {0:.4f}, SE={1:.4f}'.format(precm,prec_se))\r\n",
    "print('Recall =    {0:.4f}, SE={1:.4f}'.format(recm, rec_se))\r\n",
    "print('f1 =        {0:.4f}, SE={1:.4f}'.format(f1m, f1_se))\r\n",
    "print('Accuracy =  {0:.4f}, SE={1:.4f}'.format(accm, acc_se))"
   ],
   "outputs": [
    {
     "output_type": "stream",
     "name": "stdout",
     "text": [
      "Precision = 0.9501, SE=0.0156\n",
      "Recall =    0.9565, SE=0.0040\n",
      "f1 =        0.9526, SE=0.0078\n",
      "Accuracy =  0.9556, SE=0.0074\n"
     ]
    }
   ],
   "metadata": {}
  },
  {
   "cell_type": "markdown",
   "source": [
    "## Multi-Class Classification\n",
    "\n",
    "Now use the response variable in `df1['class']`.  This has 8 possible classes.  Use the `np.unique` funtion as before to convert this to a vector `y` with values 0 to 7."
   ],
   "metadata": {}
  },
  {
   "cell_type": "markdown",
   "source": [
    "Now perform 10-fold cross validation, and measure the confusion matrix `C` on the test data in each fold. You can use the `confustion_matrix` method in the `sklearn` package.  Add the confusion matrix counts across all folds and then normalize the rows of the confusion matrix so that they sum to one.  Thus, each element `C[i,j]` will represent the fraction of samples where `yhat==j` given `ytrue==i`.  Print the confusion matrix.  You can use the command\r\n",
    "\r\n",
    "    print(np.array_str(C, precision=4, suppress_small=True))\r\n",
    "    \r\n",
    "to create a nicely formatted print.  Also print the overall mean and SE of the test accuracy across the folds."
   ],
   "metadata": {}
  },
  {
   "cell_type": "code",
   "execution_count": 175,
   "source": [
    "# TODOy = np.unique(df1['Genotype'].values, return_inverse=True)[1]\r\n",
    "y = np.unique(df1['class'].values, return_inverse=True)[1]\r\n",
    "print(y)\r\n"
   ],
   "outputs": [
    {
     "output_type": "stream",
     "name": "stdout",
     "text": [
      "[0 0 0 ... 7 7 7]\n"
     ]
    }
   ],
   "metadata": {}
  },
  {
   "cell_type": "markdown",
   "source": [
    "Fit a multi-class logistic model by creating a `LogisticRegression` object, `logreg` and then calling the `logreg.fit` method."
   ],
   "metadata": {}
  },
  {
   "cell_type": "code",
   "execution_count": 179,
   "source": [
    "from sklearn.metrics import confusion_matrix\r\n",
    "from sklearn.model_selection import KFold\r\n",
    "\r\n",
    "nfold = 10\r\n",
    "kf = KFold(n_splits=nfold, shuffle=True)\r\n",
    "acc = np.zeros(nfold)\r\n",
    "prec = np.zeros(nfold)\r\n",
    "rec = np.zeros(nfold)\r\n",
    "f1 = np.zeros(nfold)\r\n",
    "\r\n",
    "C = np.zeros((8,8))\r\n",
    "\r\n",
    "for i, I in enumerate(kf.split(X)):\r\n",
    "    \r\n",
    "    # Get training and test data\r\n",
    "    train, test = I\r\n",
    "    Xtr = X[train,:]\r\n",
    "    ytr = y[train]\r\n",
    "    Xts = X[test,:]\r\n",
    "    yts = y[test]\r\n",
    "    \r\n",
    "    # Scale the data\r\n",
    "    scal = StandardScaler()\r\n",
    "    Xtr1 = scal.fit_transform(Xtr)\r\n",
    "    Xts1 = scal.transform(Xts)    \r\n",
    "    \r\n",
    "    # Fit a model    \r\n",
    "    logreg.fit(Xtr1, ytr)\r\n",
    "    \r\n",
    "    # Predict on test samples and measure accuracy\r\n",
    "    yhat = logreg.predict(Xts1)\r\n",
    "    C += confusion_matrix(yts, yhat)\r\n",
    "\r\n",
    "\r\n",
    "C = C / np.sum(C, axis=1)\r\n",
    "print(np.array_str(C, precision=4, suppress_small=True))\r\n",
    "    \r\n",
    "\r\n",
    "\r\n"
   ],
   "outputs": [
    {
     "output_type": "stream",
     "name": "stdout",
     "text": [
      "[[146.   3.   1.   0.   0.   0.   0.   0.]\n",
      " [  4. 128.   0.   0.   0.   2.   1.   0.]\n",
      " [  0.   1. 148.   1.   0.   0.   0.   0.]\n",
      " [  1.   0.   0. 134.   0.   0.   0.   0.]\n",
      " [  0.   1.   0.   0. 134.   0.   0.   0.]\n",
      " [  0.   0.   0.   0.   0. 105.   0.   0.]\n",
      " [  0.   1.   0.   0.   0.   0. 134.   0.]\n",
      " [  0.   0.   0.   0.   0.   0.   0. 135.]]\n",
      "[[0.9733 0.0222 0.0067 0.     0.     0.     0.     0.    ]\n",
      " [0.0267 0.9481 0.     0.     0.     0.019  0.0074 0.    ]\n",
      " [0.     0.0074 0.9867 0.0074 0.     0.     0.     0.    ]\n",
      " [0.0067 0.     0.     0.9926 0.     0.     0.     0.    ]\n",
      " [0.     0.0074 0.     0.     0.9926 0.     0.     0.    ]\n",
      " [0.     0.     0.     0.     0.     1.     0.     0.    ]\n",
      " [0.     0.0074 0.     0.     0.     0.     0.9926 0.    ]\n",
      " [0.     0.     0.     0.     0.     0.     0.     1.    ]]\n"
     ]
    }
   ],
   "metadata": {}
  },
  {
   "cell_type": "markdown",
   "source": [
    "Re-run the logistic regression on the entire training data and get the weight coefficients.  This should be a 8 x 77 matrix.  Create a stem plot of the first row of this matrix to see the coefficients on each of the genes."
   ],
   "metadata": {}
  },
  {
   "cell_type": "code",
   "execution_count": 182,
   "source": [
    "# TODO\r\n",
    "logreg.fit(X, y)\r\n",
    "print(logreg.coef_.shape)\r\n",
    "plt.stem(logreg.coef_[0,:], use_line_collection=True)\r\n",
    "plt.show()\r\n"
   ],
   "outputs": [
    {
     "output_type": "stream",
     "name": "stdout",
     "text": [
      "(8, 77)\n"
     ]
    },
    {
     "output_type": "display_data",
     "data": {
      "text/plain": [
       "<Figure size 432x288 with 1 Axes>"
      ],
      "image/svg+xml": "<?xml version=\"1.0\" encoding=\"utf-8\" standalone=\"no\"?>\r\n<!DOCTYPE svg PUBLIC \"-//W3C//DTD SVG 1.1//EN\"\r\n  \"http://www.w3.org/Graphics/SVG/1.1/DTD/svg11.dtd\">\r\n<!-- Created with matplotlib (https://matplotlib.org/) -->\r\n<svg height=\"248.518125pt\" version=\"1.1\" viewBox=\"0 0 383.667187 248.518125\" width=\"383.667187pt\" xmlns=\"http://www.w3.org/2000/svg\" xmlns:xlink=\"http://www.w3.org/1999/xlink\">\r\n <metadata>\r\n  <rdf:RDF xmlns:cc=\"http://creativecommons.org/ns#\" xmlns:dc=\"http://purl.org/dc/elements/1.1/\" xmlns:rdf=\"http://www.w3.org/1999/02/22-rdf-syntax-ns#\">\r\n   <cc:Work>\r\n    <dc:type rdf:resource=\"http://purl.org/dc/dcmitype/StillImage\"/>\r\n    <dc:date>2021-10-24T20:12:04.918383</dc:date>\r\n    <dc:format>image/svg+xml</dc:format>\r\n    <dc:creator>\r\n     <cc:Agent>\r\n      <dc:title>Matplotlib v3.3.4, https://matplotlib.org/</dc:title>\r\n     </cc:Agent>\r\n    </dc:creator>\r\n   </cc:Work>\r\n  </rdf:RDF>\r\n </metadata>\r\n <defs>\r\n  <style type=\"text/css\">*{stroke-linecap:butt;stroke-linejoin:round;}</style>\r\n </defs>\r\n <g id=\"figure_1\">\r\n  <g id=\"patch_1\">\r\n   <path d=\"M 0 248.518125 \r\nL 383.667187 248.518125 \r\nL 383.667187 0 \r\nL 0 0 \r\nz\r\n\" style=\"fill:none;\"/>\r\n  </g>\r\n  <g id=\"axes_1\">\r\n   <g id=\"patch_2\">\r\n    <path d=\"M 41.667188 224.64 \r\nL 376.467188 224.64 \r\nL 376.467188 7.2 \r\nL 41.667188 7.2 \r\nz\r\n\" style=\"fill:#ffffff;\"/>\r\n   </g>\r\n   <g id=\"matplotlib.axis_1\">\r\n    <g id=\"xtick_1\">\r\n     <g id=\"line2d_1\">\r\n      <defs>\r\n       <path d=\"M 0 0 \r\nL 0 3.5 \r\n\" id=\"m64f4e8dcf2\" style=\"stroke:#000000;stroke-width:0.8;\"/>\r\n      </defs>\r\n      <g>\r\n       <use style=\"stroke:#000000;stroke-width:0.8;\" x=\"56.885369\" xlink:href=\"#m64f4e8dcf2\" y=\"224.64\"/>\r\n      </g>\r\n     </g>\r\n     <g id=\"text_1\">\r\n      <!-- 0 -->\r\n      <g transform=\"translate(53.704119 239.238438)scale(0.1 -0.1)\">\r\n       <defs>\r\n        <path d=\"M 31.78125 66.40625 \r\nQ 24.171875 66.40625 20.328125 58.90625 \r\nQ 16.5 51.421875 16.5 36.375 \r\nQ 16.5 21.390625 20.328125 13.890625 \r\nQ 24.171875 6.390625 31.78125 6.390625 \r\nQ 39.453125 6.390625 43.28125 13.890625 \r\nQ 47.125 21.390625 47.125 36.375 \r\nQ 47.125 51.421875 43.28125 58.90625 \r\nQ 39.453125 66.40625 31.78125 66.40625 \r\nz\r\nM 31.78125 74.21875 \r\nQ 44.046875 74.21875 50.515625 64.515625 \r\nQ 56.984375 54.828125 56.984375 36.375 \r\nQ 56.984375 17.96875 50.515625 8.265625 \r\nQ 44.046875 -1.421875 31.78125 -1.421875 \r\nQ 19.53125 -1.421875 13.0625 8.265625 \r\nQ 6.59375 17.96875 6.59375 36.375 \r\nQ 6.59375 54.828125 13.0625 64.515625 \r\nQ 19.53125 74.21875 31.78125 74.21875 \r\nz\r\n\" id=\"DejaVuSans-48\"/>\r\n       </defs>\r\n       <use xlink:href=\"#DejaVuSans-48\"/>\r\n      </g>\r\n     </g>\r\n    </g>\r\n    <g id=\"xtick_2\">\r\n     <g id=\"line2d_2\">\r\n      <g>\r\n       <use style=\"stroke:#000000;stroke-width:0.8;\" x=\"96.933216\" xlink:href=\"#m64f4e8dcf2\" y=\"224.64\"/>\r\n      </g>\r\n     </g>\r\n     <g id=\"text_2\">\r\n      <!-- 10 -->\r\n      <g transform=\"translate(90.570716 239.238438)scale(0.1 -0.1)\">\r\n       <defs>\r\n        <path d=\"M 12.40625 8.296875 \r\nL 28.515625 8.296875 \r\nL 28.515625 63.921875 \r\nL 10.984375 60.40625 \r\nL 10.984375 69.390625 \r\nL 28.421875 72.90625 \r\nL 38.28125 72.90625 \r\nL 38.28125 8.296875 \r\nL 54.390625 8.296875 \r\nL 54.390625 0 \r\nL 12.40625 0 \r\nz\r\n\" id=\"DejaVuSans-49\"/>\r\n       </defs>\r\n       <use xlink:href=\"#DejaVuSans-49\"/>\r\n       <use x=\"63.623047\" xlink:href=\"#DejaVuSans-48\"/>\r\n      </g>\r\n     </g>\r\n    </g>\r\n    <g id=\"xtick_3\">\r\n     <g id=\"line2d_3\">\r\n      <g>\r\n       <use style=\"stroke:#000000;stroke-width:0.8;\" x=\"136.981063\" xlink:href=\"#m64f4e8dcf2\" y=\"224.64\"/>\r\n      </g>\r\n     </g>\r\n     <g id=\"text_3\">\r\n      <!-- 20 -->\r\n      <g transform=\"translate(130.618563 239.238438)scale(0.1 -0.1)\">\r\n       <defs>\r\n        <path d=\"M 19.1875 8.296875 \r\nL 53.609375 8.296875 \r\nL 53.609375 0 \r\nL 7.328125 0 \r\nL 7.328125 8.296875 \r\nQ 12.9375 14.109375 22.625 23.890625 \r\nQ 32.328125 33.6875 34.8125 36.53125 \r\nQ 39.546875 41.84375 41.421875 45.53125 \r\nQ 43.3125 49.21875 43.3125 52.78125 \r\nQ 43.3125 58.59375 39.234375 62.25 \r\nQ 35.15625 65.921875 28.609375 65.921875 \r\nQ 23.96875 65.921875 18.8125 64.3125 \r\nQ 13.671875 62.703125 7.8125 59.421875 \r\nL 7.8125 69.390625 \r\nQ 13.765625 71.78125 18.9375 73 \r\nQ 24.125 74.21875 28.421875 74.21875 \r\nQ 39.75 74.21875 46.484375 68.546875 \r\nQ 53.21875 62.890625 53.21875 53.421875 \r\nQ 53.21875 48.921875 51.53125 44.890625 \r\nQ 49.859375 40.875 45.40625 35.40625 \r\nQ 44.1875 33.984375 37.640625 27.21875 \r\nQ 31.109375 20.453125 19.1875 8.296875 \r\nz\r\n\" id=\"DejaVuSans-50\"/>\r\n       </defs>\r\n       <use xlink:href=\"#DejaVuSans-50\"/>\r\n       <use x=\"63.623047\" xlink:href=\"#DejaVuSans-48\"/>\r\n      </g>\r\n     </g>\r\n    </g>\r\n    <g id=\"xtick_4\">\r\n     <g id=\"line2d_4\">\r\n      <g>\r\n       <use style=\"stroke:#000000;stroke-width:0.8;\" x=\"177.02891\" xlink:href=\"#m64f4e8dcf2\" y=\"224.64\"/>\r\n      </g>\r\n     </g>\r\n     <g id=\"text_4\">\r\n      <!-- 30 -->\r\n      <g transform=\"translate(170.66641 239.238438)scale(0.1 -0.1)\">\r\n       <defs>\r\n        <path d=\"M 40.578125 39.3125 \r\nQ 47.65625 37.796875 51.625 33 \r\nQ 55.609375 28.21875 55.609375 21.1875 \r\nQ 55.609375 10.40625 48.1875 4.484375 \r\nQ 40.765625 -1.421875 27.09375 -1.421875 \r\nQ 22.515625 -1.421875 17.65625 -0.515625 \r\nQ 12.796875 0.390625 7.625 2.203125 \r\nL 7.625 11.71875 \r\nQ 11.71875 9.328125 16.59375 8.109375 \r\nQ 21.484375 6.890625 26.8125 6.890625 \r\nQ 36.078125 6.890625 40.9375 10.546875 \r\nQ 45.796875 14.203125 45.796875 21.1875 \r\nQ 45.796875 27.640625 41.28125 31.265625 \r\nQ 36.765625 34.90625 28.71875 34.90625 \r\nL 20.21875 34.90625 \r\nL 20.21875 43.015625 \r\nL 29.109375 43.015625 \r\nQ 36.375 43.015625 40.234375 45.921875 \r\nQ 44.09375 48.828125 44.09375 54.296875 \r\nQ 44.09375 59.90625 40.109375 62.90625 \r\nQ 36.140625 65.921875 28.71875 65.921875 \r\nQ 24.65625 65.921875 20.015625 65.03125 \r\nQ 15.375 64.15625 9.8125 62.3125 \r\nL 9.8125 71.09375 \r\nQ 15.4375 72.65625 20.34375 73.4375 \r\nQ 25.25 74.21875 29.59375 74.21875 \r\nQ 40.828125 74.21875 47.359375 69.109375 \r\nQ 53.90625 64.015625 53.90625 55.328125 \r\nQ 53.90625 49.265625 50.4375 45.09375 \r\nQ 46.96875 40.921875 40.578125 39.3125 \r\nz\r\n\" id=\"DejaVuSans-51\"/>\r\n       </defs>\r\n       <use xlink:href=\"#DejaVuSans-51\"/>\r\n       <use x=\"63.623047\" xlink:href=\"#DejaVuSans-48\"/>\r\n      </g>\r\n     </g>\r\n    </g>\r\n    <g id=\"xtick_5\">\r\n     <g id=\"line2d_5\">\r\n      <g>\r\n       <use style=\"stroke:#000000;stroke-width:0.8;\" x=\"217.076757\" xlink:href=\"#m64f4e8dcf2\" y=\"224.64\"/>\r\n      </g>\r\n     </g>\r\n     <g id=\"text_5\">\r\n      <!-- 40 -->\r\n      <g transform=\"translate(210.714257 239.238438)scale(0.1 -0.1)\">\r\n       <defs>\r\n        <path d=\"M 37.796875 64.3125 \r\nL 12.890625 25.390625 \r\nL 37.796875 25.390625 \r\nz\r\nM 35.203125 72.90625 \r\nL 47.609375 72.90625 \r\nL 47.609375 25.390625 \r\nL 58.015625 25.390625 \r\nL 58.015625 17.1875 \r\nL 47.609375 17.1875 \r\nL 47.609375 0 \r\nL 37.796875 0 \r\nL 37.796875 17.1875 \r\nL 4.890625 17.1875 \r\nL 4.890625 26.703125 \r\nz\r\n\" id=\"DejaVuSans-52\"/>\r\n       </defs>\r\n       <use xlink:href=\"#DejaVuSans-52\"/>\r\n       <use x=\"63.623047\" xlink:href=\"#DejaVuSans-48\"/>\r\n      </g>\r\n     </g>\r\n    </g>\r\n    <g id=\"xtick_6\">\r\n     <g id=\"line2d_6\">\r\n      <g>\r\n       <use style=\"stroke:#000000;stroke-width:0.8;\" x=\"257.124604\" xlink:href=\"#m64f4e8dcf2\" y=\"224.64\"/>\r\n      </g>\r\n     </g>\r\n     <g id=\"text_6\">\r\n      <!-- 50 -->\r\n      <g transform=\"translate(250.762104 239.238438)scale(0.1 -0.1)\">\r\n       <defs>\r\n        <path d=\"M 10.796875 72.90625 \r\nL 49.515625 72.90625 \r\nL 49.515625 64.59375 \r\nL 19.828125 64.59375 \r\nL 19.828125 46.734375 \r\nQ 21.96875 47.46875 24.109375 47.828125 \r\nQ 26.265625 48.1875 28.421875 48.1875 \r\nQ 40.625 48.1875 47.75 41.5 \r\nQ 54.890625 34.8125 54.890625 23.390625 \r\nQ 54.890625 11.625 47.5625 5.09375 \r\nQ 40.234375 -1.421875 26.90625 -1.421875 \r\nQ 22.3125 -1.421875 17.546875 -0.640625 \r\nQ 12.796875 0.140625 7.71875 1.703125 \r\nL 7.71875 11.625 \r\nQ 12.109375 9.234375 16.796875 8.0625 \r\nQ 21.484375 6.890625 26.703125 6.890625 \r\nQ 35.15625 6.890625 40.078125 11.328125 \r\nQ 45.015625 15.765625 45.015625 23.390625 \r\nQ 45.015625 31 40.078125 35.4375 \r\nQ 35.15625 39.890625 26.703125 39.890625 \r\nQ 22.75 39.890625 18.8125 39.015625 \r\nQ 14.890625 38.140625 10.796875 36.28125 \r\nz\r\n\" id=\"DejaVuSans-53\"/>\r\n       </defs>\r\n       <use xlink:href=\"#DejaVuSans-53\"/>\r\n       <use x=\"63.623047\" xlink:href=\"#DejaVuSans-48\"/>\r\n      </g>\r\n     </g>\r\n    </g>\r\n    <g id=\"xtick_7\">\r\n     <g id=\"line2d_7\">\r\n      <g>\r\n       <use style=\"stroke:#000000;stroke-width:0.8;\" x=\"297.172451\" xlink:href=\"#m64f4e8dcf2\" y=\"224.64\"/>\r\n      </g>\r\n     </g>\r\n     <g id=\"text_7\">\r\n      <!-- 60 -->\r\n      <g transform=\"translate(290.809951 239.238438)scale(0.1 -0.1)\">\r\n       <defs>\r\n        <path d=\"M 33.015625 40.375 \r\nQ 26.375 40.375 22.484375 35.828125 \r\nQ 18.609375 31.296875 18.609375 23.390625 \r\nQ 18.609375 15.53125 22.484375 10.953125 \r\nQ 26.375 6.390625 33.015625 6.390625 \r\nQ 39.65625 6.390625 43.53125 10.953125 \r\nQ 47.40625 15.53125 47.40625 23.390625 \r\nQ 47.40625 31.296875 43.53125 35.828125 \r\nQ 39.65625 40.375 33.015625 40.375 \r\nz\r\nM 52.59375 71.296875 \r\nL 52.59375 62.3125 \r\nQ 48.875 64.0625 45.09375 64.984375 \r\nQ 41.3125 65.921875 37.59375 65.921875 \r\nQ 27.828125 65.921875 22.671875 59.328125 \r\nQ 17.53125 52.734375 16.796875 39.40625 \r\nQ 19.671875 43.65625 24.015625 45.921875 \r\nQ 28.375 48.1875 33.59375 48.1875 \r\nQ 44.578125 48.1875 50.953125 41.515625 \r\nQ 57.328125 34.859375 57.328125 23.390625 \r\nQ 57.328125 12.15625 50.6875 5.359375 \r\nQ 44.046875 -1.421875 33.015625 -1.421875 \r\nQ 20.359375 -1.421875 13.671875 8.265625 \r\nQ 6.984375 17.96875 6.984375 36.375 \r\nQ 6.984375 53.65625 15.1875 63.9375 \r\nQ 23.390625 74.21875 37.203125 74.21875 \r\nQ 40.921875 74.21875 44.703125 73.484375 \r\nQ 48.484375 72.75 52.59375 71.296875 \r\nz\r\n\" id=\"DejaVuSans-54\"/>\r\n       </defs>\r\n       <use xlink:href=\"#DejaVuSans-54\"/>\r\n       <use x=\"63.623047\" xlink:href=\"#DejaVuSans-48\"/>\r\n      </g>\r\n     </g>\r\n    </g>\r\n    <g id=\"xtick_8\">\r\n     <g id=\"line2d_8\">\r\n      <g>\r\n       <use style=\"stroke:#000000;stroke-width:0.8;\" x=\"337.220298\" xlink:href=\"#m64f4e8dcf2\" y=\"224.64\"/>\r\n      </g>\r\n     </g>\r\n     <g id=\"text_8\">\r\n      <!-- 70 -->\r\n      <g transform=\"translate(330.857798 239.238438)scale(0.1 -0.1)\">\r\n       <defs>\r\n        <path d=\"M 8.203125 72.90625 \r\nL 55.078125 72.90625 \r\nL 55.078125 68.703125 \r\nL 28.609375 0 \r\nL 18.3125 0 \r\nL 43.21875 64.59375 \r\nL 8.203125 64.59375 \r\nz\r\n\" id=\"DejaVuSans-55\"/>\r\n       </defs>\r\n       <use xlink:href=\"#DejaVuSans-55\"/>\r\n       <use x=\"63.623047\" xlink:href=\"#DejaVuSans-48\"/>\r\n      </g>\r\n     </g>\r\n    </g>\r\n   </g>\r\n   <g id=\"matplotlib.axis_2\">\r\n    <g id=\"ytick_1\">\r\n     <g id=\"line2d_9\">\r\n      <defs>\r\n       <path d=\"M 0 0 \r\nL -3.5 0 \r\n\" id=\"m2e8188887c\" style=\"stroke:#000000;stroke-width:0.8;\"/>\r\n      </defs>\r\n      <g>\r\n       <use style=\"stroke:#000000;stroke-width:0.8;\" x=\"41.667188\" xlink:href=\"#m2e8188887c\" y=\"203.010439\"/>\r\n      </g>\r\n     </g>\r\n     <g id=\"text_9\">\r\n      <!-- −100 -->\r\n      <g transform=\"translate(7.2 206.809658)scale(0.1 -0.1)\">\r\n       <defs>\r\n        <path d=\"M 10.59375 35.5 \r\nL 73.1875 35.5 \r\nL 73.1875 27.203125 \r\nL 10.59375 27.203125 \r\nz\r\n\" id=\"DejaVuSans-8722\"/>\r\n       </defs>\r\n       <use xlink:href=\"#DejaVuSans-8722\"/>\r\n       <use x=\"83.789062\" xlink:href=\"#DejaVuSans-49\"/>\r\n       <use x=\"147.412109\" xlink:href=\"#DejaVuSans-48\"/>\r\n       <use x=\"211.035156\" xlink:href=\"#DejaVuSans-48\"/>\r\n      </g>\r\n     </g>\r\n    </g>\r\n    <g id=\"ytick_2\">\r\n     <g id=\"line2d_10\">\r\n      <g>\r\n       <use style=\"stroke:#000000;stroke-width:0.8;\" x=\"41.667188\" xlink:href=\"#m2e8188887c\" y=\"165.598266\"/>\r\n      </g>\r\n     </g>\r\n     <g id=\"text_10\">\r\n      <!-- −50 -->\r\n      <g transform=\"translate(13.5625 169.397484)scale(0.1 -0.1)\">\r\n       <use xlink:href=\"#DejaVuSans-8722\"/>\r\n       <use x=\"83.789062\" xlink:href=\"#DejaVuSans-53\"/>\r\n       <use x=\"147.412109\" xlink:href=\"#DejaVuSans-48\"/>\r\n      </g>\r\n     </g>\r\n    </g>\r\n    <g id=\"ytick_3\">\r\n     <g id=\"line2d_11\">\r\n      <g>\r\n       <use style=\"stroke:#000000;stroke-width:0.8;\" x=\"41.667188\" xlink:href=\"#m2e8188887c\" y=\"128.186092\"/>\r\n      </g>\r\n     </g>\r\n     <g id=\"text_11\">\r\n      <!-- 0 -->\r\n      <g transform=\"translate(28.304688 131.98531)scale(0.1 -0.1)\">\r\n       <use xlink:href=\"#DejaVuSans-48\"/>\r\n      </g>\r\n     </g>\r\n    </g>\r\n    <g id=\"ytick_4\">\r\n     <g id=\"line2d_12\">\r\n      <g>\r\n       <use style=\"stroke:#000000;stroke-width:0.8;\" x=\"41.667188\" xlink:href=\"#m2e8188887c\" y=\"90.773918\"/>\r\n      </g>\r\n     </g>\r\n     <g id=\"text_12\">\r\n      <!-- 50 -->\r\n      <g transform=\"translate(21.942188 94.573136)scale(0.1 -0.1)\">\r\n       <use xlink:href=\"#DejaVuSans-53\"/>\r\n       <use x=\"63.623047\" xlink:href=\"#DejaVuSans-48\"/>\r\n      </g>\r\n     </g>\r\n    </g>\r\n    <g id=\"ytick_5\">\r\n     <g id=\"line2d_13\">\r\n      <g>\r\n       <use style=\"stroke:#000000;stroke-width:0.8;\" x=\"41.667188\" xlink:href=\"#m2e8188887c\" y=\"53.361744\"/>\r\n      </g>\r\n     </g>\r\n     <g id=\"text_13\">\r\n      <!-- 100 -->\r\n      <g transform=\"translate(15.579688 57.160962)scale(0.1 -0.1)\">\r\n       <use xlink:href=\"#DejaVuSans-49\"/>\r\n       <use x=\"63.623047\" xlink:href=\"#DejaVuSans-48\"/>\r\n       <use x=\"127.246094\" xlink:href=\"#DejaVuSans-48\"/>\r\n      </g>\r\n     </g>\r\n    </g>\r\n    <g id=\"ytick_6\">\r\n     <g id=\"line2d_14\">\r\n      <g>\r\n       <use style=\"stroke:#000000;stroke-width:0.8;\" x=\"41.667188\" xlink:href=\"#m2e8188887c\" y=\"15.94957\"/>\r\n      </g>\r\n     </g>\r\n     <g id=\"text_14\">\r\n      <!-- 150 -->\r\n      <g transform=\"translate(15.579688 19.748788)scale(0.1 -0.1)\">\r\n       <use xlink:href=\"#DejaVuSans-49\"/>\r\n       <use x=\"63.623047\" xlink:href=\"#DejaVuSans-53\"/>\r\n       <use x=\"127.246094\" xlink:href=\"#DejaVuSans-48\"/>\r\n      </g>\r\n     </g>\r\n    </g>\r\n   </g>\r\n   <g id=\"LineCollection_1\">\r\n    <path clip-path=\"url(#pe9dc7233bc)\" d=\"M 56.885369 128.186092 \r\nL 56.885369 131.223354 \r\n\" style=\"fill:none;stroke:#1f77b4;stroke-width:1.5;\"/>\r\n    <path clip-path=\"url(#pe9dc7233bc)\" d=\"M 60.890154 128.186092 \r\nL 60.890154 183.044501 \r\n\" style=\"fill:none;stroke:#1f77b4;stroke-width:1.5;\"/>\r\n    <path clip-path=\"url(#pe9dc7233bc)\" d=\"M 64.894939 128.186092 \r\nL 64.894939 100.10762 \r\n\" style=\"fill:none;stroke:#1f77b4;stroke-width:1.5;\"/>\r\n    <path clip-path=\"url(#pe9dc7233bc)\" d=\"M 68.899723 128.186092 \r\nL 68.899723 124.17351 \r\n\" style=\"fill:none;stroke:#1f77b4;stroke-width:1.5;\"/>\r\n    <path clip-path=\"url(#pe9dc7233bc)\" d=\"M 72.904508 128.186092 \r\nL 72.904508 124.422122 \r\n\" style=\"fill:none;stroke:#1f77b4;stroke-width:1.5;\"/>\r\n    <path clip-path=\"url(#pe9dc7233bc)\" d=\"M 76.909293 128.186092 \r\nL 76.909293 129.830644 \r\n\" style=\"fill:none;stroke:#1f77b4;stroke-width:1.5;\"/>\r\n    <path clip-path=\"url(#pe9dc7233bc)\" d=\"M 80.914077 128.186092 \r\nL 80.914077 100.056979 \r\n\" style=\"fill:none;stroke:#1f77b4;stroke-width:1.5;\"/>\r\n    <path clip-path=\"url(#pe9dc7233bc)\" d=\"M 84.918862 128.186092 \r\nL 84.918862 135.747846 \r\n\" style=\"fill:none;stroke:#1f77b4;stroke-width:1.5;\"/>\r\n    <path clip-path=\"url(#pe9dc7233bc)\" d=\"M 88.923647 128.186092 \r\nL 88.923647 175.499322 \r\n\" style=\"fill:none;stroke:#1f77b4;stroke-width:1.5;\"/>\r\n    <path clip-path=\"url(#pe9dc7233bc)\" d=\"M 92.928432 128.186092 \r\nL 92.928432 120.322859 \r\n\" style=\"fill:none;stroke:#1f77b4;stroke-width:1.5;\"/>\r\n    <path clip-path=\"url(#pe9dc7233bc)\" d=\"M 96.933216 128.186092 \r\nL 96.933216 103.784524 \r\n\" style=\"fill:none;stroke:#1f77b4;stroke-width:1.5;\"/>\r\n    <path clip-path=\"url(#pe9dc7233bc)\" d=\"M 100.938001 128.186092 \r\nL 100.938001 23.252992 \r\n\" style=\"fill:none;stroke:#1f77b4;stroke-width:1.5;\"/>\r\n    <path clip-path=\"url(#pe9dc7233bc)\" d=\"M 104.942786 128.186092 \r\nL 104.942786 76.65222 \r\n\" style=\"fill:none;stroke:#1f77b4;stroke-width:1.5;\"/>\r\n    <path clip-path=\"url(#pe9dc7233bc)\" d=\"M 108.94757 128.186092 \r\nL 108.94757 108.896292 \r\n\" style=\"fill:none;stroke:#1f77b4;stroke-width:1.5;\"/>\r\n    <path clip-path=\"url(#pe9dc7233bc)\" d=\"M 112.952355 128.186092 \r\nL 112.952355 113.916925 \r\n\" style=\"fill:none;stroke:#1f77b4;stroke-width:1.5;\"/>\r\n    <path clip-path=\"url(#pe9dc7233bc)\" d=\"M 116.95714 128.186092 \r\nL 116.95714 129.498419 \r\n\" style=\"fill:none;stroke:#1f77b4;stroke-width:1.5;\"/>\r\n    <path clip-path=\"url(#pe9dc7233bc)\" d=\"M 120.961924 128.186092 \r\nL 120.961924 181.307941 \r\n\" style=\"fill:none;stroke:#1f77b4;stroke-width:1.5;\"/>\r\n    <path clip-path=\"url(#pe9dc7233bc)\" d=\"M 124.966709 128.186092 \r\nL 124.966709 141.159526 \r\n\" style=\"fill:none;stroke:#1f77b4;stroke-width:1.5;\"/>\r\n    <path clip-path=\"url(#pe9dc7233bc)\" d=\"M 128.971494 128.186092 \r\nL 128.971494 101.587088 \r\n\" style=\"fill:none;stroke:#1f77b4;stroke-width:1.5;\"/>\r\n    <path clip-path=\"url(#pe9dc7233bc)\" d=\"M 132.976278 128.186092 \r\nL 132.976278 114.795779 \r\n\" style=\"fill:none;stroke:#1f77b4;stroke-width:1.5;\"/>\r\n    <path clip-path=\"url(#pe9dc7233bc)\" d=\"M 136.981063 128.186092 \r\nL 136.981063 129.134137 \r\n\" style=\"fill:none;stroke:#1f77b4;stroke-width:1.5;\"/>\r\n    <path clip-path=\"url(#pe9dc7233bc)\" d=\"M 140.985848 128.186092 \r\nL 140.985848 148.445734 \r\n\" style=\"fill:none;stroke:#1f77b4;stroke-width:1.5;\"/>\r\n    <path clip-path=\"url(#pe9dc7233bc)\" d=\"M 144.990632 128.186092 \r\nL 144.990632 146.164011 \r\n\" style=\"fill:none;stroke:#1f77b4;stroke-width:1.5;\"/>\r\n    <path clip-path=\"url(#pe9dc7233bc)\" d=\"M 148.995417 128.186092 \r\nL 148.995417 132.473547 \r\n\" style=\"fill:none;stroke:#1f77b4;stroke-width:1.5;\"/>\r\n    <path clip-path=\"url(#pe9dc7233bc)\" d=\"M 153.000202 128.186092 \r\nL 153.000202 113.652662 \r\n\" style=\"fill:none;stroke:#1f77b4;stroke-width:1.5;\"/>\r\n    <path clip-path=\"url(#pe9dc7233bc)\" d=\"M 157.004987 128.186092 \r\nL 157.004987 122.757777 \r\n\" style=\"fill:none;stroke:#1f77b4;stroke-width:1.5;\"/>\r\n    <path clip-path=\"url(#pe9dc7233bc)\" d=\"M 161.009771 128.186092 \r\nL 161.009771 110.106072 \r\n\" style=\"fill:none;stroke:#1f77b4;stroke-width:1.5;\"/>\r\n    <path clip-path=\"url(#pe9dc7233bc)\" d=\"M 165.014556 128.186092 \r\nL 165.014556 182.188708 \r\n\" style=\"fill:none;stroke:#1f77b4;stroke-width:1.5;\"/>\r\n    <path clip-path=\"url(#pe9dc7233bc)\" d=\"M 169.019341 128.186092 \r\nL 169.019341 79.3535 \r\n\" style=\"fill:none;stroke:#1f77b4;stroke-width:1.5;\"/>\r\n    <path clip-path=\"url(#pe9dc7233bc)\" d=\"M 173.024125 128.186092 \r\nL 173.024125 137.205718 \r\n\" style=\"fill:none;stroke:#1f77b4;stroke-width:1.5;\"/>\r\n    <path clip-path=\"url(#pe9dc7233bc)\" d=\"M 177.02891 128.186092 \r\nL 177.02891 175.039523 \r\n\" style=\"fill:none;stroke:#1f77b4;stroke-width:1.5;\"/>\r\n    <path clip-path=\"url(#pe9dc7233bc)\" d=\"M 181.033695 128.186092 \r\nL 181.033695 127.951989 \r\n\" style=\"fill:none;stroke:#1f77b4;stroke-width:1.5;\"/>\r\n    <path clip-path=\"url(#pe9dc7233bc)\" d=\"M 185.038479 128.186092 \r\nL 185.038479 214.756364 \r\n\" style=\"fill:none;stroke:#1f77b4;stroke-width:1.5;\"/>\r\n    <path clip-path=\"url(#pe9dc7233bc)\" d=\"M 189.043264 128.186092 \r\nL 189.043264 67.142175 \r\n\" style=\"fill:none;stroke:#1f77b4;stroke-width:1.5;\"/>\r\n    <path clip-path=\"url(#pe9dc7233bc)\" d=\"M 193.048049 128.186092 \r\nL 193.048049 146.265057 \r\n\" style=\"fill:none;stroke:#1f77b4;stroke-width:1.5;\"/>\r\n    <path clip-path=\"url(#pe9dc7233bc)\" d=\"M 197.052833 128.186092 \r\nL 197.052833 117.062602 \r\n\" style=\"fill:none;stroke:#1f77b4;stroke-width:1.5;\"/>\r\n    <path clip-path=\"url(#pe9dc7233bc)\" d=\"M 201.057618 128.186092 \r\nL 201.057618 120.512408 \r\n\" style=\"fill:none;stroke:#1f77b4;stroke-width:1.5;\"/>\r\n    <path clip-path=\"url(#pe9dc7233bc)\" d=\"M 205.062403 128.186092 \r\nL 205.062403 122.945906 \r\n\" style=\"fill:none;stroke:#1f77b4;stroke-width:1.5;\"/>\r\n    <path clip-path=\"url(#pe9dc7233bc)\" d=\"M 209.067188 128.186092 \r\nL 209.067188 113.606434 \r\n\" style=\"fill:none;stroke:#1f77b4;stroke-width:1.5;\"/>\r\n    <path clip-path=\"url(#pe9dc7233bc)\" d=\"M 213.071972 128.186092 \r\nL 213.071972 138.302354 \r\n\" style=\"fill:none;stroke:#1f77b4;stroke-width:1.5;\"/>\r\n    <path clip-path=\"url(#pe9dc7233bc)\" d=\"M 217.076757 128.186092 \r\nL 217.076757 101.475996 \r\n\" style=\"fill:none;stroke:#1f77b4;stroke-width:1.5;\"/>\r\n    <path clip-path=\"url(#pe9dc7233bc)\" d=\"M 221.081542 128.186092 \r\nL 221.081542 174.032577 \r\n\" style=\"fill:none;stroke:#1f77b4;stroke-width:1.5;\"/>\r\n    <path clip-path=\"url(#pe9dc7233bc)\" d=\"M 225.086326 128.186092 \r\nL 225.086326 141.32127 \r\n\" style=\"fill:none;stroke:#1f77b4;stroke-width:1.5;\"/>\r\n    <path clip-path=\"url(#pe9dc7233bc)\" d=\"M 229.091111 128.186092 \r\nL 229.091111 152.740074 \r\n\" style=\"fill:none;stroke:#1f77b4;stroke-width:1.5;\"/>\r\n    <path clip-path=\"url(#pe9dc7233bc)\" d=\"M 233.095896 128.186092 \r\nL 233.095896 143.133007 \r\n\" style=\"fill:none;stroke:#1f77b4;stroke-width:1.5;\"/>\r\n    <path clip-path=\"url(#pe9dc7233bc)\" d=\"M 237.10068 128.186092 \r\nL 237.10068 166.276275 \r\n\" style=\"fill:none;stroke:#1f77b4;stroke-width:1.5;\"/>\r\n    <path clip-path=\"url(#pe9dc7233bc)\" d=\"M 241.105465 128.186092 \r\nL 241.105465 121.68431 \r\n\" style=\"fill:none;stroke:#1f77b4;stroke-width:1.5;\"/>\r\n    <path clip-path=\"url(#pe9dc7233bc)\" d=\"M 245.11025 128.186092 \r\nL 245.11025 124.466107 \r\n\" style=\"fill:none;stroke:#1f77b4;stroke-width:1.5;\"/>\r\n    <path clip-path=\"url(#pe9dc7233bc)\" d=\"M 249.115034 128.186092 \r\nL 249.115034 136.672806 \r\n\" style=\"fill:none;stroke:#1f77b4;stroke-width:1.5;\"/>\r\n    <path clip-path=\"url(#pe9dc7233bc)\" d=\"M 253.119819 128.186092 \r\nL 253.119819 131.805525 \r\n\" style=\"fill:none;stroke:#1f77b4;stroke-width:1.5;\"/>\r\n    <path clip-path=\"url(#pe9dc7233bc)\" d=\"M 257.124604 128.186092 \r\nL 257.124604 123.675379 \r\n\" style=\"fill:none;stroke:#1f77b4;stroke-width:1.5;\"/>\r\n    <path clip-path=\"url(#pe9dc7233bc)\" d=\"M 261.129388 128.186092 \r\nL 261.129388 124.936645 \r\n\" style=\"fill:none;stroke:#1f77b4;stroke-width:1.5;\"/>\r\n    <path clip-path=\"url(#pe9dc7233bc)\" d=\"M 265.134173 128.186092 \r\nL 265.134173 193.754814 \r\n\" style=\"fill:none;stroke:#1f77b4;stroke-width:1.5;\"/>\r\n    <path clip-path=\"url(#pe9dc7233bc)\" d=\"M 269.138958 128.186092 \r\nL 269.138958 110.971372 \r\n\" style=\"fill:none;stroke:#1f77b4;stroke-width:1.5;\"/>\r\n    <path clip-path=\"url(#pe9dc7233bc)\" d=\"M 273.143743 128.186092 \r\nL 273.143743 129.719569 \r\n\" style=\"fill:none;stroke:#1f77b4;stroke-width:1.5;\"/>\r\n    <path clip-path=\"url(#pe9dc7233bc)\" d=\"M 277.148527 128.186092 \r\nL 277.148527 17.083636 \r\n\" style=\"fill:none;stroke:#1f77b4;stroke-width:1.5;\"/>\r\n    <path clip-path=\"url(#pe9dc7233bc)\" d=\"M 281.153312 128.186092 \r\nL 281.153312 143.555976 \r\n\" style=\"fill:none;stroke:#1f77b4;stroke-width:1.5;\"/>\r\n    <path clip-path=\"url(#pe9dc7233bc)\" d=\"M 285.158097 128.186092 \r\nL 285.158097 164.400567 \r\n\" style=\"fill:none;stroke:#1f77b4;stroke-width:1.5;\"/>\r\n    <path clip-path=\"url(#pe9dc7233bc)\" d=\"M 289.162881 128.186092 \r\nL 289.162881 73.566386 \r\n\" style=\"fill:none;stroke:#1f77b4;stroke-width:1.5;\"/>\r\n    <path clip-path=\"url(#pe9dc7233bc)\" d=\"M 293.167666 128.186092 \r\nL 293.167666 136.18532 \r\n\" style=\"fill:none;stroke:#1f77b4;stroke-width:1.5;\"/>\r\n    <path clip-path=\"url(#pe9dc7233bc)\" d=\"M 297.172451 128.186092 \r\nL 297.172451 85.600304 \r\n\" style=\"fill:none;stroke:#1f77b4;stroke-width:1.5;\"/>\r\n    <path clip-path=\"url(#pe9dc7233bc)\" d=\"M 301.177235 128.186092 \r\nL 301.177235 101.701813 \r\n\" style=\"fill:none;stroke:#1f77b4;stroke-width:1.5;\"/>\r\n    <path clip-path=\"url(#pe9dc7233bc)\" d=\"M 305.18202 128.186092 \r\nL 305.18202 127.957318 \r\n\" style=\"fill:none;stroke:#1f77b4;stroke-width:1.5;\"/>\r\n    <path clip-path=\"url(#pe9dc7233bc)\" d=\"M 309.186805 128.186092 \r\nL 309.186805 133.510963 \r\n\" style=\"fill:none;stroke:#1f77b4;stroke-width:1.5;\"/>\r\n    <path clip-path=\"url(#pe9dc7233bc)\" d=\"M 313.191589 128.186092 \r\nL 313.191589 169.749744 \r\n\" style=\"fill:none;stroke:#1f77b4;stroke-width:1.5;\"/>\r\n    <path clip-path=\"url(#pe9dc7233bc)\" d=\"M 317.196374 128.186092 \r\nL 317.196374 114.948311 \r\n\" style=\"fill:none;stroke:#1f77b4;stroke-width:1.5;\"/>\r\n    <path clip-path=\"url(#pe9dc7233bc)\" d=\"M 321.201159 128.186092 \r\nL 321.201159 83.37069 \r\n\" style=\"fill:none;stroke:#1f77b4;stroke-width:1.5;\"/>\r\n    <path clip-path=\"url(#pe9dc7233bc)\" d=\"M 325.205943 128.186092 \r\nL 325.205943 86.664525 \r\n\" style=\"fill:none;stroke:#1f77b4;stroke-width:1.5;\"/>\r\n    <path clip-path=\"url(#pe9dc7233bc)\" d=\"M 329.210728 128.186092 \r\nL 329.210728 114.184981 \r\n\" style=\"fill:none;stroke:#1f77b4;stroke-width:1.5;\"/>\r\n    <path clip-path=\"url(#pe9dc7233bc)\" d=\"M 333.215513 128.186092 \r\nL 333.215513 175.327125 \r\n\" style=\"fill:none;stroke:#1f77b4;stroke-width:1.5;\"/>\r\n    <path clip-path=\"url(#pe9dc7233bc)\" d=\"M 337.220298 128.186092 \r\nL 337.220298 110.971372 \r\n\" style=\"fill:none;stroke:#1f77b4;stroke-width:1.5;\"/>\r\n    <path clip-path=\"url(#pe9dc7233bc)\" d=\"M 341.225082 128.186092 \r\nL 341.225082 194.528817 \r\n\" style=\"fill:none;stroke:#1f77b4;stroke-width:1.5;\"/>\r\n    <path clip-path=\"url(#pe9dc7233bc)\" d=\"M 345.229867 128.186092 \r\nL 345.229867 126.213148 \r\n\" style=\"fill:none;stroke:#1f77b4;stroke-width:1.5;\"/>\r\n    <path clip-path=\"url(#pe9dc7233bc)\" d=\"M 349.234652 128.186092 \r\nL 349.234652 186.604908 \r\n\" style=\"fill:none;stroke:#1f77b4;stroke-width:1.5;\"/>\r\n    <path clip-path=\"url(#pe9dc7233bc)\" d=\"M 353.239436 128.186092 \r\nL 353.239436 155.579657 \r\n\" style=\"fill:none;stroke:#1f77b4;stroke-width:1.5;\"/>\r\n    <path clip-path=\"url(#pe9dc7233bc)\" d=\"M 357.244221 128.186092 \r\nL 357.244221 158.915813 \r\n\" style=\"fill:none;stroke:#1f77b4;stroke-width:1.5;\"/>\r\n    <path clip-path=\"url(#pe9dc7233bc)\" d=\"M 361.249006 128.186092 \r\nL 361.249006 152.005809 \r\n\" style=\"fill:none;stroke:#1f77b4;stroke-width:1.5;\"/>\r\n   </g>\r\n   <g id=\"line2d_15\">\r\n    <defs>\r\n     <path d=\"M 0 3 \r\nC 0.795609 3 1.55874 2.683901 2.12132 2.12132 \r\nC 2.683901 1.55874 3 0.795609 3 0 \r\nC 3 -0.795609 2.683901 -1.55874 2.12132 -2.12132 \r\nC 1.55874 -2.683901 0.795609 -3 0 -3 \r\nC -0.795609 -3 -1.55874 -2.683901 -2.12132 -2.12132 \r\nC -2.683901 -1.55874 -3 -0.795609 -3 0 \r\nC -3 0.795609 -2.683901 1.55874 -2.12132 2.12132 \r\nC -1.55874 2.683901 -0.795609 3 0 3 \r\nz\r\n\" id=\"m55aa79f420\" style=\"stroke:#1f77b4;\"/>\r\n    </defs>\r\n    <g clip-path=\"url(#pe9dc7233bc)\">\r\n     <use style=\"fill:#1f77b4;stroke:#1f77b4;\" x=\"56.885369\" xlink:href=\"#m55aa79f420\" y=\"131.223354\"/>\r\n     <use style=\"fill:#1f77b4;stroke:#1f77b4;\" x=\"60.890154\" xlink:href=\"#m55aa79f420\" y=\"183.044501\"/>\r\n     <use style=\"fill:#1f77b4;stroke:#1f77b4;\" x=\"64.894939\" xlink:href=\"#m55aa79f420\" y=\"100.10762\"/>\r\n     <use style=\"fill:#1f77b4;stroke:#1f77b4;\" x=\"68.899723\" xlink:href=\"#m55aa79f420\" y=\"124.17351\"/>\r\n     <use style=\"fill:#1f77b4;stroke:#1f77b4;\" x=\"72.904508\" xlink:href=\"#m55aa79f420\" y=\"124.422122\"/>\r\n     <use style=\"fill:#1f77b4;stroke:#1f77b4;\" x=\"76.909293\" xlink:href=\"#m55aa79f420\" y=\"129.830644\"/>\r\n     <use style=\"fill:#1f77b4;stroke:#1f77b4;\" x=\"80.914077\" xlink:href=\"#m55aa79f420\" y=\"100.056979\"/>\r\n     <use style=\"fill:#1f77b4;stroke:#1f77b4;\" x=\"84.918862\" xlink:href=\"#m55aa79f420\" y=\"135.747846\"/>\r\n     <use style=\"fill:#1f77b4;stroke:#1f77b4;\" x=\"88.923647\" xlink:href=\"#m55aa79f420\" y=\"175.499322\"/>\r\n     <use style=\"fill:#1f77b4;stroke:#1f77b4;\" x=\"92.928432\" xlink:href=\"#m55aa79f420\" y=\"120.322859\"/>\r\n     <use style=\"fill:#1f77b4;stroke:#1f77b4;\" x=\"96.933216\" xlink:href=\"#m55aa79f420\" y=\"103.784524\"/>\r\n     <use style=\"fill:#1f77b4;stroke:#1f77b4;\" x=\"100.938001\" xlink:href=\"#m55aa79f420\" y=\"23.252992\"/>\r\n     <use style=\"fill:#1f77b4;stroke:#1f77b4;\" x=\"104.942786\" xlink:href=\"#m55aa79f420\" y=\"76.65222\"/>\r\n     <use style=\"fill:#1f77b4;stroke:#1f77b4;\" x=\"108.94757\" xlink:href=\"#m55aa79f420\" y=\"108.896292\"/>\r\n     <use style=\"fill:#1f77b4;stroke:#1f77b4;\" x=\"112.952355\" xlink:href=\"#m55aa79f420\" y=\"113.916925\"/>\r\n     <use style=\"fill:#1f77b4;stroke:#1f77b4;\" x=\"116.95714\" xlink:href=\"#m55aa79f420\" y=\"129.498419\"/>\r\n     <use style=\"fill:#1f77b4;stroke:#1f77b4;\" x=\"120.961924\" xlink:href=\"#m55aa79f420\" y=\"181.307941\"/>\r\n     <use style=\"fill:#1f77b4;stroke:#1f77b4;\" x=\"124.966709\" xlink:href=\"#m55aa79f420\" y=\"141.159526\"/>\r\n     <use style=\"fill:#1f77b4;stroke:#1f77b4;\" x=\"128.971494\" xlink:href=\"#m55aa79f420\" y=\"101.587088\"/>\r\n     <use style=\"fill:#1f77b4;stroke:#1f77b4;\" x=\"132.976278\" xlink:href=\"#m55aa79f420\" y=\"114.795779\"/>\r\n     <use style=\"fill:#1f77b4;stroke:#1f77b4;\" x=\"136.981063\" xlink:href=\"#m55aa79f420\" y=\"129.134137\"/>\r\n     <use style=\"fill:#1f77b4;stroke:#1f77b4;\" x=\"140.985848\" xlink:href=\"#m55aa79f420\" y=\"148.445734\"/>\r\n     <use style=\"fill:#1f77b4;stroke:#1f77b4;\" x=\"144.990632\" xlink:href=\"#m55aa79f420\" y=\"146.164011\"/>\r\n     <use style=\"fill:#1f77b4;stroke:#1f77b4;\" x=\"148.995417\" xlink:href=\"#m55aa79f420\" y=\"132.473547\"/>\r\n     <use style=\"fill:#1f77b4;stroke:#1f77b4;\" x=\"153.000202\" xlink:href=\"#m55aa79f420\" y=\"113.652662\"/>\r\n     <use style=\"fill:#1f77b4;stroke:#1f77b4;\" x=\"157.004987\" xlink:href=\"#m55aa79f420\" y=\"122.757777\"/>\r\n     <use style=\"fill:#1f77b4;stroke:#1f77b4;\" x=\"161.009771\" xlink:href=\"#m55aa79f420\" y=\"110.106072\"/>\r\n     <use style=\"fill:#1f77b4;stroke:#1f77b4;\" x=\"165.014556\" xlink:href=\"#m55aa79f420\" y=\"182.188708\"/>\r\n     <use style=\"fill:#1f77b4;stroke:#1f77b4;\" x=\"169.019341\" xlink:href=\"#m55aa79f420\" y=\"79.3535\"/>\r\n     <use style=\"fill:#1f77b4;stroke:#1f77b4;\" x=\"173.024125\" xlink:href=\"#m55aa79f420\" y=\"137.205718\"/>\r\n     <use style=\"fill:#1f77b4;stroke:#1f77b4;\" x=\"177.02891\" xlink:href=\"#m55aa79f420\" y=\"175.039523\"/>\r\n     <use style=\"fill:#1f77b4;stroke:#1f77b4;\" x=\"181.033695\" xlink:href=\"#m55aa79f420\" y=\"127.951989\"/>\r\n     <use style=\"fill:#1f77b4;stroke:#1f77b4;\" x=\"185.038479\" xlink:href=\"#m55aa79f420\" y=\"214.756364\"/>\r\n     <use style=\"fill:#1f77b4;stroke:#1f77b4;\" x=\"189.043264\" xlink:href=\"#m55aa79f420\" y=\"67.142175\"/>\r\n     <use style=\"fill:#1f77b4;stroke:#1f77b4;\" x=\"193.048049\" xlink:href=\"#m55aa79f420\" y=\"146.265057\"/>\r\n     <use style=\"fill:#1f77b4;stroke:#1f77b4;\" x=\"197.052833\" xlink:href=\"#m55aa79f420\" y=\"117.062602\"/>\r\n     <use style=\"fill:#1f77b4;stroke:#1f77b4;\" x=\"201.057618\" xlink:href=\"#m55aa79f420\" y=\"120.512408\"/>\r\n     <use style=\"fill:#1f77b4;stroke:#1f77b4;\" x=\"205.062403\" xlink:href=\"#m55aa79f420\" y=\"122.945906\"/>\r\n     <use style=\"fill:#1f77b4;stroke:#1f77b4;\" x=\"209.067188\" xlink:href=\"#m55aa79f420\" y=\"113.606434\"/>\r\n     <use style=\"fill:#1f77b4;stroke:#1f77b4;\" x=\"213.071972\" xlink:href=\"#m55aa79f420\" y=\"138.302354\"/>\r\n     <use style=\"fill:#1f77b4;stroke:#1f77b4;\" x=\"217.076757\" xlink:href=\"#m55aa79f420\" y=\"101.475996\"/>\r\n     <use style=\"fill:#1f77b4;stroke:#1f77b4;\" x=\"221.081542\" xlink:href=\"#m55aa79f420\" y=\"174.032577\"/>\r\n     <use style=\"fill:#1f77b4;stroke:#1f77b4;\" x=\"225.086326\" xlink:href=\"#m55aa79f420\" y=\"141.32127\"/>\r\n     <use style=\"fill:#1f77b4;stroke:#1f77b4;\" x=\"229.091111\" xlink:href=\"#m55aa79f420\" y=\"152.740074\"/>\r\n     <use style=\"fill:#1f77b4;stroke:#1f77b4;\" x=\"233.095896\" xlink:href=\"#m55aa79f420\" y=\"143.133007\"/>\r\n     <use style=\"fill:#1f77b4;stroke:#1f77b4;\" x=\"237.10068\" xlink:href=\"#m55aa79f420\" y=\"166.276275\"/>\r\n     <use style=\"fill:#1f77b4;stroke:#1f77b4;\" x=\"241.105465\" xlink:href=\"#m55aa79f420\" y=\"121.68431\"/>\r\n     <use style=\"fill:#1f77b4;stroke:#1f77b4;\" x=\"245.11025\" xlink:href=\"#m55aa79f420\" y=\"124.466107\"/>\r\n     <use style=\"fill:#1f77b4;stroke:#1f77b4;\" x=\"249.115034\" xlink:href=\"#m55aa79f420\" y=\"136.672806\"/>\r\n     <use style=\"fill:#1f77b4;stroke:#1f77b4;\" x=\"253.119819\" xlink:href=\"#m55aa79f420\" y=\"131.805525\"/>\r\n     <use style=\"fill:#1f77b4;stroke:#1f77b4;\" x=\"257.124604\" xlink:href=\"#m55aa79f420\" y=\"123.675379\"/>\r\n     <use style=\"fill:#1f77b4;stroke:#1f77b4;\" x=\"261.129388\" xlink:href=\"#m55aa79f420\" y=\"124.936645\"/>\r\n     <use style=\"fill:#1f77b4;stroke:#1f77b4;\" x=\"265.134173\" xlink:href=\"#m55aa79f420\" y=\"193.754814\"/>\r\n     <use style=\"fill:#1f77b4;stroke:#1f77b4;\" x=\"269.138958\" xlink:href=\"#m55aa79f420\" y=\"110.971372\"/>\r\n     <use style=\"fill:#1f77b4;stroke:#1f77b4;\" x=\"273.143743\" xlink:href=\"#m55aa79f420\" y=\"129.719569\"/>\r\n     <use style=\"fill:#1f77b4;stroke:#1f77b4;\" x=\"277.148527\" xlink:href=\"#m55aa79f420\" y=\"17.083636\"/>\r\n     <use style=\"fill:#1f77b4;stroke:#1f77b4;\" x=\"281.153312\" xlink:href=\"#m55aa79f420\" y=\"143.555976\"/>\r\n     <use style=\"fill:#1f77b4;stroke:#1f77b4;\" x=\"285.158097\" xlink:href=\"#m55aa79f420\" y=\"164.400567\"/>\r\n     <use style=\"fill:#1f77b4;stroke:#1f77b4;\" x=\"289.162881\" xlink:href=\"#m55aa79f420\" y=\"73.566386\"/>\r\n     <use style=\"fill:#1f77b4;stroke:#1f77b4;\" x=\"293.167666\" xlink:href=\"#m55aa79f420\" y=\"136.18532\"/>\r\n     <use style=\"fill:#1f77b4;stroke:#1f77b4;\" x=\"297.172451\" xlink:href=\"#m55aa79f420\" y=\"85.600304\"/>\r\n     <use style=\"fill:#1f77b4;stroke:#1f77b4;\" x=\"301.177235\" xlink:href=\"#m55aa79f420\" y=\"101.701813\"/>\r\n     <use style=\"fill:#1f77b4;stroke:#1f77b4;\" x=\"305.18202\" xlink:href=\"#m55aa79f420\" y=\"127.957318\"/>\r\n     <use style=\"fill:#1f77b4;stroke:#1f77b4;\" x=\"309.186805\" xlink:href=\"#m55aa79f420\" y=\"133.510963\"/>\r\n     <use style=\"fill:#1f77b4;stroke:#1f77b4;\" x=\"313.191589\" xlink:href=\"#m55aa79f420\" y=\"169.749744\"/>\r\n     <use style=\"fill:#1f77b4;stroke:#1f77b4;\" x=\"317.196374\" xlink:href=\"#m55aa79f420\" y=\"114.948311\"/>\r\n     <use style=\"fill:#1f77b4;stroke:#1f77b4;\" x=\"321.201159\" xlink:href=\"#m55aa79f420\" y=\"83.37069\"/>\r\n     <use style=\"fill:#1f77b4;stroke:#1f77b4;\" x=\"325.205943\" xlink:href=\"#m55aa79f420\" y=\"86.664525\"/>\r\n     <use style=\"fill:#1f77b4;stroke:#1f77b4;\" x=\"329.210728\" xlink:href=\"#m55aa79f420\" y=\"114.184981\"/>\r\n     <use style=\"fill:#1f77b4;stroke:#1f77b4;\" x=\"333.215513\" xlink:href=\"#m55aa79f420\" y=\"175.327125\"/>\r\n     <use style=\"fill:#1f77b4;stroke:#1f77b4;\" x=\"337.220298\" xlink:href=\"#m55aa79f420\" y=\"110.971372\"/>\r\n     <use style=\"fill:#1f77b4;stroke:#1f77b4;\" x=\"341.225082\" xlink:href=\"#m55aa79f420\" y=\"194.528817\"/>\r\n     <use style=\"fill:#1f77b4;stroke:#1f77b4;\" x=\"345.229867\" xlink:href=\"#m55aa79f420\" y=\"126.213148\"/>\r\n     <use style=\"fill:#1f77b4;stroke:#1f77b4;\" x=\"349.234652\" xlink:href=\"#m55aa79f420\" y=\"186.604908\"/>\r\n     <use style=\"fill:#1f77b4;stroke:#1f77b4;\" x=\"353.239436\" xlink:href=\"#m55aa79f420\" y=\"155.579657\"/>\r\n     <use style=\"fill:#1f77b4;stroke:#1f77b4;\" x=\"357.244221\" xlink:href=\"#m55aa79f420\" y=\"158.915813\"/>\r\n     <use style=\"fill:#1f77b4;stroke:#1f77b4;\" x=\"361.249006\" xlink:href=\"#m55aa79f420\" y=\"152.005809\"/>\r\n    </g>\r\n   </g>\r\n   <g id=\"line2d_16\">\r\n    <path clip-path=\"url(#pe9dc7233bc)\" d=\"M 56.885369 128.186092 \r\nL 361.249006 128.186092 \r\n\" style=\"fill:none;stroke:#d62728;stroke-linecap:square;stroke-width:1.5;\"/>\r\n   </g>\r\n   <g id=\"patch_3\">\r\n    <path d=\"M 41.667188 224.64 \r\nL 41.667188 7.2 \r\n\" style=\"fill:none;stroke:#000000;stroke-linecap:square;stroke-linejoin:miter;stroke-width:0.8;\"/>\r\n   </g>\r\n   <g id=\"patch_4\">\r\n    <path d=\"M 376.467188 224.64 \r\nL 376.467188 7.2 \r\n\" style=\"fill:none;stroke:#000000;stroke-linecap:square;stroke-linejoin:miter;stroke-width:0.8;\"/>\r\n   </g>\r\n   <g id=\"patch_5\">\r\n    <path d=\"M 41.667188 224.64 \r\nL 376.467187 224.64 \r\n\" style=\"fill:none;stroke:#000000;stroke-linecap:square;stroke-linejoin:miter;stroke-width:0.8;\"/>\r\n   </g>\r\n   <g id=\"patch_6\">\r\n    <path d=\"M 41.667188 7.2 \r\nL 376.467187 7.2 \r\n\" style=\"fill:none;stroke:#000000;stroke-linecap:square;stroke-linejoin:miter;stroke-width:0.8;\"/>\r\n   </g>\r\n  </g>\r\n </g>\r\n <defs>\r\n  <clipPath id=\"pe9dc7233bc\">\r\n   <rect height=\"217.44\" width=\"334.8\" x=\"41.667188\" y=\"7.2\"/>\r\n  </clipPath>\r\n </defs>\r\n</svg>\r\n",
      "image/png": "[encoded data removed]"
     },
     "metadata": {
      "needs_background": "light"
     }
    }
   ],
   "metadata": {}
  },
  {
   "cell_type": "markdown",
   "source": [
    "## L1-Regularization\n",
    "\n",
    "This section is bonus.\n",
    "\n",
    "In most genetic problems, only a limited number of the tested genes are likely influence any particular attribute.  Hence, we would expect that the weight coefficients in the logistic regression model should be sparse.  That is, they should be zero on any gene that plays no role in the particular attribute of interest.  Genetic analysis commonly imposes sparsity by adding an l1-penalty term.  Read the `sklearn` [documentation](http://scikit-learn.org/stable/modules/generated/sklearn.linear_model.LogisticRegression.html) on the `LogisticRegression` class to see how to set the l1-penalty and the inverse regularization strength, `C`.\n",
    "\n",
    "Using the model selection strategies from the [housing demo](../unit05_lasso/demo2_housing.ipynb), use K-fold cross validation to select an appropriate inverse regularization strength.  \n",
    "* Use 10-fold cross validation \n",
    "* You should select around 20 values of `C`.  It is up to you find a good range.\n",
    "* Make appropriate plots and print out to display your results\n",
    "* How does the accuracy compare to the accuracy achieved without regularization."
   ],
   "metadata": {
    "collapsed": true
   }
  },
  {
   "cell_type": "code",
   "execution_count": 162,
   "source": [
    "# TODO"
   ],
   "outputs": [],
   "metadata": {}
  },
  {
   "cell_type": "code",
   "execution_count": null,
   "source": [],
   "outputs": [],
   "metadata": {
    "collapsed": true
   }
  }
 ],
 "metadata": {
  "anaconda-cloud": {},
  "kernelspec": {
   "name": "python3",
   "display_name": "Python 3.8.8 64-bit ('base': conda)"
  },
  "language_info": {
   "codemirror_mode": {
    "name": "ipython",
    "version": 3
   },
   "file_extension": ".py",
   "mimetype": "text/x-python",
   "name": "python",
   "nbconvert_exporter": "python",
   "pygments_lexer": "ipython3",
   "version": "3.8.8"
  },
  "interpreter": {
   "hash": "cb933b75c3113f96b7f71a67df95a9f5e58f40260f028aa6f0369a01be9c900d"
  }
 },
 "nbformat": 4,
 "nbformat_minor": 1
}