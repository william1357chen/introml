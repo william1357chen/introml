{
  "nbformat": 4,
  "nbformat_minor": 0,
  "metadata": {
    "colab": {
      "name": "unit3_nl_transforms",
      "provenance": []
    },
    "kernelspec": {
      "name": "python3",
      "display_name": "Python 3"
    },
    "language_info": {
      "name": "python"
    }
  },
  "cells": [
    {
      "cell_type": "markdown",
      "metadata": {
        "id": "_yaOU4sL_Y2-"
      },
      "source": [
        "## In-Class Demo:  Non-Linear Transforms  (Class from 9/23/2021)\n",
        "\n",
        "In this demo, I showed how to structure code to use a linear transformation.  Going through this demo, you will learn to:\n",
        "\n",
        "* Define a `transform` function \n",
        "* Use the transform function on the training and test\n",
        "* Use the transform funciton on new points\n",
        "\n",
        "We first import the standard packages."
      ]
    },
    {
      "cell_type": "code",
      "metadata": {
        "id": "OvoeGW0FbBl2"
      },
      "source": [
        "import numpy as np\n",
        "import matplotlib.pyplot as plt"
      ],
      "execution_count": 1,
      "outputs": []
    },
    {
      "cell_type": "code",
      "metadata": {
        "colab": {
          "base_uri": "https://localhost:8080/",
          "height": 265
        },
        "id": "Ep-dp1epbJ2Y",
        "outputId": "0ccc3ad2-29c3-456a-f404-1bccb07e950b"
      },
      "source": [
        "# Create some synthetic data\n",
        "nsamp = 100\n",
        "x = np.random.uniform(0,5,nsamp)\n",
        "y = x*np.exp(-x)\n",
        "plt.plot(x,y,'o')\n",
        "plt.grid()"
      ],
      "execution_count": 4,
      "outputs": [
        {
          "output_type": "display_data",
          "data": {
            "image/png": "[encoded data removed]",
            "text/plain": [
              "<Figure size 432x288 with 1 Axes>"
            ]
          },
          "metadata": {
            "needs_background": "light"
          }
        }
      ]
    },
    {
      "cell_type": "markdown",
      "metadata": {
        "id": "JBmW2TlR_3vu"
      },
      "source": [
        "In general, a transformed model is of the form:\n",
        "```\n",
        "    yhat = \\sum_{j=1}^p beta[j]*\\phi_j(x)\n",
        "```\n",
        "where `phi_j(x)` is the `j`-th basis function.  We can write this as\n",
        "```\n",
        "    yhat = beta[j]*z[j],   z[j] = \\phi_j(x).\n",
        "```\n",
        "To fit such a model in python, we write a function `transform` that maps the data matrix `X` to a tranformed features `Z`:\n",
        "```\n",
        "    Z[i,j] = \\phi_j(X[i])\n",
        "```\n",
        "which is the transform feature for the `i`-th sample.\n",
        "\n",
        "As an example, suppose we want to use polynomial model:\n",
        "```\n",
        "  Z[i,j] = x[i]**j,   j = 0,...,d.\n",
        "```\n",
        "The tranform function is then given as follows:"
      ]
    },
    {
      "cell_type": "code",
      "metadata": {
        "id": "Lraicw4zbVSf"
      },
      "source": [
        "def transform(x, d):\n",
        "  \"\"\"\n",
        "  Creates the transform data matrix. \n",
        "  In this case, we create a matrix Z[:,i] = x**i\n",
        "  i = 0,...,d\n",
        "  for polynomial fitting\n",
        "  \"\"\"\n",
        "  n = len(x)\n",
        "  Z = np.zeros((n,d+1))\n",
        "\n",
        "  # Slow way:\n",
        "  for i in range(d+1):\n",
        "    Z[:,i] = x**i\n",
        "\n",
        "  return Z\n"
      ],
      "execution_count": 6,
      "outputs": []
    },
    {
      "cell_type": "code",
      "metadata": {
        "colab": {
          "base_uri": "https://localhost:8080/"
        },
        "id": "e6W8vVKZcE9V",
        "outputId": "d8555b74-bbe4-4c38-e5ce-a4e7c604cef2"
      },
      "source": [
        "# Split data into train and test\n",
        "from sklearn.model_selection import train_test_split\n",
        "Xtr, Xts, ytr, yts = train_test_split(x,y, test_size=0.5, shuffle=True)\n",
        "\n",
        "# Transform the train and test\n",
        "d = 4\n",
        "Ztr = transform(Xtr,d)\n",
        "Zts = transform(Xts,d)"
      ],
      "execution_count": 10,
      "outputs": [
        {
          "output_type": "execute_result",
          "data": {
            "text/plain": [
              "(50, 5)"
            ]
          },
          "metadata": {},
          "execution_count": 10
        }
      ]
    },
    {
      "cell_type": "markdown",
      "metadata": {
        "id": "7wUrxZiyBYq6"
      },
      "source": [
        ""
      ]
    },
    {
      "cell_type": "code",
      "metadata": {
        "colab": {
          "base_uri": "https://localhost:8080/"
        },
        "id": "WoWjKjQNcJil",
        "outputId": "1afbd91b-dea0-41b0-d090-7baff73a219e"
      },
      "source": [
        "# Fit a linear model from the transform features Ztr to ytr\n",
        "from sklearn import linear_model\n",
        "reg = linear_model.LinearRegression()\n",
        "reg.fit(Ztr,ytr)  \n",
        "\n",
        "# Find the MSE on the transformed data\n",
        "yhat = reg.predict(Zts)\n",
        "mse = np.mean((yhat-yts)**2)\n",
        "print('Test MSE = %12.4e' % mse)"
      ],
      "execution_count": 11,
      "outputs": [
        {
          "output_type": "stream",
          "name": "stdout",
          "text": [
            "Test MSE =   2.0375e-04\n"
          ]
        }
      ]
    },
    {
      "cell_type": "code",
      "metadata": {
        "colab": {
          "base_uri": "https://localhost:8080/",
          "height": 282
        },
        "id": "QBs4puIpcoMO",
        "outputId": "075046ea-ce4b-464e-dc29-eff1ff2e2ab6"
      },
      "source": [
        "# We can also predict the values xp from [0,5]:\n",
        "xp = np.linspace(0,5,100)\n",
        "Zp = transform(xp,d)\n",
        "yhatp = reg.predict(Zp)\n",
        "\n",
        "plt.plot(x,y,'o')\n",
        "plt.plot(xp,yhatp,lw=2)\n",
        "plt.grid()\n",
        "plt.legend(['fit', 'data'])"
      ],
      "execution_count": 14,
      "outputs": [
        {
          "output_type": "execute_result",
          "data": {
            "text/plain": [
              "<matplotlib.legend.Legend at 0x7f70e80817d0>"
            ]
          },
          "metadata": {},
          "execution_count": 14
        },
        {
          "output_type": "display_data",
          "data": {
            "image/png": "[encoded data removed]",
            "text/plain": [
              "<Figure size 432x288 with 1 Axes>"
            ]
          },
          "metadata": {
            "needs_background": "light"
          }
        }
      ]
    },
    {
      "cell_type": "code",
      "metadata": {
        "colab": {
          "base_uri": "https://localhost:8080/",
          "height": 268
        },
        "id": "RhGPLi_wc1LG",
        "outputId": "761f65d7-e555-4ba1-c1c8-8a5e1e0d288a"
      },
      "source": [
        "# Predict on some new points\n",
        "xts = np.linspace(0,6,100)\n",
        "Zts = transform(xts,d)\n",
        "yhat_ts = reg.predict(Zts)\n",
        "\n",
        "plt.plot(xts, yhat_ts)\n",
        "plt.plot(x,y,'o')\n",
        "plt.grid()"
      ],
      "execution_count": null,
      "outputs": [
        {
          "output_type": "display_data",
          "data": {
            "image/png": "[encoded data removed]",
            "text/plain": [
              "<Figure size 432x288 with 1 Axes>"
            ]
          },
          "metadata": {
            "needs_background": "light"
          }
        }
      ]
    },
    {
      "cell_type": "code",
      "metadata": {
        "id": "3jhJR6KkdJgf"
      },
      "source": [
        ""
      ],
      "execution_count": null,
      "outputs": []
    }
  ]
}