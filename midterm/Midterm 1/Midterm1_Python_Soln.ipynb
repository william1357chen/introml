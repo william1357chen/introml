{
 "cells": [
  {
   "cell_type": "markdown",
   "id": "26cae3ab",
   "metadata": {},
   "source": [
    "# Midterm 1:  Python Problems\n",
    "\n",
    "\n",
    "There are three python problems.  Answer all the sections marked `#TODO`.  Print to PDF.  Submit the PDF only. "
   ]
  },
  {
   "cell_type": "markdown",
   "id": "77f95933",
   "metadata": {},
   "source": [
    "## Loading Packages and Data\n",
    "\n",
    "For the problems, you can use the following packages"
   ]
  },
  {
   "cell_type": "code",
   "execution_count": 231,
   "id": "f118a9bc",
   "metadata": {},
   "outputs": [],
   "source": [
    "import numpy as np\n",
    "import matplotlib.pyplot as plt\n",
    "from sklearn.model_selection import train_test_split\n",
    "from sklearn.linear_model import LinearRegression\n",
    "import pickle"
   ]
  },
  {
   "cell_type": "markdown",
   "id": "59a49e4a",
   "metadata": {},
   "source": [
    "Run the following code to download the data for the midterm.  This will retrieve three files -- one for each problem."
   ]
  },
  {
   "cell_type": "code",
   "execution_count": 232,
   "id": "03ad6c0b",
   "metadata": {},
   "outputs": [
    {
     "name": "stdout",
     "output_type": "stream",
     "text": [
      "prob_linear.p loaded\n",
      "prob_model.p loaded\n",
      "prob_logistic.p loaded\n"
     ]
    }
   ],
   "source": [
    "import requests\n",
    "\n",
    "def download_file_from_google_drive(id, destination):\n",
    "    URL = \"https://docs.google.com/uc?export=download\"\n",
    "\n",
    "    session = requests.Session()\n",
    "\n",
    "    response = session.get(URL, params = { 'id' : id }, stream = True)\n",
    "    token = get_confirm_token(response)\n",
    "\n",
    "    if token:\n",
    "        params = { 'id' : id, 'confirm' : token }\n",
    "        response = session.get(URL, params = params, stream = True)\n",
    "\n",
    "    save_response_content(response, destination)    \n",
    "\n",
    "def get_confirm_token(response):\n",
    "    for key, value in response.cookies.items():\n",
    "        if key.startswith('download_warning'):\n",
    "            return value\n",
    "\n",
    "    return None\n",
    "\n",
    "def save_response_content(response, destination):\n",
    "    CHUNK_SIZE = 32768\n",
    "\n",
    "    with open(destination, \"wb\") as f:\n",
    "        for chunk in response.iter_content(CHUNK_SIZE):\n",
    "            if chunk: # filter out keep-alive new chunks\n",
    "                f.write(chunk)\n",
    "                \n",
    "file_path = 'https://drive.google.com/file/d/10_1PxDIoSiuuOFC_iyVaoU9bDiQYHcTT/view?usp=sharing'\n",
    "file_id = '10_1PxDIoSiuuOFC_iyVaoU9bDiQYHcTT'\n",
    "\n",
    "dst = 'midterm_data.zip'\n",
    "download_file_from_google_drive(file_id, dst)\n",
    "\n",
    "\n",
    "# Unzip the files\n",
    "import zipfile\n",
    "with zipfile.ZipFile(dst, 'r') as zip_ref:\n",
    "    zip_ref.extractall('data')\n",
    "    \n",
    "    \n",
    "# Move them to the top directory\n",
    "import shutil\n",
    "for fn in ['prob_linear.p', 'prob_model.p', 'prob_logistic.p']:\n",
    "    src = 'data/midterm1_data/%s' % fn\n",
    "    shutil.move(src, fn)\n",
    "    print('%s loaded' % fn)"
   ]
  },
  {
   "cell_type": "markdown",
   "id": "609114f0",
   "metadata": {},
   "source": [
    "## Problem 1.  Linear Regression"
   ]
  },
  {
   "cell_type": "markdown",
   "id": "91f9e3cd",
   "metadata": {},
   "source": [
    "### Data Generation\n",
    "This is how the data was generated."
   ]
  },
  {
   "cell_type": "code",
   "execution_count": 197,
   "id": "fa62c231",
   "metadata": {},
   "outputs": [],
   "source": [
    "n = 500\n",
    "d = 2\n",
    "X = np.random.uniform(-1,1,(n,d))\n",
    "z = 5*(X[:,0] + X[:,1])\n",
    "y = 1/(1 + np.exp(-z))\n",
    "#y = y + np.random.normal(0,0.1,n)\n",
    "\n",
    "with open('prob_linear.p', 'wb') as fp:\n",
    "    pickle.dump([X,y], fp)"
   ]
  },
  {
   "cell_type": "markdown",
   "id": "36cea115",
   "metadata": {},
   "source": [
    "Run the following code to load the data"
   ]
  },
  {
   "cell_type": "code",
   "execution_count": 213,
   "id": "09572e13",
   "metadata": {},
   "outputs": [],
   "source": [
    "with open('prob_linear.p', 'rb') as fp:\n",
    "    X,y = pickle.load(fp)"
   ]
  },
  {
   "cell_type": "markdown",
   "id": "7e92fc43",
   "metadata": {},
   "source": [
    "Split the data into training and test.  You may use the `train_test_split` function."
   ]
  },
  {
   "cell_type": "code",
   "execution_count": 214,
   "id": "11052255",
   "metadata": {},
   "outputs": [],
   "source": [
    "# TODO\n",
    "#    Xtr, Xts, ytr, yts = train_test_split(...)\n",
    "Xtr, Xts, ytr, yts = train_test_split(X,y,test_size=0.5)"
   ]
  },
  {
   "cell_type": "markdown",
   "id": "a1e59e2b",
   "metadata": {},
   "source": [
    "Suppose we want to fit a model of the form:\n",
    "\n",
    "    yhat[i] = b + w[0]*X[i,0] + w[1]*X[i,1] + w[2]*X[i,0]*X[i,1] + w[3]*X[i,0]**2 + w[4]*X[i,1]**2\n",
    "    \n",
    "Complete the function `transform` below that creates a matrix `Z` whose columns are the basis functions for this model.  You may use the `np.column_stack()` function.  For example,\n",
    "\n",
    "    Z = np.column_stack((col1, col2, col3))\n",
    "    \n",
    "creates a matrix `Z` with columns `col1`, `col2`, and `col3`."
   ]
  },
  {
   "cell_type": "code",
   "execution_count": 215,
   "id": "6f764ddf",
   "metadata": {},
   "outputs": [],
   "source": [
    "def transform(X):\n",
    "    # TODO\n",
    "    #   Z = ...\n",
    "    Z = np.column_stack((X[:,0], X[:,1], X[:,0]*X[:,1], X[:,0]**2, X[:,1]**2))\n",
    "    return Z\n"
   ]
  },
  {
   "cell_type": "markdown",
   "id": "5d15c90a",
   "metadata": {},
   "source": [
    "Now fit and evaluate the model:\n",
    "\n",
    "* Fit the model on the training data.  You may use the `LinearRegression` object and the `transform` function above.\n",
    "* Predict the values `y` on the test data\n",
    "* Print the test MSE \n"
   ]
  },
  {
   "cell_type": "code",
   "execution_count": 216,
   "id": "a3aa389c",
   "metadata": {},
   "outputs": [
    {
     "name": "stdout",
     "output_type": "stream",
     "text": [
      "Test MSE =   2.3523e-02\n"
     ]
    }
   ],
   "source": [
    "\n",
    "# TODO\n",
    "\n",
    "Ztr = transform(Xtr)\n",
    "Zts = transform(Xts)\n",
    "\n",
    "reg = LinearRegression()\n",
    "reg.fit(Ztr, ytr)\n",
    "\n",
    "yhat = reg.predict(Zts)\n",
    "mse = np.mean((yhat-yts)**2)\n",
    "print('Test MSE = %12.4e' % mse)"
   ]
  },
  {
   "cell_type": "code",
   "execution_count": null,
   "id": "82e5a7e6",
   "metadata": {},
   "outputs": [],
   "source": []
  },
  {
   "cell_type": "markdown",
   "id": "89b0489b",
   "metadata": {},
   "source": [
    "## Problem 2.  Model Selection"
   ]
  },
  {
   "cell_type": "markdown",
   "id": "91e00b75",
   "metadata": {},
   "source": [
    "Data generation"
   ]
  },
  {
   "cell_type": "code",
   "execution_count": 233,
   "id": "e07a3f22",
   "metadata": {},
   "outputs": [],
   "source": [
    "# Genreate inputs\n",
    "n1 = 100\n",
    "x0 = np.linspace(0,3,n1)\n",
    "x1 = np.linspace(0,3,n1)\n",
    "X = np.column_stack((x0, x1))\n",
    "\n",
    "# Generate outputs for the data\n",
    "sig = 0.2\n",
    "y0 = 3 -   2*np.exp(-x0)\n",
    "y1 = 3 - 1.5*np.exp(-x1)\n",
    "y0 = y0 + np.random.normal(0,sig,n1) \n",
    "y1 = y1 + np.random.normal(0,sig,n1) \n",
    "Y = np.column_stack((y0, y1))\n",
    "\n",
    "# Split each into training and test\n",
    "ntr = int(0.5*n1)\n",
    "nts = n1 - ntr\n",
    "nexp = 2\n",
    "Xtr = np.zeros((ntr,nexp))\n",
    "Xts = np.zeros((ntr,nexp))\n",
    "Ytr = np.zeros((ntr,nexp))\n",
    "Yts = np.zeros((ntr,nexp))\n",
    "\n",
    "for i in range(nexp):\n",
    "    Xtr[:,i], Xts[:,i], Ytr[:,i], Yts[:,i] = train_test_split(X[:,i], Y[:,i],test_size=0.5)\n",
    "\n",
    "with open('prob_model.p', 'wb') as fp:\n",
    "    pickle.dump([Xtr, Xts, Ytr, Yts], fp)"
   ]
  },
  {
   "cell_type": "markdown",
   "id": "bb9b5c19",
   "metadata": {},
   "source": [
    "You are given data from two experiments:\n",
    "\n",
    "*  `Xtr[:,0], Ytr[:,0]` is the training data from experiment 0\n",
    "*  `Xtr[:,1], Ytr[:,1]` is the training data from experiment 1\n",
    "*  `Xts[:,0], Yts[:,0]` is the test data from experiment 0\n",
    "*  `Xts[:,1], Yts[:,1]` is the test data from experiment 1\n",
    "\n",
    "The code below loads and plots the data for each experiment."
   ]
  },
  {
   "cell_type": "code",
   "execution_count": 234,
   "id": "aaae62a4",
   "metadata": {},
   "outputs": [
    {
     "data": {
      "image/png": "[encoded data removed]",
      "text/plain": [
       "<Figure size 432x288 with 1 Axes>"
      ]
     },
     "metadata": {
      "needs_background": "light"
     },
     "output_type": "display_data"
    }
   ],
   "source": [
    "with open('prob_model.p', 'rb') as fp:\n",
    "    Xtr, Xts, Ytr, Yts = pickle.load(fp)\n",
    "    \n",
    "\n",
    "plt.plot(Xtr[:,0], Ytr[:,0], 'o')\n",
    "plt.plot(Xtr[:,1], Ytr[:,1], 'o')\n",
    "plt.legend(['Exp 0', 'Exp 1'])\n",
    "plt.xlabel('x')\n",
    "plt.ylabel('y')\n",
    "plt.grid()"
   ]
  },
  {
   "cell_type": "markdown",
   "id": "2a6ab34e",
   "metadata": {},
   "source": [
    "You want to learn the relation between `y` vs. `x`. \n",
    "\n",
    "First, fit two *separate* models for each experiment of the form:\n",
    "    \n",
    "     Y[:,0] ~= a0 + b0*exp(-X[:,0])\n",
    "     Y[:,1] ~= a1 + b1*exp(-X[:,1])\n",
    "    \n",
    " \n",
    "For the data in each experiment, fit the model and pint the test MSE.\n",
    "\n",
    "You may use the `LinearRegression` function for the fitting. But, if `z` is a vector (not a matrix), you cannot use:\n",
    "\n",
    "     reg = LinearRegression()\n",
    "     reg.fit(z, y)   # WILL NOT WORK if z is a vector.\n",
    "     \n",
    "You must reshape `z` to a `n x 1` matrix first:\n",
    "\n",
    "     reg = LinearRegression()\n",
    "     reg.fit(z[:,None], y)   # This will work\n"
   ]
  },
  {
   "cell_type": "code",
   "execution_count": 235,
   "id": "2664daa4",
   "metadata": {},
   "outputs": [
    {
     "name": "stdout",
     "output_type": "stream",
     "text": [
      "Test MSE Exp 0 =   2.7241e-02\n",
      "Test MSE Exp 1 =   4.5369e-02\n",
      "Avg test MSE   =   3.6305e-02\n"
     ]
    }
   ],
   "source": [
    "nexp = Xtr.shape[1]\n",
    "mse = np.zeros(nexp)\n",
    "for i in range(nexp):\n",
    "    \n",
    "    # Transform the data\n",
    "    ztr = np.exp(-Xtr[:,i])[:,None]\n",
    "    zts = np.exp(-Xts[:,i])[:,None]\n",
    "    \n",
    "    # Fit the model on the training data\n",
    "    reg = LinearRegression()\n",
    "    reg.fit(ztr, Ytr[:,i])\n",
    "    \n",
    "    # Measure the MSE\n",
    "    yhat = reg.predict(zts)\n",
    "    mse[i] = np.mean((yhat-Yts[:,i])**2)\n",
    "    \n",
    "    print('Test MSE Exp %d = %12.4e' % (i, mse[i]))\n",
    "    \n",
    "print('Avg test MSE   = %12.4e' % np.mean(mse))\n"
   ]
  },
  {
   "cell_type": "markdown",
   "id": "3f7f23e0",
   "metadata": {},
   "source": [
    "Now, fit a model of the form:\n",
    "\n",
    "     Y[:,0] = a + b0*exp(-X[:,0])\n",
    "     Y[:,1] = a + b1*exp(-X[:,1])\n",
    "     \n",
    "So, the two experiments have the same  intercept term.  Fit the model on the training data and measure the test MSE.\n",
    "\n",
    "For training, you will want to combine the data into a single feature matrix `Z` using `Xtr[:,0]` and `Xts[:,1]` and single target vector `b` from `Ytr[:,0]` and `Ytr[:,1]`.  \n"
   ]
  },
  {
   "cell_type": "code",
   "execution_count": 236,
   "id": "2020f181",
   "metadata": {},
   "outputs": [
    {
     "name": "stdout",
     "output_type": "stream",
     "text": [
      "MSE =   3.6298e-02\n"
     ]
    }
   ],
   "source": [
    "# TODO \n",
    "\n",
    "def transform(X,Y):\n",
    "\n",
    "    n = X.shape[0]\n",
    "    Z1 = np.column_stack((np.exp(-X[:,0]), np.zeros(n)))\n",
    "    Z2 = np.column_stack((np.zeros(n), np.exp(-X[:,1])))\n",
    "    Z = np.vstack((Z1, Z2))\n",
    "    \n",
    "    b = np.hstack((Y[:,0], Y[:,1]))\n",
    "    return Z, b\n",
    "\n",
    "Ztr, btr = transform(Xtr, Ytr)\n",
    "Zts, bts = transform(Xts, Yts)\n",
    "\n",
    "# Fit the model on the training data\n",
    "reg = LinearRegression()\n",
    "reg.fit(Ztr, btr)\n",
    "\n",
    "# Measure the MSE\n",
    "bhat = reg.predict(Zts)\n",
    "mse = np.mean((bhat-bts)**2)\n",
    "\n",
    "print('MSE = %12.4e' % mse)\n",
    "\n"
   ]
  },
  {
   "cell_type": "code",
   "execution_count": null,
   "id": "a6b7d771",
   "metadata": {},
   "outputs": [],
   "source": []
  },
  {
   "cell_type": "markdown",
   "id": "875a1477",
   "metadata": {},
   "source": [
    "## Problem 3.  Logistic Regression"
   ]
  },
  {
   "cell_type": "markdown",
   "id": "77304a06",
   "metadata": {},
   "source": [
    "Data generation"
   ]
  },
  {
   "cell_type": "code",
   "execution_count": 195,
   "id": "3b8412fe",
   "metadata": {},
   "outputs": [],
   "source": [
    "n0 = 200\n",
    "n1 = 200\n",
    "d = 2\n",
    "y = np.random.randint(0,2,n)\n",
    "\n",
    "# Samples for y=0\n",
    "X0 = np.random.normal(0,0.3,(n0,d))\n",
    "\n",
    "# Sample for y=1\n",
    "theta = np.random.uniform(-0.8*np.pi/2,0.8*np.pi/2,n1)\n",
    "X1 = np.column_stack((np.cos(theta), np.sin(theta)))\n",
    "X1 = X1 + np.random.normal(0,0.2,(n1,d))\n",
    "\n",
    "X = np.vstack((X0, X1))\n",
    "y = np.hstack((np.zeros(n0), np.ones(n1)))\n",
    "\n",
    "n = n0 + n1\n",
    "I = np.random.permutation(n)\n",
    "X = X[I]\n",
    "y = y[I]\n",
    "\n",
    "with open('prob_logistic.p', 'wb') as fp:\n",
    "    pickle.dump([X, y], fp)"
   ]
  },
  {
   "cell_type": "markdown",
   "id": "d01f88ed",
   "metadata": {},
   "source": [
    "Run the following code to load the data as follows:"
   ]
  },
  {
   "cell_type": "code",
   "execution_count": 221,
   "id": "c4ef5843",
   "metadata": {},
   "outputs": [],
   "source": [
    "with open('prob_logistic.p', 'rb') as fp:\n",
    "    X,y = pickle.load(fp)"
   ]
  },
  {
   "cell_type": "markdown",
   "id": "59560bb9",
   "metadata": {},
   "source": [
    "Plot a scatter plot of the data with different colors for the two classes.  You may use the `plt.scatter` function."
   ]
  },
  {
   "cell_type": "code",
   "execution_count": 222,
   "id": "d8c685dd",
   "metadata": {},
   "outputs": [
    {
     "data": {
      "image/png": "[encoded data removed]",
      "text/plain": [
       "<Figure size 432x288 with 1 Axes>"
      ]
     },
     "metadata": {
      "needs_background": "light"
     },
     "output_type": "display_data"
    }
   ],
   "source": [
    "# TODO\n",
    "plt.scatter(X[:,0], X[:,1], c=y)\n",
    "plt.grid()"
   ]
  },
  {
   "cell_type": "markdown",
   "id": "e1b43c0a",
   "metadata": {},
   "source": [
    "Split the data into training and test.  You may use the `train_test_split` method.  Use `test_size=0.5`."
   ]
  },
  {
   "cell_type": "code",
   "execution_count": 223,
   "id": "0ef4de17",
   "metadata": {},
   "outputs": [],
   "source": [
    "Xtr, Xts, ytr, yts = train_test_split(X,y,test_size=0.5)"
   ]
  },
  {
   "cell_type": "markdown",
   "id": "5029b8c7",
   "metadata": {},
   "source": [
    "Consider a classifier of the form:\n",
    "\n",
    "    yhat[i] = 1 when z[i] > t\n",
    "    yhat[i] = 0 when z[i] <= t\n",
    "         \n",
    "where `z[i] = X[i,0] + np.abs(X[i,1])`.\n",
    "         \n",
    "For each value `t` in `ttest`, compute the accuracy of the classifier on the *training* data. \n",
    "Plot the training accuracy as a function of `t`."
   ]
  },
  {
   "cell_type": "code",
   "execution_count": 194,
   "id": "cc6a4515",
   "metadata": {},
   "outputs": [
    {
     "data": {
      "image/png": "[encoded data removed]",
      "text/plain": [
       "<Figure size 432x288 with 1 Axes>"
      ]
     },
     "metadata": {
      "needs_background": "light"
     },
     "output_type": "display_data"
    }
   ],
   "source": [
    "ttest = np.linspace(0,2,100)\n",
    "\n",
    "# TODO\n",
    "acc = []\n",
    "for t in ttest:\n",
    "    yhat = (Xtr[:,0] + np.abs(Xtr[:,1]) > t)\n",
    "    acci = np.mean(yhat == ytr)\n",
    "    acc.append(acci)\n",
    "acc = np.array(acc)\n",
    "\n",
    "plt.plot(ttest, acc)\n",
    "plt.xlabel('Threshold t')\n",
    "plt.ylabel('Train accuracy')\n",
    "plt.grid()"
   ]
  },
  {
   "cell_type": "markdown",
   "id": "1b67dd95",
   "metadata": {},
   "source": [
    "Find the value of `t` with the highest training accuracy.  Print the test accuracy for the classifier with that value of `t`."
   ]
  },
  {
   "cell_type": "code",
   "execution_count": 192,
   "id": "092c03f6",
   "metadata": {},
   "outputs": [
    {
     "name": "stdout",
     "output_type": "stream",
     "text": [
      "0.965\n"
     ]
    }
   ],
   "source": [
    "# TODO: \n",
    "#    topt = ...\n",
    "im = np.argmax(acc)\n",
    "topt = ttest[im]\n",
    "\n",
    "# TODO.\n",
    "#    acc_ts = ...\n",
    "yhat = (Xts[:,0] +  np.abs(Xts[:,1]) > topt)\n",
    "acc_ts = np.mean(yhat == yts)\n",
    "print(acc_ts)\n"
   ]
  },
  {
   "cell_type": "code",
   "execution_count": null,
   "id": "7f486949",
   "metadata": {},
   "outputs": [],
   "source": []
  },
  {
   "cell_type": "code",
   "execution_count": null,
   "id": "364fe624",
   "metadata": {},
   "outputs": [],
   "source": []
  }
 ],
 "metadata": {
  "kernelspec": {
   "display_name": "Python 3 (ipykernel)",
   "language": "python",
   "name": "python3"
  },
  "language_info": {
   "codemirror_mode": {
    "name": "ipython",
    "version": 3
   },
   "file_extension": ".py",
   "mimetype": "text/x-python",
   "name": "python",
   "nbconvert_exporter": "python",
   "pygments_lexer": "ipython3",
   "version": "3.8.11"
  }
 },
 "nbformat": 4,
 "nbformat_minor": 5
}
