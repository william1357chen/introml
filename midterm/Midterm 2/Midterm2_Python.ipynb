{
 "cells": [
  {
   "cell_type": "markdown",
   "id": "26cae3ab",
   "metadata": {},
   "source": [
    "# Midterm 2:  Python Problems\n",
    "\n",
    "\n",
    "There are three python problems.  Answer all the sections marked `#TODO`.  Print to PDF.  Submit the PDF only. "
   ]
  },
  {
   "cell_type": "markdown",
   "id": "77f95933",
   "metadata": {},
   "source": [
    "## Loading Packages and Data\n",
    "\n",
    "For the problems, you can use the following packages"
   ]
  },
  {
   "cell_type": "code",
   "execution_count": 22,
   "id": "f118a9bc",
   "metadata": {},
   "outputs": [],
   "source": [
    "import numpy as np\n",
    "import matplotlib.pyplot as plt\n",
    "import pickle"
   ]
  },
  {
   "cell_type": "markdown",
   "id": "59a49e4a",
   "metadata": {},
   "source": [
    "Run the following code to download the data for the midterm.  This will retrieve three files -- one for each problem."
   ]
  },
  {
   "cell_type": "code",
   "execution_count": 23,
   "id": "03ad6c0b",
   "metadata": {},
   "outputs": [
    {
     "name": "stdout",
     "output_type": "stream",
     "text": [
      "prob_opt.p loaded\n",
      "prob_svm.p loaded\n",
      "prob_nn.p loaded\n"
     ]
    }
   ],
   "source": [
    "import requests\n",
    "\n",
    "def download_file_from_google_drive(id, destination):\n",
    "    URL = \"https://docs.google.com/uc?export=download\"\n",
    "\n",
    "    session = requests.Session()\n",
    "\n",
    "    response = session.get(URL, params = { 'id' : id }, stream = True)\n",
    "    token = get_confirm_token(response)\n",
    "\n",
    "    if token:\n",
    "        params = { 'id' : id, 'confirm' : token }\n",
    "        response = session.get(URL, params = params, stream = True)\n",
    "\n",
    "    save_response_content(response, destination)    \n",
    "\n",
    "def get_confirm_token(response):\n",
    "    for key, value in response.cookies.items():\n",
    "        if key.startswith('download_warning'):\n",
    "            return value\n",
    "\n",
    "    return None\n",
    "\n",
    "def save_response_content(response, destination):\n",
    "    CHUNK_SIZE = 32768\n",
    "\n",
    "    with open(destination, \"wb\") as f:\n",
    "        for chunk in response.iter_content(CHUNK_SIZE):\n",
    "            if chunk: # filter out keep-alive new chunks\n",
    "                f.write(chunk)\n",
    "                \n",
    "file_path = 'https://drive.google.com/file/d/1lGITFTWO4MJ-BcHnfgj5tWFNtMOO6r53/view?usp=sharing'\n",
    "                \n",
    "file_path = 'https://drive.google.com/file/d/10_1PxDIoSiuuOFC_iyVaoU9bDiQYHcTT/view?usp=sharing'\n",
    "file_id = '1lGITFTWO4MJ-BcHnfgj5tWFNtMOO6r53'\n",
    "\n",
    "dst = 'midterm_data.zip'\n",
    "download_file_from_google_drive(file_id, dst)\n",
    "\n",
    "\n",
    "# Unzip the files\n",
    "import zipfile\n",
    "with zipfile.ZipFile(dst, 'r') as zip_ref:\n",
    "    zip_ref.extractall('data')\n",
    "    \n",
    "    \n",
    "# Move them to the top directory\n",
    "import shutil\n",
    "for fn in ['prob_opt.p', 'prob_svm.p', 'prob_nn.p']:\n",
    "    src = 'data/midterm2_data/%s' % fn\n",
    "    shutil.move(src, fn)\n",
    "    print('%s loaded' % fn)"
   ]
  },
  {
   "cell_type": "markdown",
   "id": "609114f0",
   "metadata": {},
   "source": [
    "## Problem 1.  Nonlinear Optimization"
   ]
  },
  {
   "cell_type": "markdown",
   "id": "36cea115",
   "metadata": {},
   "source": [
    "Run the following code to load the data"
   ]
  },
  {
   "cell_type": "code",
   "execution_count": 24,
   "id": "09572e13",
   "metadata": {},
   "outputs": [],
   "source": [
    "with open('prob_opt.p', 'rb') as fp:\n",
    "    X,y = pickle.load(fp)"
   ]
  },
  {
   "cell_type": "markdown",
   "id": "7e92fc43",
   "metadata": {},
   "source": [
    "We want to fit a model of the form:\n",
    "\n",
    "     z[i] = X[i,0]*w[0] + X[i,1]*w[1]\n",
    "     yhat[i] = 1/(1+ exp(-z[i]))\n",
    "     \n",
    "for parameters `w=[w[0], w[1]]`.  To do this we minimize the loss:\n",
    "\n",
    "     J(w) = \\sum_i (yhat[i] - y[i])**2\n",
    "     \n",
    "Complete the following function `Jeval` which returns the `J(w)` and the gradient\n",
    "`Jgrad`."
   ]
  },
  {
   "cell_type": "code",
   "execution_count": 25,
   "id": "11052255",
   "metadata": {},
   "outputs": [],
   "source": [
    "def Jeval(w,X,y):\n",
    "    # Compute Decision and Loss function\n",
    "    z = X.dot(w)\n",
    "    yhat = 1 / (1 + np.exp(-z))\n",
    "    J = np.sum((yhat-y)**2)\n",
    "\n",
    "    # Compute gradient\n",
    "    dJ_dyhat = 2*(yhat - y)\n",
    "    dyhat_dz = np.exp(-z) / (1 + np.exp(-z))**2\n",
    "    dJ_dw0 = X[:,0].T.dot(dJ_dyhat * dyhat_dz)\n",
    "    dJ_dw1 = X[:,1].T.dot(dJ_dyhat * dyhat_dz)\n",
    "    Jgrad = np.array([dJ_dw0, dJ_dw1]) \n",
    "    \n",
    "    return J, Jgrad\n",
    "    "
   ]
  },
  {
   "cell_type": "markdown",
   "id": "432d3c28",
   "metadata": {},
   "source": [
    "Test the gradient as follows:\n",
    "*  Take a random initial condition, `w0` \n",
    "*  Take a second random input `w1` close to `w0`\n",
    "*  Compare `J(w1)-J(w0)` with the expected difference based on the gradient."
   ]
  },
  {
   "cell_type": "code",
   "execution_count": 26,
   "id": "9307c03c",
   "metadata": {},
   "outputs": [
    {
     "name": "stdout",
     "output_type": "stream",
     "text": [
      "0.23876522233335606\n",
      "0.23822688736207143\n"
     ]
    }
   ],
   "source": [
    "# Random point w0\n",
    "d = X.shape[1]\n",
    "w0 = np.random.normal(0,1,d)\n",
    "J0, Jgrad0 = Jeval(w0, X, y)\n",
    "\n",
    "step = 1e-2\n",
    "w1 = w0 + step*np.random.normal(0,1,d)\n",
    "J1, Jgrad1 = Jeval(w1, X, y)\n",
    "dJ_act = J1 - J0\n",
    "dJ_exp = Jgrad0.dot(w1-w0)\n",
    "print(dJ_act)\n",
    "print(dJ_exp)"
   ]
  },
  {
   "cell_type": "markdown",
   "id": "4aca7368",
   "metadata": {},
   "source": [
    "Implement basic gradient descent:\n",
    "\n",
    "*  Start at the initial condition `w0` from above\n",
    "*  Use a step size of `step=1e-2`\n",
    "*  On each iteration, `it`, save the loss and the norm squared of the gradient:\n",
    "       \n",
    "       Jhist[it] = J\n",
    "       gnormhist[it] = sum_i Jgrad[i]**2 \n",
    "       \n",
    "*  Run until the gradient satisfies: `gnormhist[it] < tol` where `tol=1e-3` or we exceed `nit_max=1000` iterations\n",
    "*  Print the final value of `w`\n",
    "*  On two separate plots, plot the `Jhist` and `gnormhist` as a function of the iteration number.  For `gnormhist` use `plt.semilogy`."
   ]
  },
  {
   "cell_type": "code",
   "execution_count": 27,
   "id": "da1c8e74",
   "metadata": {},
   "outputs": [
    {
     "name": "stdout",
     "output_type": "stream",
     "text": [
      "Final weight of gradient descent [1.97312792 3.96481739]\n"
     ]
    }
   ],
   "source": [
    "feval = lambda w: Jeval(w, X, y)\n",
    "nit_max = 1000 \n",
    "step = 1e-2\n",
    "tol = 1e-3\n",
    "def grad_opt(feval, winit):\n",
    "    Jhist = []\n",
    "    gnormhist = []\n",
    "    w = winit\n",
    "    for it in range(nit_max):\n",
    "        J0, Jgrad0 = feval(w)\n",
    "        Jhist.append(J0)\n",
    "        gnormhist.append(np.sum(Jgrad0**2))\n",
    "\n",
    "        if np.sum(Jgrad0**2) < tol:\n",
    "            break\n",
    "\n",
    "        w = w - step * Jgrad0\n",
    "    \n",
    "    return w, Jhist, gnormhist\n",
    "    \n",
    "w, Jhist, gnormhist = grad_opt(feval, w0)\n",
    "print(\"Final weight of gradient descent\", w)"
   ]
  },
  {
   "cell_type": "code",
   "execution_count": 28,
   "id": "4167270d",
   "metadata": {},
   "outputs": [
    {
     "data": {
      "text/plain": [
       "Text(0, 0.5, 'Training loss')"
      ]
     },
     "execution_count": 28,
     "metadata": {},
     "output_type": "execute_result"
    },
    {
     "data": {
      "image/png": "[encoded data removed]",
      "text/plain": [
       "<Figure size 432x288 with 1 Axes>"
      ]
     },
     "metadata": {
      "needs_background": "light"
     },
     "output_type": "display_data"
    }
   ],
   "source": [
    "t = np.arange(len(Jhist))+1\n",
    "plt.semilogx(t, Jhist)\n",
    "plt.semilogy(t, gnormhist)\n",
    "plt.legend(['Loss', 'Norm Square'])\n",
    "plt.grid()\n",
    "plt.xlabel('Iteration')\n",
    "plt.ylabel('Training loss')\n"
   ]
  },
  {
   "cell_type": "markdown",
   "id": "89b0489b",
   "metadata": {},
   "source": [
    "## Problem 2.   SVM"
   ]
  },
  {
   "cell_type": "markdown",
   "id": "5666bd4c",
   "metadata": {},
   "source": [
    "We consider a simple binary classification problem of discriminating between MNIST digits with class `5` (label `y=-1`)\n",
    "and class `6` (label `y=1`).  To make the problem simple, we have randomly selected 100 digits for training and test for each class.  \n",
    "  \n",
    "Run the following command which loads the data and plot examples from the training data set and the binary labels."
   ]
  },
  {
   "cell_type": "code",
   "execution_count": 29,
   "id": "0c7623b8",
   "metadata": {},
   "outputs": [
    {
     "data": {
      "image/png": "[encoded data removed]",
      "text/plain": [
       "<Figure size 720x216 with 8 Axes>"
      ]
     },
     "metadata": {},
     "output_type": "display_data"
    }
   ],
   "source": [
    "with open('prob_svm.p', 'rb') as fp:\n",
    "    Xtr,Xts,ytr,yts = pickle.load(fp)\n",
    "    \n",
    "\n",
    "def plt_digit(ax, x):\n",
    "    nrow = 28\n",
    "    ncol = 28\n",
    "    xsq = x.reshape((nrow,ncol))\n",
    "    ax.imshow(xsq,  cmap='Greys_r')\n",
    "    ax.set_xticks([])\n",
    "    ax.set_yticks([])\n",
    "\n",
    "# Select random digits\n",
    "ntr = Xtr.shape[0]\n",
    "nplt = 8\n",
    "Iperm = np.random.permutation(ntr)\n",
    "\n",
    "# Plot the images using the subplot command\n",
    "fig, ax = plt.subplots(1,nplt,figsize=(10,3))\n",
    "for i in range(nplt):\n",
    "    ind = Iperm[i]\n",
    "    plt_digit(ax[i], Xtr[ind,:])\n",
    "    ax[i].set_title('y=%d' % ytr[ind])"
   ]
  },
  {
   "cell_type": "markdown",
   "id": "0ddc4e2d",
   "metadata": {},
   "source": [
    "Print the shape of `Xtr` and `Xts`."
   ]
  },
  {
   "cell_type": "code",
   "execution_count": 30,
   "id": "24bedd45",
   "metadata": {},
   "outputs": [
    {
     "name": "stdout",
     "output_type": "stream",
     "text": [
      "Shape of Xtr:  (200, 28, 28)\n",
      "Shape of Xts:  (200, 28, 28)\n"
     ]
    }
   ],
   "source": [
    "# TODO\n",
    "print(\"Shape of Xtr: \", Xtr.shape)\n",
    "print(\"Shape of Xts: \", Xts.shape)"
   ]
  },
  {
   "cell_type": "markdown",
   "id": "56393c14",
   "metadata": {},
   "source": [
    "Consider a simple kernel classifier:\n",
    "        \n",
    "    z[i] = \\sum_j K(Xts[i,:,:], Xtr[j,:,:])*ytr[j]\n",
    "    yhat[i] = sign( z[i] )\n",
    "    \n",
    "We use a radial basis function kernel:\n",
    "\n",
    "    K(x0, x1) = exp( -gam*||x0-x1||^2 )\n",
    "    \n",
    "where `||x0-x1||^2` is the squared distance between images `x0` and `x1`.\n",
    "\n",
    "Complete the function `predict` below that implements this kernel classifier.\n",
    "For full credit, avoid for loops."
   ]
  },
  {
   "cell_type": "code",
   "execution_count": 31,
   "id": "2856c3b9",
   "metadata": {},
   "outputs": [],
   "source": [
    "def predict(Xts, Xtr, ytr, gam):\n",
    "    \n",
    "    # reshape Xts and Xtr for broadcasting\n",
    "    Xts = Xts[None,:,:,:]\n",
    "    Xtr = Xtr[:,None,:,:]\n",
    "    D = (Xts - Xtr)**2\n",
    "    K = np.exp(-gam * D)\n",
    "    z = np.sum(K * ytr[:,None,None,None], axis=(0, 2, 3))\n",
    "    yhat = np.sign(z)\n",
    "    return yhat"
   ]
  },
  {
   "cell_type": "markdown",
   "id": "0c79d7c9",
   "metadata": {},
   "source": [
    "What is the test accuracy you get with `gam = 0.01`?"
   ]
  },
  {
   "cell_type": "code",
   "execution_count": 32,
   "id": "91a6fbe3",
   "metadata": {},
   "outputs": [
    {
     "name": "stdout",
     "output_type": "stream",
     "text": [
      "Test accuracy:  0.96\n"
     ]
    }
   ],
   "source": [
    "# TODO\n",
    "yhat = predict(Xts, Xtr, ytr, gam=0.01)\n",
    "acc = np.mean(yhat == yts)\n",
    "print(\"Test accuracy: \", acc)"
   ]
  },
  {
   "cell_type": "markdown",
   "id": "81af7c59",
   "metadata": {},
   "source": [
    "Create a new test data set, `Xts_shift`, where each image `Xts_shift[i,:,:]` is the image `Xts[i,:,:]` shifted two columns to the right.  The first two columns of `Xts_shift[i,:,:]` are zero.  What is the test accuracy of the classifer using `Xts_shift` and `gam=0.01`?"
   ]
  },
  {
   "cell_type": "code",
   "execution_count": 33,
   "id": "426f15ea",
   "metadata": {},
   "outputs": [
    {
     "name": "stdout",
     "output_type": "stream",
     "text": [
      "(200, 28, 28)\n",
      "Test accuracy:  0.93\n"
     ]
    }
   ],
   "source": [
    "s = 2  # Shift amount to the right\n",
    "\n",
    "# TODO \n",
    "Xts_shift = np.dstack((np.zeros((200, 28, 2)), Xts[:,:,:26]))\n",
    "print(Xts_shift.shape)\n",
    "yhat_shift = predict(Xts_shift, Xtr, ytr, gam=0.01)\n",
    "acc = np.mean(yhat_shift==yts)\n",
    "print(\"Test accuracy: \", acc)"
   ]
  },
  {
   "cell_type": "markdown",
   "id": "875a1477",
   "metadata": {},
   "source": [
    "## Problem 3.  Neural Networks"
   ]
  },
  {
   "cell_type": "markdown",
   "id": "d01f88ed",
   "metadata": {},
   "source": [
    "Run the following code to load the training and test data:"
   ]
  },
  {
   "cell_type": "code",
   "execution_count": 34,
   "id": "c4ef5843",
   "metadata": {},
   "outputs": [],
   "source": [
    "with open('prob_nn.p', 'rb') as fp:\n",
    "    Xtr,Xts,ytr,yts = pickle.load(fp)"
   ]
  },
  {
   "cell_type": "code",
   "execution_count": 35,
   "id": "016a9b67",
   "metadata": {},
   "outputs": [
    {
     "name": "stdout",
     "output_type": "stream",
     "text": [
      "(500, 2)\n",
      "(500,)\n"
     ]
    }
   ],
   "source": [
    "print(Xtr.shape)\n",
    "print(ytr.shape)"
   ]
  },
  {
   "cell_type": "markdown",
   "id": "fd40ef6e",
   "metadata": {},
   "source": [
    "Create a tensorflow model, `model` to map the data `x` to `yhat` as follows:\n",
    "\n",
    "* Clear the tensorflow session\n",
    "* Create a `Sequential` model, `model`.\n",
    "* Add one single hidden layer with the  number of inputs based on the shape of the training data `Xtr`.  Use `nh=8` hidden units and a `sigmoid` activation\n",
    "* Add an output layer.  Select the number of ouputs based on the shape of the training outputs `ytr`.  Select the activation assuming the model is for regression (that is, `y` is a continuous valued target).\n",
    "* Print the model summary"
   ]
  },
  {
   "cell_type": "code",
   "execution_count": 36,
   "id": "3c10055f",
   "metadata": {},
   "outputs": [
    {
     "name": "stdout",
     "output_type": "stream",
     "text": [
      "Model: \"sequential\"\n",
      "_________________________________________________________________\n",
      " Layer (type)                Output Shape              Param #   \n",
      "=================================================================\n",
      " hidden (Dense)              (None, 8)                 24        \n",
      "                                                                 \n",
      " output (Dense)              (None, 1)                 9         \n",
      "                                                                 \n",
      "=================================================================\n",
      "Total params: 33\n",
      "Trainable params: 33\n",
      "Non-trainable params: 0\n",
      "_________________________________________________________________\n"
     ]
    }
   ],
   "source": [
    "from tensorflow.keras.models import Model, Sequential\n",
    "from tensorflow.keras.layers import Dense, Activation\n",
    "import tensorflow.keras.backend as K\n",
    "\n",
    "# Clear session\n",
    "K.clear_session()\n",
    "\n",
    "# Network metadata\n",
    "nin = Xtr.shape[1]\n",
    "nh = 8\n",
    "nout = 1\n",
    "\n",
    "model = Sequential()\n",
    "model.add(Dense(units=nh, input_shape=(nin,), activation='sigmoid', name='hidden'))\n",
    "model.add(Dense(units=nout, activation='linear', name='output'))\n",
    "model.summary()"
   ]
  },
  {
   "cell_type": "markdown",
   "id": "664d3faa",
   "metadata": {},
   "source": [
    "Fit the model on the training data `Xtr, ytr`:\n",
    "\n",
    "* Use the `Adam` optimizer with `lr=0.01`.\n",
    "* Compile the model.  Select the correct `loss` and `metrics` for regression\n",
    "* Run the `model.fit` with a batch size of 32, 500 epochs and `verbose=False`.\n",
    "* Save the loss history in `hist`."
   ]
  },
  {
   "cell_type": "code",
   "execution_count": 37,
   "id": "37255ea1",
   "metadata": {},
   "outputs": [
    {
     "name": "stderr",
     "output_type": "stream",
     "text": [
      "C:\\Users\\willi\\anaconda3\\lib\\site-packages\\keras\\optimizer_v2\\adam.py:105: UserWarning: The `lr` argument is deprecated, use `learning_rate` instead.\n",
      "  super(Adam, self).__init__(name, **kwargs)\n"
     ]
    }
   ],
   "source": [
    "from tensorflow.keras import optimizers\n",
    "\n",
    "# TODO\n",
    "opt = optimizers.Adam(lr=0.01)\n",
    "model.compile(optimizer=opt, loss='mean_squared_error', metrics=['mean_squared_error'])\n",
    "hist = model.fit(Xtr, ytr, batch_size=32, epochs=500, verbose=False)"
   ]
  },
  {
   "cell_type": "markdown",
   "id": "a58948e9",
   "metadata": {},
   "source": [
    "Plot the loss history as a function of the epochs. Label the graph."
   ]
  },
  {
   "cell_type": "code",
   "execution_count": 38,
   "id": "8ab80d9e",
   "metadata": {},
   "outputs": [
    {
     "data": {
      "text/plain": [
       "Text(0, 0.5, 'loss')"
      ]
     },
     "execution_count": 38,
     "metadata": {},
     "output_type": "execute_result"
    },
    {
     "data": {
      "image/png": "[encoded data removed]",
      "text/plain": [
       "<Figure size 432x288 with 1 Axes>"
      ]
     },
     "metadata": {
      "needs_background": "light"
     },
     "output_type": "display_data"
    }
   ],
   "source": [
    "# TODO\n",
    "loss = hist.history['mean_squared_error']\n",
    "\n",
    "plt.plot(loss)\n",
    "plt.grid()\n",
    "plt.xlabel('epochs')\n",
    "plt.ylabel('loss')"
   ]
  },
  {
   "cell_type": "markdown",
   "id": "188c2fe8",
   "metadata": {},
   "source": [
    "Compute and print the mean absolute error (MAE) on the test data.  The MAE is defined as:\n",
    "\n",
    "    MAE = (1/n)*\\sum_i |yhat[i] - y[i]|\n",
    "    \n",
    "where `n` is the number of samples."
   ]
  },
  {
   "cell_type": "code",
   "execution_count": 39,
   "id": "edacac05",
   "metadata": {},
   "outputs": [
    {
     "name": "stdout",
     "output_type": "stream",
     "text": [
      "Mean Absolute Error:  0.08656180580170897\n"
     ]
    }
   ],
   "source": [
    "# TODO\n",
    "yhat_ts = model.predict(Xts)\n",
    "mae = np.mean(np.abs(yhat_ts[:,0] - yts))\n",
    "print(\"Mean Absolute Error: \", mae)"
   ]
  },
  {
   "cell_type": "markdown",
   "id": "58697f72",
   "metadata": {},
   "source": [
    "Plot the predicted response `yhat` vs. `x1` on the set of points `x=[x0,x1]` where `x0=0` and `x1` ranges from -1 to 1. "
   ]
  },
  {
   "cell_type": "code",
   "execution_count": 40,
   "id": "ffe22a77",
   "metadata": {},
   "outputs": [
    {
     "data": {
      "image/png": "[encoded data removed]",
      "text/plain": [
       "<Figure size 432x288 with 1 Axes>"
      ]
     },
     "metadata": {
      "needs_background": "light"
     },
     "output_type": "display_data"
    }
   ],
   "source": [
    "x = np.column_stack((np.zeros((500, 1)), np.linspace(-1, 1, 500)))\n",
    "yhat = model.predict(x)\n",
    "\n",
    "plt.plot(x[:,1], yhat, 'o')\n",
    "plt.xlabel(\"X1 ranging -1 ~ 1\")\n",
    "plt.ylabel(\"Yhat\")\n",
    "plt.grid()"
   ]
  }
 ],
 "metadata": {
  "kernelspec": {
   "display_name": "Python 3 (ipykernel)",
   "language": "python",
   "name": "python3"
  },
  "language_info": {
   "codemirror_mode": {
    "name": "ipython",
    "version": 3
   },
   "file_extension": ".py",
   "mimetype": "text/x-python",
   "name": "python",
   "nbconvert_exporter": "python",
   "pygments_lexer": "ipython3",
   "version": "3.9.7"
  }
 },
 "nbformat": 4,
 "nbformat_minor": 5
}
