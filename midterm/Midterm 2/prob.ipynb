{
 "cells": [
  {
   "cell_type": "code",
   "execution_count": 9,
   "metadata": {},
   "outputs": [],
   "source": [
    "import numpy as np\n",
    "import matplotlib.pyplot as plt"
   ]
  },
  {
   "cell_type": "code",
   "execution_count": null,
   "metadata": {},
   "outputs": [],
   "source": []
  },
  {
   "cell_type": "code",
   "execution_count": 10,
   "metadata": {},
   "outputs": [
    {
     "data": {
      "text/plain": [
       "<matplotlib.legend.Legend at 0x28035bd6040>"
      ]
     },
     "execution_count": 10,
     "metadata": {},
     "output_type": "execute_result"
    },
    {
     "data": {
      "image/png": "[encoded data removed]",
      "text/plain": [
       "<Figure size 432x288 with 1 Axes>"
      ]
     },
     "metadata": {
      "needs_background": "light"
     },
     "output_type": "display_data"
    }
   ],
   "source": [
    "x1 = np.array([0, 2, 2, 4])\n",
    "x2 = np.array([0, 0.5, 2, 3])\n",
    "y = np.array([-1, -1, 1, 1])\n",
    "z = 0.75*x1 + x2 - 3\n",
    "yhat = (z >= 0)\n",
    "\n",
    "# if z = 0\n",
    "# x2 = -0.75x1 + 3\n",
    "p = np.arange(0, 5)\n",
    "\n",
    "plt.plot(x1[y==-1], x2[y==-1], 'o')\n",
    "plt.plot(x1[y==1], x2[y==1], 'o')\n",
    "plt.plot(p, -0.75 * p + 3)\n",
    "plt.xlabel(\"X1\")\n",
    "plt.ylabel(\"X2\")\n",
    "\n",
    "plt.legend(['Y == -1', 'Y == 1', 'Z == 0'])\n"
   ]
  },
  {
   "cell_type": "code",
   "execution_count": 11,
   "metadata": {},
   "outputs": [],
   "source": [
    "a= np.arange(1, 4)\n",
    "b = np.arange(1, 4)\n",
    "x = np.arange(0, 5)\n",
    "y = np.arange(0, 5)\n",
    "# M = 3\n",
    "# N = 5"
   ]
  },
  {
   "cell_type": "code",
   "execution_count": 12,
   "metadata": {},
   "outputs": [
    {
     "name": "stdout",
     "output_type": "stream",
     "text": [
      "(5, 3)\n",
      "(5,)\n",
      "(3,)\n",
      "(5, 3) (5, 3)\n",
      "(3,)\n"
     ]
    }
   ],
   "source": [
    "A = 1 / (1 + np.exp(-b[None,:] * x[:,None]))\n",
    "print(A.shape)\n",
    "yhat = np.sum(a[None,:]*A,axis=1)\n",
    "print(yhat.shape)\n",
    "J = np.sum((y-yhat)**2)\n",
    "yerr = yhat - y\n",
    "dJ_dyhat = 2 * yerr\n",
    "Jgrada = A.T.dot(dJ_dyhat)\n",
    "print(Jgrada.shape)\n",
    "B1 = a[None,:]*x[:,None] * np.exp(-b[None,:] * x[:,None])\n",
    "B2 = 1 / (1 + np.exp(-b[None,:] * x[:,None]))\n",
    "print (B1.shape, B2.shape)\n",
    "Jgradb = (B1 + B2).T.dot(dJ_dyhat)\n",
    "print(Jgradb.shape)"
   ]
  },
  {
   "cell_type": "code",
   "execution_count": 13,
   "metadata": {},
   "outputs": [
    {
     "name": "stdout",
     "output_type": "stream",
     "text": [
      "2.0\n",
      "2.0\n"
     ]
    }
   ],
   "source": [
    "a = np.arange(5)\n",
    "print(np.mean(a))\n",
    "print(np.sum(a)/a.shape[0])"
   ]
  },
  {
   "cell_type": "code",
   "execution_count": null,
   "metadata": {},
   "outputs": [],
   "source": []
  }
 ],
 "metadata": {
  "interpreter": {
   "hash": "f8bbe703e4409461e5c1796f0c401e26e62f32801f1a5b19455b89c31c613fbe"
  },
  "kernelspec": {
   "display_name": "Python 3.9.7 64-bit ('base': conda)",
   "language": "python",
   "name": "python3"
  },
  "language_info": {
   "codemirror_mode": {
    "name": "ipython",
    "version": 3
   },
   "file_extension": ".py",
   "mimetype": "text/x-python",
   "name": "python",
   "nbconvert_exporter": "python",
   "pygments_lexer": "ipython3",
   "version": "3.9.7"
  },
  "orig_nbformat": 4
 },
 "nbformat": 4,
 "nbformat_minor": 2
}
