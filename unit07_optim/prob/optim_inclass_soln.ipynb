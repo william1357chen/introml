{
 "cells": [
  {
   "cell_type": "markdown",
   "metadata": {},
   "source": [
    "# In-Class Exercise\n",
    "\n",
    "Try to a build a simple optimizer to minimize:\n",
    "\n",
    "    f(w) = a[0]*w^d + a[1]*w^(d-1) + ... + a[d]\n",
    "    \n",
    "\n",
    "for the coefficients `a = [1,0,-2,0.5,0]`\n",
    "\n",
    "\n",
    "*  Plot the function f(w)\n",
    "*  Can you see where the minima is?\n",
    "*  Write a function that outputs f(w) and its gradient.\n",
    "*  Test the gradient\n",
    "*  Run the optimizer on the function to see if it finds the minima.\n",
    "*  Print the funciton value and number of iterations.\n",
    "\n",
    "Bonus: Instead of writing the function for a specific coefficient vector a, create a class that works for an arbitrary vector a.\n",
    "You may wish to use the `np.polyval(a,x)` method to evaluate the polynomial."
   ]
  },
  {
   "cell_type": "code",
   "execution_count": 1,
   "metadata": {},
   "outputs": [],
   "source": [
    "import numpy as np\n",
    "import matplotlib.pyplot as plt"
   ]
  },
  {
   "cell_type": "code",
   "execution_count": 2,
   "metadata": {},
   "outputs": [
    {
     "data": {
      "image/png": "[encoded data removed]",
      "text/plain": [
       "<Figure size 432x288 with 1 Axes>"
      ]
     },
     "metadata": {
      "needs_background": "light"
     },
     "output_type": "display_data"
    }
   ],
   "source": [
    "a = np.array([1,0,-2,0.5,0])\n",
    "w = np.linspace(-1.5,1.5,100)\n",
    "f = np.polyval(a,w)\n",
    "\n",
    "plt.plot(w,f)\n",
    "plt.grid()"
   ]
  },
  {
   "cell_type": "code",
   "execution_count": 15,
   "metadata": {},
   "outputs": [],
   "source": [
    "def feval(w,a):\n",
    "    f = np.polyval(a,w)\n",
    "    \n",
    "    d = len(a)-1\n",
    "    b = np.arange(d,0,-1)*a[0:-1]\n",
    "    fgrad = np.array(np.polyval(b,w))\n",
    "    return f, fgrad\n",
    "\n",
    "feval_param = lambda w: feval(w,a)"
   ]
  },
  {
   "cell_type": "markdown",
   "metadata": {},
   "source": [
    "Test the gradient"
   ]
  },
  {
   "cell_type": "code",
   "execution_count": 16,
   "metadata": {},
   "outputs": [
    {
     "name": "stdout",
     "output_type": "stream",
     "text": [
      "f1-f0 act =  -1.0360e-06\n",
      "f1-f0 est =  -1.0360e-06\n"
     ]
    }
   ],
   "source": [
    "w0 = np.array(0.6)\n",
    "w1 = w0 + 1e-6\n",
    "f0, fgrad0 = feval(w0,a)\n",
    "f1, fgrad1 = feval(w1,a)\n",
    "print('f1-f0 act = %12.4e' % (f1-f0))\n",
    "print('f1-f0 est = %12.4e' % (fgrad0.dot(w1-w0)))"
   ]
  },
  {
   "cell_type": "markdown",
   "metadata": {},
   "source": [
    "Gradient descent optimizer with adaptive step size.  this is taken from the demo"
   ]
  },
  {
   "cell_type": "code",
   "execution_count": 17,
   "metadata": {},
   "outputs": [],
   "source": [
    "def grad_opt_adapt(feval, winit, nit=1000, lr_init=1e-3):\n",
    "    \"\"\"\n",
    "    Gradient descent optimization with adaptive step size\n",
    "    \n",
    "    feval:  A function that returns f, fgrad, the objective\n",
    "            function and its gradient\n",
    "    winit:  Initial estimate\n",
    "    nit:    Number of iterations\n",
    "    lr:     Initial learning rate\n",
    "    \"\"\"\n",
    "    \n",
    "    # Set initial point\n",
    "    w0 = winit\n",
    "    f0, fgrad0 = feval(w0)\n",
    "    lr = lr_init\n",
    "    \n",
    "    # Create history dictionary for tracking progress per iteration.\n",
    "    # This isn't necessary if you just want the final answer, but it \n",
    "    # is useful for debugging\n",
    "    hist = {'lr': [], 'w': [], 'f': []}\n",
    "\n",
    "    for it in range(nit):\n",
    "\n",
    "        # Take a gradient step\n",
    "        w1 = w0 - lr*fgrad0\n",
    "\n",
    "        # Evaluate the test point by computing the objective function, f1,\n",
    "        # at the test point and the predicted decrease, df_est\n",
    "        f1, fgrad1 = feval(w1)\n",
    "        df_est = fgrad0.dot(w1-w0)\n",
    "        \n",
    "        # Check if test point passes the Armijo condition\n",
    "        alpha = 0.5\n",
    "        if (f1-f0 < alpha*df_est) and (f1 < f0):\n",
    "            # If descent is sufficient, accept the point and increase the\n",
    "            # learning rate\n",
    "            lr = lr*2\n",
    "            f0 = f1\n",
    "            fgrad0 = fgrad1\n",
    "            w0 = w1\n",
    "        else:\n",
    "            # Otherwise, decrease the learning rate\n",
    "            lr = lr/2            \n",
    "            \n",
    "        # Save history\n",
    "        hist['f'].append(f0)\n",
    "        hist['lr'].append(lr)\n",
    "        hist['w'].append(w0)\n",
    "\n",
    "    # Convert to numpy arrays\n",
    "    for elem in ('f', 'lr', 'w'):\n",
    "        hist[elem] = np.array(hist[elem])\n",
    "    return w0, f0, hist"
   ]
  },
  {
   "cell_type": "markdown",
   "metadata": {},
   "source": [
    "Run the gradient descent optimizer"
   ]
  },
  {
   "cell_type": "code",
   "execution_count": 24,
   "metadata": {},
   "outputs": [],
   "source": [
    "winit = -1.5\n",
    "w0, f0, hist = grad_opt_adapt(feval_param, winit, nit=1000, lr_init=1e-3)"
   ]
  },
  {
   "cell_type": "markdown",
   "metadata": {},
   "source": [
    "Plot the trajectory.  We see we hit the global minima if we start at `winit=-1.5`.  The green dot is the initial point, the red is the final point."
   ]
  },
  {
   "cell_type": "code",
   "execution_count": 25,
   "metadata": {},
   "outputs": [
    {
     "data": {
      "image/png": "[encoded data removed]",
      "text/plain": [
       "<Figure size 432x288 with 1 Axes>"
      ]
     },
     "metadata": {
      "needs_background": "light"
     },
     "output_type": "display_data"
    }
   ],
   "source": [
    "a = np.array([1,0,-2,0.5,0])\n",
    "w = np.linspace(-1.5,1.5,100)\n",
    "f = np.polyval(a,w)\n",
    "\n",
    "whist = hist['w']\n",
    "fhist = hist['f']\n",
    "plt.plot(w,f)\n",
    "plt.plot(whist,fhist,'o')\n",
    "plt.plot(whist[0], fhist[0], 'go', markersize=10)\n",
    "plt.plot(whist[-1], fhist[-1], 'ro', markersize=10)\n",
    "plt.grid()"
   ]
  },
  {
   "cell_type": "markdown",
   "metadata": {},
   "source": [
    "But, if we start at `winit = 1.5`, it goes to the wrong minima."
   ]
  },
  {
   "cell_type": "code",
   "execution_count": 27,
   "metadata": {},
   "outputs": [
    {
     "data": {
      "image/png": "[encoded data removed]",
      "text/plain": [
       "<Figure size 432x288 with 1 Axes>"
      ]
     },
     "metadata": {
      "needs_background": "light"
     },
     "output_type": "display_data"
    }
   ],
   "source": [
    "winit = 1.5\n",
    "w0, f0, hist = grad_opt_adapt(feval_param, winit, nit=100, lr_init=1e-3)\n",
    "\n",
    "a = np.array([1,0,-2,0.5,0])\n",
    "w = np.linspace(-1.5,1.5,100)\n",
    "f = np.polyval(a,w)\n",
    "\n",
    "whist = hist['w']\n",
    "fhist = hist['f']\n",
    "plt.plot(w,f)\n",
    "plt.plot(whist,fhist,'o')\n",
    "plt.plot(whist[0], fhist[0], 'go', markersize=10)\n",
    "plt.plot(whist[-1], fhist[-1], 'ro', markersize=10)\n",
    "plt.grid()"
   ]
  },
  {
   "cell_type": "code",
   "execution_count": null,
   "metadata": {},
   "outputs": [],
   "source": []
  }
 ],
 "metadata": {
  "kernelspec": {
   "display_name": "Python 3",
   "language": "python",
   "name": "python3"
  },
  "language_info": {
   "codemirror_mode": {
    "name": "ipython",
    "version": 3
   },
   "file_extension": ".py",
   "mimetype": "text/x-python",
   "name": "python",
   "nbconvert_exporter": "python",
   "pygments_lexer": "ipython3",
   "version": "3.7.4"
  }
 },
 "nbformat": 4,
 "nbformat_minor": 2
}
