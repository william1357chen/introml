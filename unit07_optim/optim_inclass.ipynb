{
 "cells": [
  {
   "cell_type": "markdown",
   "metadata": {},
   "source": [
    "# Optimization In-Class Exercise\n",
    "\n",
    "This is a simple exercise for optimizing a scalar valued function.\n"
   ]
  },
  {
   "cell_type": "code",
   "execution_count": 54,
   "metadata": {},
   "outputs": [],
   "source": [
    "import numpy as np\n",
    "import matplotlib.pyplot as plt"
   ]
  },
  {
   "cell_type": "markdown",
   "metadata": {},
   "source": [
    "Try to a build a simple optimizer to minimize a polynomial:\n",
    "\n",
    "    f(w) = a[0]*w^d + a[1]*w^(d-1) + ... + a[d]\n",
    "    \n",
    "\n",
    "for the coefficients `a = [1,0,-2,0.5,0]`\n",
    "\n",
    "\n",
    "*  Plot the function f(w)\n",
    "*  Can you see where the minima is?\n",
    "*  Write a function that outputs f(w) and its gradient.\n",
    "*  Test the gradient\n",
    "*  Run the optimizer on the function to see if it finds the minima.\n",
    "*  Print the funciton value and number of iterations.\n",
    "*  Find an initial condition where gradient descent gets stuck at a local minima.\n",
    "\n",
    "Bonus: Instead of writing the function for a specific coefficient vector a, create a class that works for an arbitrary vector a.\n",
    "You may wish to use the `np.polyval(a,x)` method to evaluate the polynomial."
   ]
  },
  {
   "cell_type": "code",
   "execution_count": 55,
   "metadata": {},
   "outputs": [],
   "source": [
    "a = [1, 0, -2, -0.5, 0]\n",
    "w = np.linspace(-2, 2, 100)"
   ]
  },
  {
   "cell_type": "code",
   "execution_count": 56,
   "metadata": {},
   "outputs": [],
   "source": [
    "def feval(w):\n",
    "    f = (w**4) - 2*(w ** 2) + 0.5*w\n",
    "    fgrad = 4*w**3 - 4*w + 0.5\n",
    "    return f, fgrad"
   ]
  },
  {
   "cell_type": "code",
   "execution_count": 57,
   "metadata": {},
   "outputs": [
    {
     "data": {
      "image/png": "[encoded data removed]",
      "text/plain": [
       "<Figure size 432x288 with 1 Axes>"
      ]
     },
     "metadata": {
      "needs_background": "light"
     },
     "output_type": "display_data"
    }
   ],
   "source": [
    "\n",
    "f, fgrad = feval(w)\n",
    "plt.plot(w, f)\n",
    "plt.grid()\n",
    "plt.show()\n"
   ]
  },
  {
   "cell_type": "code",
   "execution_count": null,
   "metadata": {},
   "outputs": [],
   "source": [
    "def grad_opt(feval, winit, lr=1e-3, nit=100):\n",
    "hist = {'w':[], 'f'=[]}\n",
    "for it in range(nit):\n",
    "    \n"
   ]
  }
 ],
 "metadata": {
  "interpreter": {
   "hash": "40d3a090f54c6569ab1632332b64b2c03c39dcf918b08424e98f38b5ae0af88f"
  },
  "kernelspec": {
   "display_name": "Python 3.8.5 64-bit ('base': conda)",
   "name": "python3"
  },
  "language_info": {
   "codemirror_mode": {
    "name": "ipython",
    "version": 3
   },
   "file_extension": ".py",
   "mimetype": "text/x-python",
   "name": "python",
   "nbconvert_exporter": "python",
   "pygments_lexer": "ipython3",
   "version": "3.8.5"
  }
 },
 "nbformat": 4,
 "nbformat_minor": 2
}
