{
 "cells": [
  {
   "cell_type": "markdown",
   "metadata": {},
   "source": [
    "# Lab:  Neural Networks for Music Classification\n",
    "\n",
    "In addition to the concepts in the [MNIST neural network demo](./demo2_mnist_neural.ipynb), in this lab, you will learn to:\n",
    "* Load a file from a URL\n",
    "* Extract simple features from audio samples for machine learning tasks such as speech recognition and classification\n",
    "* Build a simple neural network for music classification using these features\n",
    "* Use a callback to store the loss and accuracy history in the training process\n",
    "* Optimize the learning rate of the neural network\n",
    "\n",
    "To illustrate the basic concepts, we will look at a relatively simple music classification problem.  Given a sample of music, we want to determine which instrument (e.g. trumpet, violin, piano) is playing.  This dataset was generously supplied by [Prof. Juan Bello](http://steinhardt.nyu.edu/faculty/Juan_Pablo_Bello) at NYU Stenihardt  and his former PhD student Eric Humphrey (now at Spotify).  They have a complete website dedicated to deep learning methods in music informatics:\n",
    "\n",
    "http://marl.smusic.nyu.edu/wordpress/projects/feature-learning-deep-architectures/deep-learning-python-tutorial/\n",
    "\n",
    "You can also check out Juan's <a href=\"http://www.nyu.edu/classes/bello/ACA.html\">course</a>.\n",
    "\n"
   ]
  },
  {
   "cell_type": "markdown",
   "metadata": {},
   "source": [
    "## Loading Tensorflow\n",
    "\n",
    "Before starting this lab, you will need to install [Tensorflow](https://www.tensorflow.org/install/).  If you are using [Google colaboratory](https://colab.research.google.com), Tensorflow is already installed.  Run the following command to ensure Tensorflow is installed."
   ]
  },
  {
   "cell_type": "code",
   "execution_count": 283,
   "metadata": {},
   "outputs": [],
   "source": [
    "import tensorflow as tf"
   ]
  },
  {
   "cell_type": "markdown",
   "metadata": {},
   "source": [
    "Then, load the other packages."
   ]
  },
  {
   "cell_type": "code",
   "execution_count": 284,
   "metadata": {},
   "outputs": [],
   "source": [
    "import numpy as np\n",
    "import matplotlib\n",
    "import matplotlib.pyplot as plt"
   ]
  },
  {
   "cell_type": "markdown",
   "metadata": {},
   "source": [
    "## Audio Feature Extraction with Librosa\n",
    "\n",
    "The key to audio classification is to extract the correct features. In addition to `keras`, we will need the `librosa` package.  The `librosa` package in python has a rich set of methods extracting the features of audio samples commonly used in machine learning tasks such as speech recognition and sound classification. \n",
    "\n",
    "Installation instructions and complete documentation for the package are given on the [librosa main page](https://librosa.github.io/librosa/).  On most systems, you should be able to simply use:\n",
    "\n",
    "    pip install librosa\n",
    "    \n",
    "For Unix, you may need to load some additional packages:\n",
    "\n",
    "    sudo apt-get install build-essential\n",
    "    sudo apt-get install libxext-dev python-qt4 qt4-dev-tools\n",
    "    pip install librosa\n",
    "    \n",
    "After you have installed the package, try to import it."
   ]
  },
  {
   "cell_type": "code",
   "execution_count": 285,
   "metadata": {},
   "outputs": [],
   "source": [
    "import librosa\n",
    "import librosa.display\n",
    "import librosa.feature"
   ]
  },
  {
   "cell_type": "markdown",
   "metadata": {},
   "source": [
    "In this lab, we will use a set of music samples from the website:\n",
    "\n",
    "http://theremin.music.uiowa.edu\n",
    "\n",
    "This website has a great set of samples for audio processing.  Look on the web for how to use the `requests.get` and `file.write` commands to load the file at the URL provided into your working directory.\n",
    "\n",
    "You can play the audio sample by copying the file to your local machine and playing it on any media player.  If you listen to it you will hear a soprano saxaphone (with vibrato) playing four notes (C, C#, D, Eb)."
   ]
  },
  {
   "cell_type": "code",
   "execution_count": 286,
   "metadata": {},
   "outputs": [],
   "source": [
    "import requests\n",
    "fn = \"SopSax.Vib.pp.C6Eb6.aiff\"\n",
    "url = \"http://theremin.music.uiowa.edu/sound files/MIS/Woodwinds/sopranosaxophone/\"+fn\n",
    "\n",
    "# TODO:  Load the file from url and save it in a file under the name fn\n",
    "request = requests.get(url)\n",
    "with open(fn, 'wb') as f:\n",
    "    f.write(request.content)\n"
   ]
  },
  {
   "cell_type": "markdown",
   "metadata": {},
   "source": [
    "Next, use `librosa` command `librosa.load` to read the audio file with filename `fn` and get the samples `y` and sample rate `sr`."
   ]
  },
  {
   "cell_type": "code",
   "execution_count": 287,
   "metadata": {},
   "outputs": [],
   "source": [
    "# TODO\n",
    "y, sr = librosa.load(fn)"
   ]
  },
  {
   "cell_type": "markdown",
   "metadata": {},
   "source": [
    "Extracting features from audio files is an entire subject on its own right.  A commonly used set of features are called the Mel Frequency Cepstral Coefficients (MFCCs).  These are derived from the so-called mel spectrogram which is something like a regular spectrogram, but the power and frequency are represented in log scale, which more naturally aligns with human perceptual processing.  You can run the code below to display the mel spectrogram from the audio sample.\n",
    "\n",
    "You can easily see the four notes played in the audio track.  You also see the 'harmonics' of each notes, which are other tones at integer multiples of the fundamental frequency of each note."
   ]
  },
  {
   "cell_type": "code",
   "execution_count": 288,
   "metadata": {},
   "outputs": [
    {
     "data": {
      "image/png": "[encoded data removed]",
      "text/plain": [
       "<Figure size 432x288 with 2 Axes>"
      ]
     },
     "metadata": {
      "needs_background": "light"
     },
     "output_type": "display_data"
    }
   ],
   "source": [
    "S = librosa.feature.melspectrogram(y=y, sr=sr, n_mels=128, fmax=8000)\n",
    "librosa.display.specshow(librosa.amplitude_to_db(S),\n",
    "                         y_axis='mel', fmax=8000, x_axis='time')\n",
    "plt.colorbar(format='%+2.0f dB')\n",
    "plt.title('Mel spectrogram')\n",
    "plt.tight_layout()"
   ]
  },
  {
   "cell_type": "markdown",
   "metadata": {},
   "source": [
    "## Downloading the Data\n",
    "\n",
    "Using the MFCC features described above, Eric Humphrey and Juan Bellow have created a complete data set that can used for instrument classification.  Essentially, they collected a number of data files from the website above.  For each audio file, the segmented the track into notes and then extracted 120 MFCCs for each note.  The goal is to recognize the instrument from the 120 MFCCs.  The process of feature extraction is quite involved.  So, we will just use their processed data provided at:\n",
    "\n",
    "https://github.com/marl/dl4mir-tutorial/blob/master/README.md\n",
    "\n",
    "Note the password.  Load the four files into some directory, say  `instrument_dataset`.  Then, load them with the commands."
   ]
  },
  {
   "cell_type": "code",
   "execution_count": 289,
   "metadata": {},
   "outputs": [],
   "source": [
    "data_dir = './instrument_dataset/'\n",
    "Xtr = np.load(data_dir+'uiowa_train_data.npy')\n",
    "ytr = np.load(data_dir+'uiowa_train_labels.npy')\n",
    "Xts = np.load(data_dir+'uiowa_test_data.npy')\n",
    "yts = np.load(data_dir+'uiowa_test_labels.npy')"
   ]
  },
  {
   "cell_type": "markdown",
   "metadata": {},
   "source": [
    "Looking at the data files:\n",
    "* What are the number of training and test samples?\n",
    "* What is the number of features for each sample?\n",
    "* How many classes (i.e. instruments) are there per class?\n"
   ]
  },
  {
   "cell_type": "code",
   "execution_count": 290,
   "metadata": {},
   "outputs": [
    {
     "name": "stdout",
     "output_type": "stream",
     "text": [
      "Number of training samples:  66247\n",
      "Number of test samples:  14904\n",
      "Number of features:  120\n",
      "Number of classes:  10\n"
     ]
    }
   ],
   "source": [
    "# TODO\n",
    "print(\"Number of training samples: \", Xtr.shape[0])\n",
    "print(\"Number of test samples: \", Xts.shape[0])\n",
    "print(\"Number of features: \", Xtr.shape[1])\n",
    "print(\"Number of classes: \", len(np.unique(ytr)))"
   ]
  },
  {
   "cell_type": "markdown",
   "metadata": {},
   "source": [
    "Before continuing, you must scale the training and test data, `Xtr` and `Xts`.  Compute the mean and std deviation of each feature in `Xtr` and create a new training data set, `Xtr_scale`, by subtracting the mean and dividing by the std deviation.  Also compute a scaled test data set, `Xts_scale` using the mean and std deviation learned from the training data set."
   ]
  },
  {
   "cell_type": "code",
   "execution_count": 291,
   "metadata": {},
   "outputs": [],
   "source": [
    "# TODO Scale the training and test matrices\n",
    "Xtr_scale = (Xtr- np.mean(Xtr)) / np.std(Xtr)\n",
    "Xts_scale = (Xts- np.mean(Xtr)) / np.std(Xtr)"
   ]
  },
  {
   "cell_type": "markdown",
   "metadata": {
    "collapsed": true
   },
   "source": [
    "## Building a Neural Network Classifier\n",
    "\n",
    "Following the example in [MNIST neural network demo](./mnist_neural.ipynb), clear the keras session.  Then, create a neural network `model` with:\n",
    "* `nh=256` hidden units\n",
    "* `sigmoid` activation\n",
    "* select the input and output shapes correctly\n",
    "* print the model summary"
   ]
  },
  {
   "cell_type": "code",
   "execution_count": 292,
   "metadata": {},
   "outputs": [],
   "source": [
    "from tensorflow.keras.models import Model, Sequential\n",
    "from tensorflow.keras.layers import Dense, Activation\n",
    "import tensorflow.keras.backend as K\n"
   ]
  },
  {
   "cell_type": "code",
   "execution_count": 293,
   "metadata": {},
   "outputs": [],
   "source": [
    "# TODO clear session\n",
    "K.clear_session()"
   ]
  },
  {
   "cell_type": "code",
   "execution_count": 294,
   "metadata": {},
   "outputs": [],
   "source": [
    "# TODO: construct the model\n",
    "nh = 256\n",
    "nin = 120\n",
    "nout = 10\n",
    "model = Sequential()\n",
    "model.add(Dense(units=nh, input_shape=(nin,), activation='sigmoid', name='hidden'))\n",
    "model.add(Dense(units=nout, activation='sigmoid', name='output'))"
   ]
  },
  {
   "cell_type": "code",
   "execution_count": 295,
   "metadata": {},
   "outputs": [
    {
     "name": "stdout",
     "output_type": "stream",
     "text": [
      "Model: \"sequential\"\n",
      "_________________________________________________________________\n",
      " Layer (type)                Output Shape              Param #   \n",
      "=================================================================\n",
      " hidden (Dense)              (None, 256)               30976     \n",
      "                                                                 \n",
      " output (Dense)              (None, 10)                2570      \n",
      "                                                                 \n",
      "=================================================================\n",
      "Total params: 33,546\n",
      "Trainable params: 33,546\n",
      "Non-trainable params: 0\n",
      "_________________________________________________________________\n"
     ]
    }
   ],
   "source": [
    "# TODO:  Print the model summary\n",
    "model.summary()"
   ]
  },
  {
   "cell_type": "markdown",
   "metadata": {},
   "source": [
    "Create an optimizer and compile the model.  Select the appropriate loss function and metrics.  For the optimizer, use the Adam optimizer with a learning rate of 0.001"
   ]
  },
  {
   "cell_type": "code",
   "execution_count": 296,
   "metadata": {
    "scrolled": true
   },
   "outputs": [],
   "source": [
    "# TODO\n",
    "from tensorflow.keras import optimizers\n",
    "opt = optimizers.Adam(lr=0.001)\n",
    "model.compile(optimizer=opt, loss=\"sparse_categorical_crossentropy\", metrics = [\"accuracy\"])"
   ]
  },
  {
   "cell_type": "markdown",
   "metadata": {},
   "source": [
    "Fit the model for 10 epochs using the scaled data for both the training and validation.  Use the `validation_data` option to pass the test data.  Also, pass the callback class create above.  Use a batch size of 100.  Your final accuracy should be >99%."
   ]
  },
  {
   "cell_type": "code",
   "execution_count": 297,
   "metadata": {
    "scrolled": true
   },
   "outputs": [
    {
     "name": "stdout",
     "output_type": "stream",
     "text": [
      "Epoch 1/10\n",
      "663/663 [==============================] - 1s 856us/step - loss: 1.1890 - accuracy: 0.5963 - val_loss: 1.2155 - val_accuracy: 0.5925\n",
      "Epoch 2/10\n",
      "663/663 [==============================] - 1s 769us/step - loss: 0.7766 - accuracy: 0.7447 - val_loss: 0.8701 - val_accuracy: 0.7368\n",
      "Epoch 3/10\n",
      "663/663 [==============================] - 1s 785us/step - loss: 0.6029 - accuracy: 0.8008 - val_loss: 0.6939 - val_accuracy: 0.7815\n",
      "Epoch 4/10\n",
      "663/663 [==============================] - 1s 782us/step - loss: 0.4966 - accuracy: 0.8382 - val_loss: 0.5629 - val_accuracy: 0.8215\n",
      "Epoch 5/10\n",
      "663/663 [==============================] - 1s 783us/step - loss: 0.4205 - accuracy: 0.8668 - val_loss: 0.4925 - val_accuracy: 0.8546\n",
      "Epoch 6/10\n",
      "663/663 [==============================] - 1s 778us/step - loss: 0.3642 - accuracy: 0.8887 - val_loss: 0.4452 - val_accuracy: 0.8645\n",
      "Epoch 7/10\n",
      "663/663 [==============================] - 1s 782us/step - loss: 0.3203 - accuracy: 0.9038 - val_loss: 0.3794 - val_accuracy: 0.8824\n",
      "Epoch 8/10\n",
      "663/663 [==============================] - 1s 778us/step - loss: 0.2855 - accuracy: 0.9154 - val_loss: 0.3465 - val_accuracy: 0.8976\n",
      "Epoch 9/10\n",
      "663/663 [==============================] - 1s 797us/step - loss: 0.2580 - accuracy: 0.9241 - val_loss: 0.3266 - val_accuracy: 0.9090\n",
      "Epoch 10/10\n",
      "663/663 [==============================] - 1s 773us/step - loss: 0.2352 - accuracy: 0.9313 - val_loss: 0.3270 - val_accuracy: 0.9088\n"
     ]
    }
   ],
   "source": [
    "# TODO\n",
    "hist = model.fit(Xtr_scale, ytr, epochs =10, batch_size =100, validation_data = (Xts_scale, yts))"
   ]
  },
  {
   "cell_type": "markdown",
   "metadata": {},
   "source": [
    "Plot the validation accuracy saved in `hist.history` dictionary. This gives one accuracy value per epoch.  You should see that the validation accuracy saturates at a little higher than 99%.  After that it \"bounces around\" due to the noise in the stochastic gradient descent."
   ]
  },
  {
   "cell_type": "code",
   "execution_count": 298,
   "metadata": {},
   "outputs": [
    {
     "data": {
      "text/plain": [
       "{'loss': [1.1890029907226562,\n",
       "  0.7765828371047974,\n",
       "  0.6028932332992554,\n",
       "  0.4966089725494385,\n",
       "  0.4204821288585663,\n",
       "  0.3641979396343231,\n",
       "  0.32031309604644775,\n",
       "  0.2855477035045624,\n",
       "  0.2579723000526428,\n",
       "  0.23517079651355743],\n",
       " 'accuracy': [0.5963289141654968,\n",
       "  0.7446677088737488,\n",
       "  0.8008211851119995,\n",
       "  0.8382115364074707,\n",
       "  0.8668015003204346,\n",
       "  0.8887044191360474,\n",
       "  0.9038144946098328,\n",
       "  0.9153621792793274,\n",
       "  0.9240720272064209,\n",
       "  0.9313478469848633],\n",
       " 'val_loss': [1.2154797315597534,\n",
       "  0.870056688785553,\n",
       "  0.693882405757904,\n",
       "  0.562886118888855,\n",
       "  0.4924878180027008,\n",
       "  0.44516047835350037,\n",
       "  0.3794034421443939,\n",
       "  0.3465077877044678,\n",
       "  0.32656237483024597,\n",
       "  0.3269965350627899],\n",
       " 'val_accuracy': [0.5924584269523621,\n",
       "  0.7367820739746094,\n",
       "  0.7815351486206055,\n",
       "  0.8214573264122009,\n",
       "  0.8546028137207031,\n",
       "  0.8644658923149109,\n",
       "  0.8824476599693298,\n",
       "  0.8976113796234131,\n",
       "  0.9089506268501282,\n",
       "  0.908816397190094]}"
      ]
     },
     "execution_count": 298,
     "metadata": {},
     "output_type": "execute_result"
    }
   ],
   "source": [
    "hist.history"
   ]
  },
  {
   "cell_type": "code",
   "execution_count": 299,
   "metadata": {},
   "outputs": [
    {
     "data": {
      "image/png": "[encoded data removed]",
      "text/plain": [
       "<Figure size 432x288 with 1 Axes>"
      ]
     },
     "metadata": {
      "needs_background": "light"
     },
     "output_type": "display_data"
    }
   ],
   "source": [
    "# TODO\n",
    "accuracy_tr = hist.history['accuracy']\n",
    "accuracy_ts = hist.history['val_accuracy']\n",
    "plt.plot(accuracy_ts)\n",
    "plt.xlabel(\"epochs\")\n",
    "plt.ylabel(\"validation accuracy\")\n",
    "plt.grid()"
   ]
  },
  {
   "cell_type": "markdown",
   "metadata": {},
   "source": [
    "Plot the loss values saved in the `hist.history` dictionary.  You should see that the loss is steadily decreasing.  Use the `semilogy` plot."
   ]
  },
  {
   "cell_type": "code",
   "execution_count": 300,
   "metadata": {},
   "outputs": [
    {
     "data": {
      "image/png": "[encoded data removed]",
      "text/plain": [
       "<Figure size 432x288 with 1 Axes>"
      ]
     },
     "metadata": {
      "needs_background": "light"
     },
     "output_type": "display_data"
    }
   ],
   "source": [
    "# TODO\n",
    "loss = hist.history['loss']\n",
    "plt.plot(loss)\n",
    "plt.xlabel('epochs')\n",
    "plt.ylabel('loss')\n",
    "plt.grid()"
   ]
  },
  {
   "cell_type": "markdown",
   "metadata": {},
   "source": [
    "## Optimizing the Learning Rate\n",
    "\n",
    "One challenge in training neural networks is the selection of the learning rate.  Rerun the above code, trying four learning rates as shown in the vector `rates`.  For each learning rate:\n",
    "* clear the session\n",
    "* construct the network\n",
    "* select the optimizer.  Use the Adam optimizer with the appropriate learrning rate.\n",
    "* train the model for 20 epochs\n",
    "* save the accuracy and losses"
   ]
  },
  {
   "cell_type": "code",
   "execution_count": 301,
   "metadata": {},
   "outputs": [
    {
     "name": "stdout",
     "output_type": "stream",
     "text": [
      "Epoch 1/10\n",
      "663/663 [==============================] - 1s 1ms/step - loss: 0.6498 - accuracy: 0.7794 - val_loss: 0.4608 - val_accuracy: 0.8589\n",
      "Epoch 2/10\n",
      "663/663 [==============================] - 1s 853us/step - loss: 0.2642 - accuracy: 0.9120 - val_loss: 0.3060 - val_accuracy: 0.8983\n",
      "Epoch 3/10\n",
      "663/663 [==============================] - 1s 861us/step - loss: 0.1912 - accuracy: 0.9352 - val_loss: 0.2635 - val_accuracy: 0.9247\n",
      "Epoch 4/10\n",
      "663/663 [==============================] - 1s 884us/step - loss: 0.1508 - accuracy: 0.9496 - val_loss: 0.2903 - val_accuracy: 0.9261\n",
      "Epoch 5/10\n",
      "663/663 [==============================] - 1s 903us/step - loss: 0.1329 - accuracy: 0.9546 - val_loss: 0.3400 - val_accuracy: 0.9075\n",
      "Epoch 6/10\n",
      "663/663 [==============================] - 1s 906us/step - loss: 0.1186 - accuracy: 0.9599 - val_loss: 0.2657 - val_accuracy: 0.9259\n",
      "Epoch 7/10\n",
      "663/663 [==============================] - 1s 868us/step - loss: 0.1041 - accuracy: 0.9653 - val_loss: 0.2895 - val_accuracy: 0.9265\n",
      "Epoch 8/10\n",
      "663/663 [==============================] - 1s 866us/step - loss: 0.0978 - accuracy: 0.9675 - val_loss: 0.3533 - val_accuracy: 0.9216\n",
      "Epoch 9/10\n",
      "663/663 [==============================] - 1s 892us/step - loss: 0.0888 - accuracy: 0.9693 - val_loss: 0.4044 - val_accuracy: 0.8962\n",
      "Epoch 10/10\n",
      "663/663 [==============================] - 1s 873us/step - loss: 0.0864 - accuracy: 0.9708 - val_loss: 0.3518 - val_accuracy: 0.9280\n",
      "Epoch 1/10\n",
      "663/663 [==============================] - 1s 918us/step - loss: 1.1882 - accuracy: 0.5979 - val_loss: 1.2052 - val_accuracy: 0.5881\n",
      "Epoch 2/10\n",
      "663/663 [==============================] - 1s 830us/step - loss: 0.7719 - accuracy: 0.7461 - val_loss: 0.8688 - val_accuracy: 0.7250\n",
      "Epoch 3/10\n",
      "663/663 [==============================] - 1s 830us/step - loss: 0.5990 - accuracy: 0.8045 - val_loss: 0.6751 - val_accuracy: 0.7858\n",
      "Epoch 4/10\n",
      "663/663 [==============================] - 1s 821us/step - loss: 0.4939 - accuracy: 0.8400 - val_loss: 0.5562 - val_accuracy: 0.8378\n",
      "Epoch 5/10\n",
      "663/663 [==============================] - 1s 836us/step - loss: 0.4185 - accuracy: 0.8671 - val_loss: 0.4773 - val_accuracy: 0.8508\n",
      "Epoch 6/10\n",
      "663/663 [==============================] - 1s 837us/step - loss: 0.3618 - accuracy: 0.8902 - val_loss: 0.4219 - val_accuracy: 0.8784\n",
      "Epoch 7/10\n",
      "663/663 [==============================] - 1s 852us/step - loss: 0.3185 - accuracy: 0.9043 - val_loss: 0.3774 - val_accuracy: 0.8888\n",
      "Epoch 8/10\n",
      "663/663 [==============================] - 1s 835us/step - loss: 0.2834 - accuracy: 0.9179 - val_loss: 0.3581 - val_accuracy: 0.8970\n",
      "Epoch 9/10\n",
      "663/663 [==============================] - 1s 819us/step - loss: 0.2561 - accuracy: 0.9249 - val_loss: 0.3275 - val_accuracy: 0.9050\n",
      "Epoch 10/10\n",
      "663/663 [==============================] - 1s 829us/step - loss: 0.2335 - accuracy: 0.9334 - val_loss: 0.3093 - val_accuracy: 0.9085\n",
      "Epoch 1/10\n",
      "663/663 [==============================] - 1s 894us/step - loss: 1.7358 - accuracy: 0.4119 - val_loss: 1.8033 - val_accuracy: 0.3711\n",
      "Epoch 2/10\n",
      "663/663 [==============================] - 1s 841us/step - loss: 1.4359 - accuracy: 0.5058 - val_loss: 1.6915 - val_accuracy: 0.4135\n",
      "Epoch 3/10\n",
      "663/663 [==============================] - 1s 822us/step - loss: 1.3095 - accuracy: 0.5521 - val_loss: 1.6060 - val_accuracy: 0.4397\n",
      "Epoch 4/10\n",
      "663/663 [==============================] - 1s 807us/step - loss: 1.2165 - accuracy: 0.5859 - val_loss: 1.5255 - val_accuracy: 0.4716\n",
      "Epoch 5/10\n",
      "663/663 [==============================] - 1s 804us/step - loss: 1.1384 - accuracy: 0.6146 - val_loss: 1.4450 - val_accuracy: 0.5020\n",
      "Epoch 6/10\n",
      "663/663 [==============================] - 1s 816us/step - loss: 1.0708 - accuracy: 0.6412 - val_loss: 1.3710 - val_accuracy: 0.5372\n",
      "Epoch 7/10\n",
      "663/663 [==============================] - 1s 828us/step - loss: 1.0121 - accuracy: 0.6638 - val_loss: 1.3141 - val_accuracy: 0.5448\n",
      "Epoch 8/10\n",
      "663/663 [==============================] - 1s 829us/step - loss: 0.9607 - accuracy: 0.6820 - val_loss: 1.2391 - val_accuracy: 0.5802\n",
      "Epoch 9/10\n",
      "663/663 [==============================] - 1s 855us/step - loss: 0.9156 - accuracy: 0.6983 - val_loss: 1.1899 - val_accuracy: 0.6094\n",
      "Epoch 10/10\n",
      "663/663 [==============================] - 1s 866us/step - loss: 0.8751 - accuracy: 0.7123 - val_loss: 1.1337 - val_accuracy: 0.6227\n"
     ]
    }
   ],
   "source": [
    "rates = [0.01,0.001,0.0001]\n",
    "batch_size = 100\n",
    "loss_hist = []\n",
    "\n",
    "# TODO\n",
    "for lr in rates:\n",
    "   K.clear_session()\n",
    "   nh = 256\n",
    "   nin = 120\n",
    "   nout = 10\n",
    "   model = Sequential()\n",
    "   model.add(Dense(units=nh, input_shape=(nin,),activation='sigmoid', name='hidden'))\n",
    "   model.add(Dense(units=nout,activation='sigmoid', name='output'))\n",
    "   opt = optimizers.Adam(lr)\n",
    "   model.compile(optimizer=opt, loss='sparse_categorical_crossentropy', metrics=['accuracy'])\n",
    "   hist = model.fit(Xtr_scale, ytr, epochs =10, batch_size =100, validation_data = (Xts_scale, yts))\n",
    "   loss_hist.append(hist.history['loss'])\n"
   ]
  },
  {
   "cell_type": "markdown",
   "metadata": {},
   "source": [
    "Plot the loss funciton vs. the epoch number for all three learning rates on one graph.  You should see that the lower learning rates are more stable, but converge slower."
   ]
  },
  {
   "cell_type": "code",
   "execution_count": 302,
   "metadata": {},
   "outputs": [
    {
     "data": {
      "image/png": "[encoded data removed]",
      "text/plain": [
       "<Figure size 432x288 with 1 Axes>"
      ]
     },
     "metadata": {
      "needs_background": "light"
     },
     "output_type": "display_data"
    }
   ],
   "source": [
    "# TODO\n",
    "r1 = loss_hist[0]\n",
    "r2 = loss_hist[1]\n",
    "r3 = loss_hist[2]\n",
    "\n",
    "plt.plot(r1)\n",
    "plt.plot(r2)\n",
    "plt.plot(r3)\n",
    "plt.legend(['lr=0.01', 'lr=0.001', 'lr=0.0001'])\n",
    "plt.grid()\n"
   ]
  },
  {
   "cell_type": "code",
   "execution_count": null,
   "metadata": {},
   "outputs": [],
   "source": []
  },
  {
   "cell_type": "code",
   "execution_count": null,
   "metadata": {},
   "outputs": [],
   "source": []
  }
 ],
 "metadata": {
  "anaconda-cloud": {},
  "kernelspec": {
   "display_name": "Python 3",
   "language": "python",
   "name": "python3"
  },
  "language_info": {
   "codemirror_mode": {
    "name": "ipython",
    "version": 3
   },
   "file_extension": ".py",
   "mimetype": "text/x-python",
   "name": "python",
   "nbconvert_exporter": "python",
   "pygments_lexer": "ipython3",
   "version": "3.9.7"
  }
 },
 "nbformat": 4,
 "nbformat_minor": 1
}
