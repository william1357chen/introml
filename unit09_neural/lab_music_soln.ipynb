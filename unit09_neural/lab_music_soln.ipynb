{
 "cells": [
  {
   "cell_type": "markdown",
   "metadata": {},
   "source": [
    "# Lab:  Neural Networks for Music Classification\n",
    "\n",
    "In addition to the concepts in the [MNIST neural network demo](./demo2_mnist_neural.ipynb), in this lab, you will learn to:\n",
    "* Load a file from a URL\n",
    "* Extract simple features from audio samples for machine learning tasks such as speech recognition and classification\n",
    "* Build a simple neural network for music classification using these features\n",
    "* Use a callback to store the loss and accuracy history in the training process\n",
    "* Optimize the learning rate of the neural network\n",
    "\n",
    "To illustrate the basic concepts, we will look at a relatively simple music classification problem.  Given a sample of music, we want to determine which instrument (e.g. trumpet, violin, piano) is playing.  This dataset was generously supplied by [Prof. Juan Bello](http://steinhardt.nyu.edu/faculty/Juan_Pablo_Bello) at NYU Stenihardt  and his former PhD student Eric Humphrey (now at Spotify).  They have a complete website dedicated to deep learning methods in music informatics:\n",
    "\n",
    "http://marl.smusic.nyu.edu/wordpress/projects/feature-learning-deep-architectures/deep-learning-python-tutorial/\n",
    "\n",
    "You can also check out Juan's <a href=\"http://www.nyu.edu/classes/bello/ACA.html\">course</a>.\n",
    "\n"
   ]
  },
  {
   "cell_type": "markdown",
   "metadata": {},
   "source": [
    "## Loading Tensorflow\n",
    "\n",
    "Before starting this lab, you will need to install [Tensorflow](https://www.tensorflow.org/install/).  If you are using [Google colaboratory](https://colab.research.google.com), Tensorflow is already installed.  Run the following command to ensure Tensorflow is installed."
   ]
  },
  {
   "cell_type": "code",
   "execution_count": 1,
   "metadata": {},
   "outputs": [],
   "source": [
    "import tensorflow as tf"
   ]
  },
  {
   "cell_type": "markdown",
   "metadata": {},
   "source": [
    "Then, load the other packages."
   ]
  },
  {
   "cell_type": "code",
   "execution_count": 2,
   "metadata": {},
   "outputs": [],
   "source": [
    "import numpy as np\n",
    "import matplotlib\n",
    "import matplotlib.pyplot as plt"
   ]
  },
  {
   "cell_type": "markdown",
   "metadata": {},
   "source": [
    "## Audio Feature Extraction with Librosa\n",
    "\n",
    "The key to audio classification is to extract the correct features. In addition to `keras`, we will need the `librosa` package.  The `librosa` package in python has a rich set of methods extracting the features of audio samples commonly used in machine learning tasks such as speech recognition and sound classification. \n",
    "\n",
    "Installation instructions and complete documentation for the package are given on the [librosa main page](https://librosa.github.io/librosa/).  On most systems, you should be able to simply use:\n",
    "\n",
    "    pip install -u librosa\n",
    "    \n",
    "For Unix, you may need to load some additional packages:\n",
    "\n",
    "    sudo apt-get install build-essential\n",
    "    sudo apt-get install libxext-dev python-qt4 qt4-dev-tools\n",
    "    pip install librosa\n",
    "    \n",
    "After you have installed the package, try to import it."
   ]
  },
  {
   "cell_type": "code",
   "execution_count": 3,
   "metadata": {},
   "outputs": [],
   "source": [
    "import librosa\n",
    "import librosa.display\n",
    "import librosa.feature"
   ]
  },
  {
   "cell_type": "markdown",
   "metadata": {},
   "source": [
    "In this lab, we will use a set of music samples from the website:\n",
    "\n",
    "http://theremin.music.uiowa.edu\n",
    "\n",
    "This website has a great set of samples for audio processing.  Look on the web for how to use the `requests.get` and `file.write` commands to load the file at the URL provided into your working directory.\n",
    "\n",
    "You can play the audio sample by copying the file to your local machine and playing it on any media player.  If you listen to it you will hear a soprano saxaphone (with vibrato) playing four notes (C, C#, D, Eb)."
   ]
  },
  {
   "cell_type": "code",
   "execution_count": 4,
   "metadata": {},
   "outputs": [],
   "source": [
    "import requests\n",
    "fn = \"SopSax.Vib.pp.C6Eb6.aiff\"\n",
    "url = \"http://theremin.music.uiowa.edu/sound files/MIS/Woodwinds/sopranosaxophone/\"+fn\n",
    "\n",
    "# TODO:  Load the file from url and save it in a file under the name fn\n",
    "req = requests.get(url)\n",
    "with open(fn, \"wb\") as file:        \n",
    "    # write to file\n",
    "    file.write(req.content)"
   ]
  },
  {
   "cell_type": "markdown",
   "metadata": {},
   "source": [
    "Next, use `librosa` command `librosa.load` to read the audio file with filename `fn` and get the samples `y` and sample rate `sr`."
   ]
  },
  {
   "cell_type": "code",
   "execution_count": 5,
   "metadata": {},
   "outputs": [],
   "source": [
    "# TODO\n",
    "# y, sr = ...\n",
    "y, sr = librosa.load(fn)"
   ]
  },
  {
   "cell_type": "markdown",
   "metadata": {},
   "source": [
    "Extracting features from audio files is an entire subject on its own right.  A commonly used set of features are called the Mel Frequency Cepstral Coefficients (MFCCs).  These are derived from the so-called mel spectrogram which is something like a regular spectrogram, but the power and frequency are represented in log scale, which more naturally aligns with human perceptual processing.  You can run the code below to display the mel spectrogram from the audio sample.\n",
    "\n",
    "You can easily see the four notes played in the audio track.  You also see the 'harmonics' of each notes, which are other tones at integer multiples of the fundamental frequency of each note."
   ]
  },
  {
   "cell_type": "code",
   "execution_count": 6,
   "metadata": {},
   "outputs": [
    {
     "data": {
      "image/png": "[encoded data removed]",
      "text/plain": [
       "<Figure size 432x288 with 2 Axes>"
      ]
     },
     "metadata": {
      "needs_background": "light"
     },
     "output_type": "display_data"
    }
   ],
   "source": [
    "S = librosa.feature.melspectrogram(y=y, sr=sr, n_mels=128, fmax=8000)\n",
    "librosa.display.specshow(librosa.amplitude_to_db(S),\n",
    "                         y_axis='mel', fmax=8000, x_axis='time')\n",
    "plt.colorbar(format='%+2.0f dB')\n",
    "plt.title('Mel spectrogram')\n",
    "plt.tight_layout()"
   ]
  },
  {
   "cell_type": "markdown",
   "metadata": {},
   "source": [
    "## Downloading the Data\n",
    "\n",
    "Using the MFCC features described above, Eric Humphrey and Juan Bellow have created a complete data set that can used for instrument classification.  Essentially, they collected a number of data files from the website above.  For each audio file, the segmented the track into notes and then extracted 120 MFCCs for each note.  The goal is to recognize the instrument from the 120 MFCCs.  The process of feature extraction is quite involved.  So, we will just use their processed data provided at:\n",
    "\n",
    "https://github.com/marl/dl4mir-tutorial/blob/master/README.md\n",
    "\n",
    "Note the password.  Load the four files into some directory, say  `instrument_dataset`.  Then, load them with the commands."
   ]
  },
  {
   "cell_type": "code",
   "execution_count": 7,
   "metadata": {},
   "outputs": [],
   "source": [
    "data_dir = 'instrument_dataset/'\n",
    "Xtr = np.load(data_dir+'uiowa_train_data.npy')\n",
    "ytr = np.load(data_dir+'uiowa_train_labels.npy')\n",
    "Xts = np.load(data_dir+'uiowa_test_data.npy')\n",
    "yts = np.load(data_dir+'uiowa_test_labels.npy')"
   ]
  },
  {
   "cell_type": "markdown",
   "metadata": {},
   "source": [
    "Looking at the data files:\n",
    "* What are the number of training and test samples?\n",
    "* What is the number of features for each sample?\n",
    "* How many classes (i.e. instruments) are there per class?\n"
   ]
  },
  {
   "cell_type": "code",
   "execution_count": 8,
   "metadata": {},
   "outputs": [
    {
     "name": "stdout",
     "output_type": "stream",
     "text": [
      "Num training= 66247\n",
      "Num test=     14904\n",
      "Num features= 120\n",
      "Num classes=  10\n"
     ]
    }
   ],
   "source": [
    "# TODO\n",
    "print('Num training= {0:d}'.format(Xtr.shape[0]))\n",
    "print('Num test=     {0:d}'.format(Xts.shape[0]))\n",
    "print('Num features= {0:d}'.format(Xtr.shape[1]))\n",
    "print('Num classes=  {0:d}'.format(np.max(ytr)+1))"
   ]
  },
  {
   "cell_type": "markdown",
   "metadata": {},
   "source": [
    "Before continuing, you must scale the training and test data, `Xtr` and `Xts`.  Compute the mean and std deviation of each feature in `Xtr` and create a new training data set, `Xtr_scale`, by subtracting the mean and dividing by the std deviation.  Also compute a scaled test data set, `Xts_scale` using the mean and std deviation learned from the training data set."
   ]
  },
  {
   "cell_type": "code",
   "execution_count": 9,
   "metadata": {},
   "outputs": [],
   "source": [
    "# TODO Scale the training and test matrices\n",
    "# Xtr_scale = ...\n",
    "# Xts_scale = ...\n",
    "xmean = np.mean(Xtr,axis=0)\n",
    "xstd = np.std(Xtr,axis=0)\n",
    "Xtr_scale = (Xtr-xmean[None,:])/xstd[None,:]\n",
    "Xts_scale = (Xts-xmean[None,:])/xstd[None,:]"
   ]
  },
  {
   "cell_type": "markdown",
   "metadata": {
    "collapsed": true
   },
   "source": [
    "## Building a Neural Network Classifier\n",
    "\n",
    "Following the example in [MNIST neural network demo](./mnist_neural.ipynb), clear the keras session.  Then, create a neural network `model` with:\n",
    "* `nh=256` hidden units\n",
    "* `sigmoid` activation\n",
    "* select the input and output shapes correctly\n",
    "* print the model summary"
   ]
  },
  {
   "cell_type": "code",
   "execution_count": 10,
   "metadata": {},
   "outputs": [],
   "source": [
    "from tensorflow.keras.models import Model, Sequential\n",
    "from tensorflow.keras.layers import Dense, Activation"
   ]
  },
  {
   "cell_type": "code",
   "execution_count": 11,
   "metadata": {},
   "outputs": [],
   "source": [
    "# TODO clear session\n",
    "import tensorflow.keras.backend as K\n",
    "K.clear_session()"
   ]
  },
  {
   "cell_type": "code",
   "execution_count": 12,
   "metadata": {},
   "outputs": [],
   "source": [
    "# TODO: construct the model\n",
    "nin = Xtr.shape[1]\n",
    "nout = np.max(ytr)+1\n",
    "nh = 256\n",
    "model = Sequential()\n",
    "model.add(Dense(nh, input_shape=(nin,), activation='sigmoid', name='hidden'))\n",
    "model.add(Dense(nout, activation='softmax', name='output'))"
   ]
  },
  {
   "cell_type": "code",
   "execution_count": 13,
   "metadata": {},
   "outputs": [
    {
     "name": "stdout",
     "output_type": "stream",
     "text": [
      "Model: \"sequential\"\n",
      "_________________________________________________________________\n",
      "Layer (type)                 Output Shape              Param #   \n",
      "=================================================================\n",
      "hidden (Dense)               (None, 256)               30976     \n",
      "_________________________________________________________________\n",
      "output (Dense)               (None, 10)                2570      \n",
      "=================================================================\n",
      "Total params: 33,546\n",
      "Trainable params: 33,546\n",
      "Non-trainable params: 0\n",
      "_________________________________________________________________\n"
     ]
    }
   ],
   "source": [
    "# TODO:  Print the model summary\n",
    "model.summary()"
   ]
  },
  {
   "cell_type": "markdown",
   "metadata": {},
   "source": [
    "Create an optimizer and compile the model.  Select the appropriate loss function and metrics.  For the optimizer, use the Adam optimizer with a learning rate of 0.001"
   ]
  },
  {
   "cell_type": "code",
   "execution_count": 14,
   "metadata": {
    "scrolled": true
   },
   "outputs": [],
   "source": [
    "# TODO\n",
    "# opt = ...\n",
    "# model.compile(...)\n",
    "from tensorflow.keras import optimizers\n",
    "\n",
    "opt = optimizers.Adam(lr=0.001) \n",
    "model.compile(optimizer=opt,\n",
    "              loss='sparse_categorical_crossentropy',\n",
    "              metrics=['accuracy'])"
   ]
  },
  {
   "cell_type": "markdown",
   "metadata": {},
   "source": [
    "Fit the model for 10 epochs using the scaled data for both the training and validation.  Use the `validation_data` option to pass the test data.  Also, pass the callback class create above.  Use a batch size of 100.  Your final accuracy should be >99%."
   ]
  },
  {
   "cell_type": "code",
   "execution_count": 15,
   "metadata": {
    "scrolled": true
   },
   "outputs": [
    {
     "name": "stdout",
     "output_type": "stream",
     "text": [
      "Epoch 1/10\n",
      "663/663 [==============================] - 1s 1ms/step - loss: 0.3640 - accuracy: 0.8998 - val_loss: 0.1832 - val_accuracy: 0.9571\n",
      "Epoch 2/10\n",
      "663/663 [==============================] - 1s 1ms/step - loss: 0.1037 - accuracy: 0.9750 - val_loss: 0.0895 - val_accuracy: 0.9803\n",
      "Epoch 3/10\n",
      "663/663 [==============================] - 1s 1ms/step - loss: 0.0608 - accuracy: 0.9856 - val_loss: 0.0726 - val_accuracy: 0.9815\n",
      "Epoch 4/10\n",
      "663/663 [==============================] - 1s 1ms/step - loss: 0.0430 - accuracy: 0.9893 - val_loss: 0.0644 - val_accuracy: 0.9803\n",
      "Epoch 5/10\n",
      "663/663 [==============================] - 1s 1ms/step - loss: 0.0325 - accuracy: 0.9917 - val_loss: 0.0396 - val_accuracy: 0.9899\n",
      "Epoch 6/10\n",
      "663/663 [==============================] - 1s 1ms/step - loss: 0.0258 - accuracy: 0.9934 - val_loss: 0.0360 - val_accuracy: 0.9902\n",
      "Epoch 7/10\n",
      "663/663 [==============================] - 1s 1ms/step - loss: 0.0210 - accuracy: 0.9947 - val_loss: 0.0334 - val_accuracy: 0.9892\n",
      "Epoch 8/10\n",
      "663/663 [==============================] - 1s 1ms/step - loss: 0.0176 - accuracy: 0.9956 - val_loss: 0.0328 - val_accuracy: 0.9901\n",
      "Epoch 9/10\n",
      "663/663 [==============================] - 1s 1ms/step - loss: 0.0150 - accuracy: 0.9961 - val_loss: 0.0271 - val_accuracy: 0.9917\n",
      "Epoch 10/10\n",
      "663/663 [==============================] - 1s 1ms/step - loss: 0.0131 - accuracy: 0.9965 - val_loss: 0.0240 - val_accuracy: 0.9917\n"
     ]
    }
   ],
   "source": [
    "batch_size = 100\n",
    "hist = model.fit(Xtr_scale, ytr, epochs=10, batch_size=batch_size, validation_data=(Xts_scale,yts))"
   ]
  },
  {
   "cell_type": "markdown",
   "metadata": {},
   "source": [
    "Plot the validation accuracy saved in `hist.history` dictionary. This gives one accuracy value per epoch.  You should see that the validation accuracy saturates at a little higher than 99%.  After that it \"bounces around\" due to the noise in the stochastic gradient descent."
   ]
  },
  {
   "cell_type": "code",
   "execution_count": 17,
   "metadata": {},
   "outputs": [
    {
     "data": {
      "text/plain": [
       "Text(0, 0.5, 'Test accuracy')"
      ]
     },
     "execution_count": 17,
     "metadata": {},
     "output_type": "execute_result"
    },
    {
     "data": {
      "image/png": "[encoded data removed]",
      "text/plain": [
       "<Figure size 432x288 with 1 Axes>"
      ]
     },
     "metadata": {
      "needs_background": "light"
     },
     "output_type": "display_data"
    }
   ],
   "source": [
    "# TODO\n",
    "val_acc = hist.history['val_accuracy']\n",
    "nepochs = len(val_acc)\n",
    "plt.plot(np.arange(1,nepochs+1), val_acc, 'o-', linewidth=2)\n",
    "plt.grid()\n",
    "plt.xlabel('Epoch')\n",
    "plt.ylabel('Test accuracy')"
   ]
  },
  {
   "cell_type": "markdown",
   "metadata": {},
   "source": [
    "Plot the loss values saved in the `hist.history` dictionary.  You should see that the loss is steadily decreasing.  Use the `semilogy` plot."
   ]
  },
  {
   "cell_type": "code",
   "execution_count": 18,
   "metadata": {},
   "outputs": [
    {
     "data": {
      "image/png": "[encoded data removed]",
      "text/plain": [
       "<Figure size 432x288 with 1 Axes>"
      ]
     },
     "metadata": {
      "needs_background": "light"
     },
     "output_type": "display_data"
    }
   ],
   "source": [
    "loss = hist.history['loss']\n",
    "plt.semilogy(np.arange(1,nepochs+1), loss, 'o-')\n",
    "plt.xlabel('Epochs', fontsize=16)\n",
    "plt.ylabel('Loss', fontsize=16)\n",
    "plt.grid()\n",
    "plt.tight_layout()"
   ]
  },
  {
   "cell_type": "markdown",
   "metadata": {},
   "source": [
    "## Optimizing the Learning Rate\n",
    "\n",
    "One challenge in training neural networks is the selection of the learning rate.  Rerun the above code, trying four learning rates as shown in the vector `rates`.  For each learning rate:\n",
    "* clear the session\n",
    "* construct the network\n",
    "* select the optimizer.  Use the Adam optimizer with the appropriate learrning rate.\n",
    "* train the model for 20 epochs\n",
    "* save the accuracy and losses"
   ]
  },
  {
   "cell_type": "code",
   "execution_count": 19,
   "metadata": {},
   "outputs": [
    {
     "name": "stdout",
     "output_type": "stream",
     "text": [
      "Epoch 1/20\n",
      "663/663 [==============================] - 1s 1ms/step - loss: 0.1058 - accuracy: 0.9667 - val_loss: 0.0910 - val_accuracy: 0.9650\n",
      "Epoch 2/20\n",
      "663/663 [==============================] - 1s 1ms/step - loss: 0.0293 - accuracy: 0.9901 - val_loss: 0.0327 - val_accuracy: 0.9880\n",
      "Epoch 3/20\n",
      "663/663 [==============================] - 1s 1ms/step - loss: 0.0227 - accuracy: 0.9928 - val_loss: 0.0494 - val_accuracy: 0.9833\n",
      "Epoch 4/20\n",
      "663/663 [==============================] - 1s 1ms/step - loss: 0.0188 - accuracy: 0.9936 - val_loss: 0.0913 - val_accuracy: 0.9713\n",
      "Epoch 5/20\n",
      "663/663 [==============================] - 1s 1ms/step - loss: 0.0150 - accuracy: 0.9950 - val_loss: 0.0252 - val_accuracy: 0.9899\n",
      "Epoch 6/20\n",
      "663/663 [==============================] - 1s 1ms/step - loss: 0.0148 - accuracy: 0.9953 - val_loss: 0.0615 - val_accuracy: 0.9795\n",
      "Epoch 7/20\n",
      "663/663 [==============================] - 1s 1ms/step - loss: 0.0133 - accuracy: 0.9959 - val_loss: 0.0802 - val_accuracy: 0.9774\n",
      "Epoch 8/20\n",
      "663/663 [==============================] - 1s 1ms/step - loss: 0.0149 - accuracy: 0.9950 - val_loss: 0.0535 - val_accuracy: 0.9830\n",
      "Epoch 9/20\n",
      "663/663 [==============================] - 1s 1ms/step - loss: 0.0082 - accuracy: 0.9974 - val_loss: 0.0408 - val_accuracy: 0.9868\n",
      "Epoch 10/20\n",
      "663/663 [==============================] - 1s 1ms/step - loss: 0.0111 - accuracy: 0.9964 - val_loss: 0.0454 - val_accuracy: 0.9866\n",
      "Epoch 11/20\n",
      "663/663 [==============================] - 1s 1ms/step - loss: 0.0124 - accuracy: 0.9966 - val_loss: 0.0858 - val_accuracy: 0.9825\n",
      "Epoch 12/20\n",
      "663/663 [==============================] - 1s 1ms/step - loss: 0.0114 - accuracy: 0.9964 - val_loss: 0.0597 - val_accuracy: 0.9868\n",
      "Epoch 13/20\n",
      "663/663 [==============================] - 1s 1ms/step - loss: 0.0090 - accuracy: 0.9975 - val_loss: 0.0680 - val_accuracy: 0.9863\n",
      "Epoch 14/20\n",
      "663/663 [==============================] - 1s 1ms/step - loss: 0.0123 - accuracy: 0.9965 - val_loss: 0.0591 - val_accuracy: 0.9871\n",
      "Epoch 15/20\n",
      "663/663 [==============================] - 1s 1ms/step - loss: 0.0047 - accuracy: 0.9984 - val_loss: 0.0740 - val_accuracy: 0.9805\n",
      "Epoch 16/20\n",
      "663/663 [==============================] - 1s 1ms/step - loss: 0.0105 - accuracy: 0.9968 - val_loss: 0.1167 - val_accuracy: 0.9730\n",
      "Epoch 17/20\n",
      "663/663 [==============================] - 1s 1ms/step - loss: 0.0083 - accuracy: 0.9975 - val_loss: 0.0873 - val_accuracy: 0.9798\n",
      "Epoch 18/20\n",
      "663/663 [==============================] - 1s 1ms/step - loss: 0.0079 - accuracy: 0.9976 - val_loss: 0.0720 - val_accuracy: 0.9858\n",
      "Epoch 19/20\n",
      "663/663 [==============================] - 1s 1ms/step - loss: 0.0137 - accuracy: 0.9961 - val_loss: 0.0596 - val_accuracy: 0.9873\n",
      "Epoch 20/20\n",
      "663/663 [==============================] - 1s 1ms/step - loss: 0.0080 - accuracy: 0.9976 - val_loss: 0.0891 - val_accuracy: 0.9838\n",
      "lr=  1.0000e-02 test accuracy=0.983830\n",
      "Epoch 1/20\n",
      "651/663 [============================>.] - ETA: 0s - loss: 0.3639 - accuracy: 0.9002WARNING:tensorflow:Callbacks method `on_test_batch_begin` is slow compared to the batch time (batch time: 0.0000s vs `on_test_batch_begin` time: 0.0010s). Check your callbacks.\n",
      "663/663 [==============================] - 1s 1ms/step - loss: 0.3602 - accuracy: 0.9012 - val_loss: 0.1778 - val_accuracy: 0.9536\n",
      "Epoch 2/20\n",
      "663/663 [==============================] - 1s 1ms/step - loss: 0.1020 - accuracy: 0.9753 - val_loss: 0.0993 - val_accuracy: 0.9700\n",
      "Epoch 3/20\n",
      "663/663 [==============================] - 1s 1ms/step - loss: 0.0600 - accuracy: 0.9857 - val_loss: 0.0651 - val_accuracy: 0.9838\n",
      "Epoch 4/20\n",
      "663/663 [==============================] - 1s 1ms/step - loss: 0.0424 - accuracy: 0.9894 - val_loss: 0.0457 - val_accuracy: 0.9878\n",
      "Epoch 5/20\n",
      "663/663 [==============================] - 1s 1ms/step - loss: 0.0317 - accuracy: 0.9919 - val_loss: 0.0401 - val_accuracy: 0.9891\n",
      "Epoch 6/20\n",
      "663/663 [==============================] - 1s 1ms/step - loss: 0.0254 - accuracy: 0.9934 - val_loss: 0.0375 - val_accuracy: 0.9887\n",
      "Epoch 7/20\n",
      "663/663 [==============================] - 1s 2ms/step - loss: 0.0209 - accuracy: 0.9944 - val_loss: 0.0279 - val_accuracy: 0.9930\n",
      "Epoch 8/20\n",
      "663/663 [==============================] - 1s 1ms/step - loss: 0.0174 - accuracy: 0.9954 - val_loss: 0.0282 - val_accuracy: 0.9917\n",
      "Epoch 9/20\n",
      "663/663 [==============================] - 1s 1ms/step - loss: 0.0148 - accuracy: 0.9961 - val_loss: 0.0268 - val_accuracy: 0.9916\n",
      "Epoch 10/20\n",
      "663/663 [==============================] - 1s 1ms/step - loss: 0.0126 - accuracy: 0.9967 - val_loss: 0.0287 - val_accuracy: 0.9912\n",
      "Epoch 11/20\n",
      "663/663 [==============================] - 1s 2ms/step - loss: 0.0111 - accuracy: 0.9971 - val_loss: 0.0257 - val_accuracy: 0.9916\n",
      "Epoch 12/20\n",
      "663/663 [==============================] - 1s 1ms/step - loss: 0.0101 - accuracy: 0.9975 - val_loss: 0.0240 - val_accuracy: 0.9917\n",
      "Epoch 13/20\n",
      "663/663 [==============================] - 1s 1ms/step - loss: 0.0094 - accuracy: 0.9976 - val_loss: 0.0229 - val_accuracy: 0.9924\n",
      "Epoch 14/20\n",
      "663/663 [==============================] - 1s 1ms/step - loss: 0.0080 - accuracy: 0.9981 - val_loss: 0.0267 - val_accuracy: 0.9908\n",
      "Epoch 15/20\n",
      "663/663 [==============================] - 1s 1ms/step - loss: 0.0074 - accuracy: 0.9979 - val_loss: 0.0250 - val_accuracy: 0.9913\n",
      "Epoch 16/20\n",
      "663/663 [==============================] - 1s 1ms/step - loss: 0.0069 - accuracy: 0.9982 - val_loss: 0.0274 - val_accuracy: 0.9901\n",
      "Epoch 17/20\n",
      "663/663 [==============================] - 1s 1ms/step - loss: 0.0063 - accuracy: 0.9983 - val_loss: 0.0271 - val_accuracy: 0.9907\n",
      "Epoch 18/20\n",
      "663/663 [==============================] - 1s 1ms/step - loss: 0.0058 - accuracy: 0.9984 - val_loss: 0.0282 - val_accuracy: 0.9915\n",
      "Epoch 19/20\n",
      "663/663 [==============================] - 1s 1ms/step - loss: 0.0052 - accuracy: 0.9988 - val_loss: 0.0285 - val_accuracy: 0.9915\n",
      "Epoch 20/20\n",
      "663/663 [==============================] - 1s 1ms/step - loss: 0.0049 - accuracy: 0.9987 - val_loss: 0.0295 - val_accuracy: 0.9915\n",
      "lr=  1.0000e-03 test accuracy=0.991546\n",
      "Epoch 1/20\n",
      "663/663 [==============================] - 1s 1ms/step - loss: 1.1432 - accuracy: 0.6447 - val_loss: 0.8679 - val_accuracy: 0.6651\n",
      "Epoch 2/20\n",
      "663/663 [==============================] - 1s 1ms/step - loss: 0.5610 - accuracy: 0.8402 - val_loss: 0.5854 - val_accuracy: 0.8276\n",
      "Epoch 3/20\n",
      "663/663 [==============================] - 1s 1ms/step - loss: 0.3911 - accuracy: 0.9064 - val_loss: 0.4527 - val_accuracy: 0.8696\n",
      "Epoch 4/20\n",
      "663/663 [==============================] - 1s 1ms/step - loss: 0.3034 - accuracy: 0.9304 - val_loss: 0.3665 - val_accuracy: 0.8970\n",
      "Epoch 5/20\n",
      "663/663 [==============================] - 1s 1ms/step - loss: 0.2472 - accuracy: 0.9443 - val_loss: 0.2996 - val_accuracy: 0.9189\n",
      "Epoch 6/20\n",
      "663/663 [==============================] - 1s 1ms/step - loss: 0.2065 - accuracy: 0.9532 - val_loss: 0.2519 - val_accuracy: 0.9283\n",
      "Epoch 7/20\n",
      "663/663 [==============================] - 1s 1ms/step - loss: 0.1753 - accuracy: 0.9596 - val_loss: 0.2179 - val_accuracy: 0.9383\n",
      "Epoch 8/20\n",
      "663/663 [==============================] - 1s 1ms/step - loss: 0.1505 - accuracy: 0.9648 - val_loss: 0.1866 - val_accuracy: 0.9462\n",
      "Epoch 9/20\n",
      "663/663 [==============================] - 1s 1ms/step - loss: 0.1307 - accuracy: 0.9691 - val_loss: 0.1584 - val_accuracy: 0.9561\n",
      "Epoch 10/20\n",
      "663/663 [==============================] - 1s 1ms/step - loss: 0.1147 - accuracy: 0.9732 - val_loss: 0.1437 - val_accuracy: 0.9575\n",
      "Epoch 11/20\n",
      "663/663 [==============================] - 1s 1ms/step - loss: 0.1017 - accuracy: 0.9762 - val_loss: 0.1230 - val_accuracy: 0.9656\n",
      "Epoch 12/20\n",
      "663/663 [==============================] - 1s 1ms/step - loss: 0.0911 - accuracy: 0.9786 - val_loss: 0.1100 - val_accuracy: 0.9728\n",
      "Epoch 13/20\n",
      "663/663 [==============================] - 1s 1ms/step - loss: 0.0822 - accuracy: 0.9810 - val_loss: 0.1071 - val_accuracy: 0.9676\n",
      "Epoch 14/20\n",
      "663/663 [==============================] - 1s 1ms/step - loss: 0.0749 - accuracy: 0.9829 - val_loss: 0.0884 - val_accuracy: 0.9800\n",
      "Epoch 15/20\n",
      "663/663 [==============================] - 1s 1ms/step - loss: 0.0686 - accuracy: 0.9844 - val_loss: 0.0869 - val_accuracy: 0.9768\n",
      "Epoch 16/20\n"
     ]
    },
    {
     "name": "stdout",
     "output_type": "stream",
     "text": [
      "663/663 [==============================] - 1s 1ms/step - loss: 0.0633 - accuracy: 0.9855 - val_loss: 0.0794 - val_accuracy: 0.9803\n",
      "Epoch 17/20\n",
      "663/663 [==============================] - 1s 1ms/step - loss: 0.0587 - accuracy: 0.9864 - val_loss: 0.0716 - val_accuracy: 0.9832\n",
      "Epoch 18/20\n",
      "663/663 [==============================] - 1s 1ms/step - loss: 0.0547 - accuracy: 0.9870 - val_loss: 0.0698 - val_accuracy: 0.9832\n",
      "Epoch 19/20\n",
      "663/663 [==============================] - 1s 1ms/step - loss: 0.0513 - accuracy: 0.9877 - val_loss: 0.0647 - val_accuracy: 0.9841\n",
      "Epoch 20/20\n",
      "663/663 [==============================] - 1s 1ms/step - loss: 0.0481 - accuracy: 0.9882 - val_loss: 0.0572 - val_accuracy: 0.9873\n",
      "lr=  1.0000e-04 test accuracy=0.987319\n"
     ]
    }
   ],
   "source": [
    "rates = [0.01,0.001,0.0001]\n",
    "batch_size = 100\n",
    "loss_hist = []\n",
    "\n",
    "# TODO\n",
    "for lr in rates:\n",
    "        \n",
    "    # Clear the session\n",
    "    K.clear_session()\n",
    "\n",
    "    # Build the model\n",
    "    model = Sequential()\n",
    "    model.add(Dense(nh, input_shape=(nin,), activation='sigmoid', name='hidden'))\n",
    "    model.add(Dense(nout, activation='softmax', name='output'))\n",
    "\n",
    "    # Select the optimizer with the correct learning rate to test\n",
    "    opt = optimizers.Adam(lr=lr) \n",
    "    model.compile(optimizer=opt,\n",
    "        loss='sparse_categorical_crossentropy',\n",
    "        metrics=['accuracy'])       \n",
    "        \n",
    "    # Fit the model    \n",
    "    hist = model.fit(Xtr_scale, ytr, epochs=20, batch_size=batch_size, \n",
    "              validation_data=(Xts_scale,yts))    \n",
    "    \n",
    "    # Save the loss history\n",
    "    loss_hist.append( hist.history['loss'])\n",
    "    \n",
    "    # Print the final accuracy\n",
    "    val_acc = hist.history['val_accuracy'][-1]\n",
    "    print(\"lr=%12.4e test accuracy=%f\" % (lr, val_acc))"
   ]
  },
  {
   "cell_type": "markdown",
   "metadata": {},
   "source": [
    "Plot the loss funciton vs. the epoch number for all three learning rates on one graph.  You should see that the lower learning rates are more stable, but converge slower."
   ]
  },
  {
   "cell_type": "code",
   "execution_count": 20,
   "metadata": {},
   "outputs": [
    {
     "data": {
      "image/png": "[encoded data removed]",
      "text/plain": [
       "<Figure size 432x288 with 1 Axes>"
      ]
     },
     "metadata": {
      "needs_background": "light"
     },
     "output_type": "display_data"
    }
   ],
   "source": [
    "# TODO\n",
    "ntest = len(loss_hist)\n",
    "ntr = Xtr.shape[0]\n",
    "batch_size=100\n",
    "for it, loss in enumerate(loss_hist):\n",
    "    \n",
    "    nepochs = len(loss)\n",
    "    epochs = np.arange(1,nepochs+1)\n",
    "    plt.semilogy(epochs, loss, 'o-')\n",
    "\n",
    "    rate_str = ['{0:5.4f}'.format(lr) for lr in rates]\n",
    "\n",
    "plt.xlabel('Epochs', fontsize=16)\n",
    "plt.ylabel('Loss', fontsize=16)\n",
    "plt.legend(rate_str,loc='lower left')\n",
    "plt.grid()"
   ]
  },
  {
   "cell_type": "code",
   "execution_count": null,
   "metadata": {},
   "outputs": [],
   "source": []
  },
  {
   "cell_type": "code",
   "execution_count": null,
   "metadata": {},
   "outputs": [],
   "source": []
  }
 ],
 "metadata": {
  "anaconda-cloud": {},
  "kernelspec": {
   "display_name": "Python 3",
   "language": "python",
   "name": "python3"
  },
  "language_info": {
   "codemirror_mode": {
    "name": "ipython",
    "version": 3
   },
   "file_extension": ".py",
   "mimetype": "text/x-python",
   "name": "python",
   "nbconvert_exporter": "python",
   "pygments_lexer": "ipython3",
   "version": "3.8.3"
  }
 },
 "nbformat": 4,
 "nbformat_minor": 1
}
