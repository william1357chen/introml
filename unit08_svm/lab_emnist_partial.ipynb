{
 "cells": [
  {
   "cell_type": "markdown",
   "source": [
    "# Lab: SVMs on Extended MNIST\r\n",
    "\r\n",
    "In the [MNIST demo](demo_mnist_svm.ipynb), we saw how SVMs can be used for the classic MNIST problem of digit recognition. In this lab, we are going to extend the MNIST dataset by adding a number of non-digit letters and see if the classifier can distinguish the digits from the non-digits. All non-digits will be lumped as a single 11-th class. This is a highly simplified version of 'detection' problem (as opposed to 'classification' problem). Detection is vital in OCR and related problems since the non useful characters must be rejected. \r\n",
    "\r\n",
    "In addition to the concepts in the demo, you will learn:\r\n",
    "* Combine multiple datasets\r\n",
    "* Select the SVM parameters (`C` and `gamma`) via cross-validation.\r\n",
    "* Use the `GridSearchCV` method to search for parameters with cross-validation.\r\n",
    "\r\n",
    "Note:  An [earlier version](lab_emnist_2017_partial.ipynb) of this lab made you manually create the combined letter and digit data.  In this lab, we will download the data from NIST website.  But, the old lab is still useful to look at if you want to see how to use `skimage` package for a number of image pre-processing tasks."
   ],
   "metadata": {}
  },
  {
   "cell_type": "markdown",
   "source": [
    "As usual, we download the standard packages"
   ],
   "metadata": {}
  },
  {
   "cell_type": "code",
   "execution_count": 55,
   "source": [
    "import numpy as np\r\n",
    "import matplotlib.pyplot as plt\r\n",
    "%matplotlib inline\r\n",
    "from sklearn import linear_model, preprocessing"
   ],
   "outputs": [],
   "metadata": {
    "collapsed": true
   }
  },
  {
   "cell_type": "markdown",
   "source": [
    "## Downloading the EMNIST Dataset\r\n",
    "\r\n",
    "After creating the highly popular MNIST dataset, NIST created an extended version of the dataset to include letters and digits.     The extended datase (called EMNIST) also has many more examples per class.  \r\n",
    "\r\n",
    "To download the data, first go to the [EMNIST webpage](https://www.nist.gov/itl/iad/image-group/emnist-dataset).  Near the bottom, you will see a link for `MATLAB format dataset`.  If you click on this link, you will download a `zip` file with several datasets in it.  The total file is 726M, so it may take some time and diskspace to download.  Extract two files:\r\n",
    "* `emnist-digits.mat`:  This is a file of digits `0` to `9`, but with more examples per class.\r\n",
    "* `emnist-letters.mat`:  This is a file of letters `a/A` to `z/Z`.  The lower and upper case letters are grouped into the same class.\r\n",
    "\r\n",
    "Once you get these two files, you can save yourself the diskspace and remove all the other files.\r\n",
    "\r\n",
    "You can download the files manually, or you can run the following commands which will download the files automatically.  "
   ],
   "metadata": {}
  },
  {
   "cell_type": "code",
   "execution_count": 56,
   "source": [
    "from tqdm import tqdm\r\n",
    "import requests\r\n",
    "import os\r\n",
    "import zipfile\r\n",
    "\r\n",
    "def download_file(src_url, dst_fn):\r\n",
    "    \r\n",
    "    if os.path.exists(dst_fn):\r\n",
    "        print('File %s already exists' % dst_fn)\r\n",
    "        return\r\n",
    "    \r\n",
    "    print('Downloading %s' % dst_fn)\r\n",
    "    \r\n",
    "    # Streaming, so we can iterate over the response.\r\n",
    "    r = requests.get(src_url, stream=True)\r\n",
    "\r\n",
    "    # Total size in MB.\r\n",
    "    total_size = int(r.headers.get('content-length', 0)); \r\n",
    "    block_size = 1024\r\n",
    "    wrote = 0 \r\n",
    "    with open(dst_fn, 'wb') as f:\r\n",
    "        with tqdm(total=total_size//block_size, unit='kB', \r\n",
    "                           unit_scale=True, unit_divisor=1024) as pbar:\r\n",
    "            for data in r.iter_content(block_size):\r\n",
    "                wrote = wrote + len(data)\r\n",
    "                pbar.update(1)\r\n",
    "                f.write(data)\r\n",
    "    if total_size != 0 and wrote != total_size:\r\n",
    "        print(\"ERROR, something went wrong\") \r\n",
    "\r\n",
    "# Get file names\r\n",
    "matlab_dir = 'matlab'\r\n",
    "digits_fn =  os.path.join(matlab_dir,'emnist-digits.mat')\r\n",
    "letters_fn = os.path.join(matlab_dir,'emnist-letters.mat')\r\n",
    "\r\n",
    "# Check if files exists\r\n",
    "if os.path.exists(matlab_dir):\r\n",
    "    if os.path.exists(digits_fn) and os.path.exists(letters_fn):\r\n",
    "        print('Files already downloaded')\r\n",
    "        files_exists = True\r\n",
    "else:\r\n",
    "    files_exists = False\r\n",
    "    \r\n",
    "if not files_exists:\r\n",
    "    # First download the zip file if needed\r\n",
    "    src_url = \"http://www.itl.nist.gov/iaui/vip/cs_links/EMNIST/matlab.zip\"\r\n",
    "    dst_fn = 'matlab.zip'\r\n",
    "    download_file(src_url, dst_fn)\r\n",
    "    \r\n",
    "    # Then, unzip the file\r\n",
    "    print('Unzipping %s...' % dst_fn)\r\n",
    "    zip_ref = zipfile.ZipFile(dst_fn, 'r')\r\n",
    "    zip_ref.extractall()\r\n",
    "    zip_ref.close()\r\n",
    "    print('Unzip completed')"
   ],
   "outputs": [
    {
     "output_type": "stream",
     "name": "stdout",
     "text": [
      "Files already downloaded\n"
     ]
    }
   ],
   "metadata": {}
  },
  {
   "cell_type": "code",
   "execution_count": 57,
   "source": [
    "zip_ref = zipfile.ZipFile('matlab.zip', 'r')\r\n",
    "zip_ref.extractall()\r\n",
    "zip_ref.close()"
   ],
   "outputs": [],
   "metadata": {}
  },
  {
   "cell_type": "markdown",
   "source": [
    "Since MATLAB files are still widely-used, Python has excellent routines for loading MATLAB files.  The function below uses the `scipy.io` package to extract the relevant fields from the MATLAB file.  Specifically, the function extracts the training and test data from MATLAB file. "
   ],
   "metadata": {}
  },
  {
   "cell_type": "code",
   "execution_count": 58,
   "source": [
    "import scipy.io\r\n",
    "def load_emnist(file_path='emnist-digits.mat'):\r\n",
    "    \"\"\"\r\n",
    "    Loads training and test data with ntr and nts training and test samples\r\n",
    "    The `file_path` is the location of the `eminst-balanced.mat`.\r\n",
    "    \"\"\"    \r\n",
    "    \r\n",
    "    # Load the MATLAB file\r\n",
    "    mat = scipy.io.loadmat(file_path)\r\n",
    "    \r\n",
    "    # Get the training data\r\n",
    "    Xtr = mat['dataset'][0][0][0][0][0][0][:]\r\n",
    "    ntr = Xtr.shape[0]\r\n",
    "    ytr = mat['dataset'][0][0][0][0][0][1][:].reshape(ntr).astype(int)\r\n",
    "    \r\n",
    "    # Get the test data\r\n",
    "    Xts = mat['dataset'][0][0][1][0][0][0][:]\r\n",
    "    nts = Xts.shape[0]\r\n",
    "    yts = mat['dataset'][0][0][1][0][0][1][:].reshape(nts).astype(int)\r\n",
    "    \r\n",
    "    print(\"%d training samples, %d test samples loaded\" % (ntr, nts))\r\n",
    "\r\n",
    "    return [Xtr, Xts, ytr, yts]"
   ],
   "outputs": [],
   "metadata": {
    "collapsed": true
   }
  },
  {
   "cell_type": "markdown",
   "source": [
    "Use the function above to get all the digit images from the `emnist-digits.mat` file.  "
   ],
   "metadata": {}
  },
  {
   "cell_type": "code",
   "execution_count": 59,
   "source": [
    "# TODO:  Load the digit data from emnist-digits.mat\r\n",
    "Xtr_dig, Xts_dig, ytr_dig, yts_dig = load_emnist('matlab/emnist-digits.mat')"
   ],
   "outputs": [
    {
     "output_type": "stream",
     "name": "stdout",
     "text": [
      "240000 training samples, 40000 test samples loaded\n"
     ]
    }
   ],
   "metadata": {
    "collapsed": true
   }
  },
  {
   "cell_type": "code",
   "execution_count": 60,
   "source": [
    "Xtr_dig.shape"
   ],
   "outputs": [
    {
     "output_type": "execute_result",
     "data": {
      "text/plain": [
       "(240000, 784)"
      ]
     },
     "metadata": {},
     "execution_count": 60
    }
   ],
   "metadata": {}
  },
  {
   "cell_type": "markdown",
   "source": [
    "Next, use the function above to get all the letter characters from the `emnist-letters.mat` file.  "
   ],
   "metadata": {}
  },
  {
   "cell_type": "code",
   "execution_count": 61,
   "source": [
    "# TODO:  Load the digit data from emnist-letters.mat\r\n",
    "Xtr_let, Xts_let, ytr_let, yts_let = load_emnist('matlab/emnist-letters.mat')"
   ],
   "outputs": [
    {
     "output_type": "stream",
     "name": "stdout",
     "text": [
      "124800 training samples, 20800 test samples loaded\n"
     ]
    }
   ],
   "metadata": {
    "collapsed": true
   }
  },
  {
   "cell_type": "markdown",
   "source": [
    "We will use the function from the demo to plot the digits."
   ],
   "metadata": {}
  },
  {
   "cell_type": "code",
   "execution_count": 62,
   "source": [
    "def plt_digit(x,y=None):\r\n",
    "    nrow = 28\r\n",
    "    ncol = 28\r\n",
    "    xsq = x.reshape((nrow,ncol))\r\n",
    "    plt.imshow(xsq.T,  cmap='Greys_r')\r\n",
    "    plt.xticks([])\r\n",
    "    plt.yticks([])    \r\n",
    "    if y != None:\r\n",
    "        plt.title('%d' % y)        "
   ],
   "outputs": [],
   "metadata": {
    "collapsed": true
   }
  },
  {
   "cell_type": "markdown",
   "source": [
    "Plot 8 random samples from the digit training data.  You can use the `plt_digit` function above with `subplot` to create a nice display.  You may want to size your plot with the `plt.figure(figsize=(10,20))` command."
   ],
   "metadata": {}
  },
  {
   "cell_type": "code",
   "execution_count": 63,
   "source": [
    "# TODO:  Plot 8 random samples from the training data of the digits\r\n",
    "plt.figure(figsize=(10,20))\r\n",
    "\r\n",
    "n = Xtr_dig.shape[0]\r\n",
    "for i in range(8):\r\n",
    "    plt.subplot(4, 2, i+1)    \r\n",
    "    randint = np.random.randint(n)\r\n",
    "    plt_digit(Xtr_dig[randint], ytr_dig[randint])\r\n"
   ],
   "outputs": [
    {
     "output_type": "display_data",
     "data": {
      "text/plain": [
       "<Figure size 720x1440 with 8 Axes>"
      ],
      "image/svg+xml": "<?xml version=\"1.0\" encoding=\"utf-8\" standalone=\"no\"?>\r\n<!DOCTYPE svg PUBLIC \"-//W3C//DTD SVG 1.1//EN\"\r\n  \"http://www.w3.org/Graphics/SVG/1.1/DTD/svg11.dtd\">\r\n<!-- Created with matplotlib (https://matplotlib.org/) -->\r\n<svg height=\"1120.218125pt\" version=\"1.1\" viewBox=\"0 0 558.611462 1120.218125\" width=\"558.611462pt\" xmlns=\"http://www.w3.org/2000/svg\" xmlns:xlink=\"http://www.w3.org/1999/xlink\">\r\n <metadata>\r\n  <rdf:RDF xmlns:cc=\"http://creativecommons.org/ns#\" xmlns:dc=\"http://purl.org/dc/elements/1.1/\" xmlns:rdf=\"http://www.w3.org/1999/02/22-rdf-syntax-ns#\">\r\n   <cc:Work>\r\n    <dc:type rdf:resource=\"http://purl.org/dc/dcmitype/StillImage\"/>\r\n    <dc:date>2021-11-17T23:00:57.044594</dc:date>\r\n    <dc:format>image/svg+xml</dc:format>\r\n    <dc:creator>\r\n     <cc:Agent>\r\n      <dc:title>Matplotlib v3.3.4, https://matplotlib.org/</dc:title>\r\n     </cc:Agent>\r\n    </dc:creator>\r\n   </cc:Work>\r\n  </rdf:RDF>\r\n </metadata>\r\n <defs>\r\n  <style type=\"text/css\">*{stroke-linecap:butt;stroke-linejoin:round;}</style>\r\n </defs>\r\n <g id=\"figure_1\">\r\n  <g id=\"patch_1\">\r\n   <path d=\"M 0 1120.218125 \r\nL 558.611462 1120.218125 \r\nL 558.611462 0 \r\nL 0 0 \r\nz\r\n\" style=\"fill:none;\"/>\r\n  </g>\r\n  <g id=\"axes_1\">\r\n   <g id=\"patch_2\">\r\n    <path d=\"M 10.7 258.665951 \r\nL 247.047826 258.665951 \r\nL 247.047826 22.318125 \r\nL 10.7 22.318125 \r\nz\r\n\" style=\"fill:#ffffff;\"/>\r\n   </g>\r\n   <g clip-path=\"url(#pa691f15ace)\">\r\n    <image height=\"237\" id=\"imagedd2cae1e82\" transform=\"scale(1 -1)translate(0 -237)\" width=\"237\" x=\"10.7\" xlink:href=\"data:image/png;base64,\r\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\" y=\"-21.665951\"/>\r\n   </g>\r\n   <g id=\"matplotlib.axis_1\"/>\r\n   <g id=\"matplotlib.axis_2\"/>\r\n   <g id=\"patch_3\">\r\n    <path d=\"M 10.7 258.665951 \r\nL 10.7 22.318125 \r\n\" style=\"fill:none;stroke:#000000;stroke-linecap:square;stroke-linejoin:miter;stroke-width:0.8;\"/>\r\n   </g>\r\n   <g id=\"patch_4\">\r\n    <path d=\"M 247.047826 258.665951 \r\nL 247.047826 22.318125 \r\n\" style=\"fill:none;stroke:#000000;stroke-linecap:square;stroke-linejoin:miter;stroke-width:0.8;\"/>\r\n   </g>\r\n   <g id=\"patch_5\">\r\n    <path d=\"M 10.7 258.665951 \r\nL 247.047826 258.665951 \r\n\" style=\"fill:none;stroke:#000000;stroke-linecap:square;stroke-linejoin:miter;stroke-width:0.8;\"/>\r\n   </g>\r\n   <g id=\"patch_6\">\r\n    <path d=\"M 10.7 22.318125 \r\nL 247.047826 22.318125 \r\n\" style=\"fill:none;stroke:#000000;stroke-linecap:square;stroke-linejoin:miter;stroke-width:0.8;\"/>\r\n   </g>\r\n   <g id=\"text_1\">\r\n    <!-- 2 -->\r\n    <g transform=\"translate(125.056413 16.318125)scale(0.12 -0.12)\">\r\n     <defs>\r\n      <path d=\"M 19.1875 8.296875 \r\nL 53.609375 8.296875 \r\nL 53.609375 0 \r\nL 7.328125 0 \r\nL 7.328125 8.296875 \r\nQ 12.9375 14.109375 22.625 23.890625 \r\nQ 32.328125 33.6875 34.8125 36.53125 \r\nQ 39.546875 41.84375 41.421875 45.53125 \r\nQ 43.3125 49.21875 43.3125 52.78125 \r\nQ 43.3125 58.59375 39.234375 62.25 \r\nQ 35.15625 65.921875 28.609375 65.921875 \r\nQ 23.96875 65.921875 18.8125 64.3125 \r\nQ 13.671875 62.703125 7.8125 59.421875 \r\nL 7.8125 69.390625 \r\nQ 13.765625 71.78125 18.9375 73 \r\nQ 24.125 74.21875 28.421875 74.21875 \r\nQ 39.75 74.21875 46.484375 68.546875 \r\nQ 53.21875 62.890625 53.21875 53.421875 \r\nQ 53.21875 48.921875 51.53125 44.890625 \r\nQ 49.859375 40.875 45.40625 35.40625 \r\nQ 44.1875 33.984375 37.640625 27.21875 \r\nQ 31.109375 20.453125 19.1875 8.296875 \r\nz\r\n\" id=\"DejaVuSans-50\"/>\r\n     </defs>\r\n     <use xlink:href=\"#DejaVuSans-50\"/>\r\n    </g>\r\n   </g>\r\n  </g>\r\n  <g id=\"axes_2\">\r\n   <g id=\"patch_7\">\r\n    <path d=\"M 315.063636 258.665951 \r\nL 551.411462 258.665951 \r\nL 551.411462 22.318125 \r\nL 315.063636 22.318125 \r\nz\r\n\" style=\"fill:#ffffff;\"/>\r\n   </g>\r\n   <g clip-path=\"url(#p8d44a01c8e)\">\r\n    <image height=\"237\" id=\"imagec04e9ff911\" transform=\"scale(1 -1)translate(0 -237)\" width=\"237\" x=\"315.063636\" xlink:href=\"data:image/png;base64,\r\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\" y=\"-21.665951\"/>\r\n   </g>\r\n   <g id=\"matplotlib.axis_3\"/>\r\n   <g id=\"matplotlib.axis_4\"/>\r\n   <g id=\"patch_8\">\r\n    <path d=\"M 315.063636 258.665951 \r\nL 315.063636 22.318125 \r\n\" style=\"fill:none;stroke:#000000;stroke-linecap:square;stroke-linejoin:miter;stroke-width:0.8;\"/>\r\n   </g>\r\n   <g id=\"patch_9\">\r\n    <path d=\"M 551.411462 258.665951 \r\nL 551.411462 22.318125 \r\n\" style=\"fill:none;stroke:#000000;stroke-linecap:square;stroke-linejoin:miter;stroke-width:0.8;\"/>\r\n   </g>\r\n   <g id=\"patch_10\">\r\n    <path d=\"M 315.063636 258.665951 \r\nL 551.411462 258.665951 \r\n\" style=\"fill:none;stroke:#000000;stroke-linecap:square;stroke-linejoin:miter;stroke-width:0.8;\"/>\r\n   </g>\r\n   <g id=\"patch_11\">\r\n    <path d=\"M 315.063636 22.318125 \r\nL 551.411462 22.318125 \r\n\" style=\"fill:none;stroke:#000000;stroke-linecap:square;stroke-linejoin:miter;stroke-width:0.8;\"/>\r\n   </g>\r\n   <g id=\"text_2\">\r\n    <!-- 0 -->\r\n    <g transform=\"translate(429.420049 16.318125)scale(0.12 -0.12)\">\r\n     <defs>\r\n      <path d=\"M 31.78125 66.40625 \r\nQ 24.171875 66.40625 20.328125 58.90625 \r\nQ 16.5 51.421875 16.5 36.375 \r\nQ 16.5 21.390625 20.328125 13.890625 \r\nQ 24.171875 6.390625 31.78125 6.390625 \r\nQ 39.453125 6.390625 43.28125 13.890625 \r\nQ 47.125 21.390625 47.125 36.375 \r\nQ 47.125 51.421875 43.28125 58.90625 \r\nQ 39.453125 66.40625 31.78125 66.40625 \r\nz\r\nM 31.78125 74.21875 \r\nQ 44.046875 74.21875 50.515625 64.515625 \r\nQ 56.984375 54.828125 56.984375 36.375 \r\nQ 56.984375 17.96875 50.515625 8.265625 \r\nQ 44.046875 -1.421875 31.78125 -1.421875 \r\nQ 19.53125 -1.421875 13.0625 8.265625 \r\nQ 6.59375 17.96875 6.59375 36.375 \r\nQ 6.59375 54.828125 13.0625 64.515625 \r\nQ 19.53125 74.21875 31.78125 74.21875 \r\nz\r\n\" id=\"DejaVuSans-48\"/>\r\n     </defs>\r\n     <use xlink:href=\"#DejaVuSans-48\"/>\r\n    </g>\r\n   </g>\r\n  </g>\r\n  <g id=\"axes_3\">\r\n   <g id=\"patch_12\">\r\n    <path d=\"M 10.7 542.283342 \r\nL 247.047826 542.283342 \r\nL 247.047826 305.935516 \r\nL 10.7 305.935516 \r\nz\r\n\" style=\"fill:#ffffff;\"/>\r\n   </g>\r\n   <g clip-path=\"url(#p24419484ed)\">\r\n    <image height=\"237\" id=\"image9e054c40c4\" transform=\"scale(1 -1)translate(0 -237)\" width=\"237\" x=\"10.7\" xlink:href=\"data:image/png;base64,\r\niVBORw0KGgoAAAANSUhEUgAAAO0AAADtCAYAAABTTfKPAAAIR0lEQVR4nO3dzYtXZR/H8TPlODqZUaj4gGiQ4kLbCbpx5a6NunKj+Bco4qaluHAZ+QdUSItCFxWUbgJRUFwUoSCIgoowID41KNr4MM29jFu4r++Ze6YZPzOv1/Z7uOZUvDuL6zq/M9B13UQHxHhntm8AmBzRQhjRQhjRQhjRQhjRQhjRQhjRQhjRQhjRQhjRQhjRQhjRQhjRQhjRQhjRQpgFs30D/H/efffd5nz58uXlGu+//35zPjIyUq7x6tWr5nx8fLxc4++//y6v4R+etBBGtBBGtBBGtBBGtBBGtBBGtBDGPu2/YGBgoDkfGhoq11i/fn1zvmPHjub8wIED5d9YvXp1c37x4sVyjdHR0eb8jz/+KNe4cOFCc3779u1yjWq/eC7xpIUwooUwooUwooUwooUwooUwooUwooUwA50vwU/K4OBgec3WrVub823btpVrHDx4sDlftmxZc7548eLyb1SHQKbj5fSxsbHymurwxJ49e8o1bt682fue0nnSQhjRQhjRQhjRQhjRQhjRQhjRQhgvwb+h2rus9mC7rutOnjzZnK9cubJc47333iuvmaqJifYWffXvos81w8PD5Rpr1qxpzletWlWuYZ8WeGuJFsKIFsKIFsKIFsKIFsKIFsKIFsI4XPGG6uDDsWPHyjWqrwNUX3HvuvoL6k+ePGnO+3zF/fHjx815n0MNa9eubc4XLVpUrlG9sL99+/ZyjeprCH2+SJ/CkxbCiBbCiBbCiBbCiBbCiBbCiBbC2Kd9w7p165rzTZs2lWv02YetPH36tDk/e/Zsc/7777+Xf6Pap+3zI+ErVqxozvvs01Z7qA8ePCjXqF7on0s8aSGMaCGMaCGMaCGMaCGMaCGMaCGMaCHMvDpcsWBB/Y+7a9eu5rw6TNB19WGB6uBE13Xd0aNHm/Ovv/66Oe9z2GDv3r3N+caNG8s1hoaGymsqDx8+bM4vXbpUrjEdX61P4UkLYUQLYUQLYUQLYUQLYUQLYUQLYebVPu0nn3xSXrNz587mvM8L7vfu3WvOf/rpp3KNr776qjl//vx5c97nB76rveDVq1eXa1Rfgh8dHS3X+OKLL5rzO3fulGvMJ560EEa0EEa0EEa0EEa0EEa0EEa0EEa0EGZOHa6oXnLfv39/ucaWLVua8z5fFP/xxx+b82+//bZcozo8sWHDhub8+PHj5d+ovnrfx8uXL5vz7777rlyjOkgyNjY2qXua6zxpIYxoIYxoIYxoIYxoIYxoIYxoIcyc2qetfPDBB+U11Uvuz549K9c4d+5cc37jxo1yjSVLljTnhw4das77vAT/zjvt/2dfv369XOPixYvN+Zdfflmu0effKf/wpIUwooUwooUwooUwooUwooUwooUwooUw8+pwxZMnT8prqi+KDw8Pl2scPHiwOa9etO+6+ovz1VfcBwcHy79RvWh/4sSJco1ffvmlOR8ZGSnXYHI8aSGMaCGMaCGMaCGMaCGMaCGMaCHMQNd1E7N9EzNlx44d5TU//PBDc/7hhx+Wa1Q/aP769etyjepl/OqH2fv8qPr58+eb83379pVr3L9/f8r3weR40kIY0UIY0UIY0UIY0UIY0UIY0UIY0UKYefUSfHUQoOvqX7vvc7iiOhhRzafDixcvymvOnDnTnP/555/lGg5PzDxPWggjWggjWggjWggjWggjWggjWggzr/Zp7969W15z4cKF5rz6kfCuq7+wPjAwUK5RqX5U/dq1a+Ua33//fXM+NjY2qXtiZnjSQhjRQhjRQhjRQhjRQhjRQhjRQph5tU/bZ9+x2qfdvXt3ucbixYt739Nsmon3epl+nrQQRrQQRrQQRrQQRrQQRrQQRrQQRrQQZl4drphLqhfpN2/eXK7x+eefN+fHjh0r13jw4EFzXr2sz+R50kIY0UIY0UIY0UIY0UIY0UIY0UKYebVPW/2IeNd13ZYtW5rzoaGhKd/HxMTElK+p9mn7vIi/f//+5vzKlSvlGmfPnm3OR0ZGyjWmw3zaD/akhTCihTCihTCihTCihTCihTCihTCihTDz6nBFH30OYEzVy5cvy2uuXr3anG/cuLE5X7p0afk3hoeHm/PDhw+Xa+zcubM5//XXX8s1qoMRL168KNc4ffp0cz6XvmrvSQthRAthRAthRAthRAthRAthRAth7NPOgj5fYK/2UG/cuNGcf/rpp+XfWLhwYXNe7QV3Xddt2LChOf/ss8/KNaoX/qsfRO+6rrt8+XJzfvv27XKN169fl9e8DTxpIYxoIYxoIYxoIYxoIYxoIYxoIYxoIYzDFbOgz+GKjz/+uDl//PjxdN3O/1R9xaDPNYsWLZryffT5WsLg4OCU/04KT1oII1oII1oII1oII1oII1oII1oIY5/2DW/LF8Wrvck1a9b86/fQZ592OlQvwd+6datco9q3flv+u04HT1oII1oII1oII1oII1oII1oII1oII1oIM68OV/TZYP/tt9+a89HR0XKNjz76qO8tvdVm6kDCX3/91Zx/88035RrVVwgcrgBmjWghjGghjGghjGghjGghjGghjH3aN5w6dao5X7p0abnGkSNHmvPqK+9dNzMvoE/Hy+fVF9bXrVtXrvHo0aPm/Oeffy7XGB8fL6+ZKzxpIYxoIYxoIYxoIYxoIYxoIYxoIYxoIcxA13XtHXb+S58vm69du7Y5Hxoamq7b+Vc9fPiwvObp06fN+ZIlS8o1qkMe1QvufdaYSzxpIYxoIYxoIYxoIYxoIYxoIYxoIYx9WgjjSQthRAthRAthRAthRAthRAthRAthRAthRAthRAthRAthRAthRAthRAthRAthRAth/gMyI5z9NznzXwAAAABJRU5ErkJggg==\" y=\"-305.283342\"/>\r\n   </g>\r\n   <g id=\"matplotlib.axis_5\"/>\r\n   <g id=\"matplotlib.axis_6\"/>\r\n   <g id=\"patch_13\">\r\n    <path d=\"M 10.7 542.283342 \r\nL 10.7 305.935516 \r\n\" style=\"fill:none;stroke:#000000;stroke-linecap:square;stroke-linejoin:miter;stroke-width:0.8;\"/>\r\n   </g>\r\n   <g id=\"patch_14\">\r\n    <path d=\"M 247.047826 542.283342 \r\nL 247.047826 305.935516 \r\n\" style=\"fill:none;stroke:#000000;stroke-linecap:square;stroke-linejoin:miter;stroke-width:0.8;\"/>\r\n   </g>\r\n   <g id=\"patch_15\">\r\n    <path d=\"M 10.7 542.283342 \r\nL 247.047826 542.283342 \r\n\" style=\"fill:none;stroke:#000000;stroke-linecap:square;stroke-linejoin:miter;stroke-width:0.8;\"/>\r\n   </g>\r\n   <g id=\"patch_16\">\r\n    <path d=\"M 10.7 305.935516 \r\nL 247.047826 305.935516 \r\n\" style=\"fill:none;stroke:#000000;stroke-linecap:square;stroke-linejoin:miter;stroke-width:0.8;\"/>\r\n   </g>\r\n   <g id=\"text_3\">\r\n    <!-- 8 -->\r\n    <g transform=\"translate(125.056413 299.935516)scale(0.12 -0.12)\">\r\n     <defs>\r\n      <path d=\"M 31.78125 34.625 \r\nQ 24.75 34.625 20.71875 30.859375 \r\nQ 16.703125 27.09375 16.703125 20.515625 \r\nQ 16.703125 13.921875 20.71875 10.15625 \r\nQ 24.75 6.390625 31.78125 6.390625 \r\nQ 38.8125 6.390625 42.859375 10.171875 \r\nQ 46.921875 13.96875 46.921875 20.515625 \r\nQ 46.921875 27.09375 42.890625 30.859375 \r\nQ 38.875 34.625 31.78125 34.625 \r\nz\r\nM 21.921875 38.8125 \r\nQ 15.578125 40.375 12.03125 44.71875 \r\nQ 8.5 49.078125 8.5 55.328125 \r\nQ 8.5 64.0625 14.71875 69.140625 \r\nQ 20.953125 74.21875 31.78125 74.21875 \r\nQ 42.671875 74.21875 48.875 69.140625 \r\nQ 55.078125 64.0625 55.078125 55.328125 \r\nQ 55.078125 49.078125 51.53125 44.71875 \r\nQ 48 40.375 41.703125 38.8125 \r\nQ 48.828125 37.15625 52.796875 32.3125 \r\nQ 56.78125 27.484375 56.78125 20.515625 \r\nQ 56.78125 9.90625 50.3125 4.234375 \r\nQ 43.84375 -1.421875 31.78125 -1.421875 \r\nQ 19.734375 -1.421875 13.25 4.234375 \r\nQ 6.78125 9.90625 6.78125 20.515625 \r\nQ 6.78125 27.484375 10.78125 32.3125 \r\nQ 14.796875 37.15625 21.921875 38.8125 \r\nz\r\nM 18.3125 54.390625 \r\nQ 18.3125 48.734375 21.84375 45.5625 \r\nQ 25.390625 42.390625 31.78125 42.390625 \r\nQ 38.140625 42.390625 41.71875 45.5625 \r\nQ 45.3125 48.734375 45.3125 54.390625 \r\nQ 45.3125 60.0625 41.71875 63.234375 \r\nQ 38.140625 66.40625 31.78125 66.40625 \r\nQ 25.390625 66.40625 21.84375 63.234375 \r\nQ 18.3125 60.0625 18.3125 54.390625 \r\nz\r\n\" id=\"DejaVuSans-56\"/>\r\n     </defs>\r\n     <use xlink:href=\"#DejaVuSans-56\"/>\r\n    </g>\r\n   </g>\r\n  </g>\r\n  <g id=\"axes_4\">\r\n   <g id=\"patch_17\">\r\n    <path d=\"M 315.063636 542.283342 \r\nL 551.411462 542.283342 \r\nL 551.411462 305.935516 \r\nL 315.063636 305.935516 \r\nz\r\n\" style=\"fill:#ffffff;\"/>\r\n   </g>\r\n   <g clip-path=\"url(#p81d2bce2ef)\">\r\n    <image height=\"237\" id=\"image0527fc3bfb\" transform=\"scale(1 -1)translate(0 -237)\" width=\"237\" x=\"315.063636\" xlink:href=\"data:image/png;base64,\r\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\" y=\"-305.283342\"/>\r\n   </g>\r\n   <g id=\"matplotlib.axis_7\"/>\r\n   <g id=\"matplotlib.axis_8\"/>\r\n   <g id=\"patch_18\">\r\n    <path d=\"M 315.063636 542.283342 \r\nL 315.063636 305.935516 \r\n\" style=\"fill:none;stroke:#000000;stroke-linecap:square;stroke-linejoin:miter;stroke-width:0.8;\"/>\r\n   </g>\r\n   <g id=\"patch_19\">\r\n    <path d=\"M 551.411462 542.283342 \r\nL 551.411462 305.935516 \r\n\" style=\"fill:none;stroke:#000000;stroke-linecap:square;stroke-linejoin:miter;stroke-width:0.8;\"/>\r\n   </g>\r\n   <g id=\"patch_20\">\r\n    <path d=\"M 315.063636 542.283342 \r\nL 551.411462 542.283342 \r\n\" style=\"fill:none;stroke:#000000;stroke-linecap:square;stroke-linejoin:miter;stroke-width:0.8;\"/>\r\n   </g>\r\n   <g id=\"patch_21\">\r\n    <path d=\"M 315.063636 305.935516 \r\nL 551.411462 305.935516 \r\n\" style=\"fill:none;stroke:#000000;stroke-linecap:square;stroke-linejoin:miter;stroke-width:0.8;\"/>\r\n   </g>\r\n   <g id=\"text_4\">\r\n    <!-- 1 -->\r\n    <g transform=\"translate(429.420049 299.935516)scale(0.12 -0.12)\">\r\n     <defs>\r\n      <path d=\"M 12.40625 8.296875 \r\nL 28.515625 8.296875 \r\nL 28.515625 63.921875 \r\nL 10.984375 60.40625 \r\nL 10.984375 69.390625 \r\nL 28.421875 72.90625 \r\nL 38.28125 72.90625 \r\nL 38.28125 8.296875 \r\nL 54.390625 8.296875 \r\nL 54.390625 0 \r\nL 12.40625 0 \r\nz\r\n\" id=\"DejaVuSans-49\"/>\r\n     </defs>\r\n     <use xlink:href=\"#DejaVuSans-49\"/>\r\n    </g>\r\n   </g>\r\n  </g>\r\n  <g id=\"axes_5\">\r\n   <g id=\"patch_22\">\r\n    <path d=\"M 10.7 825.900734 \r\nL 247.047826 825.900734 \r\nL 247.047826 589.552908 \r\nL 10.7 589.552908 \r\nz\r\n\" style=\"fill:#ffffff;\"/>\r\n   </g>\r\n   <g clip-path=\"url(#p5e673d8117)\">\r\n    <image height=\"237\" id=\"image0080a8d46c\" transform=\"scale(1 -1)translate(0 -237)\" width=\"237\" x=\"10.7\" xlink:href=\"data:image/png;base64,\r\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\" y=\"-588.900734\"/>\r\n   </g>\r\n   <g id=\"matplotlib.axis_9\"/>\r\n   <g id=\"matplotlib.axis_10\"/>\r\n   <g id=\"patch_23\">\r\n    <path d=\"M 10.7 825.900734 \r\nL 10.7 589.552908 \r\n\" style=\"fill:none;stroke:#000000;stroke-linecap:square;stroke-linejoin:miter;stroke-width:0.8;\"/>\r\n   </g>\r\n   <g id=\"patch_24\">\r\n    <path d=\"M 247.047826 825.900734 \r\nL 247.047826 589.552908 \r\n\" style=\"fill:none;stroke:#000000;stroke-linecap:square;stroke-linejoin:miter;stroke-width:0.8;\"/>\r\n   </g>\r\n   <g id=\"patch_25\">\r\n    <path d=\"M 10.7 825.900734 \r\nL 247.047826 825.900734 \r\n\" style=\"fill:none;stroke:#000000;stroke-linecap:square;stroke-linejoin:miter;stroke-width:0.8;\"/>\r\n   </g>\r\n   <g id=\"patch_26\">\r\n    <path d=\"M 10.7 589.552908 \r\nL 247.047826 589.552908 \r\n\" style=\"fill:none;stroke:#000000;stroke-linecap:square;stroke-linejoin:miter;stroke-width:0.8;\"/>\r\n   </g>\r\n   <g id=\"text_5\">\r\n    <!-- 3 -->\r\n    <g transform=\"translate(125.056413 583.552908)scale(0.12 -0.12)\">\r\n     <defs>\r\n      <path d=\"M 40.578125 39.3125 \r\nQ 47.65625 37.796875 51.625 33 \r\nQ 55.609375 28.21875 55.609375 21.1875 \r\nQ 55.609375 10.40625 48.1875 4.484375 \r\nQ 40.765625 -1.421875 27.09375 -1.421875 \r\nQ 22.515625 -1.421875 17.65625 -0.515625 \r\nQ 12.796875 0.390625 7.625 2.203125 \r\nL 7.625 11.71875 \r\nQ 11.71875 9.328125 16.59375 8.109375 \r\nQ 21.484375 6.890625 26.8125 6.890625 \r\nQ 36.078125 6.890625 40.9375 10.546875 \r\nQ 45.796875 14.203125 45.796875 21.1875 \r\nQ 45.796875 27.640625 41.28125 31.265625 \r\nQ 36.765625 34.90625 28.71875 34.90625 \r\nL 20.21875 34.90625 \r\nL 20.21875 43.015625 \r\nL 29.109375 43.015625 \r\nQ 36.375 43.015625 40.234375 45.921875 \r\nQ 44.09375 48.828125 44.09375 54.296875 \r\nQ 44.09375 59.90625 40.109375 62.90625 \r\nQ 36.140625 65.921875 28.71875 65.921875 \r\nQ 24.65625 65.921875 20.015625 65.03125 \r\nQ 15.375 64.15625 9.8125 62.3125 \r\nL 9.8125 71.09375 \r\nQ 15.4375 72.65625 20.34375 73.4375 \r\nQ 25.25 74.21875 29.59375 74.21875 \r\nQ 40.828125 74.21875 47.359375 69.109375 \r\nQ 53.90625 64.015625 53.90625 55.328125 \r\nQ 53.90625 49.265625 50.4375 45.09375 \r\nQ 46.96875 40.921875 40.578125 39.3125 \r\nz\r\n\" id=\"DejaVuSans-51\"/>\r\n     </defs>\r\n     <use xlink:href=\"#DejaVuSans-51\"/>\r\n    </g>\r\n   </g>\r\n  </g>\r\n  <g id=\"axes_6\">\r\n   <g id=\"patch_27\">\r\n    <path d=\"M 315.063636 825.900734 \r\nL 551.411462 825.900734 \r\nL 551.411462 589.552908 \r\nL 315.063636 589.552908 \r\nz\r\n\" style=\"fill:#ffffff;\"/>\r\n   </g>\r\n   <g clip-path=\"url(#pd3ea6488bb)\">\r\n    <image height=\"237\" id=\"image1a61126f8b\" transform=\"scale(1 -1)translate(0 -237)\" width=\"237\" x=\"315.063636\" xlink:href=\"data:image/png;base64,\r\niVBORw0KGgoAAAANSUhEUgAAAO0AAADtCAYAAABTTfKPAAAJX0lEQVR4nO3dy29N7RvG8aeqB4eetKR1SEpP0jQaoSEGGJA0NSCRMPFfmIu5MGRmYCQRYdAISYekISRIUS1VKQlNpeLQ3aq27/CXn8F9LbrVvvh+ptfKvTbve1mDZz3rKUopLSQANpb96R8A4OdQWsAMpQXMUFrADKUFzFBawAylBcxQWsAMpQXMUFrADKUFzFBawAylBcxQWsAMpQXMUFrAzPI//QPwa5Yti/+9VXkWCwv6+wjqmvn5+UX/Dvw/nrSAGUoLmKG0gBlKC5ihtIAZSguYobSAGdZpf1KW9c9169aFeUVFhZzR0NAQ5q2trWHe2dkp76H+LBMTE3LG48ePw/z69etyxtzcnLwG/8OTFjBDaQEzlBYwQ2kBM5QWMENpATOUFjBDaQEzvFzxg7q6ujDft2+fnHHy5Mkw37Bhg5xRWVkZ5iUlJWFeXl4u76Hkcjl5zbNnzxaVp5TS6OhomE9NTckZ/xKetIAZSguYobSAGUoLmKG0gBlKC5ihtIAZ1ml/UFNTE+bbtm2TMzo6OsI8yxqq2qBeVFS0qDyLLL+zubk5zA8cOCBn9PX1hfnz58/ljH9pIz1PWsAMpQXMUFrADKUFzFBawAylBcxQWsAMpQXM8HLFb5CPFx/ycZK7on5HcXGxnFFdXR3mp0+fljNOnDgR5ufPn5czLl++HObT09NyhguetIAZSguYobSAGUoLmKG0gBlKC5ihtIAZ1ml/MDk5Gebq5POUUnr69GmYq43jKaVUVVUlr4nkYxN8PmQ59b69vT3Mjx07JmfcunUrzMfHx+UMl430PGkBM5QWMENpATOUFjBDaQEzlBYwQ2kBM5QWMFOUUlr40z/CSZaN4S0tLWG+a9cuOWPnzp1hvnx5/F7M9u3b5T3Wr18f5rW1tXJGaWlpmGf5+1KynAR/6tSpML9x44acMTg4mPk3/Uk8aQEzlBYwQ2kBM5QWMENpATOUFjBDaQEz/9Qm+CwfAFebxxcW9LL26OhomKuN9iml9ODBgzBX659dXV3yHmo9+eDBg3LGli1bwryyslLOUMrKyuQ1PT09Yf7hwwc5Y2hoKMzn5+fljKXAkxYwQ2kBM5QWMENpATOUFjBDaQEzlBYwQ2kBMzYvV5SXl8trampqwlwtwKeU0ubNm8NcvTiRUkp3794N85mZGTljZGRkUTOGh4flPerq6uQ1yuHDh8M8Hy9XZNlI39TUFOZZTnUolFMZFJ60gBlKC5ihtIAZSguYobSAGUoLmKG0gJmCWadVG9SPHz8uZ6hr9u7dK2eUlJSE+ezsrJyhPq6dy+XkjN7e3jAfGBgI81WrVsl7dHd3h/nu3bvljCwb1BX1YYEsHw04d+5cmKuT4lPiJHgAvwmlBcxQWsAMpQXMUFrADKUFzFBawAylBczYvFzR1tYmZ7S3t4f5ihUr5Ay1EVqdwJ6S3rCf5Uv1R44cCfPFnhSfUkqNjY1hno+/rywvLKgN/Q8fPpQz+vr6wnxsbEzOcMGTFjBDaQEzlBYwQ2kBM5QWMENpATOUFjBTMOu0SlVVlbxGbfzO8jFqta747ds3OUNdozbap5RSfX39ovIs8vFxbrWB/dGjR3LGlStXwvzSpUtyxrt378Jc/U4nPGkBM5QWMENpATOUFjBDaQEzlBYwQ2kBM5QWMFMwL1eohX61ST5fvnz5EubqhPaUUhoaGgpzddp8Sil1dHSEeWlpaZhnOT09H9SG/sHBQTnj3r17YT4+Pi5n/E0vTyg8aQEzlBYwQ2kBM5QWMENpATOUFjBDaQEzS7JOm2WzdUVFRZi3tLTIGepU8ixref39/WF+8eJFOePmzZthrv6sKaV06NChMG9ubg7z/fv3y3s0NDTIa5S3b9+G+bVr1+SMJ0+ehLnLCe1LhSctYIbSAmYoLWCG0gJmKC1ghtICZigtYKZg9tMWitra2jBfs2aNnJHL5RaVp5RSb29vmFdXV4f5ixcv5D2amprkNYq6z+3bt+WMycnJRf+OfwlPWsAMpQXMUFrADKUFzFBawAylBcxQWsAMpQXMLMnLFVk2n3/+/DnMh4eH5YzOzs4wX716tZyhPiSu7pGS/rD67OysnKFONle5+mB6Svn5ALz6WLnK8fN40gJmKC1ghtICZigtYIbSAmYoLWCG0gJmCmYTvFrL/fjxo5wxNTUV5mqDe0oprVy5Msx37NghZ9TX14f5+/fv5Yzv37+H+VKsj5aXl8trKisrwzzLh9nVGv3ExIScof6+/iY8aQEzlBYwQ2kBM5QWMENpATOUFjBDaQEzlBYwUzAvV6iXAV6+fClnqFPJN27cKGeUlpaG+aZNm+SMrq6uMB8ZGZEz1Cb3T58+yRmKejGitbVVzlDXNDY2yhmjo6NhnuWUAjVjZmZGzsjysYZCwJMWMENpATOUFjBDaQEzlBYwQ2kBM5QWMFOUUrJYnGpoaJDXdHd3h/mZM2fkjJqamjDPx4fXs3ysXK3lZlm3VtRJ8C0tLXJGWVlZmJeUlMgZ6u8jyyb4s2fPhnlfX5+cMTg4GOaFso7LkxYwQ2kBM5QWMENpATOUFjBDaQEzlBYwQ2kBMwWzCV6ZnJyU19y5cyfMBwYG5Iw9e/aEeXFxsZyR5av6ijrpoK2tbdH3UC8+ZDlhoKioaFF5SiktXx7/b5jlxZqjR4/Ka5RXr16F+fT09KLvkQ88aQEzlBYwQ2kBM5QWMENpATOUFjBDaQEzNpvgs1Brglu3bpUzLly4EOYdHR1yRnV1tbymEORjjbVQqDVUtQabUko9PT1h/ubNGzljbm5OXrNYPGkBM5QWMENpATOUFjBDaQEzlBYwQ2kBM5QWMGOzCT4L9QX4169fyxlXr14N8yynA3R2dob5Ury0oDaWp5SfTfCF4uvXr2E+NjYmZ+RyuTDnhAEAv4TSAmYoLWCG0gJmKC1ghtICZigtYOav2gSfD2ptsqqqSs5Yu3Ztvn7OL6urq5PXNDc3h7lab04ppWXLfv+/+/Pz8/Ka+/fvh3l/f7+cMTw8HOas0wL4JZQWMENpATOUFjBDaQEzlBYwQ2kBM5QWMMPLFf8w9WLEUrw4kS/qBYwsL2i48PmvAiClRGkBO5QWMENpATOUFjBDaQEzlBYwwzotYIYnLWCG0gJmKC1ghtICZigtYIbSAmYoLWCG0gJmKC1ghtICZigtYIbSAmYoLWCG0gJmKC1ghtICZv4DeCjbxH5Uu1kAAAAASUVORK5CYII=\" y=\"-588.900734\"/>\r\n   </g>\r\n   <g id=\"matplotlib.axis_11\"/>\r\n   <g id=\"matplotlib.axis_12\"/>\r\n   <g id=\"patch_28\">\r\n    <path d=\"M 315.063636 825.900734 \r\nL 315.063636 589.552908 \r\n\" style=\"fill:none;stroke:#000000;stroke-linecap:square;stroke-linejoin:miter;stroke-width:0.8;\"/>\r\n   </g>\r\n   <g id=\"patch_29\">\r\n    <path d=\"M 551.411462 825.900734 \r\nL 551.411462 589.552908 \r\n\" style=\"fill:none;stroke:#000000;stroke-linecap:square;stroke-linejoin:miter;stroke-width:0.8;\"/>\r\n   </g>\r\n   <g id=\"patch_30\">\r\n    <path d=\"M 315.063636 825.900734 \r\nL 551.411462 825.900734 \r\n\" style=\"fill:none;stroke:#000000;stroke-linecap:square;stroke-linejoin:miter;stroke-width:0.8;\"/>\r\n   </g>\r\n   <g id=\"patch_31\">\r\n    <path d=\"M 315.063636 589.552908 \r\nL 551.411462 589.552908 \r\n\" style=\"fill:none;stroke:#000000;stroke-linecap:square;stroke-linejoin:miter;stroke-width:0.8;\"/>\r\n   </g>\r\n   <g id=\"text_6\">\r\n    <!-- 5 -->\r\n    <g transform=\"translate(429.420049 583.552908)scale(0.12 -0.12)\">\r\n     <defs>\r\n      <path d=\"M 10.796875 72.90625 \r\nL 49.515625 72.90625 \r\nL 49.515625 64.59375 \r\nL 19.828125 64.59375 \r\nL 19.828125 46.734375 \r\nQ 21.96875 47.46875 24.109375 47.828125 \r\nQ 26.265625 48.1875 28.421875 48.1875 \r\nQ 40.625 48.1875 47.75 41.5 \r\nQ 54.890625 34.8125 54.890625 23.390625 \r\nQ 54.890625 11.625 47.5625 5.09375 \r\nQ 40.234375 -1.421875 26.90625 -1.421875 \r\nQ 22.3125 -1.421875 17.546875 -0.640625 \r\nQ 12.796875 0.140625 7.71875 1.703125 \r\nL 7.71875 11.625 \r\nQ 12.109375 9.234375 16.796875 8.0625 \r\nQ 21.484375 6.890625 26.703125 6.890625 \r\nQ 35.15625 6.890625 40.078125 11.328125 \r\nQ 45.015625 15.765625 45.015625 23.390625 \r\nQ 45.015625 31 40.078125 35.4375 \r\nQ 35.15625 39.890625 26.703125 39.890625 \r\nQ 22.75 39.890625 18.8125 39.015625 \r\nQ 14.890625 38.140625 10.796875 36.28125 \r\nz\r\n\" id=\"DejaVuSans-53\"/>\r\n     </defs>\r\n     <use xlink:href=\"#DejaVuSans-53\"/>\r\n    </g>\r\n   </g>\r\n  </g>\r\n  <g id=\"axes_7\">\r\n   <g id=\"patch_32\">\r\n    <path d=\"M 10.7 1109.518125 \r\nL 247.047826 1109.518125 \r\nL 247.047826 873.170299 \r\nL 10.7 873.170299 \r\nz\r\n\" style=\"fill:#ffffff;\"/>\r\n   </g>\r\n   <g clip-path=\"url(#pbdfe62a908)\">\r\n    <image height=\"237\" id=\"imagec3da409bba\" transform=\"scale(1 -1)translate(0 -237)\" width=\"237\" x=\"10.7\" xlink:href=\"data:image/png;base64,\r\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\" y=\"-872.518125\"/>\r\n   </g>\r\n   <g id=\"matplotlib.axis_13\"/>\r\n   <g id=\"matplotlib.axis_14\"/>\r\n   <g id=\"patch_33\">\r\n    <path d=\"M 10.7 1109.518125 \r\nL 10.7 873.170299 \r\n\" style=\"fill:none;stroke:#000000;stroke-linecap:square;stroke-linejoin:miter;stroke-width:0.8;\"/>\r\n   </g>\r\n   <g id=\"patch_34\">\r\n    <path d=\"M 247.047826 1109.518125 \r\nL 247.047826 873.170299 \r\n\" style=\"fill:none;stroke:#000000;stroke-linecap:square;stroke-linejoin:miter;stroke-width:0.8;\"/>\r\n   </g>\r\n   <g id=\"patch_35\">\r\n    <path d=\"M 10.7 1109.518125 \r\nL 247.047826 1109.518125 \r\n\" style=\"fill:none;stroke:#000000;stroke-linecap:square;stroke-linejoin:miter;stroke-width:0.8;\"/>\r\n   </g>\r\n   <g id=\"patch_36\">\r\n    <path d=\"M 10.7 873.170299 \r\nL 247.047826 873.170299 \r\n\" style=\"fill:none;stroke:#000000;stroke-linecap:square;stroke-linejoin:miter;stroke-width:0.8;\"/>\r\n   </g>\r\n   <g id=\"text_7\">\r\n    <!-- 8 -->\r\n    <g transform=\"translate(125.056413 867.170299)scale(0.12 -0.12)\">\r\n     <use xlink:href=\"#DejaVuSans-56\"/>\r\n    </g>\r\n   </g>\r\n  </g>\r\n  <g id=\"axes_8\">\r\n   <g id=\"patch_37\">\r\n    <path d=\"M 315.063636 1109.518125 \r\nL 551.411462 1109.518125 \r\nL 551.411462 873.170299 \r\nL 315.063636 873.170299 \r\nz\r\n\" style=\"fill:#ffffff;\"/>\r\n   </g>\r\n   <g clip-path=\"url(#p882873439e)\">\r\n    <image height=\"237\" id=\"imaged5f207ca7a\" transform=\"scale(1 -1)translate(0 -237)\" width=\"237\" x=\"315.063636\" xlink:href=\"data:image/png;base64,\r\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\" y=\"-872.518125\"/>\r\n   </g>\r\n   <g id=\"matplotlib.axis_15\"/>\r\n   <g id=\"matplotlib.axis_16\"/>\r\n   <g id=\"patch_38\">\r\n    <path d=\"M 315.063636 1109.518125 \r\nL 315.063636 873.170299 \r\n\" style=\"fill:none;stroke:#000000;stroke-linecap:square;stroke-linejoin:miter;stroke-width:0.8;\"/>\r\n   </g>\r\n   <g id=\"patch_39\">\r\n    <path d=\"M 551.411462 1109.518125 \r\nL 551.411462 873.170299 \r\n\" style=\"fill:none;stroke:#000000;stroke-linecap:square;stroke-linejoin:miter;stroke-width:0.8;\"/>\r\n   </g>\r\n   <g id=\"patch_40\">\r\n    <path d=\"M 315.063636 1109.518125 \r\nL 551.411462 1109.518125 \r\n\" style=\"fill:none;stroke:#000000;stroke-linecap:square;stroke-linejoin:miter;stroke-width:0.8;\"/>\r\n   </g>\r\n   <g id=\"patch_41\">\r\n    <path d=\"M 315.063636 873.170299 \r\nL 551.411462 873.170299 \r\n\" style=\"fill:none;stroke:#000000;stroke-linecap:square;stroke-linejoin:miter;stroke-width:0.8;\"/>\r\n   </g>\r\n   <g id=\"text_8\">\r\n    <!-- 8 -->\r\n    <g transform=\"translate(429.420049 867.170299)scale(0.12 -0.12)\">\r\n     <use xlink:href=\"#DejaVuSans-56\"/>\r\n    </g>\r\n   </g>\r\n  </g>\r\n </g>\r\n <defs>\r\n  <clipPath id=\"pa691f15ace\">\r\n   <rect height=\"236.347826\" width=\"236.347826\" x=\"10.7\" y=\"22.318125\"/>\r\n  </clipPath>\r\n  <clipPath id=\"p8d44a01c8e\">\r\n   <rect height=\"236.347826\" width=\"236.347826\" x=\"315.063636\" y=\"22.318125\"/>\r\n  </clipPath>\r\n  <clipPath id=\"p24419484ed\">\r\n   <rect height=\"236.347826\" width=\"236.347826\" x=\"10.7\" y=\"305.935516\"/>\r\n  </clipPath>\r\n  <clipPath id=\"p81d2bce2ef\">\r\n   <rect height=\"236.347826\" width=\"236.347826\" x=\"315.063636\" y=\"305.935516\"/>\r\n  </clipPath>\r\n  <clipPath id=\"p5e673d8117\">\r\n   <rect height=\"236.347826\" width=\"236.347826\" x=\"10.7\" y=\"589.552908\"/>\r\n  </clipPath>\r\n  <clipPath id=\"pd3ea6488bb\">\r\n   <rect height=\"236.347826\" width=\"236.347826\" x=\"315.063636\" y=\"589.552908\"/>\r\n  </clipPath>\r\n  <clipPath id=\"pbdfe62a908\">\r\n   <rect height=\"236.347826\" width=\"236.347826\" x=\"10.7\" y=\"873.170299\"/>\r\n  </clipPath>\r\n  <clipPath id=\"p882873439e\">\r\n   <rect height=\"236.347826\" width=\"236.347826\" x=\"315.063636\" y=\"873.170299\"/>\r\n  </clipPath>\r\n </defs>\r\n</svg>\r\n",
      "image/png": "[encoded data removed]"
     },
     "metadata": {}
    }
   ],
   "metadata": {
    "collapsed": true
   }
  },
  {
   "cell_type": "markdown",
   "source": [
    "Next, plot 8 samples from the letters training data.  You should see that the labels go from 0 to 25 corresponding to `a` to `z`.  Upper and lower case letters belong to the same class."
   ],
   "metadata": {}
  },
  {
   "cell_type": "code",
   "execution_count": 64,
   "source": [
    "# TODO:  Plot 8 random samples from the training data of the letters\r\n",
    "plt.figure(figsize=(10,20))\r\n",
    "\r\n",
    "n = Xtr_let.shape[0]\r\n",
    "for i in range(8):\r\n",
    "    plt.subplot(4, 2, i+1)    \r\n",
    "    randint = np.random.randint(n)\r\n",
    "    plt_digit(Xtr_let[randint], ytr_let[randint])\r\n"
   ],
   "outputs": [
    {
     "output_type": "display_data",
     "data": {
      "text/plain": [
       "<Figure size 720x1440 with 8 Axes>"
      ],
      "image/svg+xml": "<?xml version=\"1.0\" encoding=\"utf-8\" standalone=\"no\"?>\r\n<!DOCTYPE svg PUBLIC \"-//W3C//DTD SVG 1.1//EN\"\r\n  \"http://www.w3.org/Graphics/SVG/1.1/DTD/svg11.dtd\">\r\n<!-- Created with matplotlib (https://matplotlib.org/) -->\r\n<svg height=\"1120.218125pt\" version=\"1.1\" viewBox=\"0 0 558.611462 1120.218125\" width=\"558.611462pt\" xmlns=\"http://www.w3.org/2000/svg\" xmlns:xlink=\"http://www.w3.org/1999/xlink\">\r\n <metadata>\r\n  <rdf:RDF xmlns:cc=\"http://creativecommons.org/ns#\" xmlns:dc=\"http://purl.org/dc/elements/1.1/\" xmlns:rdf=\"http://www.w3.org/1999/02/22-rdf-syntax-ns#\">\r\n   <cc:Work>\r\n    <dc:type rdf:resource=\"http://purl.org/dc/dcmitype/StillImage\"/>\r\n    <dc:date>2021-11-17T23:00:57.453545</dc:date>\r\n    <dc:format>image/svg+xml</dc:format>\r\n    <dc:creator>\r\n     <cc:Agent>\r\n      <dc:title>Matplotlib v3.3.4, https://matplotlib.org/</dc:title>\r\n     </cc:Agent>\r\n    </dc:creator>\r\n   </cc:Work>\r\n  </rdf:RDF>\r\n </metadata>\r\n <defs>\r\n  <style type=\"text/css\">*{stroke-linecap:butt;stroke-linejoin:round;}</style>\r\n </defs>\r\n <g id=\"figure_1\">\r\n  <g id=\"patch_1\">\r\n   <path d=\"M 0 1120.218125 \r\nL 558.611462 1120.218125 \r\nL 558.611462 0 \r\nL 0 0 \r\nz\r\n\" style=\"fill:none;\"/>\r\n  </g>\r\n  <g id=\"axes_1\">\r\n   <g id=\"patch_2\">\r\n    <path d=\"M 10.7 258.665951 \r\nL 247.047826 258.665951 \r\nL 247.047826 22.318125 \r\nL 10.7 22.318125 \r\nz\r\n\" style=\"fill:#ffffff;\"/>\r\n   </g>\r\n   <g clip-path=\"url(#p75eb1dc526)\">\r\n    <image height=\"237\" id=\"image5d480d10ce\" transform=\"scale(1 -1)translate(0 -237)\" width=\"237\" x=\"10.7\" xlink:href=\"data:image/png;base64,\r\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\" y=\"-21.665951\"/>\r\n   </g>\r\n   <g id=\"matplotlib.axis_1\"/>\r\n   <g id=\"matplotlib.axis_2\"/>\r\n   <g id=\"patch_3\">\r\n    <path d=\"M 10.7 258.665951 \r\nL 10.7 22.318125 \r\n\" style=\"fill:none;stroke:#000000;stroke-linecap:square;stroke-linejoin:miter;stroke-width:0.8;\"/>\r\n   </g>\r\n   <g id=\"patch_4\">\r\n    <path d=\"M 247.047826 258.665951 \r\nL 247.047826 22.318125 \r\n\" style=\"fill:none;stroke:#000000;stroke-linecap:square;stroke-linejoin:miter;stroke-width:0.8;\"/>\r\n   </g>\r\n   <g id=\"patch_5\">\r\n    <path d=\"M 10.7 258.665951 \r\nL 247.047826 258.665951 \r\n\" style=\"fill:none;stroke:#000000;stroke-linecap:square;stroke-linejoin:miter;stroke-width:0.8;\"/>\r\n   </g>\r\n   <g id=\"patch_6\">\r\n    <path d=\"M 10.7 22.318125 \r\nL 247.047826 22.318125 \r\n\" style=\"fill:none;stroke:#000000;stroke-linecap:square;stroke-linejoin:miter;stroke-width:0.8;\"/>\r\n   </g>\r\n   <g id=\"text_1\">\r\n    <!-- 5 -->\r\n    <g transform=\"translate(125.056413 16.318125)scale(0.12 -0.12)\">\r\n     <defs>\r\n      <path d=\"M 10.796875 72.90625 \r\nL 49.515625 72.90625 \r\nL 49.515625 64.59375 \r\nL 19.828125 64.59375 \r\nL 19.828125 46.734375 \r\nQ 21.96875 47.46875 24.109375 47.828125 \r\nQ 26.265625 48.1875 28.421875 48.1875 \r\nQ 40.625 48.1875 47.75 41.5 \r\nQ 54.890625 34.8125 54.890625 23.390625 \r\nQ 54.890625 11.625 47.5625 5.09375 \r\nQ 40.234375 -1.421875 26.90625 -1.421875 \r\nQ 22.3125 -1.421875 17.546875 -0.640625 \r\nQ 12.796875 0.140625 7.71875 1.703125 \r\nL 7.71875 11.625 \r\nQ 12.109375 9.234375 16.796875 8.0625 \r\nQ 21.484375 6.890625 26.703125 6.890625 \r\nQ 35.15625 6.890625 40.078125 11.328125 \r\nQ 45.015625 15.765625 45.015625 23.390625 \r\nQ 45.015625 31 40.078125 35.4375 \r\nQ 35.15625 39.890625 26.703125 39.890625 \r\nQ 22.75 39.890625 18.8125 39.015625 \r\nQ 14.890625 38.140625 10.796875 36.28125 \r\nz\r\n\" id=\"DejaVuSans-53\"/>\r\n     </defs>\r\n     <use xlink:href=\"#DejaVuSans-53\"/>\r\n    </g>\r\n   </g>\r\n  </g>\r\n  <g id=\"axes_2\">\r\n   <g id=\"patch_7\">\r\n    <path d=\"M 315.063636 258.665951 \r\nL 551.411462 258.665951 \r\nL 551.411462 22.318125 \r\nL 315.063636 22.318125 \r\nz\r\n\" style=\"fill:#ffffff;\"/>\r\n   </g>\r\n   <g clip-path=\"url(#p9d85ce5bd5)\">\r\n    <image height=\"237\" id=\"imageac91520a03\" transform=\"scale(1 -1)translate(0 -237)\" width=\"237\" x=\"315.063636\" xlink:href=\"data:image/png;base64,\r\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\" y=\"-21.665951\"/>\r\n   </g>\r\n   <g id=\"matplotlib.axis_3\"/>\r\n   <g id=\"matplotlib.axis_4\"/>\r\n   <g id=\"patch_8\">\r\n    <path d=\"M 315.063636 258.665951 \r\nL 315.063636 22.318125 \r\n\" style=\"fill:none;stroke:#000000;stroke-linecap:square;stroke-linejoin:miter;stroke-width:0.8;\"/>\r\n   </g>\r\n   <g id=\"patch_9\">\r\n    <path d=\"M 551.411462 258.665951 \r\nL 551.411462 22.318125 \r\n\" style=\"fill:none;stroke:#000000;stroke-linecap:square;stroke-linejoin:miter;stroke-width:0.8;\"/>\r\n   </g>\r\n   <g id=\"patch_10\">\r\n    <path d=\"M 315.063636 258.665951 \r\nL 551.411462 258.665951 \r\n\" style=\"fill:none;stroke:#000000;stroke-linecap:square;stroke-linejoin:miter;stroke-width:0.8;\"/>\r\n   </g>\r\n   <g id=\"patch_11\">\r\n    <path d=\"M 315.063636 22.318125 \r\nL 551.411462 22.318125 \r\n\" style=\"fill:none;stroke:#000000;stroke-linecap:square;stroke-linejoin:miter;stroke-width:0.8;\"/>\r\n   </g>\r\n   <g id=\"text_2\">\r\n    <!-- 17 -->\r\n    <g transform=\"translate(425.602549 16.318125)scale(0.12 -0.12)\">\r\n     <defs>\r\n      <path d=\"M 12.40625 8.296875 \r\nL 28.515625 8.296875 \r\nL 28.515625 63.921875 \r\nL 10.984375 60.40625 \r\nL 10.984375 69.390625 \r\nL 28.421875 72.90625 \r\nL 38.28125 72.90625 \r\nL 38.28125 8.296875 \r\nL 54.390625 8.296875 \r\nL 54.390625 0 \r\nL 12.40625 0 \r\nz\r\n\" id=\"DejaVuSans-49\"/>\r\n      <path d=\"M 8.203125 72.90625 \r\nL 55.078125 72.90625 \r\nL 55.078125 68.703125 \r\nL 28.609375 0 \r\nL 18.3125 0 \r\nL 43.21875 64.59375 \r\nL 8.203125 64.59375 \r\nz\r\n\" id=\"DejaVuSans-55\"/>\r\n     </defs>\r\n     <use xlink:href=\"#DejaVuSans-49\"/>\r\n     <use x=\"63.623047\" xlink:href=\"#DejaVuSans-55\"/>\r\n    </g>\r\n   </g>\r\n  </g>\r\n  <g id=\"axes_3\">\r\n   <g id=\"patch_12\">\r\n    <path d=\"M 10.7 542.283342 \r\nL 247.047826 542.283342 \r\nL 247.047826 305.935516 \r\nL 10.7 305.935516 \r\nz\r\n\" style=\"fill:#ffffff;\"/>\r\n   </g>\r\n   <g clip-path=\"url(#p4eacc18885)\">\r\n    <image height=\"237\" id=\"imagee3b0c07857\" transform=\"scale(1 -1)translate(0 -237)\" width=\"237\" x=\"10.7\" xlink:href=\"data:image/png;base64,\r\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\" y=\"-305.283342\"/>\r\n   </g>\r\n   <g id=\"matplotlib.axis_5\"/>\r\n   <g id=\"matplotlib.axis_6\"/>\r\n   <g id=\"patch_13\">\r\n    <path d=\"M 10.7 542.283342 \r\nL 10.7 305.935516 \r\n\" style=\"fill:none;stroke:#000000;stroke-linecap:square;stroke-linejoin:miter;stroke-width:0.8;\"/>\r\n   </g>\r\n   <g id=\"patch_14\">\r\n    <path d=\"M 247.047826 542.283342 \r\nL 247.047826 305.935516 \r\n\" style=\"fill:none;stroke:#000000;stroke-linecap:square;stroke-linejoin:miter;stroke-width:0.8;\"/>\r\n   </g>\r\n   <g id=\"patch_15\">\r\n    <path d=\"M 10.7 542.283342 \r\nL 247.047826 542.283342 \r\n\" style=\"fill:none;stroke:#000000;stroke-linecap:square;stroke-linejoin:miter;stroke-width:0.8;\"/>\r\n   </g>\r\n   <g id=\"patch_16\">\r\n    <path d=\"M 10.7 305.935516 \r\nL 247.047826 305.935516 \r\n\" style=\"fill:none;stroke:#000000;stroke-linecap:square;stroke-linejoin:miter;stroke-width:0.8;\"/>\r\n   </g>\r\n   <g id=\"text_3\">\r\n    <!-- 23 -->\r\n    <g transform=\"translate(121.238913 299.935516)scale(0.12 -0.12)\">\r\n     <defs>\r\n      <path d=\"M 19.1875 8.296875 \r\nL 53.609375 8.296875 \r\nL 53.609375 0 \r\nL 7.328125 0 \r\nL 7.328125 8.296875 \r\nQ 12.9375 14.109375 22.625 23.890625 \r\nQ 32.328125 33.6875 34.8125 36.53125 \r\nQ 39.546875 41.84375 41.421875 45.53125 \r\nQ 43.3125 49.21875 43.3125 52.78125 \r\nQ 43.3125 58.59375 39.234375 62.25 \r\nQ 35.15625 65.921875 28.609375 65.921875 \r\nQ 23.96875 65.921875 18.8125 64.3125 \r\nQ 13.671875 62.703125 7.8125 59.421875 \r\nL 7.8125 69.390625 \r\nQ 13.765625 71.78125 18.9375 73 \r\nQ 24.125 74.21875 28.421875 74.21875 \r\nQ 39.75 74.21875 46.484375 68.546875 \r\nQ 53.21875 62.890625 53.21875 53.421875 \r\nQ 53.21875 48.921875 51.53125 44.890625 \r\nQ 49.859375 40.875 45.40625 35.40625 \r\nQ 44.1875 33.984375 37.640625 27.21875 \r\nQ 31.109375 20.453125 19.1875 8.296875 \r\nz\r\n\" id=\"DejaVuSans-50\"/>\r\n      <path d=\"M 40.578125 39.3125 \r\nQ 47.65625 37.796875 51.625 33 \r\nQ 55.609375 28.21875 55.609375 21.1875 \r\nQ 55.609375 10.40625 48.1875 4.484375 \r\nQ 40.765625 -1.421875 27.09375 -1.421875 \r\nQ 22.515625 -1.421875 17.65625 -0.515625 \r\nQ 12.796875 0.390625 7.625 2.203125 \r\nL 7.625 11.71875 \r\nQ 11.71875 9.328125 16.59375 8.109375 \r\nQ 21.484375 6.890625 26.8125 6.890625 \r\nQ 36.078125 6.890625 40.9375 10.546875 \r\nQ 45.796875 14.203125 45.796875 21.1875 \r\nQ 45.796875 27.640625 41.28125 31.265625 \r\nQ 36.765625 34.90625 28.71875 34.90625 \r\nL 20.21875 34.90625 \r\nL 20.21875 43.015625 \r\nL 29.109375 43.015625 \r\nQ 36.375 43.015625 40.234375 45.921875 \r\nQ 44.09375 48.828125 44.09375 54.296875 \r\nQ 44.09375 59.90625 40.109375 62.90625 \r\nQ 36.140625 65.921875 28.71875 65.921875 \r\nQ 24.65625 65.921875 20.015625 65.03125 \r\nQ 15.375 64.15625 9.8125 62.3125 \r\nL 9.8125 71.09375 \r\nQ 15.4375 72.65625 20.34375 73.4375 \r\nQ 25.25 74.21875 29.59375 74.21875 \r\nQ 40.828125 74.21875 47.359375 69.109375 \r\nQ 53.90625 64.015625 53.90625 55.328125 \r\nQ 53.90625 49.265625 50.4375 45.09375 \r\nQ 46.96875 40.921875 40.578125 39.3125 \r\nz\r\n\" id=\"DejaVuSans-51\"/>\r\n     </defs>\r\n     <use xlink:href=\"#DejaVuSans-50\"/>\r\n     <use x=\"63.623047\" xlink:href=\"#DejaVuSans-51\"/>\r\n    </g>\r\n   </g>\r\n  </g>\r\n  <g id=\"axes_4\">\r\n   <g id=\"patch_17\">\r\n    <path d=\"M 315.063636 542.283342 \r\nL 551.411462 542.283342 \r\nL 551.411462 305.935516 \r\nL 315.063636 305.935516 \r\nz\r\n\" style=\"fill:#ffffff;\"/>\r\n   </g>\r\n   <g clip-path=\"url(#p4d8cb3f032)\">\r\n    <image height=\"237\" id=\"image46b39152b4\" transform=\"scale(1 -1)translate(0 -237)\" width=\"237\" x=\"315.063636\" xlink:href=\"data:image/png;base64,\r\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\" y=\"-305.283342\"/>\r\n   </g>\r\n   <g id=\"matplotlib.axis_7\"/>\r\n   <g id=\"matplotlib.axis_8\"/>\r\n   <g id=\"patch_18\">\r\n    <path d=\"M 315.063636 542.283342 \r\nL 315.063636 305.935516 \r\n\" style=\"fill:none;stroke:#000000;stroke-linecap:square;stroke-linejoin:miter;stroke-width:0.8;\"/>\r\n   </g>\r\n   <g id=\"patch_19\">\r\n    <path d=\"M 551.411462 542.283342 \r\nL 551.411462 305.935516 \r\n\" style=\"fill:none;stroke:#000000;stroke-linecap:square;stroke-linejoin:miter;stroke-width:0.8;\"/>\r\n   </g>\r\n   <g id=\"patch_20\">\r\n    <path d=\"M 315.063636 542.283342 \r\nL 551.411462 542.283342 \r\n\" style=\"fill:none;stroke:#000000;stroke-linecap:square;stroke-linejoin:miter;stroke-width:0.8;\"/>\r\n   </g>\r\n   <g id=\"patch_21\">\r\n    <path d=\"M 315.063636 305.935516 \r\nL 551.411462 305.935516 \r\n\" style=\"fill:none;stroke:#000000;stroke-linecap:square;stroke-linejoin:miter;stroke-width:0.8;\"/>\r\n   </g>\r\n   <g id=\"text_4\">\r\n    <!-- 19 -->\r\n    <g transform=\"translate(425.602549 299.935516)scale(0.12 -0.12)\">\r\n     <defs>\r\n      <path d=\"M 10.984375 1.515625 \r\nL 10.984375 10.5 \r\nQ 14.703125 8.734375 18.5 7.8125 \r\nQ 22.3125 6.890625 25.984375 6.890625 \r\nQ 35.75 6.890625 40.890625 13.453125 \r\nQ 46.046875 20.015625 46.78125 33.40625 \r\nQ 43.953125 29.203125 39.59375 26.953125 \r\nQ 35.25 24.703125 29.984375 24.703125 \r\nQ 19.046875 24.703125 12.671875 31.3125 \r\nQ 6.296875 37.9375 6.296875 49.421875 \r\nQ 6.296875 60.640625 12.9375 67.421875 \r\nQ 19.578125 74.21875 30.609375 74.21875 \r\nQ 43.265625 74.21875 49.921875 64.515625 \r\nQ 56.59375 54.828125 56.59375 36.375 \r\nQ 56.59375 19.140625 48.40625 8.859375 \r\nQ 40.234375 -1.421875 26.421875 -1.421875 \r\nQ 22.703125 -1.421875 18.890625 -0.6875 \r\nQ 15.09375 0.046875 10.984375 1.515625 \r\nz\r\nM 30.609375 32.421875 \r\nQ 37.25 32.421875 41.125 36.953125 \r\nQ 45.015625 41.5 45.015625 49.421875 \r\nQ 45.015625 57.28125 41.125 61.84375 \r\nQ 37.25 66.40625 30.609375 66.40625 \r\nQ 23.96875 66.40625 20.09375 61.84375 \r\nQ 16.21875 57.28125 16.21875 49.421875 \r\nQ 16.21875 41.5 20.09375 36.953125 \r\nQ 23.96875 32.421875 30.609375 32.421875 \r\nz\r\n\" id=\"DejaVuSans-57\"/>\r\n     </defs>\r\n     <use xlink:href=\"#DejaVuSans-49\"/>\r\n     <use x=\"63.623047\" xlink:href=\"#DejaVuSans-57\"/>\r\n    </g>\r\n   </g>\r\n  </g>\r\n  <g id=\"axes_5\">\r\n   <g id=\"patch_22\">\r\n    <path d=\"M 10.7 825.900734 \r\nL 247.047826 825.900734 \r\nL 247.047826 589.552908 \r\nL 10.7 589.552908 \r\nz\r\n\" style=\"fill:#ffffff;\"/>\r\n   </g>\r\n   <g clip-path=\"url(#pcd3375cca5)\">\r\n    <image height=\"237\" id=\"image66f1b2e0da\" transform=\"scale(1 -1)translate(0 -237)\" width=\"237\" x=\"10.7\" xlink:href=\"data:image/png;base64,\r\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\" y=\"-588.900734\"/>\r\n   </g>\r\n   <g id=\"matplotlib.axis_9\"/>\r\n   <g id=\"matplotlib.axis_10\"/>\r\n   <g id=\"patch_23\">\r\n    <path d=\"M 10.7 825.900734 \r\nL 10.7 589.552908 \r\n\" style=\"fill:none;stroke:#000000;stroke-linecap:square;stroke-linejoin:miter;stroke-width:0.8;\"/>\r\n   </g>\r\n   <g id=\"patch_24\">\r\n    <path d=\"M 247.047826 825.900734 \r\nL 247.047826 589.552908 \r\n\" style=\"fill:none;stroke:#000000;stroke-linecap:square;stroke-linejoin:miter;stroke-width:0.8;\"/>\r\n   </g>\r\n   <g id=\"patch_25\">\r\n    <path d=\"M 10.7 825.900734 \r\nL 247.047826 825.900734 \r\n\" style=\"fill:none;stroke:#000000;stroke-linecap:square;stroke-linejoin:miter;stroke-width:0.8;\"/>\r\n   </g>\r\n   <g id=\"patch_26\">\r\n    <path d=\"M 10.7 589.552908 \r\nL 247.047826 589.552908 \r\n\" style=\"fill:none;stroke:#000000;stroke-linecap:square;stroke-linejoin:miter;stroke-width:0.8;\"/>\r\n   </g>\r\n   <g id=\"text_5\">\r\n    <!-- 12 -->\r\n    <g transform=\"translate(121.238913 583.552908)scale(0.12 -0.12)\">\r\n     <use xlink:href=\"#DejaVuSans-49\"/>\r\n     <use x=\"63.623047\" xlink:href=\"#DejaVuSans-50\"/>\r\n    </g>\r\n   </g>\r\n  </g>\r\n  <g id=\"axes_6\">\r\n   <g id=\"patch_27\">\r\n    <path d=\"M 315.063636 825.900734 \r\nL 551.411462 825.900734 \r\nL 551.411462 589.552908 \r\nL 315.063636 589.552908 \r\nz\r\n\" style=\"fill:#ffffff;\"/>\r\n   </g>\r\n   <g clip-path=\"url(#p9d74bd6136)\">\r\n    <image height=\"237\" id=\"image2563af4b2e\" transform=\"scale(1 -1)translate(0 -237)\" width=\"237\" x=\"315.063636\" xlink:href=\"data:image/png;base64,\r\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\" y=\"-588.900734\"/>\r\n   </g>\r\n   <g id=\"matplotlib.axis_11\"/>\r\n   <g id=\"matplotlib.axis_12\"/>\r\n   <g id=\"patch_28\">\r\n    <path d=\"M 315.063636 825.900734 \r\nL 315.063636 589.552908 \r\n\" style=\"fill:none;stroke:#000000;stroke-linecap:square;stroke-linejoin:miter;stroke-width:0.8;\"/>\r\n   </g>\r\n   <g id=\"patch_29\">\r\n    <path d=\"M 551.411462 825.900734 \r\nL 551.411462 589.552908 \r\n\" style=\"fill:none;stroke:#000000;stroke-linecap:square;stroke-linejoin:miter;stroke-width:0.8;\"/>\r\n   </g>\r\n   <g id=\"patch_30\">\r\n    <path d=\"M 315.063636 825.900734 \r\nL 551.411462 825.900734 \r\n\" style=\"fill:none;stroke:#000000;stroke-linecap:square;stroke-linejoin:miter;stroke-width:0.8;\"/>\r\n   </g>\r\n   <g id=\"patch_31\">\r\n    <path d=\"M 315.063636 589.552908 \r\nL 551.411462 589.552908 \r\n\" style=\"fill:none;stroke:#000000;stroke-linecap:square;stroke-linejoin:miter;stroke-width:0.8;\"/>\r\n   </g>\r\n   <g id=\"text_6\">\r\n    <!-- 13 -->\r\n    <g transform=\"translate(425.602549 583.552908)scale(0.12 -0.12)\">\r\n     <use xlink:href=\"#DejaVuSans-49\"/>\r\n     <use x=\"63.623047\" xlink:href=\"#DejaVuSans-51\"/>\r\n    </g>\r\n   </g>\r\n  </g>\r\n  <g id=\"axes_7\">\r\n   <g id=\"patch_32\">\r\n    <path d=\"M 10.7 1109.518125 \r\nL 247.047826 1109.518125 \r\nL 247.047826 873.170299 \r\nL 10.7 873.170299 \r\nz\r\n\" style=\"fill:#ffffff;\"/>\r\n   </g>\r\n   <g clip-path=\"url(#p23ae915cf4)\">\r\n    <image height=\"237\" id=\"image80e9dd64a2\" transform=\"scale(1 -1)translate(0 -237)\" width=\"237\" x=\"10.7\" xlink:href=\"data:image/png;base64,\r\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\" y=\"-872.518125\"/>\r\n   </g>\r\n   <g id=\"matplotlib.axis_13\"/>\r\n   <g id=\"matplotlib.axis_14\"/>\r\n   <g id=\"patch_33\">\r\n    <path d=\"M 10.7 1109.518125 \r\nL 10.7 873.170299 \r\n\" style=\"fill:none;stroke:#000000;stroke-linecap:square;stroke-linejoin:miter;stroke-width:0.8;\"/>\r\n   </g>\r\n   <g id=\"patch_34\">\r\n    <path d=\"M 247.047826 1109.518125 \r\nL 247.047826 873.170299 \r\n\" style=\"fill:none;stroke:#000000;stroke-linecap:square;stroke-linejoin:miter;stroke-width:0.8;\"/>\r\n   </g>\r\n   <g id=\"patch_35\">\r\n    <path d=\"M 10.7 1109.518125 \r\nL 247.047826 1109.518125 \r\n\" style=\"fill:none;stroke:#000000;stroke-linecap:square;stroke-linejoin:miter;stroke-width:0.8;\"/>\r\n   </g>\r\n   <g id=\"patch_36\">\r\n    <path d=\"M 10.7 873.170299 \r\nL 247.047826 873.170299 \r\n\" style=\"fill:none;stroke:#000000;stroke-linecap:square;stroke-linejoin:miter;stroke-width:0.8;\"/>\r\n   </g>\r\n   <g id=\"text_7\">\r\n    <!-- 14 -->\r\n    <g transform=\"translate(121.238913 867.170299)scale(0.12 -0.12)\">\r\n     <defs>\r\n      <path d=\"M 37.796875 64.3125 \r\nL 12.890625 25.390625 \r\nL 37.796875 25.390625 \r\nz\r\nM 35.203125 72.90625 \r\nL 47.609375 72.90625 \r\nL 47.609375 25.390625 \r\nL 58.015625 25.390625 \r\nL 58.015625 17.1875 \r\nL 47.609375 17.1875 \r\nL 47.609375 0 \r\nL 37.796875 0 \r\nL 37.796875 17.1875 \r\nL 4.890625 17.1875 \r\nL 4.890625 26.703125 \r\nz\r\n\" id=\"DejaVuSans-52\"/>\r\n     </defs>\r\n     <use xlink:href=\"#DejaVuSans-49\"/>\r\n     <use x=\"63.623047\" xlink:href=\"#DejaVuSans-52\"/>\r\n    </g>\r\n   </g>\r\n  </g>\r\n  <g id=\"axes_8\">\r\n   <g id=\"patch_37\">\r\n    <path d=\"M 315.063636 1109.518125 \r\nL 551.411462 1109.518125 \r\nL 551.411462 873.170299 \r\nL 315.063636 873.170299 \r\nz\r\n\" style=\"fill:#ffffff;\"/>\r\n   </g>\r\n   <g clip-path=\"url(#p64da9f005c)\">\r\n    <image height=\"237\" id=\"image88a9a6a799\" transform=\"scale(1 -1)translate(0 -237)\" width=\"237\" x=\"315.063636\" xlink:href=\"data:image/png;base64,\r\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\" y=\"-872.518125\"/>\r\n   </g>\r\n   <g id=\"matplotlib.axis_15\"/>\r\n   <g id=\"matplotlib.axis_16\"/>\r\n   <g id=\"patch_38\">\r\n    <path d=\"M 315.063636 1109.518125 \r\nL 315.063636 873.170299 \r\n\" style=\"fill:none;stroke:#000000;stroke-linecap:square;stroke-linejoin:miter;stroke-width:0.8;\"/>\r\n   </g>\r\n   <g id=\"patch_39\">\r\n    <path d=\"M 551.411462 1109.518125 \r\nL 551.411462 873.170299 \r\n\" style=\"fill:none;stroke:#000000;stroke-linecap:square;stroke-linejoin:miter;stroke-width:0.8;\"/>\r\n   </g>\r\n   <g id=\"patch_40\">\r\n    <path d=\"M 315.063636 1109.518125 \r\nL 551.411462 1109.518125 \r\n\" style=\"fill:none;stroke:#000000;stroke-linecap:square;stroke-linejoin:miter;stroke-width:0.8;\"/>\r\n   </g>\r\n   <g id=\"patch_41\">\r\n    <path d=\"M 315.063636 873.170299 \r\nL 551.411462 873.170299 \r\n\" style=\"fill:none;stroke:#000000;stroke-linecap:square;stroke-linejoin:miter;stroke-width:0.8;\"/>\r\n   </g>\r\n   <g id=\"text_8\">\r\n    <!-- 8 -->\r\n    <g transform=\"translate(429.420049 867.170299)scale(0.12 -0.12)\">\r\n     <defs>\r\n      <path d=\"M 31.78125 34.625 \r\nQ 24.75 34.625 20.71875 30.859375 \r\nQ 16.703125 27.09375 16.703125 20.515625 \r\nQ 16.703125 13.921875 20.71875 10.15625 \r\nQ 24.75 6.390625 31.78125 6.390625 \r\nQ 38.8125 6.390625 42.859375 10.171875 \r\nQ 46.921875 13.96875 46.921875 20.515625 \r\nQ 46.921875 27.09375 42.890625 30.859375 \r\nQ 38.875 34.625 31.78125 34.625 \r\nz\r\nM 21.921875 38.8125 \r\nQ 15.578125 40.375 12.03125 44.71875 \r\nQ 8.5 49.078125 8.5 55.328125 \r\nQ 8.5 64.0625 14.71875 69.140625 \r\nQ 20.953125 74.21875 31.78125 74.21875 \r\nQ 42.671875 74.21875 48.875 69.140625 \r\nQ 55.078125 64.0625 55.078125 55.328125 \r\nQ 55.078125 49.078125 51.53125 44.71875 \r\nQ 48 40.375 41.703125 38.8125 \r\nQ 48.828125 37.15625 52.796875 32.3125 \r\nQ 56.78125 27.484375 56.78125 20.515625 \r\nQ 56.78125 9.90625 50.3125 4.234375 \r\nQ 43.84375 -1.421875 31.78125 -1.421875 \r\nQ 19.734375 -1.421875 13.25 4.234375 \r\nQ 6.78125 9.90625 6.78125 20.515625 \r\nQ 6.78125 27.484375 10.78125 32.3125 \r\nQ 14.796875 37.15625 21.921875 38.8125 \r\nz\r\nM 18.3125 54.390625 \r\nQ 18.3125 48.734375 21.84375 45.5625 \r\nQ 25.390625 42.390625 31.78125 42.390625 \r\nQ 38.140625 42.390625 41.71875 45.5625 \r\nQ 45.3125 48.734375 45.3125 54.390625 \r\nQ 45.3125 60.0625 41.71875 63.234375 \r\nQ 38.140625 66.40625 31.78125 66.40625 \r\nQ 25.390625 66.40625 21.84375 63.234375 \r\nQ 18.3125 60.0625 18.3125 54.390625 \r\nz\r\n\" id=\"DejaVuSans-56\"/>\r\n     </defs>\r\n     <use xlink:href=\"#DejaVuSans-56\"/>\r\n    </g>\r\n   </g>\r\n  </g>\r\n </g>\r\n <defs>\r\n  <clipPath id=\"p75eb1dc526\">\r\n   <rect height=\"236.347826\" width=\"236.347826\" x=\"10.7\" y=\"22.318125\"/>\r\n  </clipPath>\r\n  <clipPath id=\"p9d85ce5bd5\">\r\n   <rect height=\"236.347826\" width=\"236.347826\" x=\"315.063636\" y=\"22.318125\"/>\r\n  </clipPath>\r\n  <clipPath id=\"p4eacc18885\">\r\n   <rect height=\"236.347826\" width=\"236.347826\" x=\"10.7\" y=\"305.935516\"/>\r\n  </clipPath>\r\n  <clipPath id=\"p4d8cb3f032\">\r\n   <rect height=\"236.347826\" width=\"236.347826\" x=\"315.063636\" y=\"305.935516\"/>\r\n  </clipPath>\r\n  <clipPath id=\"pcd3375cca5\">\r\n   <rect height=\"236.347826\" width=\"236.347826\" x=\"10.7\" y=\"589.552908\"/>\r\n  </clipPath>\r\n  <clipPath id=\"p9d74bd6136\">\r\n   <rect height=\"236.347826\" width=\"236.347826\" x=\"315.063636\" y=\"589.552908\"/>\r\n  </clipPath>\r\n  <clipPath id=\"p23ae915cf4\">\r\n   <rect height=\"236.347826\" width=\"236.347826\" x=\"10.7\" y=\"873.170299\"/>\r\n  </clipPath>\r\n  <clipPath id=\"p64da9f005c\">\r\n   <rect height=\"236.347826\" width=\"236.347826\" x=\"315.063636\" y=\"873.170299\"/>\r\n  </clipPath>\r\n </defs>\r\n</svg>\r\n",
      "image/png": "[encoded data removed]"
     },
     "metadata": {}
    }
   ],
   "metadata": {
    "collapsed": true
   }
  },
  {
   "cell_type": "markdown",
   "source": [
    "## Creating a Non-Digit Class\r\n",
    "\r\n",
    "SVM classifiers are VERY SLOW to train.  The training is particularly slow when there are a large number of classes, since the one classifier must be trained for each pair of labels.  To make the problem easier, we are going to lump all of the letters in one class and add that class to the digits.  \r\n",
    "\r\n",
    "Before we begin, we first need to remove all the letters corresponding to `i/I`, `l/L` and `o/O`.  The reason is that these letters would get confused with the digits `0` and `1`.  Create arrays `Xtr_let_rem` and `ytr_let_rem` from the data `Xtr_let` and `ytr_let`, where the samples `i` with `ytr_let[i] == 9, 12` or `15` are removed.   Create `Xts_let_rem` and `yts_let_rem` similarly.\r\n",
    "\r\n",
    "If you are clever, you can do this without a for-loop via python broadcasting and `np.all(..., axis=1)` command.  But, you will receive full marks if you use a `for-loop`."
   ],
   "metadata": {}
  },
  {
   "cell_type": "code",
   "execution_count": 67,
   "source": [
    "\r\n",
    "# TODO:  Create arrays with labels 9, 12 and 15 removed\r\n",
    "for num in [9,12, 15]:\r\n",
    "    idx = np.where(ytr_let != num)\r\n",
    "    Xtr_let_rem, ytr_let_rem = Xtr_let[idx], ytr_let[idx]\r\n",
    "    idx = np.where(yts_let != num)\r\n",
    "    Xts_let_rem, yts_let_rem = Xts_let[idx], yts_let[idx]"
   ],
   "outputs": [],
   "metadata": {
    "collapsed": true
   }
  },
  {
   "cell_type": "markdown",
   "source": [
    "Since training and testing an SVM is VERY SLOW, we will use only a small subset of the training and test data.  Of course, you will not get great results with this small dataset.  But, we can at least illustrate the basic concepts.  \n",
    "\n",
    "Create arrays `Xtr1_dig` and `ytr1_dig` by selecting 5000 random training digit samples from `Xtr_dig` and `ytr_dig`.  Create arrays `Xtr1_let` and `ytr1_let` by selecting 1000 random training letter samples from `Xtr_let_rem` and `ytr_let_rem`.  Similarly, create test arrays `Xts1_dig,Xts1_let,yts1_dig,yts1_let` with 5000 digits and 1000 letters."
   ],
   "metadata": {}
  },
  {
   "cell_type": "code",
   "execution_count": 71,
   "source": [
    "# Number of training and test digits and letters\r\n",
    "ntr_dig = 5000\r\n",
    "ntr_let = 1000\r\n",
    "nts_dig = 5000\r\n",
    "nts_let = 1000\r\n",
    "ntr_dig_idx = np.random.randint(Xtr_dig.shape[0], size=ntr_dig)\r\n",
    "ntr_let_idx = np.random.randint(Xtr_let_rem.shape[0], size=ntr_let)\r\n",
    "nts_dig_idx = np.random.randint(Xts_dig.shape[0], size=nts_dig)\r\n",
    "nts_let_idx = np.random.randint(Xts_let_rem.shape[0], size=nts_let)\r\n",
    "# TODO Create sub-sampled training and test data\r\n",
    "Xtr1_dig, ytr1_dig = Xtr_dig[ntr_dig_idx], ytr_dig[ntr_dig_idx] \r\n",
    "Xts1_dig, yts1_dig = Xts_dig[nts_dig_idx], yts_dig[nts_dig_idx] \r\n",
    "Xtr1_let, ytr1_let = Xtr_let_rem[ntr_let_idx], ytr_let_rem[ntr_let_idx] \r\n",
    "Xts1_let, yts1_let = Xts_let_rem[nts_let_idx], yts_let_rem[nts_let_idx] "
   ],
   "outputs": [],
   "metadata": {
    "collapsed": true
   }
  },
  {
   "cell_type": "markdown",
   "source": [
    "Next, we create data by combining the digit and letter arrays.\n",
    "* Create an array `Xtr` by stacking `Xtr1_dig`, `Xtr1_let`.  This should result in 6000 total samples.\n",
    "* Create a new label vector `ytr` where `ytr[i] = ytr1_dig[i]` for any digit sample and `ytr[i]=10` for any letter sample.  Thus, all the letters are lumped into a single class with label 11.\n",
    "\n",
    "Create test arrays `Xts` and `yts` similarly. \n",
    "\n",
    "You may wish to use the `np.hstack` and `np.vstack` methods."
   ],
   "metadata": {}
  },
  {
   "cell_type": "code",
   "execution_count": 79,
   "source": [
    "# TODO:  Create combined letter and digit training and test data\r\n",
    "Xtr, ytr = np.concatenate((Xtr1_dig, Xtr1_let)), np.concatenate((ytr1_dig, 11 * np.ones(len(ytr1_let))))\r\n",
    "Xts, yts = np.concatenate((Xts1_dig, Xts1_let)), np.concatenate((yts1_dig, 11 * np.ones(len(yts1_let))))"
   ],
   "outputs": [],
   "metadata": {
    "collapsed": true
   }
  },
  {
   "cell_type": "markdown",
   "source": [
    "The training data above takes values from 0 to 255.  Rescale the data from -1 to 1.  This will get slightly better performance on the SVM.  Save the scaled data into arrays `Xtr1` and `Xts1`."
   ],
   "metadata": {}
  },
  {
   "cell_type": "code",
   "execution_count": 83,
   "source": [
    "# TODO:  Rescale the data from -1 to 1\r\n",
    "Xtr1 = 2 * (Xtr/255-0.5)\r\n",
    "Xts1 = 2 * (Xts/255-0.5)"
   ],
   "outputs": [],
   "metadata": {
    "collapsed": true
   }
  },
  {
   "cell_type": "markdown",
   "source": [
    "## Run the SVM classifier\n",
    "\n",
    "First create the SVM classifer. Use an `rbf` classifier with `C=2.8` and `gamma=.0073`. We will look at how to select these parameters laters."
   ],
   "metadata": {}
  },
  {
   "cell_type": "code",
   "execution_count": 84,
   "source": [
    "from sklearn import svm\r\n",
    "\r\n",
    "# TODO:  Create a classifier: a support vector classifier\r\n",
    "svc = svm.SVC(probability=False,  kernel=\"rbf\", C=2.8, gamma=.0073,verbose=10)"
   ],
   "outputs": [],
   "metadata": {
    "collapsed": true
   }
  },
  {
   "cell_type": "markdown",
   "source": [
    "Fit the classifier using the scaled training data.  SVMs are insanely slow to train.  But, in this lab, we have kept the training size very small. So, the fitting should take about a minute or two."
   ],
   "metadata": {}
  },
  {
   "cell_type": "code",
   "execution_count": 85,
   "source": [
    "# TODO:  Fit the classifier on the training data. \r\n",
    "svc.fit(Xtr1,ytr)"
   ],
   "outputs": [
    {
     "output_type": "stream",
     "name": "stdout",
     "text": [
      "[LibSVM]"
     ]
    },
    {
     "output_type": "execute_result",
     "data": {
      "text/plain": [
       "SVC(C=2.8, gamma=0.0073, verbose=10)"
      ]
     },
     "metadata": {},
     "execution_count": 85
    }
   ],
   "metadata": {
    "collapsed": true
   }
  },
  {
   "cell_type": "markdown",
   "source": [
    "Measure the accuracy on the test data.  This too will take another huge amount of time.  Print the accuracy.  If you did everything right, you should get an accuracy of around 89%."
   ],
   "metadata": {}
  },
  {
   "cell_type": "code",
   "execution_count": 86,
   "source": [
    "# TODO:  Measure error on the test data\r\n",
    "yhat_ts = svc.predict(Xts1)\r\n",
    "acc = np.mean(yhat_ts == yts)\r\n",
    "print('Accuaracy = {0:f}'.format(acc))"
   ],
   "outputs": [
    {
     "output_type": "stream",
     "name": "stdout",
     "text": [
      "Accuaracy = 0.906167\n"
     ]
    }
   ],
   "metadata": {
    "collapsed": true
   }
  },
  {
   "cell_type": "markdown",
   "source": [
    "The error rate is quite a bit higher than what we got in the digits only case.  Actually, had we done a classifier using all 36 labels instead of collapsing the letters to a single class, the SVM classifier would have done much better.  The reason is that the \"letters\" class is now extremely complex.  \n",
    "\n",
    "Print a confusion matrix.  You should see that the error rate on the \"letters\" class is much higher."
   ],
   "metadata": {}
  },
  {
   "cell_type": "code",
   "execution_count": 88,
   "source": [
    "# TODO:  Print a confusion matrix\r\n",
    "from sklearn.metrics import confusion_matrix\r\n",
    "\r\n",
    "conf_matrix = confusion_matrix(yts, yhat_ts)\r\n",
    "print(conf_matrix)"
   ],
   "outputs": [
    {
     "output_type": "stream",
     "name": "stdout",
     "text": [
      "[[433   0   0   0   0   0   0   0   0   0  26]\n",
      " [  0 490   0   0   2   0   0   1   0   0   5]\n",
      " [  1   2 452   0   0   0   0   2   2   0  37]\n",
      " [  0   0   3 462   0   3   0   2   8   3  15]\n",
      " [  0   0   0   0 468   0   1   0   0   3  50]\n",
      " [  1   0   0   9   1 468   3   0   1   1  37]\n",
      " [  1   0   0   0   0   2 494   0   0   0  19]\n",
      " [  0   0   0   0   1   0   0 484   1   6  12]\n",
      " [  0   2   0   5   0   1   1   0 461   1  43]\n",
      " [  1   0   0   2   5   0   0   5   4 443  14]\n",
      " [  6  77  20   4  15  36  15   7  15  23 782]]\n"
     ]
    }
   ],
   "metadata": {
    "collapsed": true
   }
  },
  {
   "cell_type": "markdown",
   "source": [
    "Print:\n",
    "* What fraction of digits are mislabeled as letters?  \n",
    "* What fraction of letters are mislabeled as digits?"
   ],
   "metadata": {}
  },
  {
   "cell_type": "code",
   "execution_count": 89,
   "source": [
    "# TODO:  Print above two error rates\r\n",
    "digit_as_let = np.sum(conf_matrix[0:10, 10])\r\n",
    "letter_as_digit = np.sum(conf_matrix[10, 0:10])\r\n",
    "print(\"Fraction of digits mislabled as letters is {}%\".format(digit_as_let/5000))\r\n",
    "print(\"Fraction of letters mislabled as digits is {}%\".format(letter_as_digit/1000))\r\n"
   ],
   "outputs": [
    {
     "output_type": "stream",
     "name": "stdout",
     "text": [
      "Fraction of digits mislabled as letters is 0.0516%\n",
      "Fraction of letters mislabled as digits is 0.218%\n"
     ]
    }
   ],
   "metadata": {
    "collapsed": true
   }
  },
  {
   "cell_type": "markdown",
   "source": [
    "## Selecting gamma and C via Cross-Validation (Using For-Loops)\n",
    "\n",
    "In the above example, and in the demo, we used a given `gamma` and `C` value.  The selection of the parameters depend on the problem and decent performance of the SVM requires that you select these parameters carefully.  The best way to select the parameters is via cross validation.  Specifically, generally, one tries different values of `gamma` and `C` and selects the pair of values the lowest test error rate.\n",
    "\n",
    "In the code below, we will try to use 3 values for `C` and `gamma` as specified in the arrays `C_test` and `gam_test`.  For each `C` and `gamma` in these arrays, fit a model on the training data and measure the accuracy on the test data.  Then, print the `C` and `gamma` that result in the best accuracy.   \n",
    "\n",
    "Normally, you would try a large number of values for each of the parameters, but an SVM is very slow to train -- even with this small data set.  So, we will just do 3 values of each.  Even then, this could take 30 minutes or so to complete. \n",
    "\n",
    "In this lab, you may do the parameter search over `C` and `gamma` in one of two ways:\n",
    "* This section:  Use for loops and manually search over the parameters.  This is more direct and you will see and control exactly what is happening.\n",
    "* Next section:  Use the `GridSearchCV` method in the `sklearn` package.  This takes a little reading, but once you learn this method, you can more easily use this for complex parameter searches.\n",
    "\n",
    "**You only need to submit the solutions to one of the two sections.**  Pick whichever one you want."
   ],
   "metadata": {}
  },
  {
   "cell_type": "code",
   "execution_count": 90,
   "source": [
    "C_test = [0.1,1,10]\r\n",
    "gam_test = [0.001,0.01,0.1]\r\n",
    "\r\n",
    "nC = len(C_test)\r\n",
    "ngam = len(gam_test)\r\n",
    "acc = np.zeros((nC,ngam))\r\n",
    "\r\n",
    "# TODO:  Measure and print the accuracy for each C and gamma value.  Store the results in acc\r\n",
    "for ic, C in enumerate(C_test):\r\n",
    "    for ig, gam in enumerate(gam_test):\r\n",
    "        svc = svm.SVC(probability=False,  kernel=\"rbf\", C=C, gamma=gam,verbose=10)\r\n",
    "        svc.fit(Xtr1,ytr)\r\n",
    "        yhat_ts = svc.predict(Xts1)\r\n",
    "        acc[ic, ig] = np.mean(yhat_ts == yts)\r\n"
   ],
   "outputs": [
    {
     "output_type": "stream",
     "name": "stdout",
     "text": [
      "[LibSVM][LibSVM][LibSVM][LibSVM][LibSVM][LibSVM][LibSVM][LibSVM][LibSVM]"
     ]
    }
   ],
   "metadata": {
    "collapsed": true
   }
  },
  {
   "cell_type": "code",
   "execution_count": 91,
   "source": [
    "# TODO:  Print the accuracy matrix\r\n",
    "print(acc)"
   ],
   "outputs": [
    {
     "output_type": "stream",
     "name": "stdout",
     "text": [
      "[[0.7775     0.57833333 0.16666667]\n",
      " [0.8545     0.8795     0.2095    ]\n",
      " [0.89       0.886      0.213     ]]\n"
     ]
    }
   ],
   "metadata": {
    "collapsed": true
   }
  },
  {
   "cell_type": "code",
   "execution_count": 96,
   "source": [
    "# TODO:  Print the maximum accuracy and the corresponding best C and gamma\r\n",
    "iopt = np.unravel_index(np.argmax(acc), acc.shape)\r\n",
    "print(\"Best accuracy is {}\".format(acc[iopt]))\r\n",
    "print(\"Best C: {} and gamma: {}\".format(C_test[iopt[0]], gam_test[iopt[1]]))"
   ],
   "outputs": [
    {
     "output_type": "stream",
     "name": "stdout",
     "text": [
      "Best accuracy is 0.89\n",
      "Best C: 10 and gamma: 0.001\n"
     ]
    }
   ],
   "metadata": {
    "collapsed": true
   }
  },
  {
   "cell_type": "markdown",
   "source": [
    "## Using `GridSearchCV` (Optional Section)\n",
    "\n",
    "\n",
    "In the previous section, you would have likely used `for-loops` to search over the different `C` and `gamma` values.  Since this type of parameter search is so commonly used, `sklearn` has an excellent method `GridSearchCV` that can perform all the operations for you.  In this lab, `GridSearchCV` is not that useful.  But, once you get to more complex parameter searches, the `GridSearchCV` method can save you writing a lot of code.  Importantly, `GridSearchCV` supports parallelization so that fits with different parameters can be fit at the same time.  In this optional section, we will show how to use this method.  \n",
    "\n",
    "**You do not have to do this section, if you did the previous section**.  "
   ],
   "metadata": {
    "collapsed": true
   }
  },
  {
   "cell_type": "markdown",
   "source": [
    "The `GridSearchCV` method does the train-test split in addition to the parameter search.  In this case, you have already a fixed train-test split.  So, you first need to combine the train and test data back into a single dataset.\n",
    "\n",
    "Create arrays `X` and `y` from `Xtr1`, `Xts1`, `ytr` and `yts`.  Use `np.vstack` and `np.hstack`."
   ],
   "metadata": {}
  },
  {
   "cell_type": "code",
   "execution_count": null,
   "source": [
    "# TODO:  Create combined trained and test data X and y.\r\n",
    "# X = ...\r\n",
    "# y = ..."
   ],
   "outputs": [],
   "metadata": {
    "collapsed": true
   }
  },
  {
   "cell_type": "markdown",
   "source": [
    "Normally, `GridSearchCV` will do $K$-fold validation and automatically split the data into training and test in each fold.  But, in this case, we want it to perform only one fold with a specific train-test split.  To do this, we need to do the following:\n",
    "* Create a vector `test_fold` where `test_fold[i] = -1` for the samples `i` in the training data (this indicates that they should not be used as test data in any fold) and `test_fold[i] = 0` for the samples `i` in the test data (this indicates that they should be as test data in fold 0).\n",
    "* Call the method  `ps = sklearn.model_selection.PredefinedSplit(test_fold)` to create a predefined test split object."
   ],
   "metadata": {}
  },
  {
   "cell_type": "code",
   "execution_count": null,
   "source": [
    "# TODO:  Create a pre-defined test split object \r\n",
    "# import sklearn.model_selection\r\n",
    "# test_fold = ...\r\n",
    "# ps = sklearn.model_selection.PredefinedSplit(test_fold)"
   ],
   "outputs": [],
   "metadata": {
    "collapsed": true
   }
  },
  {
   "cell_type": "markdown",
   "source": [
    "Next, read about the `GridSearchCV` method to set up a classifier that includes searching over the parameter grid.  \n",
    "* For the `param_grid` parameter, you will want to create a dictionary to search over `C` and `gamma`.  You will also need to select the `kernel` parameter.\n",
    "* Set `cv = ps` to use the fixed train-test split.\n",
    "* Set `verbose=10` to monitor the progress"
   ],
   "metadata": {}
  },
  {
   "cell_type": "code",
   "execution_count": null,
   "source": [
    "# TODO:  Create a GridSearchCV classifier\r\n",
    "# clf = ..."
   ],
   "outputs": [],
   "metadata": {
    "collapsed": true
   }
  },
  {
   "cell_type": "markdown",
   "source": [
    "Fit the classifier using the `fit` method.  The fit method will now search over all the parameters. This will take about 30 minutes."
   ],
   "metadata": {}
  },
  {
   "cell_type": "code",
   "execution_count": null,
   "source": [
    "# TODO: Fit the classifier"
   ],
   "outputs": [],
   "metadata": {
    "collapsed": true
   }
  },
  {
   "cell_type": "markdown",
   "source": [
    "Print the `best_score_` and `best_params_` attributes of the classifier to find the best score and parameters"
   ],
   "metadata": {}
  },
  {
   "cell_type": "code",
   "execution_count": null,
   "source": [
    "# TODO:  Print the best parameter and score of the classifier"
   ],
   "outputs": [],
   "metadata": {
    "collapsed": true
   }
  },
  {
   "cell_type": "markdown",
   "source": [
    "Finally, you can print the test and train score from the `cv_results_['mean_test_score']` and `cv_results_['mean_train_score']`."
   ],
   "metadata": {}
  },
  {
   "cell_type": "code",
   "execution_count": null,
   "source": [
    "# TODO:  Print the mean test score for each parameter value."
   ],
   "outputs": [],
   "metadata": {
    "collapsed": true
   }
  },
  {
   "cell_type": "code",
   "execution_count": null,
   "source": [],
   "outputs": [],
   "metadata": {
    "collapsed": true
   }
  }
 ],
 "metadata": {
  "kernelspec": {
   "name": "python3",
   "display_name": "Python 3.8.8 64-bit ('base': conda)"
  },
  "language_info": {
   "codemirror_mode": {
    "name": "ipython",
    "version": 3
   },
   "file_extension": ".py",
   "mimetype": "text/x-python",
   "name": "python",
   "nbconvert_exporter": "python",
   "pygments_lexer": "ipython3",
   "version": "3.8.8"
  },
  "interpreter": {
   "hash": "cb933b75c3113f96b7f71a67df95a9f5e58f40260f028aa6f0369a01be9c900d"
  }
 },
 "nbformat": 4,
 "nbformat_minor": 2
}